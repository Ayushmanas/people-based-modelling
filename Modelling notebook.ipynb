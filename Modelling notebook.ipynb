{
 "cells": [
  {
   "cell_type": "code",
   "execution_count": 1,
   "id": "3699653a",
   "metadata": {},
   "outputs": [],
   "source": [
    "#pip install pyspark\n",
    "#pip install hyperopt\n",
    "#pip install mlflow\n",
    "\n",
    "# Run these on your command line, to install xgboost\n",
    "# conda install -c conda-forge xgboost\n",
    "# conda install -c anaconda py-xgboost"
   ]
  },
  {
   "cell_type": "code",
   "execution_count": 2,
   "id": "bb6f34d7",
   "metadata": {},
   "outputs": [],
   "source": [
    "import pandas as pd\n",
    "import numpy as np\n",
    "import matplotlib.pyplot as plt\n",
    "import seaborn as sns\n",
    "from sklearn.preprocessing import MinMaxScaler, StandardScaler\n",
    "from sklearn.metrics import classification_report, mean_squared_error\n",
    "from sklearn.model_selection import train_test_split\n",
    "import pipeline"
   ]
  },
  {
   "cell_type": "markdown",
   "id": "5061bb4c",
   "metadata": {},
   "source": [
    "## EDA\n",
    "\n",
    "We will explore the data in this segment a little bit"
   ]
  },
  {
   "cell_type": "code",
   "execution_count": 3,
   "id": "00063bee",
   "metadata": {},
   "outputs": [
    {
     "name": "stdout",
     "output_type": "stream",
     "text": [
      "1500\n"
     ]
    },
    {
     "data": {
      "text/plain": [
       "label\n",
       "0    1500\n",
       "1    1500\n",
       "Name: User_ID, dtype: int64"
      ]
     },
     "execution_count": 3,
     "metadata": {},
     "output_type": "execute_result"
    }
   ],
   "source": [
    "universe=pd.read_csv('movie_universe_features.csv')\n",
    "seed=pd.read_csv('seed.csv')\n",
    "\n",
    "resp=pd.merge(seed, universe, 'left', 'User_ID')\n",
    "resp['label']=1\n",
    "size=resp.shape[0]\n",
    "print(size)\n",
    "# Balanced size of seed\n",
    "non_resp=universe[~universe['User_ID'].isin(seed['User_ID'])].sample(size)\n",
    "non_resp['label']=0\n",
    "\n",
    "# Modelling data\n",
    "modelinput = pd.concat([resp, non_resp], axis=0, ignore_index=True)\n",
    "\n",
    "modelinput.groupby('label').count()['User_ID']"
   ]
  },
  {
   "cell_type": "code",
   "execution_count": 4,
   "id": "0faf3ba8",
   "metadata": {},
   "outputs": [
    {
     "data": {
      "text/html": [
       "<div>\n",
       "<style scoped>\n",
       "    .dataframe tbody tr th:only-of-type {\n",
       "        vertical-align: middle;\n",
       "    }\n",
       "\n",
       "    .dataframe tbody tr th {\n",
       "        vertical-align: top;\n",
       "    }\n",
       "\n",
       "    .dataframe thead th {\n",
       "        text-align: right;\n",
       "    }\n",
       "</style>\n",
       "<table border=\"1\" class=\"dataframe\">\n",
       "  <thead>\n",
       "    <tr style=\"text-align: right;\">\n",
       "      <th></th>\n",
       "      <th>User_ID</th>\n",
       "      <th>Feature_001</th>\n",
       "      <th>Feature_002</th>\n",
       "      <th>Feature_003</th>\n",
       "      <th>Feature_004</th>\n",
       "      <th>Feature_005</th>\n",
       "      <th>Feature_006</th>\n",
       "      <th>Feature_007</th>\n",
       "      <th>Feature_008</th>\n",
       "      <th>Feature_009</th>\n",
       "      <th>...</th>\n",
       "      <th>Feature_142</th>\n",
       "      <th>Feature_143</th>\n",
       "      <th>Feature_144</th>\n",
       "      <th>Feature_145</th>\n",
       "      <th>Feature_146</th>\n",
       "      <th>Feature_147</th>\n",
       "      <th>Feature_148</th>\n",
       "      <th>Feature_149</th>\n",
       "      <th>Feature_150</th>\n",
       "      <th>label</th>\n",
       "    </tr>\n",
       "  </thead>\n",
       "  <tbody>\n",
       "    <tr>\n",
       "      <th>0</th>\n",
       "      <td>INT25666</td>\n",
       "      <td>9.444869</td>\n",
       "      <td>2.682099</td>\n",
       "      <td>2.057322</td>\n",
       "      <td>6.017722</td>\n",
       "      <td>6.357901</td>\n",
       "      <td>1.881625</td>\n",
       "      <td>12.845894</td>\n",
       "      <td>1.825739</td>\n",
       "      <td>1.486223</td>\n",
       "      <td>...</td>\n",
       "      <td>1.196316</td>\n",
       "      <td>5.519688</td>\n",
       "      <td>2.325635</td>\n",
       "      <td>1.294787</td>\n",
       "      <td>6.489395</td>\n",
       "      <td>2.360730</td>\n",
       "      <td>9.165950</td>\n",
       "      <td>1.211977</td>\n",
       "      <td>2.587949</td>\n",
       "      <td>1</td>\n",
       "    </tr>\n",
       "    <tr>\n",
       "      <th>1</th>\n",
       "      <td>INT16465</td>\n",
       "      <td>10.287428</td>\n",
       "      <td>6.492198</td>\n",
       "      <td>9.628861</td>\n",
       "      <td>4.854361</td>\n",
       "      <td>4.503690</td>\n",
       "      <td>2.991301</td>\n",
       "      <td>7.148927</td>\n",
       "      <td>1.470551</td>\n",
       "      <td>2.787417</td>\n",
       "      <td>...</td>\n",
       "      <td>0.349978</td>\n",
       "      <td>5.275994</td>\n",
       "      <td>10.263197</td>\n",
       "      <td>1.415012</td>\n",
       "      <td>8.472573</td>\n",
       "      <td>14.076540</td>\n",
       "      <td>3.929821</td>\n",
       "      <td>4.832758</td>\n",
       "      <td>8.317007</td>\n",
       "      <td>1</td>\n",
       "    </tr>\n",
       "    <tr>\n",
       "      <th>2</th>\n",
       "      <td>INT22387</td>\n",
       "      <td>2.923272</td>\n",
       "      <td>6.456325</td>\n",
       "      <td>7.007672</td>\n",
       "      <td>2.133051</td>\n",
       "      <td>4.445467</td>\n",
       "      <td>3.297151</td>\n",
       "      <td>6.040608</td>\n",
       "      <td>1.529596</td>\n",
       "      <td>1.186243</td>\n",
       "      <td>...</td>\n",
       "      <td>7.802857</td>\n",
       "      <td>8.765772</td>\n",
       "      <td>0.866869</td>\n",
       "      <td>2.587488</td>\n",
       "      <td>7.888250</td>\n",
       "      <td>4.252634</td>\n",
       "      <td>5.991852</td>\n",
       "      <td>0.142240</td>\n",
       "      <td>9.174461</td>\n",
       "      <td>1</td>\n",
       "    </tr>\n",
       "    <tr>\n",
       "      <th>3</th>\n",
       "      <td>INT10150</td>\n",
       "      <td>8.231396</td>\n",
       "      <td>0.087525</td>\n",
       "      <td>3.575617</td>\n",
       "      <td>0.865741</td>\n",
       "      <td>2.182167</td>\n",
       "      <td>0.503346</td>\n",
       "      <td>10.668799</td>\n",
       "      <td>5.275212</td>\n",
       "      <td>4.283442</td>\n",
       "      <td>...</td>\n",
       "      <td>8.343745</td>\n",
       "      <td>4.266352</td>\n",
       "      <td>0.339777</td>\n",
       "      <td>1.753501</td>\n",
       "      <td>1.666500</td>\n",
       "      <td>4.543080</td>\n",
       "      <td>8.246802</td>\n",
       "      <td>3.192204</td>\n",
       "      <td>9.528803</td>\n",
       "      <td>1</td>\n",
       "    </tr>\n",
       "    <tr>\n",
       "      <th>4</th>\n",
       "      <td>INT08730</td>\n",
       "      <td>9.905364</td>\n",
       "      <td>2.855321</td>\n",
       "      <td>8.284597</td>\n",
       "      <td>10.562502</td>\n",
       "      <td>10.378761</td>\n",
       "      <td>0.250803</td>\n",
       "      <td>8.007089</td>\n",
       "      <td>0.754002</td>\n",
       "      <td>1.473074</td>\n",
       "      <td>...</td>\n",
       "      <td>2.615259</td>\n",
       "      <td>0.386105</td>\n",
       "      <td>3.209463</td>\n",
       "      <td>12.272351</td>\n",
       "      <td>5.888321</td>\n",
       "      <td>5.958723</td>\n",
       "      <td>6.544291</td>\n",
       "      <td>5.486193</td>\n",
       "      <td>8.310601</td>\n",
       "      <td>1</td>\n",
       "    </tr>\n",
       "  </tbody>\n",
       "</table>\n",
       "<p>5 rows × 152 columns</p>\n",
       "</div>"
      ],
      "text/plain": [
       "    User_ID  Feature_001  Feature_002  Feature_003  Feature_004  Feature_005  \\\n",
       "0  INT25666     9.444869     2.682099     2.057322     6.017722     6.357901   \n",
       "1  INT16465    10.287428     6.492198     9.628861     4.854361     4.503690   \n",
       "2  INT22387     2.923272     6.456325     7.007672     2.133051     4.445467   \n",
       "3  INT10150     8.231396     0.087525     3.575617     0.865741     2.182167   \n",
       "4  INT08730     9.905364     2.855321     8.284597    10.562502    10.378761   \n",
       "\n",
       "   Feature_006  Feature_007  Feature_008  Feature_009  ...  Feature_142  \\\n",
       "0     1.881625    12.845894     1.825739     1.486223  ...     1.196316   \n",
       "1     2.991301     7.148927     1.470551     2.787417  ...     0.349978   \n",
       "2     3.297151     6.040608     1.529596     1.186243  ...     7.802857   \n",
       "3     0.503346    10.668799     5.275212     4.283442  ...     8.343745   \n",
       "4     0.250803     8.007089     0.754002     1.473074  ...     2.615259   \n",
       "\n",
       "   Feature_143  Feature_144  Feature_145  Feature_146  Feature_147  \\\n",
       "0     5.519688     2.325635     1.294787     6.489395     2.360730   \n",
       "1     5.275994    10.263197     1.415012     8.472573    14.076540   \n",
       "2     8.765772     0.866869     2.587488     7.888250     4.252634   \n",
       "3     4.266352     0.339777     1.753501     1.666500     4.543080   \n",
       "4     0.386105     3.209463    12.272351     5.888321     5.958723   \n",
       "\n",
       "   Feature_148  Feature_149  Feature_150  label  \n",
       "0     9.165950     1.211977     2.587949      1  \n",
       "1     3.929821     4.832758     8.317007      1  \n",
       "2     5.991852     0.142240     9.174461      1  \n",
       "3     8.246802     3.192204     9.528803      1  \n",
       "4     6.544291     5.486193     8.310601      1  \n",
       "\n",
       "[5 rows x 152 columns]"
      ]
     },
     "execution_count": 4,
     "metadata": {},
     "output_type": "execute_result"
    }
   ],
   "source": [
    "# Standardize data, dont change features\n",
    "modelinput.head()"
   ]
  },
  {
   "cell_type": "code",
   "execution_count": 5,
   "id": "02d6d3f5",
   "metadata": {},
   "outputs": [
    {
     "name": "stdout",
     "output_type": "stream",
     "text": [
      "No missing IDs\n"
     ]
    },
    {
     "data": {
      "text/plain": [
       "3000"
      ]
     },
     "execution_count": 5,
     "metadata": {},
     "output_type": "execute_result"
    }
   ],
   "source": [
    "if pd.isnull(modelinput['User_ID']).sum()==0:\n",
    "    print('No missing IDs')\n",
    "else:\n",
    "    modelinput=modelinput[~pd.isnull(modelinput['User_ID'])]\n",
    "    \n",
    "modelinput.fillna(0, inplace=True)\n",
    "modelinput.index=modelinput['User_ID']\n",
    "modelinput.drop('User_ID', axis=1, inplace=True)\n",
    "modelinput.label.count()"
   ]
  },
  {
   "cell_type": "code",
   "execution_count": 6,
   "id": "0ee2036b",
   "metadata": {},
   "outputs": [
    {
     "data": {
      "text/html": [
       "<div>\n",
       "<style scoped>\n",
       "    .dataframe tbody tr th:only-of-type {\n",
       "        vertical-align: middle;\n",
       "    }\n",
       "\n",
       "    .dataframe tbody tr th {\n",
       "        vertical-align: top;\n",
       "    }\n",
       "\n",
       "    .dataframe thead th {\n",
       "        text-align: right;\n",
       "    }\n",
       "</style>\n",
       "<table border=\"1\" class=\"dataframe\">\n",
       "  <thead>\n",
       "    <tr style=\"text-align: right;\">\n",
       "      <th></th>\n",
       "      <th>Feature_001</th>\n",
       "      <th>Feature_002</th>\n",
       "      <th>Feature_003</th>\n",
       "      <th>Feature_004</th>\n",
       "      <th>Feature_005</th>\n",
       "      <th>Feature_006</th>\n",
       "      <th>Feature_007</th>\n",
       "      <th>Feature_008</th>\n",
       "      <th>Feature_009</th>\n",
       "      <th>Feature_010</th>\n",
       "      <th>...</th>\n",
       "      <th>Feature_142</th>\n",
       "      <th>Feature_143</th>\n",
       "      <th>Feature_144</th>\n",
       "      <th>Feature_145</th>\n",
       "      <th>Feature_146</th>\n",
       "      <th>Feature_147</th>\n",
       "      <th>Feature_148</th>\n",
       "      <th>Feature_149</th>\n",
       "      <th>Feature_150</th>\n",
       "      <th>label</th>\n",
       "    </tr>\n",
       "    <tr>\n",
       "      <th>User_ID</th>\n",
       "      <th></th>\n",
       "      <th></th>\n",
       "      <th></th>\n",
       "      <th></th>\n",
       "      <th></th>\n",
       "      <th></th>\n",
       "      <th></th>\n",
       "      <th></th>\n",
       "      <th></th>\n",
       "      <th></th>\n",
       "      <th></th>\n",
       "      <th></th>\n",
       "      <th></th>\n",
       "      <th></th>\n",
       "      <th></th>\n",
       "      <th></th>\n",
       "      <th></th>\n",
       "      <th></th>\n",
       "      <th></th>\n",
       "      <th></th>\n",
       "      <th></th>\n",
       "    </tr>\n",
       "  </thead>\n",
       "  <tbody>\n",
       "    <tr>\n",
       "      <th>INT25666</th>\n",
       "      <td>9.444869</td>\n",
       "      <td>2.682099</td>\n",
       "      <td>2.057322</td>\n",
       "      <td>6.017722</td>\n",
       "      <td>6.357901</td>\n",
       "      <td>1.881625</td>\n",
       "      <td>12.845894</td>\n",
       "      <td>1.825739</td>\n",
       "      <td>1.486223</td>\n",
       "      <td>0.340512</td>\n",
       "      <td>...</td>\n",
       "      <td>1.196316</td>\n",
       "      <td>5.519688</td>\n",
       "      <td>2.325635</td>\n",
       "      <td>1.294787</td>\n",
       "      <td>6.489395</td>\n",
       "      <td>2.360730</td>\n",
       "      <td>9.165950</td>\n",
       "      <td>1.211977</td>\n",
       "      <td>2.587949</td>\n",
       "      <td>1</td>\n",
       "    </tr>\n",
       "    <tr>\n",
       "      <th>INT16465</th>\n",
       "      <td>10.287428</td>\n",
       "      <td>6.492198</td>\n",
       "      <td>9.628861</td>\n",
       "      <td>4.854361</td>\n",
       "      <td>4.503690</td>\n",
       "      <td>2.991301</td>\n",
       "      <td>7.148927</td>\n",
       "      <td>1.470551</td>\n",
       "      <td>2.787417</td>\n",
       "      <td>5.699821</td>\n",
       "      <td>...</td>\n",
       "      <td>0.349978</td>\n",
       "      <td>5.275994</td>\n",
       "      <td>10.263197</td>\n",
       "      <td>1.415012</td>\n",
       "      <td>8.472573</td>\n",
       "      <td>14.076540</td>\n",
       "      <td>3.929821</td>\n",
       "      <td>4.832758</td>\n",
       "      <td>8.317007</td>\n",
       "      <td>1</td>\n",
       "    </tr>\n",
       "    <tr>\n",
       "      <th>INT22387</th>\n",
       "      <td>2.923272</td>\n",
       "      <td>6.456325</td>\n",
       "      <td>7.007672</td>\n",
       "      <td>2.133051</td>\n",
       "      <td>4.445467</td>\n",
       "      <td>3.297151</td>\n",
       "      <td>6.040608</td>\n",
       "      <td>1.529596</td>\n",
       "      <td>1.186243</td>\n",
       "      <td>0.011974</td>\n",
       "      <td>...</td>\n",
       "      <td>7.802857</td>\n",
       "      <td>8.765772</td>\n",
       "      <td>0.866869</td>\n",
       "      <td>2.587488</td>\n",
       "      <td>7.888250</td>\n",
       "      <td>4.252634</td>\n",
       "      <td>5.991852</td>\n",
       "      <td>0.142240</td>\n",
       "      <td>9.174461</td>\n",
       "      <td>1</td>\n",
       "    </tr>\n",
       "    <tr>\n",
       "      <th>INT10150</th>\n",
       "      <td>8.231396</td>\n",
       "      <td>0.087525</td>\n",
       "      <td>3.575617</td>\n",
       "      <td>0.865741</td>\n",
       "      <td>2.182167</td>\n",
       "      <td>0.503346</td>\n",
       "      <td>10.668799</td>\n",
       "      <td>5.275212</td>\n",
       "      <td>4.283442</td>\n",
       "      <td>0.752060</td>\n",
       "      <td>...</td>\n",
       "      <td>8.343745</td>\n",
       "      <td>4.266352</td>\n",
       "      <td>0.339777</td>\n",
       "      <td>1.753501</td>\n",
       "      <td>1.666500</td>\n",
       "      <td>4.543080</td>\n",
       "      <td>8.246802</td>\n",
       "      <td>3.192204</td>\n",
       "      <td>9.528803</td>\n",
       "      <td>1</td>\n",
       "    </tr>\n",
       "    <tr>\n",
       "      <th>INT08730</th>\n",
       "      <td>9.905364</td>\n",
       "      <td>2.855321</td>\n",
       "      <td>8.284597</td>\n",
       "      <td>10.562502</td>\n",
       "      <td>10.378761</td>\n",
       "      <td>0.250803</td>\n",
       "      <td>8.007089</td>\n",
       "      <td>0.754002</td>\n",
       "      <td>1.473074</td>\n",
       "      <td>9.009698</td>\n",
       "      <td>...</td>\n",
       "      <td>2.615259</td>\n",
       "      <td>0.386105</td>\n",
       "      <td>3.209463</td>\n",
       "      <td>12.272351</td>\n",
       "      <td>5.888321</td>\n",
       "      <td>5.958723</td>\n",
       "      <td>6.544291</td>\n",
       "      <td>5.486193</td>\n",
       "      <td>8.310601</td>\n",
       "      <td>1</td>\n",
       "    </tr>\n",
       "  </tbody>\n",
       "</table>\n",
       "<p>5 rows × 151 columns</p>\n",
       "</div>"
      ],
      "text/plain": [
       "          Feature_001  Feature_002  Feature_003  Feature_004  Feature_005  \\\n",
       "User_ID                                                                     \n",
       "INT25666     9.444869     2.682099     2.057322     6.017722     6.357901   \n",
       "INT16465    10.287428     6.492198     9.628861     4.854361     4.503690   \n",
       "INT22387     2.923272     6.456325     7.007672     2.133051     4.445467   \n",
       "INT10150     8.231396     0.087525     3.575617     0.865741     2.182167   \n",
       "INT08730     9.905364     2.855321     8.284597    10.562502    10.378761   \n",
       "\n",
       "          Feature_006  Feature_007  Feature_008  Feature_009  Feature_010  \\\n",
       "User_ID                                                                     \n",
       "INT25666     1.881625    12.845894     1.825739     1.486223     0.340512   \n",
       "INT16465     2.991301     7.148927     1.470551     2.787417     5.699821   \n",
       "INT22387     3.297151     6.040608     1.529596     1.186243     0.011974   \n",
       "INT10150     0.503346    10.668799     5.275212     4.283442     0.752060   \n",
       "INT08730     0.250803     8.007089     0.754002     1.473074     9.009698   \n",
       "\n",
       "          ...  Feature_142  Feature_143  Feature_144  Feature_145  \\\n",
       "User_ID   ...                                                       \n",
       "INT25666  ...     1.196316     5.519688     2.325635     1.294787   \n",
       "INT16465  ...     0.349978     5.275994    10.263197     1.415012   \n",
       "INT22387  ...     7.802857     8.765772     0.866869     2.587488   \n",
       "INT10150  ...     8.343745     4.266352     0.339777     1.753501   \n",
       "INT08730  ...     2.615259     0.386105     3.209463    12.272351   \n",
       "\n",
       "          Feature_146  Feature_147  Feature_148  Feature_149  Feature_150  \\\n",
       "User_ID                                                                     \n",
       "INT25666     6.489395     2.360730     9.165950     1.211977     2.587949   \n",
       "INT16465     8.472573    14.076540     3.929821     4.832758     8.317007   \n",
       "INT22387     7.888250     4.252634     5.991852     0.142240     9.174461   \n",
       "INT10150     1.666500     4.543080     8.246802     3.192204     9.528803   \n",
       "INT08730     5.888321     5.958723     6.544291     5.486193     8.310601   \n",
       "\n",
       "          label  \n",
       "User_ID          \n",
       "INT25666      1  \n",
       "INT16465      1  \n",
       "INT22387      1  \n",
       "INT10150      1  \n",
       "INT08730      1  \n",
       "\n",
       "[5 rows x 151 columns]"
      ]
     },
     "execution_count": 6,
     "metadata": {},
     "output_type": "execute_result"
    }
   ],
   "source": [
    "modelinput.head()"
   ]
  },
  {
   "cell_type": "code",
   "execution_count": 7,
   "id": "65b46580",
   "metadata": {},
   "outputs": [
    {
     "name": "stdout",
     "output_type": "stream",
     "text": [
      "2400 150\n",
      "600 150\n",
      "Train seed Responders: 1202; Non Responders: 1198\n",
      "[[0.18621218 0.43509598 0.13712095 ... 0.70377947 0.25677739 0.58961175]\n",
      " [0.81119926 0.92163317 0.75284876 ... 0.43776082 0.26337148 0.58518674]\n",
      " [0.40075337 0.49249411 0.31335571 ... 0.64570167 0.30439342 0.2068477 ]\n",
      " ...\n",
      " [0.24295279 0.31692381 0.30145457 ... 0.26463226 0.58161344 0.29439028]\n",
      " [0.32311457 0.43684413 0.58381901 ... 0.13070628 0.07327617 0.19315696]\n",
      " [0.43783858 0.42939965 0.05343589 ... 0.21985176 0.4005959  0.25051767]]\n"
     ]
    }
   ],
   "source": [
    "X_train, X_test, y_train, y_test = train_test_split(modelinput.drop(['label'], axis=1), \n",
    "                                                    modelinput['label'], test_size=0.2, random_state=1233)\n",
    "\n",
    "print(X_train.shape[0], X_train.shape[1])\n",
    "print(X_test.shape[0], X_test.shape[1])\n",
    "\n",
    "print(\"Train seed Responders: {}; Non Responders: {}\".format(y_train.sum(), y_train.count()-y_train.sum()))\n",
    "\n",
    "scaler=MinMaxScaler()\n",
    "\n",
    "scaled_train=scaler.fit_transform(X_train)\n",
    "scaled_test=scaler.transform(X_test)\n",
    "\n",
    "print(scaled_train)"
   ]
  },
  {
   "cell_type": "markdown",
   "id": "25f8acda",
   "metadata": {},
   "source": [
    "### Feature Selection happens here"
   ]
  },
  {
   "cell_type": "code",
   "execution_count": 8,
   "id": "eca972d2",
   "metadata": {},
   "outputs": [
    {
     "name": "stdout",
     "output_type": "stream",
     "text": [
      "Fitting 3 folds for each of 30 candidates, totalling 90 fits\n"
     ]
    },
    {
     "name": "stderr",
     "output_type": "stream",
     "text": [
      "[Parallel(n_jobs=-1)]: Using backend LokyBackend with 4 concurrent workers.\n",
      "[Parallel(n_jobs=-1)]: Done  33 tasks      | elapsed:  1.7min\n",
      "[Parallel(n_jobs=-1)]: Done  90 out of  90 | elapsed:  3.6min finished\n"
     ]
    },
    {
     "name": "stdout",
     "output_type": "stream",
     "text": [
      "{'n_estimators': 300, 'max_depth': 11}\n"
     ]
    }
   ],
   "source": [
    "from sklearn.ensemble import RandomForestClassifier, GradientBoostingClassifier\n",
    "from sklearn.model_selection import RandomizedSearchCV\n",
    "from sklearn.metrics import roc_auc_score\n",
    "\"\"\"\n",
    "We will be using Hyper Opt\n",
    "Hyperopt uses a form of Bayesian optimization for parameter tuning that allows you to get the best parameters\n",
    "for a given model. \n",
    "It can optimize a model with hundreds of parameters on a large scale.\n",
    "\"\"\"\n",
    "\n",
    "# set parameter list\n",
    "n_estimators=[i for i in range(100,1100, 100)]\n",
    "max_depth=[i for i in range(2,13,1)]\n",
    "\n",
    "#create random grid\n",
    "rf_param = {\n",
    "    'n_estimators': n_estimators,\n",
    "    'max_depth': max_depth\n",
    "}\n",
    "\n",
    "# initiate model\n",
    "rf_clf=RandomForestClassifier()\n",
    "\n",
    "# Do a Random search for parameters\n",
    "rf_random = RandomizedSearchCV(estimator=rf_clf, param_distributions=rf_param, n_iter=30, cv=3, verbose=2, random_state=420, n_jobs=-1)\n",
    "\n",
    "# Fit the model and show the best parameters\n",
    "rf_random.fit(scaled_train, y_train)\n",
    "print(rf_random.best_params_)"
   ]
  },
  {
   "cell_type": "code",
   "execution_count": 9,
   "id": "a115dc97",
   "metadata": {},
   "outputs": [
    {
     "name": "stdout",
     "output_type": "stream",
     "text": [
      "RandomForestClassifier(max_depth=11, n_estimators=300)\n",
      "Train set results\n",
      "              precision    recall  f1-score   support\n",
      "\n",
      "           0       1.00      1.00      1.00      1198\n",
      "           1       1.00      1.00      1.00      1202\n",
      "\n",
      "    accuracy                           1.00      2400\n",
      "   macro avg       1.00      1.00      1.00      2400\n",
      "weighted avg       1.00      1.00      1.00      2400\n",
      "\n",
      "Training AUC is 1.0\n",
      "Train set results\n",
      "              precision    recall  f1-score   support\n",
      "\n",
      "           0       0.53      0.56      0.55       302\n",
      "           1       0.53      0.50      0.52       298\n",
      "\n",
      "    accuracy                           0.53       600\n",
      "   macro avg       0.53      0.53      0.53       600\n",
      "weighted avg       0.53      0.53      0.53       600\n",
      "\n",
      "Test AUC is 0.5314791768523046\n"
     ]
    }
   ],
   "source": [
    "# get the best trial\n",
    "best_rf=rf_random.best_estimator_\n",
    "print(best_rf)\n",
    "\n",
    "y_pred_train=best_rf.predict(scaled_train)\n",
    "y_pred_test=best_rf.predict(scaled_test)\n",
    "\n",
    "# Print Random Forest Model metrics\n",
    "print('Train set results')\n",
    "print(classification_report(y_train, y_pred_train))\n",
    "print('Training AUC is', roc_auc_score(y_train, y_pred_train))\n",
    "print('Train set results')\n",
    "print(classification_report(y_test, y_pred_test))\n",
    "print('Test AUC is', roc_auc_score(y_test, y_pred_test))"
   ]
  },
  {
   "cell_type": "markdown",
   "id": "4974bcfa",
   "metadata": {},
   "source": [
    "As you saw above, the test score / AUC is around 50%, which means our model works the same way as any random selection for this process.\n",
    "So it is not a good model."
   ]
  },
  {
   "cell_type": "code",
   "execution_count": 10,
   "id": "604c763e",
   "metadata": {},
   "outputs": [],
   "source": [
    "# save feature importances\n",
    "\n",
    "feature_importances = best_rf.feature_importances_  # list\n",
    "rf_imp=pd.DataFrame(feature_importances)\n",
    "rf_imp=rf_imp.rename(columns={0:'Feature Importance'})\n",
    "\n",
    "\n",
    "feature_names=[i for i in X_train.columns if i not in ['User_ID', 'label']]\n",
    "rf_fname=pd.DataFrame(feature_names)\n",
    "rf_fname=rf_fname.rename(columns={0:'Feature Name'})\n",
    "\n",
    "\n",
    "rf_feature_table=pd.concat([rf_fname, rf_imp], axis=1)"
   ]
  },
  {
   "cell_type": "code",
   "execution_count": 11,
   "id": "ebee49eb",
   "metadata": {},
   "outputs": [
    {
     "data": {
      "text/html": [
       "<div>\n",
       "<style scoped>\n",
       "    .dataframe tbody tr th:only-of-type {\n",
       "        vertical-align: middle;\n",
       "    }\n",
       "\n",
       "    .dataframe tbody tr th {\n",
       "        vertical-align: top;\n",
       "    }\n",
       "\n",
       "    .dataframe thead th {\n",
       "        text-align: right;\n",
       "    }\n",
       "</style>\n",
       "<table border=\"1\" class=\"dataframe\">\n",
       "  <thead>\n",
       "    <tr style=\"text-align: right;\">\n",
       "      <th></th>\n",
       "      <th>Feature Name</th>\n",
       "      <th>Feature Importance</th>\n",
       "    </tr>\n",
       "  </thead>\n",
       "  <tbody>\n",
       "    <tr>\n",
       "      <th>15</th>\n",
       "      <td>Feature_016</td>\n",
       "      <td>0.010864</td>\n",
       "    </tr>\n",
       "    <tr>\n",
       "      <th>108</th>\n",
       "      <td>Feature_109</td>\n",
       "      <td>0.010052</td>\n",
       "    </tr>\n",
       "    <tr>\n",
       "      <th>4</th>\n",
       "      <td>Feature_005</td>\n",
       "      <td>0.008966</td>\n",
       "    </tr>\n",
       "    <tr>\n",
       "      <th>98</th>\n",
       "      <td>Feature_099</td>\n",
       "      <td>0.008825</td>\n",
       "    </tr>\n",
       "    <tr>\n",
       "      <th>133</th>\n",
       "      <td>Feature_134</td>\n",
       "      <td>0.008712</td>\n",
       "    </tr>\n",
       "    <tr>\n",
       "      <th>68</th>\n",
       "      <td>Feature_069</td>\n",
       "      <td>0.008490</td>\n",
       "    </tr>\n",
       "    <tr>\n",
       "      <th>114</th>\n",
       "      <td>Feature_115</td>\n",
       "      <td>0.008450</td>\n",
       "    </tr>\n",
       "    <tr>\n",
       "      <th>67</th>\n",
       "      <td>Feature_068</td>\n",
       "      <td>0.008336</td>\n",
       "    </tr>\n",
       "    <tr>\n",
       "      <th>131</th>\n",
       "      <td>Feature_132</td>\n",
       "      <td>0.008173</td>\n",
       "    </tr>\n",
       "    <tr>\n",
       "      <th>96</th>\n",
       "      <td>Feature_097</td>\n",
       "      <td>0.008052</td>\n",
       "    </tr>\n",
       "    <tr>\n",
       "      <th>64</th>\n",
       "      <td>Feature_065</td>\n",
       "      <td>0.007941</td>\n",
       "    </tr>\n",
       "    <tr>\n",
       "      <th>44</th>\n",
       "      <td>Feature_045</td>\n",
       "      <td>0.007921</td>\n",
       "    </tr>\n",
       "    <tr>\n",
       "      <th>88</th>\n",
       "      <td>Feature_089</td>\n",
       "      <td>0.007782</td>\n",
       "    </tr>\n",
       "    <tr>\n",
       "      <th>132</th>\n",
       "      <td>Feature_133</td>\n",
       "      <td>0.007760</td>\n",
       "    </tr>\n",
       "    <tr>\n",
       "      <th>121</th>\n",
       "      <td>Feature_122</td>\n",
       "      <td>0.007740</td>\n",
       "    </tr>\n",
       "    <tr>\n",
       "      <th>130</th>\n",
       "      <td>Feature_131</td>\n",
       "      <td>0.007641</td>\n",
       "    </tr>\n",
       "    <tr>\n",
       "      <th>70</th>\n",
       "      <td>Feature_071</td>\n",
       "      <td>0.007607</td>\n",
       "    </tr>\n",
       "    <tr>\n",
       "      <th>62</th>\n",
       "      <td>Feature_063</td>\n",
       "      <td>0.007606</td>\n",
       "    </tr>\n",
       "    <tr>\n",
       "      <th>106</th>\n",
       "      <td>Feature_107</td>\n",
       "      <td>0.007587</td>\n",
       "    </tr>\n",
       "    <tr>\n",
       "      <th>97</th>\n",
       "      <td>Feature_098</td>\n",
       "      <td>0.007488</td>\n",
       "    </tr>\n",
       "    <tr>\n",
       "      <th>32</th>\n",
       "      <td>Feature_033</td>\n",
       "      <td>0.007472</td>\n",
       "    </tr>\n",
       "    <tr>\n",
       "      <th>113</th>\n",
       "      <td>Feature_114</td>\n",
       "      <td>0.007462</td>\n",
       "    </tr>\n",
       "    <tr>\n",
       "      <th>23</th>\n",
       "      <td>Feature_024</td>\n",
       "      <td>0.007400</td>\n",
       "    </tr>\n",
       "    <tr>\n",
       "      <th>78</th>\n",
       "      <td>Feature_079</td>\n",
       "      <td>0.007396</td>\n",
       "    </tr>\n",
       "    <tr>\n",
       "      <th>39</th>\n",
       "      <td>Feature_040</td>\n",
       "      <td>0.007290</td>\n",
       "    </tr>\n",
       "    <tr>\n",
       "      <th>125</th>\n",
       "      <td>Feature_126</td>\n",
       "      <td>0.007287</td>\n",
       "    </tr>\n",
       "    <tr>\n",
       "      <th>24</th>\n",
       "      <td>Feature_025</td>\n",
       "      <td>0.007271</td>\n",
       "    </tr>\n",
       "    <tr>\n",
       "      <th>21</th>\n",
       "      <td>Feature_022</td>\n",
       "      <td>0.007270</td>\n",
       "    </tr>\n",
       "    <tr>\n",
       "      <th>119</th>\n",
       "      <td>Feature_120</td>\n",
       "      <td>0.007190</td>\n",
       "    </tr>\n",
       "    <tr>\n",
       "      <th>28</th>\n",
       "      <td>Feature_029</td>\n",
       "      <td>0.007127</td>\n",
       "    </tr>\n",
       "    <tr>\n",
       "      <th>101</th>\n",
       "      <td>Feature_102</td>\n",
       "      <td>0.007108</td>\n",
       "    </tr>\n",
       "    <tr>\n",
       "      <th>31</th>\n",
       "      <td>Feature_032</td>\n",
       "      <td>0.007087</td>\n",
       "    </tr>\n",
       "    <tr>\n",
       "      <th>145</th>\n",
       "      <td>Feature_146</td>\n",
       "      <td>0.007026</td>\n",
       "    </tr>\n",
       "    <tr>\n",
       "      <th>2</th>\n",
       "      <td>Feature_003</td>\n",
       "      <td>0.007016</td>\n",
       "    </tr>\n",
       "    <tr>\n",
       "      <th>73</th>\n",
       "      <td>Feature_074</td>\n",
       "      <td>0.006995</td>\n",
       "    </tr>\n",
       "    <tr>\n",
       "      <th>79</th>\n",
       "      <td>Feature_080</td>\n",
       "      <td>0.006994</td>\n",
       "    </tr>\n",
       "    <tr>\n",
       "      <th>43</th>\n",
       "      <td>Feature_044</td>\n",
       "      <td>0.006986</td>\n",
       "    </tr>\n",
       "    <tr>\n",
       "      <th>142</th>\n",
       "      <td>Feature_143</td>\n",
       "      <td>0.006976</td>\n",
       "    </tr>\n",
       "    <tr>\n",
       "      <th>0</th>\n",
       "      <td>Feature_001</td>\n",
       "      <td>0.006963</td>\n",
       "    </tr>\n",
       "    <tr>\n",
       "      <th>7</th>\n",
       "      <td>Feature_008</td>\n",
       "      <td>0.006953</td>\n",
       "    </tr>\n",
       "    <tr>\n",
       "      <th>80</th>\n",
       "      <td>Feature_081</td>\n",
       "      <td>0.006926</td>\n",
       "    </tr>\n",
       "    <tr>\n",
       "      <th>50</th>\n",
       "      <td>Feature_051</td>\n",
       "      <td>0.006893</td>\n",
       "    </tr>\n",
       "    <tr>\n",
       "      <th>52</th>\n",
       "      <td>Feature_053</td>\n",
       "      <td>0.006884</td>\n",
       "    </tr>\n",
       "    <tr>\n",
       "      <th>45</th>\n",
       "      <td>Feature_046</td>\n",
       "      <td>0.006882</td>\n",
       "    </tr>\n",
       "    <tr>\n",
       "      <th>9</th>\n",
       "      <td>Feature_010</td>\n",
       "      <td>0.006879</td>\n",
       "    </tr>\n",
       "    <tr>\n",
       "      <th>55</th>\n",
       "      <td>Feature_056</td>\n",
       "      <td>0.006874</td>\n",
       "    </tr>\n",
       "    <tr>\n",
       "      <th>91</th>\n",
       "      <td>Feature_092</td>\n",
       "      <td>0.006863</td>\n",
       "    </tr>\n",
       "    <tr>\n",
       "      <th>110</th>\n",
       "      <td>Feature_111</td>\n",
       "      <td>0.006859</td>\n",
       "    </tr>\n",
       "    <tr>\n",
       "      <th>129</th>\n",
       "      <td>Feature_130</td>\n",
       "      <td>0.006855</td>\n",
       "    </tr>\n",
       "    <tr>\n",
       "      <th>72</th>\n",
       "      <td>Feature_073</td>\n",
       "      <td>0.006852</td>\n",
       "    </tr>\n",
       "    <tr>\n",
       "      <th>33</th>\n",
       "      <td>Feature_034</td>\n",
       "      <td>0.006851</td>\n",
       "    </tr>\n",
       "    <tr>\n",
       "      <th>42</th>\n",
       "      <td>Feature_043</td>\n",
       "      <td>0.006835</td>\n",
       "    </tr>\n",
       "    <tr>\n",
       "      <th>103</th>\n",
       "      <td>Feature_104</td>\n",
       "      <td>0.006834</td>\n",
       "    </tr>\n",
       "    <tr>\n",
       "      <th>86</th>\n",
       "      <td>Feature_087</td>\n",
       "      <td>0.006832</td>\n",
       "    </tr>\n",
       "    <tr>\n",
       "      <th>146</th>\n",
       "      <td>Feature_147</td>\n",
       "      <td>0.006831</td>\n",
       "    </tr>\n",
       "    <tr>\n",
       "      <th>100</th>\n",
       "      <td>Feature_101</td>\n",
       "      <td>0.006824</td>\n",
       "    </tr>\n",
       "    <tr>\n",
       "      <th>139</th>\n",
       "      <td>Feature_140</td>\n",
       "      <td>0.006787</td>\n",
       "    </tr>\n",
       "    <tr>\n",
       "      <th>17</th>\n",
       "      <td>Feature_018</td>\n",
       "      <td>0.006765</td>\n",
       "    </tr>\n",
       "    <tr>\n",
       "      <th>19</th>\n",
       "      <td>Feature_020</td>\n",
       "      <td>0.006756</td>\n",
       "    </tr>\n",
       "    <tr>\n",
       "      <th>14</th>\n",
       "      <td>Feature_015</td>\n",
       "      <td>0.006746</td>\n",
       "    </tr>\n",
       "    <tr>\n",
       "      <th>82</th>\n",
       "      <td>Feature_083</td>\n",
       "      <td>0.006731</td>\n",
       "    </tr>\n",
       "    <tr>\n",
       "      <th>143</th>\n",
       "      <td>Feature_144</td>\n",
       "      <td>0.006724</td>\n",
       "    </tr>\n",
       "    <tr>\n",
       "      <th>54</th>\n",
       "      <td>Feature_055</td>\n",
       "      <td>0.006704</td>\n",
       "    </tr>\n",
       "    <tr>\n",
       "      <th>117</th>\n",
       "      <td>Feature_118</td>\n",
       "      <td>0.006692</td>\n",
       "    </tr>\n",
       "    <tr>\n",
       "      <th>61</th>\n",
       "      <td>Feature_062</td>\n",
       "      <td>0.006683</td>\n",
       "    </tr>\n",
       "    <tr>\n",
       "      <th>90</th>\n",
       "      <td>Feature_091</td>\n",
       "      <td>0.006648</td>\n",
       "    </tr>\n",
       "    <tr>\n",
       "      <th>59</th>\n",
       "      <td>Feature_060</td>\n",
       "      <td>0.006642</td>\n",
       "    </tr>\n",
       "    <tr>\n",
       "      <th>27</th>\n",
       "      <td>Feature_028</td>\n",
       "      <td>0.006638</td>\n",
       "    </tr>\n",
       "    <tr>\n",
       "      <th>71</th>\n",
       "      <td>Feature_072</td>\n",
       "      <td>0.006623</td>\n",
       "    </tr>\n",
       "    <tr>\n",
       "      <th>94</th>\n",
       "      <td>Feature_095</td>\n",
       "      <td>0.006618</td>\n",
       "    </tr>\n",
       "    <tr>\n",
       "      <th>127</th>\n",
       "      <td>Feature_128</td>\n",
       "      <td>0.006587</td>\n",
       "    </tr>\n",
       "    <tr>\n",
       "      <th>102</th>\n",
       "      <td>Feature_103</td>\n",
       "      <td>0.006562</td>\n",
       "    </tr>\n",
       "    <tr>\n",
       "      <th>89</th>\n",
       "      <td>Feature_090</td>\n",
       "      <td>0.006560</td>\n",
       "    </tr>\n",
       "    <tr>\n",
       "      <th>81</th>\n",
       "      <td>Feature_082</td>\n",
       "      <td>0.006557</td>\n",
       "    </tr>\n",
       "    <tr>\n",
       "      <th>34</th>\n",
       "      <td>Feature_035</td>\n",
       "      <td>0.006552</td>\n",
       "    </tr>\n",
       "    <tr>\n",
       "      <th>36</th>\n",
       "      <td>Feature_037</td>\n",
       "      <td>0.006552</td>\n",
       "    </tr>\n",
       "    <tr>\n",
       "      <th>35</th>\n",
       "      <td>Feature_036</td>\n",
       "      <td>0.006529</td>\n",
       "    </tr>\n",
       "    <tr>\n",
       "      <th>93</th>\n",
       "      <td>Feature_094</td>\n",
       "      <td>0.006513</td>\n",
       "    </tr>\n",
       "    <tr>\n",
       "      <th>147</th>\n",
       "      <td>Feature_148</td>\n",
       "      <td>0.006512</td>\n",
       "    </tr>\n",
       "    <tr>\n",
       "      <th>123</th>\n",
       "      <td>Feature_124</td>\n",
       "      <td>0.006511</td>\n",
       "    </tr>\n",
       "    <tr>\n",
       "      <th>135</th>\n",
       "      <td>Feature_136</td>\n",
       "      <td>0.006496</td>\n",
       "    </tr>\n",
       "    <tr>\n",
       "      <th>95</th>\n",
       "      <td>Feature_096</td>\n",
       "      <td>0.006473</td>\n",
       "    </tr>\n",
       "    <tr>\n",
       "      <th>12</th>\n",
       "      <td>Feature_013</td>\n",
       "      <td>0.006463</td>\n",
       "    </tr>\n",
       "    <tr>\n",
       "      <th>65</th>\n",
       "      <td>Feature_066</td>\n",
       "      <td>0.006442</td>\n",
       "    </tr>\n",
       "    <tr>\n",
       "      <th>49</th>\n",
       "      <td>Feature_050</td>\n",
       "      <td>0.006412</td>\n",
       "    </tr>\n",
       "    <tr>\n",
       "      <th>122</th>\n",
       "      <td>Feature_123</td>\n",
       "      <td>0.006407</td>\n",
       "    </tr>\n",
       "    <tr>\n",
       "      <th>126</th>\n",
       "      <td>Feature_127</td>\n",
       "      <td>0.006405</td>\n",
       "    </tr>\n",
       "    <tr>\n",
       "      <th>1</th>\n",
       "      <td>Feature_002</td>\n",
       "      <td>0.006397</td>\n",
       "    </tr>\n",
       "    <tr>\n",
       "      <th>57</th>\n",
       "      <td>Feature_058</td>\n",
       "      <td>0.006376</td>\n",
       "    </tr>\n",
       "    <tr>\n",
       "      <th>10</th>\n",
       "      <td>Feature_011</td>\n",
       "      <td>0.006371</td>\n",
       "    </tr>\n",
       "    <tr>\n",
       "      <th>18</th>\n",
       "      <td>Feature_019</td>\n",
       "      <td>0.006367</td>\n",
       "    </tr>\n",
       "    <tr>\n",
       "      <th>30</th>\n",
       "      <td>Feature_031</td>\n",
       "      <td>0.006359</td>\n",
       "    </tr>\n",
       "    <tr>\n",
       "      <th>75</th>\n",
       "      <td>Feature_076</td>\n",
       "      <td>0.006356</td>\n",
       "    </tr>\n",
       "    <tr>\n",
       "      <th>11</th>\n",
       "      <td>Feature_012</td>\n",
       "      <td>0.006325</td>\n",
       "    </tr>\n",
       "    <tr>\n",
       "      <th>58</th>\n",
       "      <td>Feature_059</td>\n",
       "      <td>0.006320</td>\n",
       "    </tr>\n",
       "    <tr>\n",
       "      <th>124</th>\n",
       "      <td>Feature_125</td>\n",
       "      <td>0.006312</td>\n",
       "    </tr>\n",
       "    <tr>\n",
       "      <th>148</th>\n",
       "      <td>Feature_149</td>\n",
       "      <td>0.006311</td>\n",
       "    </tr>\n",
       "    <tr>\n",
       "      <th>38</th>\n",
       "      <td>Feature_039</td>\n",
       "      <td>0.006284</td>\n",
       "    </tr>\n",
       "    <tr>\n",
       "      <th>40</th>\n",
       "      <td>Feature_041</td>\n",
       "      <td>0.006284</td>\n",
       "    </tr>\n",
       "    <tr>\n",
       "      <th>22</th>\n",
       "      <td>Feature_023</td>\n",
       "      <td>0.006284</td>\n",
       "    </tr>\n",
       "    <tr>\n",
       "      <th>128</th>\n",
       "      <td>Feature_129</td>\n",
       "      <td>0.006268</td>\n",
       "    </tr>\n",
       "    <tr>\n",
       "      <th>120</th>\n",
       "      <td>Feature_121</td>\n",
       "      <td>0.006266</td>\n",
       "    </tr>\n",
       "    <tr>\n",
       "      <th>48</th>\n",
       "      <td>Feature_049</td>\n",
       "      <td>0.006259</td>\n",
       "    </tr>\n",
       "    <tr>\n",
       "      <th>138</th>\n",
       "      <td>Feature_139</td>\n",
       "      <td>0.006244</td>\n",
       "    </tr>\n",
       "    <tr>\n",
       "      <th>74</th>\n",
       "      <td>Feature_075</td>\n",
       "      <td>0.006239</td>\n",
       "    </tr>\n",
       "    <tr>\n",
       "      <th>5</th>\n",
       "      <td>Feature_006</td>\n",
       "      <td>0.006237</td>\n",
       "    </tr>\n",
       "    <tr>\n",
       "      <th>85</th>\n",
       "      <td>Feature_086</td>\n",
       "      <td>0.006210</td>\n",
       "    </tr>\n",
       "    <tr>\n",
       "      <th>118</th>\n",
       "      <td>Feature_119</td>\n",
       "      <td>0.006195</td>\n",
       "    </tr>\n",
       "    <tr>\n",
       "      <th>46</th>\n",
       "      <td>Feature_047</td>\n",
       "      <td>0.006174</td>\n",
       "    </tr>\n",
       "    <tr>\n",
       "      <th>60</th>\n",
       "      <td>Feature_061</td>\n",
       "      <td>0.006169</td>\n",
       "    </tr>\n",
       "    <tr>\n",
       "      <th>149</th>\n",
       "      <td>Feature_150</td>\n",
       "      <td>0.006154</td>\n",
       "    </tr>\n",
       "    <tr>\n",
       "      <th>104</th>\n",
       "      <td>Feature_105</td>\n",
       "      <td>0.006121</td>\n",
       "    </tr>\n",
       "    <tr>\n",
       "      <th>16</th>\n",
       "      <td>Feature_017</td>\n",
       "      <td>0.006109</td>\n",
       "    </tr>\n",
       "    <tr>\n",
       "      <th>92</th>\n",
       "      <td>Feature_093</td>\n",
       "      <td>0.006101</td>\n",
       "    </tr>\n",
       "    <tr>\n",
       "      <th>25</th>\n",
       "      <td>Feature_026</td>\n",
       "      <td>0.006078</td>\n",
       "    </tr>\n",
       "    <tr>\n",
       "      <th>56</th>\n",
       "      <td>Feature_057</td>\n",
       "      <td>0.006077</td>\n",
       "    </tr>\n",
       "    <tr>\n",
       "      <th>140</th>\n",
       "      <td>Feature_141</td>\n",
       "      <td>0.006075</td>\n",
       "    </tr>\n",
       "    <tr>\n",
       "      <th>112</th>\n",
       "      <td>Feature_113</td>\n",
       "      <td>0.006074</td>\n",
       "    </tr>\n",
       "    <tr>\n",
       "      <th>76</th>\n",
       "      <td>Feature_077</td>\n",
       "      <td>0.006074</td>\n",
       "    </tr>\n",
       "    <tr>\n",
       "      <th>83</th>\n",
       "      <td>Feature_084</td>\n",
       "      <td>0.006055</td>\n",
       "    </tr>\n",
       "    <tr>\n",
       "      <th>63</th>\n",
       "      <td>Feature_064</td>\n",
       "      <td>0.006024</td>\n",
       "    </tr>\n",
       "    <tr>\n",
       "      <th>137</th>\n",
       "      <td>Feature_138</td>\n",
       "      <td>0.006022</td>\n",
       "    </tr>\n",
       "    <tr>\n",
       "      <th>136</th>\n",
       "      <td>Feature_137</td>\n",
       "      <td>0.006008</td>\n",
       "    </tr>\n",
       "    <tr>\n",
       "      <th>87</th>\n",
       "      <td>Feature_088</td>\n",
       "      <td>0.006005</td>\n",
       "    </tr>\n",
       "    <tr>\n",
       "      <th>6</th>\n",
       "      <td>Feature_007</td>\n",
       "      <td>0.005976</td>\n",
       "    </tr>\n",
       "    <tr>\n",
       "      <th>66</th>\n",
       "      <td>Feature_067</td>\n",
       "      <td>0.005944</td>\n",
       "    </tr>\n",
       "    <tr>\n",
       "      <th>84</th>\n",
       "      <td>Feature_085</td>\n",
       "      <td>0.005931</td>\n",
       "    </tr>\n",
       "    <tr>\n",
       "      <th>107</th>\n",
       "      <td>Feature_108</td>\n",
       "      <td>0.005925</td>\n",
       "    </tr>\n",
       "    <tr>\n",
       "      <th>99</th>\n",
       "      <td>Feature_100</td>\n",
       "      <td>0.005907</td>\n",
       "    </tr>\n",
       "    <tr>\n",
       "      <th>69</th>\n",
       "      <td>Feature_070</td>\n",
       "      <td>0.005878</td>\n",
       "    </tr>\n",
       "    <tr>\n",
       "      <th>13</th>\n",
       "      <td>Feature_014</td>\n",
       "      <td>0.005855</td>\n",
       "    </tr>\n",
       "    <tr>\n",
       "      <th>111</th>\n",
       "      <td>Feature_112</td>\n",
       "      <td>0.005854</td>\n",
       "    </tr>\n",
       "    <tr>\n",
       "      <th>116</th>\n",
       "      <td>Feature_117</td>\n",
       "      <td>0.005828</td>\n",
       "    </tr>\n",
       "    <tr>\n",
       "      <th>115</th>\n",
       "      <td>Feature_116</td>\n",
       "      <td>0.005774</td>\n",
       "    </tr>\n",
       "    <tr>\n",
       "      <th>51</th>\n",
       "      <td>Feature_052</td>\n",
       "      <td>0.005720</td>\n",
       "    </tr>\n",
       "    <tr>\n",
       "      <th>37</th>\n",
       "      <td>Feature_038</td>\n",
       "      <td>0.005685</td>\n",
       "    </tr>\n",
       "    <tr>\n",
       "      <th>109</th>\n",
       "      <td>Feature_110</td>\n",
       "      <td>0.005655</td>\n",
       "    </tr>\n",
       "    <tr>\n",
       "      <th>144</th>\n",
       "      <td>Feature_145</td>\n",
       "      <td>0.005646</td>\n",
       "    </tr>\n",
       "    <tr>\n",
       "      <th>47</th>\n",
       "      <td>Feature_048</td>\n",
       "      <td>0.005583</td>\n",
       "    </tr>\n",
       "    <tr>\n",
       "      <th>41</th>\n",
       "      <td>Feature_042</td>\n",
       "      <td>0.005561</td>\n",
       "    </tr>\n",
       "    <tr>\n",
       "      <th>8</th>\n",
       "      <td>Feature_009</td>\n",
       "      <td>0.005540</td>\n",
       "    </tr>\n",
       "    <tr>\n",
       "      <th>20</th>\n",
       "      <td>Feature_021</td>\n",
       "      <td>0.005510</td>\n",
       "    </tr>\n",
       "    <tr>\n",
       "      <th>29</th>\n",
       "      <td>Feature_030</td>\n",
       "      <td>0.005496</td>\n",
       "    </tr>\n",
       "    <tr>\n",
       "      <th>105</th>\n",
       "      <td>Feature_106</td>\n",
       "      <td>0.005491</td>\n",
       "    </tr>\n",
       "    <tr>\n",
       "      <th>77</th>\n",
       "      <td>Feature_078</td>\n",
       "      <td>0.005457</td>\n",
       "    </tr>\n",
       "    <tr>\n",
       "      <th>3</th>\n",
       "      <td>Feature_004</td>\n",
       "      <td>0.005428</td>\n",
       "    </tr>\n",
       "    <tr>\n",
       "      <th>26</th>\n",
       "      <td>Feature_027</td>\n",
       "      <td>0.005407</td>\n",
       "    </tr>\n",
       "    <tr>\n",
       "      <th>134</th>\n",
       "      <td>Feature_135</td>\n",
       "      <td>0.005366</td>\n",
       "    </tr>\n",
       "    <tr>\n",
       "      <th>53</th>\n",
       "      <td>Feature_054</td>\n",
       "      <td>0.005352</td>\n",
       "    </tr>\n",
       "    <tr>\n",
       "      <th>141</th>\n",
       "      <td>Feature_142</td>\n",
       "      <td>0.005324</td>\n",
       "    </tr>\n",
       "  </tbody>\n",
       "</table>\n",
       "</div>"
      ],
      "text/plain": [
       "    Feature Name  Feature Importance\n",
       "15   Feature_016            0.010864\n",
       "108  Feature_109            0.010052\n",
       "4    Feature_005            0.008966\n",
       "98   Feature_099            0.008825\n",
       "133  Feature_134            0.008712\n",
       "68   Feature_069            0.008490\n",
       "114  Feature_115            0.008450\n",
       "67   Feature_068            0.008336\n",
       "131  Feature_132            0.008173\n",
       "96   Feature_097            0.008052\n",
       "64   Feature_065            0.007941\n",
       "44   Feature_045            0.007921\n",
       "88   Feature_089            0.007782\n",
       "132  Feature_133            0.007760\n",
       "121  Feature_122            0.007740\n",
       "130  Feature_131            0.007641\n",
       "70   Feature_071            0.007607\n",
       "62   Feature_063            0.007606\n",
       "106  Feature_107            0.007587\n",
       "97   Feature_098            0.007488\n",
       "32   Feature_033            0.007472\n",
       "113  Feature_114            0.007462\n",
       "23   Feature_024            0.007400\n",
       "78   Feature_079            0.007396\n",
       "39   Feature_040            0.007290\n",
       "125  Feature_126            0.007287\n",
       "24   Feature_025            0.007271\n",
       "21   Feature_022            0.007270\n",
       "119  Feature_120            0.007190\n",
       "28   Feature_029            0.007127\n",
       "101  Feature_102            0.007108\n",
       "31   Feature_032            0.007087\n",
       "145  Feature_146            0.007026\n",
       "2    Feature_003            0.007016\n",
       "73   Feature_074            0.006995\n",
       "79   Feature_080            0.006994\n",
       "43   Feature_044            0.006986\n",
       "142  Feature_143            0.006976\n",
       "0    Feature_001            0.006963\n",
       "7    Feature_008            0.006953\n",
       "80   Feature_081            0.006926\n",
       "50   Feature_051            0.006893\n",
       "52   Feature_053            0.006884\n",
       "45   Feature_046            0.006882\n",
       "9    Feature_010            0.006879\n",
       "55   Feature_056            0.006874\n",
       "91   Feature_092            0.006863\n",
       "110  Feature_111            0.006859\n",
       "129  Feature_130            0.006855\n",
       "72   Feature_073            0.006852\n",
       "33   Feature_034            0.006851\n",
       "42   Feature_043            0.006835\n",
       "103  Feature_104            0.006834\n",
       "86   Feature_087            0.006832\n",
       "146  Feature_147            0.006831\n",
       "100  Feature_101            0.006824\n",
       "139  Feature_140            0.006787\n",
       "17   Feature_018            0.006765\n",
       "19   Feature_020            0.006756\n",
       "14   Feature_015            0.006746\n",
       "82   Feature_083            0.006731\n",
       "143  Feature_144            0.006724\n",
       "54   Feature_055            0.006704\n",
       "117  Feature_118            0.006692\n",
       "61   Feature_062            0.006683\n",
       "90   Feature_091            0.006648\n",
       "59   Feature_060            0.006642\n",
       "27   Feature_028            0.006638\n",
       "71   Feature_072            0.006623\n",
       "94   Feature_095            0.006618\n",
       "127  Feature_128            0.006587\n",
       "102  Feature_103            0.006562\n",
       "89   Feature_090            0.006560\n",
       "81   Feature_082            0.006557\n",
       "34   Feature_035            0.006552\n",
       "36   Feature_037            0.006552\n",
       "35   Feature_036            0.006529\n",
       "93   Feature_094            0.006513\n",
       "147  Feature_148            0.006512\n",
       "123  Feature_124            0.006511\n",
       "135  Feature_136            0.006496\n",
       "95   Feature_096            0.006473\n",
       "12   Feature_013            0.006463\n",
       "65   Feature_066            0.006442\n",
       "49   Feature_050            0.006412\n",
       "122  Feature_123            0.006407\n",
       "126  Feature_127            0.006405\n",
       "1    Feature_002            0.006397\n",
       "57   Feature_058            0.006376\n",
       "10   Feature_011            0.006371\n",
       "18   Feature_019            0.006367\n",
       "30   Feature_031            0.006359\n",
       "75   Feature_076            0.006356\n",
       "11   Feature_012            0.006325\n",
       "58   Feature_059            0.006320\n",
       "124  Feature_125            0.006312\n",
       "148  Feature_149            0.006311\n",
       "38   Feature_039            0.006284\n",
       "40   Feature_041            0.006284\n",
       "22   Feature_023            0.006284\n",
       "128  Feature_129            0.006268\n",
       "120  Feature_121            0.006266\n",
       "48   Feature_049            0.006259\n",
       "138  Feature_139            0.006244\n",
       "74   Feature_075            0.006239\n",
       "5    Feature_006            0.006237\n",
       "85   Feature_086            0.006210\n",
       "118  Feature_119            0.006195\n",
       "46   Feature_047            0.006174\n",
       "60   Feature_061            0.006169\n",
       "149  Feature_150            0.006154\n",
       "104  Feature_105            0.006121\n",
       "16   Feature_017            0.006109\n",
       "92   Feature_093            0.006101\n",
       "25   Feature_026            0.006078\n",
       "56   Feature_057            0.006077\n",
       "140  Feature_141            0.006075\n",
       "112  Feature_113            0.006074\n",
       "76   Feature_077            0.006074\n",
       "83   Feature_084            0.006055\n",
       "63   Feature_064            0.006024\n",
       "137  Feature_138            0.006022\n",
       "136  Feature_137            0.006008\n",
       "87   Feature_088            0.006005\n",
       "6    Feature_007            0.005976\n",
       "66   Feature_067            0.005944\n",
       "84   Feature_085            0.005931\n",
       "107  Feature_108            0.005925\n",
       "99   Feature_100            0.005907\n",
       "69   Feature_070            0.005878\n",
       "13   Feature_014            0.005855\n",
       "111  Feature_112            0.005854\n",
       "116  Feature_117            0.005828\n",
       "115  Feature_116            0.005774\n",
       "51   Feature_052            0.005720\n",
       "37   Feature_038            0.005685\n",
       "109  Feature_110            0.005655\n",
       "144  Feature_145            0.005646\n",
       "47   Feature_048            0.005583\n",
       "41   Feature_042            0.005561\n",
       "8    Feature_009            0.005540\n",
       "20   Feature_021            0.005510\n",
       "29   Feature_030            0.005496\n",
       "105  Feature_106            0.005491\n",
       "77   Feature_078            0.005457\n",
       "3    Feature_004            0.005428\n",
       "26   Feature_027            0.005407\n",
       "134  Feature_135            0.005366\n",
       "53   Feature_054            0.005352\n",
       "141  Feature_142            0.005324"
      ]
     },
     "execution_count": 11,
     "metadata": {},
     "output_type": "execute_result"
    }
   ],
   "source": [
    "pd.set_option(\"display.max_rows\", None)\n",
    "rf_feature_table.sort_values(by='Feature Importance', ascending=False).head(200)"
   ]
  },
  {
   "cell_type": "code",
   "execution_count": 12,
   "id": "43b98a33",
   "metadata": {},
   "outputs": [
    {
     "data": {
      "text/plain": [
       "<matplotlib.axes._subplots.AxesSubplot at 0x2c4d8c9efd0>"
      ]
     },
     "execution_count": 12,
     "metadata": {},
     "output_type": "execute_result"
    },
    {
     "data": {
      "image/png": "[encoded data removed]",
      "text/plain": [
       "<Figure size 640x480 with 1 Axes>"
      ]
     },
     "metadata": {},
     "output_type": "display_data"
    }
   ],
   "source": [
    "rf_feature_table_sorted=rf_feature_table.sort_values(by='Feature Importance', ascending=False)\n",
    "sns.barplot(y=rf_feature_table_sorted['Feature Name'].iloc[:], \n",
    "            x=rf_feature_table_sorted['Feature Importance'].iloc[:], orient='h')"
   ]
  },
  {
   "cell_type": "code",
   "execution_count": 13,
   "id": "aedde063",
   "metadata": {},
   "outputs": [
    {
     "data": {
      "text/plain": [
       "<matplotlib.axes._subplots.AxesSubplot at 0x2c4d9547160>"
      ]
     },
     "execution_count": 13,
     "metadata": {},
     "output_type": "execute_result"
    },
    {
     "data": {
      "image/png": "[encoded data removed]",
      "text/plain": [
       "<Figure size 640x480 with 1 Axes>"
      ]
     },
     "metadata": {},
     "output_type": "display_data"
    }
   ],
   "source": [
    "rf_feature_table_sorted['Cumulative Feature Importance']=rf_feature_table_sorted['Feature Importance'].cumsum()\n",
    "sns.barplot(y=rf_feature_table_sorted['Feature Name'].iloc[:], \n",
    "            x=rf_feature_table_sorted['Cumulative Feature Importance'].iloc[:], orient='h')"
   ]
  },
  {
   "cell_type": "code",
   "execution_count": 14,
   "id": "7d8b0bb8",
   "metadata": {},
   "outputs": [
    {
     "name": "stdout",
     "output_type": "stream",
     "text": [
      "99\n",
      "83\n"
     ]
    }
   ],
   "source": [
    "#keep the 70% important features\n",
    "print(rf_feature_table_sorted[rf_feature_table_sorted['Cumulative Feature Importance']<0.7].shape[0])\n",
    "features_keep = rf_feature_table_sorted[rf_feature_table_sorted['Cumulative Feature Importance']<0.6]['Feature Name'].tolist()\n",
    "features_list = [i for i in rf_feature_table['Feature Name'].tolist() if i in features_keep]\n",
    "print(len(features_list))"
   ]
  },
  {
   "cell_type": "code",
   "execution_count": 15,
   "id": "1cfb7f6e",
   "metadata": {},
   "outputs": [
    {
     "name": "stdout",
     "output_type": "stream",
     "text": [
      "(3000, 84)\n"
     ]
    },
    {
     "data": {
      "text/html": [
       "<div>\n",
       "<style scoped>\n",
       "    .dataframe tbody tr th:only-of-type {\n",
       "        vertical-align: middle;\n",
       "    }\n",
       "\n",
       "    .dataframe tbody tr th {\n",
       "        vertical-align: top;\n",
       "    }\n",
       "\n",
       "    .dataframe thead th {\n",
       "        text-align: right;\n",
       "    }\n",
       "</style>\n",
       "<table border=\"1\" class=\"dataframe\">\n",
       "  <thead>\n",
       "    <tr style=\"text-align: right;\">\n",
       "      <th></th>\n",
       "      <th>Feature_001</th>\n",
       "      <th>Feature_003</th>\n",
       "      <th>Feature_005</th>\n",
       "      <th>Feature_008</th>\n",
       "      <th>Feature_010</th>\n",
       "      <th>Feature_013</th>\n",
       "      <th>Feature_015</th>\n",
       "      <th>Feature_016</th>\n",
       "      <th>Feature_018</th>\n",
       "      <th>Feature_020</th>\n",
       "      <th>...</th>\n",
       "      <th>Feature_133</th>\n",
       "      <th>Feature_134</th>\n",
       "      <th>Feature_136</th>\n",
       "      <th>Feature_140</th>\n",
       "      <th>Feature_143</th>\n",
       "      <th>Feature_144</th>\n",
       "      <th>Feature_146</th>\n",
       "      <th>Feature_147</th>\n",
       "      <th>Feature_148</th>\n",
       "      <th>label</th>\n",
       "    </tr>\n",
       "    <tr>\n",
       "      <th>User_ID</th>\n",
       "      <th></th>\n",
       "      <th></th>\n",
       "      <th></th>\n",
       "      <th></th>\n",
       "      <th></th>\n",
       "      <th></th>\n",
       "      <th></th>\n",
       "      <th></th>\n",
       "      <th></th>\n",
       "      <th></th>\n",
       "      <th></th>\n",
       "      <th></th>\n",
       "      <th></th>\n",
       "      <th></th>\n",
       "      <th></th>\n",
       "      <th></th>\n",
       "      <th></th>\n",
       "      <th></th>\n",
       "      <th></th>\n",
       "      <th></th>\n",
       "      <th></th>\n",
       "    </tr>\n",
       "  </thead>\n",
       "  <tbody>\n",
       "    <tr>\n",
       "      <th>INT25666</th>\n",
       "      <td>9.444869</td>\n",
       "      <td>2.057322</td>\n",
       "      <td>6.357901</td>\n",
       "      <td>1.825739</td>\n",
       "      <td>0.340512</td>\n",
       "      <td>0.622544</td>\n",
       "      <td>8.452012</td>\n",
       "      <td>5.598190</td>\n",
       "      <td>6.940051</td>\n",
       "      <td>2.275310</td>\n",
       "      <td>...</td>\n",
       "      <td>1.375561</td>\n",
       "      <td>8.765113</td>\n",
       "      <td>10.241662</td>\n",
       "      <td>1.252804</td>\n",
       "      <td>5.519688</td>\n",
       "      <td>2.325635</td>\n",
       "      <td>6.489395</td>\n",
       "      <td>2.360730</td>\n",
       "      <td>9.165950</td>\n",
       "      <td>1</td>\n",
       "    </tr>\n",
       "    <tr>\n",
       "      <th>INT16465</th>\n",
       "      <td>10.287428</td>\n",
       "      <td>9.628861</td>\n",
       "      <td>4.503690</td>\n",
       "      <td>1.470551</td>\n",
       "      <td>5.699821</td>\n",
       "      <td>2.726565</td>\n",
       "      <td>4.104565</td>\n",
       "      <td>7.764170</td>\n",
       "      <td>13.264170</td>\n",
       "      <td>5.102745</td>\n",
       "      <td>...</td>\n",
       "      <td>5.090492</td>\n",
       "      <td>4.898149</td>\n",
       "      <td>4.937917</td>\n",
       "      <td>3.440586</td>\n",
       "      <td>5.275994</td>\n",
       "      <td>10.263197</td>\n",
       "      <td>8.472573</td>\n",
       "      <td>14.076540</td>\n",
       "      <td>3.929821</td>\n",
       "      <td>1</td>\n",
       "    </tr>\n",
       "    <tr>\n",
       "      <th>INT22387</th>\n",
       "      <td>2.923272</td>\n",
       "      <td>7.007672</td>\n",
       "      <td>4.445467</td>\n",
       "      <td>1.529596</td>\n",
       "      <td>0.011974</td>\n",
       "      <td>3.265518</td>\n",
       "      <td>4.030118</td>\n",
       "      <td>3.722469</td>\n",
       "      <td>5.807145</td>\n",
       "      <td>1.644394</td>\n",
       "      <td>...</td>\n",
       "      <td>0.554804</td>\n",
       "      <td>8.336587</td>\n",
       "      <td>3.662598</td>\n",
       "      <td>0.905100</td>\n",
       "      <td>8.765772</td>\n",
       "      <td>0.866869</td>\n",
       "      <td>7.888250</td>\n",
       "      <td>4.252634</td>\n",
       "      <td>5.991852</td>\n",
       "      <td>1</td>\n",
       "    </tr>\n",
       "    <tr>\n",
       "      <th>INT10150</th>\n",
       "      <td>8.231396</td>\n",
       "      <td>3.575617</td>\n",
       "      <td>2.182167</td>\n",
       "      <td>5.275212</td>\n",
       "      <td>0.752060</td>\n",
       "      <td>2.268040</td>\n",
       "      <td>1.852677</td>\n",
       "      <td>4.024305</td>\n",
       "      <td>9.631675</td>\n",
       "      <td>2.130528</td>\n",
       "      <td>...</td>\n",
       "      <td>5.719532</td>\n",
       "      <td>5.318168</td>\n",
       "      <td>8.246666</td>\n",
       "      <td>1.802609</td>\n",
       "      <td>4.266352</td>\n",
       "      <td>0.339777</td>\n",
       "      <td>1.666500</td>\n",
       "      <td>4.543080</td>\n",
       "      <td>8.246802</td>\n",
       "      <td>1</td>\n",
       "    </tr>\n",
       "    <tr>\n",
       "      <th>INT08730</th>\n",
       "      <td>9.905364</td>\n",
       "      <td>8.284597</td>\n",
       "      <td>10.378761</td>\n",
       "      <td>0.754002</td>\n",
       "      <td>9.009698</td>\n",
       "      <td>0.462741</td>\n",
       "      <td>6.554926</td>\n",
       "      <td>8.781708</td>\n",
       "      <td>3.595659</td>\n",
       "      <td>6.700018</td>\n",
       "      <td>...</td>\n",
       "      <td>4.660071</td>\n",
       "      <td>2.627604</td>\n",
       "      <td>12.294739</td>\n",
       "      <td>1.045971</td>\n",
       "      <td>0.386105</td>\n",
       "      <td>3.209463</td>\n",
       "      <td>5.888321</td>\n",
       "      <td>5.958723</td>\n",
       "      <td>6.544291</td>\n",
       "      <td>1</td>\n",
       "    </tr>\n",
       "  </tbody>\n",
       "</table>\n",
       "<p>5 rows × 84 columns</p>\n",
       "</div>"
      ],
      "text/plain": [
       "          Feature_001  Feature_003  Feature_005  Feature_008  Feature_010  \\\n",
       "User_ID                                                                     \n",
       "INT25666     9.444869     2.057322     6.357901     1.825739     0.340512   \n",
       "INT16465    10.287428     9.628861     4.503690     1.470551     5.699821   \n",
       "INT22387     2.923272     7.007672     4.445467     1.529596     0.011974   \n",
       "INT10150     8.231396     3.575617     2.182167     5.275212     0.752060   \n",
       "INT08730     9.905364     8.284597    10.378761     0.754002     9.009698   \n",
       "\n",
       "          Feature_013  Feature_015  Feature_016  Feature_018  Feature_020  \\\n",
       "User_ID                                                                     \n",
       "INT25666     0.622544     8.452012     5.598190     6.940051     2.275310   \n",
       "INT16465     2.726565     4.104565     7.764170    13.264170     5.102745   \n",
       "INT22387     3.265518     4.030118     3.722469     5.807145     1.644394   \n",
       "INT10150     2.268040     1.852677     4.024305     9.631675     2.130528   \n",
       "INT08730     0.462741     6.554926     8.781708     3.595659     6.700018   \n",
       "\n",
       "          ...  Feature_133  Feature_134  Feature_136  Feature_140  \\\n",
       "User_ID   ...                                                       \n",
       "INT25666  ...     1.375561     8.765113    10.241662     1.252804   \n",
       "INT16465  ...     5.090492     4.898149     4.937917     3.440586   \n",
       "INT22387  ...     0.554804     8.336587     3.662598     0.905100   \n",
       "INT10150  ...     5.719532     5.318168     8.246666     1.802609   \n",
       "INT08730  ...     4.660071     2.627604    12.294739     1.045971   \n",
       "\n",
       "          Feature_143  Feature_144  Feature_146  Feature_147  Feature_148  \\\n",
       "User_ID                                                                     \n",
       "INT25666     5.519688     2.325635     6.489395     2.360730     9.165950   \n",
       "INT16465     5.275994    10.263197     8.472573    14.076540     3.929821   \n",
       "INT22387     8.765772     0.866869     7.888250     4.252634     5.991852   \n",
       "INT10150     4.266352     0.339777     1.666500     4.543080     8.246802   \n",
       "INT08730     0.386105     3.209463     5.888321     5.958723     6.544291   \n",
       "\n",
       "          label  \n",
       "User_ID          \n",
       "INT25666      1  \n",
       "INT16465      1  \n",
       "INT22387      1  \n",
       "INT10150      1  \n",
       "INT08730      1  \n",
       "\n",
       "[5 rows x 84 columns]"
      ]
     },
     "execution_count": 15,
     "metadata": {},
     "output_type": "execute_result"
    }
   ],
   "source": [
    "# The above selected features will go for final estimator model\n",
    "modelinput_gbm=modelinput[features_list+['label']]\n",
    "\n",
    "print(modelinput_gbm.shape)\n",
    "modelinput_gbm.head(5)"
   ]
  },
  {
   "cell_type": "code",
   "execution_count": 16,
   "id": "51d5fb26",
   "metadata": {},
   "outputs": [
    {
     "name": "stdout",
     "output_type": "stream",
     "text": [
      "2400 83\n",
      "600 83\n",
      "Train seed Responders: 1202; Non Responders: 1198\n"
     ]
    }
   ],
   "source": [
    "X_train, X_test, y_train, y_test = train_test_split(modelinput_gbm.drop(['label'], axis=1), \n",
    "                                                    modelinput_gbm['label'], test_size=0.2, random_state=1233)\n",
    "\n",
    "print(X_train.shape[0], X_train.shape[1])\n",
    "print(X_test.shape[0], X_test.shape[1])\n",
    "\n",
    "print(\"Train seed Responders: {}; Non Responders: {}\".format(y_train.sum(), y_train.count()-y_train.sum()))\n",
    "\n",
    "scaler=MinMaxScaler()\n",
    "\n",
    "scaled_train=scaler.fit_transform(X_train)\n",
    "scaled_test=scaler.transform(X_test)"
   ]
  },
  {
   "cell_type": "code",
   "execution_count": 17,
   "id": "f6d20a36",
   "metadata": {},
   "outputs": [],
   "source": [
    "# Save the scaler model, as well as the feature list\n",
    "import pickle\n",
    "\n",
    "with open(\"scalerModelObj.pkl\", \"wb\") as f:\n",
    "    pickle.dump(scaler, f)\n",
    "    \n",
    "with open(\"final_feature_list.pkl\",\"wb\") as f:\n",
    "    pickle.dump(features_list, f)"
   ]
  },
  {
   "cell_type": "code",
   "execution_count": 19,
   "id": "52551ba0",
   "metadata": {},
   "outputs": [
    {
     "name": "stderr",
     "output_type": "stream",
     "text": [
      "2023/05/06 14:39:37 INFO mlflow.tracking.fluent: Autologging successfully enabled for sklearn.\n",
      "2023/05/06 14:39:37 INFO mlflow.tracking.fluent: Autologging successfully enabled for xgboost.\n",
      "2023/05/06 14:39:37 WARNING mlflow.utils.autologging_utils: You are using an unsupported version of statsmodels. If you encounter errors during autologging, try upgrading / downgrading statsmodels to a supported version, or try upgrading MLflow.\n",
      "2023/05/06 14:39:37 INFO mlflow.tracking.fluent: Autologging successfully enabled for statsmodels.\n",
      "2023/05/06 14:39:37 INFO mlflow.tracking.fluent: Autologging successfully enabled for pyspark.\n",
      "2023/05/06 14:39:37 WARNING mlflow.utils.autologging_utils: You are using an unsupported version of pyspark.ml. If you encounter errors during autologging, try upgrading / downgrading pyspark.ml to a supported version, or try upgrading MLflow.\n",
      "2023/05/06 14:39:37 INFO mlflow.pyspark.ml: No SparkSession detected. Autologging will log pyspark.ml models contained in the default allowlist. To specify a custom allowlist, initialize a SparkSession prior to calling mlflow.pyspark.ml.autolog() and specify the path to your allowlist file via the spark.mlflow.pysparkml.autolog.logModelAllowlistFile conf.\n",
      "2023/05/06 14:39:37 INFO mlflow.tracking.fluent: Autologging successfully enabled for pyspark.ml.\n",
      "2023/05/06 14:39:39 INFO mlflow.tracking.fluent: Experiment with name 'lal_gbt_train_exp1' does not exist. Creating a new experiment.\n"
     ]
    }
   ],
   "source": [
    "#define model space\n",
    "# Note: - keep running 'mlflow ui' command in anaconda prompt, for mlflow to work \n",
    "from sklearn.model_selection import cross_val_score\n",
    "from hyperopt import fmin, tpe, hp, SparkTrials, STATUS_OK, Trials\n",
    "import pyspark\n",
    "from sklearn.metrics import accuracy_score\n",
    "import mlflow\n",
    "from xgboost import XGBClassifier\n",
    "from builtins import round, max, min, int\n",
    "\n",
    "mlflow.autolog()\n",
    "# set tracking uri, where mlflow saves runs\n",
    "#mlflow.set_tracking_uri(\"file:///C:/Users/Ayush/Desktop/Books/Python%20with%20machine%20learning%20and%20data%20science%20bootcamp/mlflow\")\n",
    "\n",
    "# create an experiment\n",
    "#experiment_id=mlflow.create_experiment(\"lal_gbt_train_exp1\")\n",
    "mlflow.set_tracking_uri(\"http://localhost:5000\")\n",
    "mlflow.set_experiment(\"lal_gbt_train_exp1\")\n",
    "experiment_id=dict(mlflow.get_experiment_by_name(\"lal_gbt_train_exp1\"))[\"experiment_id\"]\n",
    "\n",
    "\n",
    "feature_space_gbt = hp.choice('classifier_type',[\n",
    "                          {\n",
    "                                  'type':'gbt',\n",
    "                                  'max_depth':hp.quniform('max_depth', 2, 13, 1),\n",
    "                                  'n_estimators':hp.quniform('n_estimators', 50, 500, 50),\n",
    "                                  'learning_rate':hp.quniform('learning_rate', 0.05, 0.95, 0.05),\n",
    "                                  'subsample':hp.quniform('subsample', 0.1, 1, 0.1)\n",
    "                          },\n",
    "\n",
    "])\n",
    "\n",
    "feature_space_xgb = hp.choice('classifier_type',[\n",
    "                          {\n",
    "                                  'type':'xgboost',\n",
    "                                  'max_depth':hp.quniform('max_depth', 10, 30, 1),\n",
    "                                  'n_estimators':hp.quniform('n_estimators', 1, 151, 10),\n",
    "                                  'learning_rate':hp.quniform('learning_rate', 0.01, 0.99, 0.01),\n",
    "                                  'subsample':hp.quniform('subsample', 0.2, 1, 0.01)\n",
    "                          },\n",
    "\n",
    "])\n",
    "\n",
    "def minmization_fn_gbt(params):\n",
    "    classifier_type=params['type']\n",
    "    del params['type']\n",
    "    if classifier_type=='gbt':\n",
    "        # Initialise GBT\n",
    "        clf=GradientBoostingClassifier(n_estimators=int(params['n_estimators']),learning_rate=params['learning_rate'],\n",
    "                                       max_depth=int(params['max_depth']), subsample=params['subsample'])\n",
    "    else:\n",
    "        return 0\n",
    "    \n",
    "    with mlflow.start_run(nested=True):\n",
    "        mlflow.log_param(\"learning_rate\", params['learning_rate'])\n",
    "        mlflow.log_param(\"n_estimators\", params['learning_rate'])\n",
    "        mlflow.log_param(\"max_depth\", params['max_depth'])\n",
    "        mlflow.log_param(\"subsample\", params['subsample'])\n",
    "    \n",
    "    gbt_model=clf.fit(scaled_train, y_train)\n",
    "    y_train_pred = gbt_model.predict(scaled_train)\n",
    "    y_test_pred = gbt_model.predict(scaled_test)\n",
    "    train_auc=roc_auc_score(y_train, y_train_pred)\n",
    "    test_auc=roc_auc_score(y_test, y_test_pred)\n",
    "    \n",
    "    print(\"Training AUC is: %f\"% (train_auc))\n",
    "    print(\"Test AUC is: %f\"% (test_auc))\n",
    "    \n",
    "    with mlflow.start_run(nested=True): \n",
    "        mlflow.log_metric(\"test_auc\", test_auc)\n",
    "        mlflow.log_metric(\"train_auc\", train_auc)\n",
    "        #log models\n",
    "        mlflow.sklearn.log_model(clf, 'model')\n",
    "    \n",
    "    # Since fmin will minimize the objective loss, this function should return negative accuracy\n",
    "    return {'loss':-test_auc, 'status':STATUS_OK, 'Train_AUC':train_auc, 'Test_AUC':test_auc,\n",
    "            'important_features':gbt_model.feature_importances_,\n",
    "           'model':gbt_model}\n",
    "\n",
    "def minmization_fn_xgb(params):\n",
    "    classifier_type=params['type']\n",
    "    del params['type']\n",
    "    if classifier_type=='xgboost':\n",
    "        # Initialise GBT\n",
    "        clf=XGBClassifier(n_estimators=int(params['n_estimators']),learning_rate=params['learning_rate'],\n",
    "                                       max_depth=int(params['max_depth']), subsample=params['subsample'])\n",
    "    else:\n",
    "        return 0\n",
    "    \n",
    "    with mlflow.start_run(nested=True):\n",
    "        mlflow.log_param(\"learning_rate\", params['learning_rate'])\n",
    "        mlflow.log_param(\"n_estimators\", params['learning_rate'])\n",
    "        mlflow.log_param(\"max_depth\", params['max_depth'])\n",
    "        mlflow.log_param(\"subsample\", params['subsample'])\n",
    "    \n",
    "    xgb_model=clf.fit(scaled_train, y_train)\n",
    "    y_train_pred = xgb_model.predict(scaled_train)\n",
    "    y_test_pred = xgb_model.predict(scaled_test)\n",
    "    train_auc=roc_auc_score(y_train, y_train_pred)\n",
    "    test_auc=roc_auc_score(y_test, y_test_pred)\n",
    "    test_acc=accuracy_score(y_test, y_test_pred)\n",
    "    train_acc=accuracy_score(y_train, y_train_pred)\n",
    "    \n",
    "    print(\"Training AUC is: %f\"% (train_auc))\n",
    "    print(\"Test AUC is: %f\"% (test_auc))\n",
    "    \n",
    "    print(\"Training accuracy is: %f\"% (train_acc))\n",
    "    print(\"Test accuracy is: %f\"% (test_acc))\n",
    "    \n",
    "    with mlflow.start_run(nested=True):\n",
    "        mlflow.log_metric(\"test_auc\", test_auc)\n",
    "        mlflow.log_metric(\"train_auc\", train_auc)\n",
    "    loss=-test_acc\n",
    "    \n",
    "    # Since fmin will minimize the objective loss, this function should return negative accuracy\n",
    "    return {'loss':loss, 'status':STATUS_OK, 'Train_AUC':train_auc, 'Test_AUC':test_auc,\n",
    "            'important_features':xgb_model.feature_importances_,\n",
    "           'model':xgb_model}\n"
   ]
  },
  {
   "cell_type": "code",
   "execution_count": 20,
   "id": "545c1621",
   "metadata": {},
   "outputs": [
    {
     "name": "stdout",
     "output_type": "stream",
     "text": [
      "\r",
      "  0%|                                                                          | 0/100 [00:00<?, ?trial/s, best loss=?]"
     ]
    },
    {
     "name": "stderr",
     "output_type": "stream",
     "text": [
      "C:\\Users\\Ayush\\Anaconda3\\lib\\site-packages\\xgboost\\sklearn.py:1224: UserWarning: The use of label encoder in XGBClassifier is deprecated and will be removed in a future release. To remove this warning, do the following: 1) Pass option use_label_encoder=False when constructing XGBClassifier object; and 2) Encode your labels (y) as integers starting with 0, i.e. 0, 1, 2, ..., [num_class - 1].\n",
      "  warnings.warn(label_encoder_deprecation_msg, UserWarning)\n",
      "\n"
     ]
    },
    {
     "name": "stdout",
     "output_type": "stream",
     "text": [
      "[14:40:01] WARNING: D:\\bld\\xgboost-split_1637426510059\\work\\src\\learner.cc:1115: Starting in XGBoost 1.3.0, the default evaluation metric used with the objective 'binary:logistic' was changed from 'error' to 'logloss'. Explicitly set eval_metric if you'd like to restore the old behavior.\n",
      "  0%|                                                                          | 0/100 [00:00<?, ?trial/s, best loss=?]"
     ]
    },
    {
     "name": "stderr",
     "output_type": "stream",
     "text": [
      "2023/05/06 14:40:13 WARNING mlflow.utils.autologging_utils: MLflow autologging encountered a warning: \"C:\\Users\\Ayush\\Anaconda3\\lib\\site-packages\\_distutils_hack\\__init__.py:33: UserWarning: Setuptools is replacing distutils.\"\n"
     ]
    },
    {
     "name": "stdout",
     "output_type": "stream",
     "text": [
      "Training AUC is: 1.000000                                                                                              \n",
      "Test AUC is: 0.536824                                                                                                  \n",
      "Training accuracy is: 1.000000                                                                                         \n",
      "Test accuracy is: 0.536667                                                                                             \n",
      "[14:40:14] WARNING: D:\\bld\\xgboost-split_1637426510059\\work\\src\\learner.cc:1115: Starting in XGBoost 1.3.0, the default evaluation metric used with the objective 'binary:logistic' was changed from 'error' to 'logloss'. Explicitly set eval_metric if you'd like to restore the old behavior.\n",
      "  1%|▍                                              | 1/100 [00:13<21:38, 13.12s/trial, best loss: -0.5366666666666666]"
     ]
    },
    {
     "name": "stderr",
     "output_type": "stream",
     "text": [
      "C:\\Users\\Ayush\\Anaconda3\\lib\\site-packages\\xgboost\\sklearn.py:1224: UserWarning: The use of label encoder in XGBClassifier is deprecated and will be removed in a future release. To remove this warning, do the following: 1) Pass option use_label_encoder=False when constructing XGBClassifier object; and 2) Encode your labels (y) as integers starting with 0, i.e. 0, 1, 2, ..., [num_class - 1].\n",
      "  warnings.warn(label_encoder_deprecation_msg, UserWarning)\n",
      "\n",
      "2023/05/06 14:41:14 WARNING mlflow.utils.autologging_utils: Encountered unexpected error during xgboost autologging: The following failures occurred while performing one or more logging operations: [MlflowException('Failed to perform one or more operations on the run with ID 598aca6afcea493582375404530c40da. Failed operations: [MlflowException(\"API request to http://localhost:5000/api/2.0/mlflow/runs/log-batch failed with exception HTTPConnectionPool(host=\\'localhost\\', port=5000): Max retries exceeded with url: /api/2.0/mlflow/runs/log-batch (Caused by ResponseError(\\'too many 500 error responses\\'))\")]')]\n"
     ]
    },
    {
     "name": "stdout",
     "output_type": "stream",
     "text": [
      "Training AUC is: 1.000000                                                                                              \n",
      "Test AUC is: 0.505167                                                                                                  \n",
      "Training accuracy is: 1.000000                                                                                         \n",
      "Test accuracy is: 0.505000                                                                                             \n",
      "[14:41:20] WARNING: D:\\bld\\xgboost-split_1637426510059\\work\\src\\learner.cc:1115: Starting in XGBoost 1.3.0, the default evaluation metric used with the objective 'binary:logistic' was changed from 'error' to 'logloss'. Explicitly set eval_metric if you'd like to restore the old behavior.\n",
      "  2%|▉                                            | 2/100 [01:18<1:11:48, 43.96s/trial, best loss: -0.5366666666666666]"
     ]
    },
    {
     "name": "stderr",
     "output_type": "stream",
     "text": [
      "C:\\Users\\Ayush\\Anaconda3\\lib\\site-packages\\xgboost\\sklearn.py:1224: UserWarning: The use of label encoder in XGBClassifier is deprecated and will be removed in a future release. To remove this warning, do the following: 1) Pass option use_label_encoder=False when constructing XGBClassifier object; and 2) Encode your labels (y) as integers starting with 0, i.e. 0, 1, 2, ..., [num_class - 1].\n",
      "  warnings.warn(label_encoder_deprecation_msg, UserWarning)\n",
      "\n",
      "2023/05/06 14:42:20 WARNING mlflow.utils.autologging_utils: Encountered unexpected error during xgboost autologging: The following failures occurred while performing one or more logging operations: [MlflowException('Failed to perform one or more operations on the run with ID 598aca6afcea493582375404530c40da. Failed operations: [MlflowException(\"API request to http://localhost:5000/api/2.0/mlflow/runs/log-batch failed with exception HTTPConnectionPool(host=\\'localhost\\', port=5000): Max retries exceeded with url: /api/2.0/mlflow/runs/log-batch (Caused by ResponseError(\\'too many 500 error responses\\'))\")]')]\n"
     ]
    },
    {
     "name": "stdout",
     "output_type": "stream",
     "text": [
      "Training AUC is: 1.000000                                                                                              \n",
      "Test AUC is: 0.510089                                                                                                  \n",
      "Training accuracy is: 1.000000                                                                                         \n",
      "Test accuracy is: 0.510000                                                                                             \n",
      "[14:42:26] WARNING: D:\\bld\\xgboost-split_1637426510059\\work\\src\\learner.cc:1115: Starting in XGBoost 1.3.0, the default evaluation metric used with the objective 'binary:logistic' was changed from 'error' to 'logloss'. Explicitly set eval_metric if you'd like to restore the old behavior.\n",
      "  3%|█▎                                           | 3/100 [02:24<1:27:21, 54.04s/trial, best loss: -0.5366666666666666]"
     ]
    },
    {
     "name": "stderr",
     "output_type": "stream",
     "text": [
      "C:\\Users\\Ayush\\Anaconda3\\lib\\site-packages\\xgboost\\sklearn.py:1224: UserWarning: The use of label encoder in XGBClassifier is deprecated and will be removed in a future release. To remove this warning, do the following: 1) Pass option use_label_encoder=False when constructing XGBClassifier object; and 2) Encode your labels (y) as integers starting with 0, i.e. 0, 1, 2, ..., [num_class - 1].\n",
      "  warnings.warn(label_encoder_deprecation_msg, UserWarning)\n",
      "\n",
      "2023/05/06 14:43:26 WARNING mlflow.utils.autologging_utils: Encountered unexpected error during xgboost autologging: The following failures occurred while performing one or more logging operations: [MlflowException('Failed to perform one or more operations on the run with ID 598aca6afcea493582375404530c40da. Failed operations: [MlflowException(\"API request to http://localhost:5000/api/2.0/mlflow/runs/log-batch failed with exception HTTPConnectionPool(host=\\'localhost\\', port=5000): Max retries exceeded with url: /api/2.0/mlflow/runs/log-batch (Caused by ResponseError(\\'too many 500 error responses\\'))\")]')]\n"
     ]
    },
    {
     "name": "stdout",
     "output_type": "stream",
     "text": [
      "Training AUC is: 0.997501                                                                                              \n",
      "Test AUC is: 0.514856                                                                                                  \n",
      "Training accuracy is: 0.997500                                                                                         \n",
      "Test accuracy is: 0.515000                                                                                             \n",
      "[14:43:33] WARNING: D:\\bld\\xgboost-split_1637426510059\\work\\src\\learner.cc:1115: Starting in XGBoost 1.3.0, the default evaluation metric used with the objective 'binary:logistic' was changed from 'error' to 'logloss'. Explicitly set eval_metric if you'd like to restore the old behavior.\n",
      "  4%|█▊                                           | 4/100 [03:31<1:34:34, 59.10s/trial, best loss: -0.5366666666666666]"
     ]
    },
    {
     "name": "stderr",
     "output_type": "stream",
     "text": [
      "C:\\Users\\Ayush\\Anaconda3\\lib\\site-packages\\xgboost\\sklearn.py:1224: UserWarning: The use of label encoder in XGBClassifier is deprecated and will be removed in a future release. To remove this warning, do the following: 1) Pass option use_label_encoder=False when constructing XGBClassifier object; and 2) Encode your labels (y) as integers starting with 0, i.e. 0, 1, 2, ..., [num_class - 1].\n",
      "  warnings.warn(label_encoder_deprecation_msg, UserWarning)\n",
      "\n",
      "2023/05/06 14:44:33 WARNING mlflow.utils.autologging_utils: Encountered unexpected error during xgboost autologging: The following failures occurred while performing one or more logging operations: [MlflowException('Failed to perform one or more operations on the run with ID 598aca6afcea493582375404530c40da. Failed operations: [MlflowException(\"API request to http://localhost:5000/api/2.0/mlflow/runs/log-batch failed with exception HTTPConnectionPool(host=\\'localhost\\', port=5000): Max retries exceeded with url: /api/2.0/mlflow/runs/log-batch (Caused by ResponseError(\\'too many 500 error responses\\'))\")]')]\n"
     ]
    },
    {
     "name": "stdout",
     "output_type": "stream",
     "text": [
      "Training AUC is: 1.000000                                                                                              \n",
      "Test AUC is: 0.481655                                                                                                  \n",
      "Training accuracy is: 1.000000                                                                                         \n",
      "Test accuracy is: 0.481667                                                                                             \n",
      "[14:44:39] WARNING: D:\\bld\\xgboost-split_1637426510059\\work\\src\\learner.cc:1115: Starting in XGBoost 1.3.0, the default evaluation metric used with the objective 'binary:logistic' was changed from 'error' to 'logloss'. Explicitly set eval_metric if you'd like to restore the old behavior.\n",
      "  5%|██▎                                          | 5/100 [04:38<1:37:31, 61.60s/trial, best loss: -0.5366666666666666]"
     ]
    },
    {
     "name": "stderr",
     "output_type": "stream",
     "text": [
      "C:\\Users\\Ayush\\Anaconda3\\lib\\site-packages\\xgboost\\sklearn.py:1224: UserWarning: The use of label encoder in XGBClassifier is deprecated and will be removed in a future release. To remove this warning, do the following: 1) Pass option use_label_encoder=False when constructing XGBClassifier object; and 2) Encode your labels (y) as integers starting with 0, i.e. 0, 1, 2, ..., [num_class - 1].\n",
      "  warnings.warn(label_encoder_deprecation_msg, UserWarning)\n",
      "\n",
      "2023/05/06 14:45:39 WARNING mlflow.utils.autologging_utils: Encountered unexpected error during xgboost autologging: The following failures occurred while performing one or more logging operations: [MlflowException('Failed to perform one or more operations on the run with ID 598aca6afcea493582375404530c40da. Failed operations: [MlflowException(\"API request to http://localhost:5000/api/2.0/mlflow/runs/log-batch failed with exception HTTPConnectionPool(host=\\'localhost\\', port=5000): Max retries exceeded with url: /api/2.0/mlflow/runs/log-batch (Caused by ResponseError(\\'too many 500 error responses\\'))\")]')]\n"
     ]
    },
    {
     "name": "stdout",
     "output_type": "stream",
     "text": [
      "Training AUC is: 0.748747                                                                                              \n",
      "Test AUC is: 0.518345                                                                                                  \n",
      "Training accuracy is: 0.748750                                                                                         \n",
      "Test accuracy is: 0.518333                                                                                             \n",
      "[14:45:44] WARNING: D:\\bld\\xgboost-split_1637426510059\\work\\src\\learner.cc:1115: Starting in XGBoost 1.3.0, the default evaluation metric used with the objective 'binary:logistic' was changed from 'error' to 'logloss'. Explicitly set eval_metric if you'd like to restore the old behavior.\n",
      "  6%|██▋                                          | 6/100 [05:43<1:38:40, 62.99s/trial, best loss: -0.5366666666666666]"
     ]
    },
    {
     "name": "stderr",
     "output_type": "stream",
     "text": [
      "C:\\Users\\Ayush\\Anaconda3\\lib\\site-packages\\xgboost\\sklearn.py:1224: UserWarning: The use of label encoder in XGBClassifier is deprecated and will be removed in a future release. To remove this warning, do the following: 1) Pass option use_label_encoder=False when constructing XGBClassifier object; and 2) Encode your labels (y) as integers starting with 0, i.e. 0, 1, 2, ..., [num_class - 1].\n",
      "  warnings.warn(label_encoder_deprecation_msg, UserWarning)\n",
      "\n",
      "2023/05/06 14:46:44 WARNING mlflow.utils.autologging_utils: Encountered unexpected error during xgboost autologging: The following failures occurred while performing one or more logging operations: [MlflowException('Failed to perform one or more operations on the run with ID 598aca6afcea493582375404530c40da. Failed operations: [MlflowException(\"API request to http://localhost:5000/api/2.0/mlflow/runs/log-batch failed with exception HTTPConnectionPool(host=\\'localhost\\', port=5000): Max retries exceeded with url: /api/2.0/mlflow/runs/log-batch (Caused by ResponseError(\\'too many 500 error responses\\'))\")]')]\n"
     ]
    },
    {
     "name": "stdout",
     "output_type": "stream",
     "text": [
      "Training AUC is: 1.000000                                                                                              \n",
      "Test AUC is: 0.520112                                                                                                  \n",
      "Training accuracy is: 1.000000                                                                                         \n",
      "Test accuracy is: 0.520000                                                                                             \n",
      "[14:46:51] WARNING: D:\\bld\\xgboost-split_1637426510059\\work\\src\\learner.cc:1115: Starting in XGBoost 1.3.0, the default evaluation metric used with the objective 'binary:logistic' was changed from 'error' to 'logloss'. Explicitly set eval_metric if you'd like to restore the old behavior.\n",
      "  7%|███▏                                         | 7/100 [06:50<1:39:45, 64.36s/trial, best loss: -0.5366666666666666]"
     ]
    },
    {
     "name": "stderr",
     "output_type": "stream",
     "text": [
      "C:\\Users\\Ayush\\Anaconda3\\lib\\site-packages\\xgboost\\sklearn.py:1224: UserWarning: The use of label encoder in XGBClassifier is deprecated and will be removed in a future release. To remove this warning, do the following: 1) Pass option use_label_encoder=False when constructing XGBClassifier object; and 2) Encode your labels (y) as integers starting with 0, i.e. 0, 1, 2, ..., [num_class - 1].\n",
      "  warnings.warn(label_encoder_deprecation_msg, UserWarning)\n",
      "\n",
      "2023/05/06 14:47:52 WARNING mlflow.utils.autologging_utils: Encountered unexpected error during xgboost autologging: The following failures occurred while performing one or more logging operations: [MlflowException('Failed to perform one or more operations on the run with ID 598aca6afcea493582375404530c40da. Failed operations: [MlflowException(\"API request to http://localhost:5000/api/2.0/mlflow/runs/log-batch failed with exception HTTPConnectionPool(host=\\'localhost\\', port=5000): Max retries exceeded with url: /api/2.0/mlflow/runs/log-batch (Caused by ResponseError(\\'too many 500 error responses\\'))\")]')]\n"
     ]
    },
    {
     "name": "stdout",
     "output_type": "stream",
     "text": [
      "Training AUC is: 0.770815                                                                                              \n",
      "Test AUC is: 0.496978                                                                                                  \n",
      "Training accuracy is: 0.770833                                                                                         \n",
      "Test accuracy is: 0.496667                                                                                             \n",
      "[14:47:58] WARNING: D:\\bld\\xgboost-split_1637426510059\\work\\src\\learner.cc:1115: Starting in XGBoost 1.3.0, the default evaluation metric used with the objective 'binary:logistic' was changed from 'error' to 'logloss'. Explicitly set eval_metric if you'd like to restore the old behavior.\n",
      "  8%|███▌                                         | 8/100 [07:56<1:39:34, 64.95s/trial, best loss: -0.5366666666666666]"
     ]
    },
    {
     "name": "stderr",
     "output_type": "stream",
     "text": [
      "C:\\Users\\Ayush\\Anaconda3\\lib\\site-packages\\xgboost\\sklearn.py:1224: UserWarning: The use of label encoder in XGBClassifier is deprecated and will be removed in a future release. To remove this warning, do the following: 1) Pass option use_label_encoder=False when constructing XGBClassifier object; and 2) Encode your labels (y) as integers starting with 0, i.e. 0, 1, 2, ..., [num_class - 1].\n",
      "  warnings.warn(label_encoder_deprecation_msg, UserWarning)\n",
      "\n",
      "2023/05/06 14:48:58 WARNING mlflow.utils.autologging_utils: Encountered unexpected error during xgboost autologging: The following failures occurred while performing one or more logging operations: [MlflowException('Failed to perform one or more operations on the run with ID 598aca6afcea493582375404530c40da. Failed operations: [MlflowException(\"API request to http://localhost:5000/api/2.0/mlflow/runs/log-batch failed with exception HTTPConnectionPool(host=\\'localhost\\', port=5000): Max retries exceeded with url: /api/2.0/mlflow/runs/log-batch (Caused by ResponseError(\\'too many 500 error responses\\'))\")]')]\n"
     ]
    },
    {
     "name": "stdout",
     "output_type": "stream",
     "text": [
      "Training AUC is: 1.000000                                                                                              \n",
      "Test AUC is: 0.479866                                                                                                  \n",
      "Training accuracy is: 1.000000                                                                                         \n",
      "Test accuracy is: 0.480000                                                                                             \n",
      "[14:49:03] WARNING: D:\\bld\\xgboost-split_1637426510059\\work\\src\\learner.cc:1115: Starting in XGBoost 1.3.0, the default evaluation metric used with the objective 'binary:logistic' was changed from 'error' to 'logloss'. Explicitly set eval_metric if you'd like to restore the old behavior.\n",
      "  9%|████                                         | 9/100 [09:02<1:38:45, 65.11s/trial, best loss: -0.5366666666666666]"
     ]
    },
    {
     "name": "stderr",
     "output_type": "stream",
     "text": [
      "C:\\Users\\Ayush\\Anaconda3\\lib\\site-packages\\xgboost\\sklearn.py:1224: UserWarning: The use of label encoder in XGBClassifier is deprecated and will be removed in a future release. To remove this warning, do the following: 1) Pass option use_label_encoder=False when constructing XGBClassifier object; and 2) Encode your labels (y) as integers starting with 0, i.e. 0, 1, 2, ..., [num_class - 1].\n",
      "  warnings.warn(label_encoder_deprecation_msg, UserWarning)\n",
      "\n",
      "2023/05/06 14:50:03 WARNING mlflow.utils.autologging_utils: Encountered unexpected error during xgboost autologging: The following failures occurred while performing one or more logging operations: [MlflowException('Failed to perform one or more operations on the run with ID 598aca6afcea493582375404530c40da. Failed operations: [MlflowException(\"API request to http://localhost:5000/api/2.0/mlflow/runs/log-batch failed with exception HTTPConnectionPool(host=\\'localhost\\', port=5000): Max retries exceeded with url: /api/2.0/mlflow/runs/log-batch (Caused by ResponseError(\\'too many 500 error responses\\'))\")]')]\n"
     ]
    },
    {
     "name": "stdout",
     "output_type": "stream",
     "text": [
      "Training AUC is: 1.000000                                                                                              \n",
      "Test AUC is: 0.501545                                                                                                  \n",
      "Training accuracy is: 1.000000                                                                                         \n",
      "Test accuracy is: 0.501667                                                                                             \n",
      "[14:50:09] WARNING: D:\\bld\\xgboost-split_1637426510059\\work\\src\\learner.cc:1115: Starting in XGBoost 1.3.0, the default evaluation metric used with the objective 'binary:logistic' was changed from 'error' to 'logloss'. Explicitly set eval_metric if you'd like to restore the old behavior.\n",
      " 10%|████▍                                       | 10/100 [10:08<1:37:54, 65.27s/trial, best loss: -0.5366666666666666]"
     ]
    },
    {
     "name": "stderr",
     "output_type": "stream",
     "text": [
      "C:\\Users\\Ayush\\Anaconda3\\lib\\site-packages\\xgboost\\sklearn.py:1224: UserWarning: The use of label encoder in XGBClassifier is deprecated and will be removed in a future release. To remove this warning, do the following: 1) Pass option use_label_encoder=False when constructing XGBClassifier object; and 2) Encode your labels (y) as integers starting with 0, i.e. 0, 1, 2, ..., [num_class - 1].\n",
      "  warnings.warn(label_encoder_deprecation_msg, UserWarning)\n",
      "\n",
      "2023/05/06 14:51:09 WARNING mlflow.utils.autologging_utils: Encountered unexpected error during xgboost autologging: The following failures occurred while performing one or more logging operations: [MlflowException('Failed to perform one or more operations on the run with ID 598aca6afcea493582375404530c40da. Failed operations: [MlflowException(\"API request to http://localhost:5000/api/2.0/mlflow/runs/log-batch failed with exception HTTPConnectionPool(host=\\'localhost\\', port=5000): Max retries exceeded with url: /api/2.0/mlflow/runs/log-batch (Caused by ResponseError(\\'too many 500 error responses\\'))\")]')]\n"
     ]
    },
    {
     "name": "stdout",
     "output_type": "stream",
     "text": [
      "Training AUC is: 1.000000                                                                                              \n",
      "Test AUC is: 0.521879                                                                                                  \n",
      "Training accuracy is: 1.000000                                                                                         \n",
      "Test accuracy is: 0.521667                                                                                             \n",
      "[14:51:14] WARNING: D:\\bld\\xgboost-split_1637426510059\\work\\src\\learner.cc:1115: Starting in XGBoost 1.3.0, the default evaluation metric used with the objective 'binary:logistic' was changed from 'error' to 'logloss'. Explicitly set eval_metric if you'd like to restore the old behavior.\n",
      " 11%|████▊                                       | 11/100 [11:13<1:36:57, 65.36s/trial, best loss: -0.5366666666666666]"
     ]
    },
    {
     "name": "stderr",
     "output_type": "stream",
     "text": [
      "C:\\Users\\Ayush\\Anaconda3\\lib\\site-packages\\xgboost\\sklearn.py:1224: UserWarning: The use of label encoder in XGBClassifier is deprecated and will be removed in a future release. To remove this warning, do the following: 1) Pass option use_label_encoder=False when constructing XGBClassifier object; and 2) Encode your labels (y) as integers starting with 0, i.e. 0, 1, 2, ..., [num_class - 1].\n",
      "  warnings.warn(label_encoder_deprecation_msg, UserWarning)\n",
      "\n",
      "2023/05/06 14:52:14 WARNING mlflow.utils.autologging_utils: Encountered unexpected error during xgboost autologging: The following failures occurred while performing one or more logging operations: [MlflowException('Failed to perform one or more operations on the run with ID 598aca6afcea493582375404530c40da. Failed operations: [MlflowException(\"API request to http://localhost:5000/api/2.0/mlflow/runs/log-batch failed with exception HTTPConnectionPool(host=\\'localhost\\', port=5000): Max retries exceeded with url: /api/2.0/mlflow/runs/log-batch (Caused by ResponseError(\\'too many 500 error responses\\'))\")]')]\n"
     ]
    },
    {
     "name": "stdout",
     "output_type": "stream",
     "text": [
      "Training AUC is: 0.911270                                                                                              \n",
      "Test AUC is: 0.500089                                                                                                  \n",
      "Training accuracy is: 0.911250                                                                                         \n",
      "Test accuracy is: 0.500000                                                                                             \n",
      "[14:52:20] WARNING: D:\\bld\\xgboost-split_1637426510059\\work\\src\\learner.cc:1115: Starting in XGBoost 1.3.0, the default evaluation metric used with the objective 'binary:logistic' was changed from 'error' to 'logloss'. Explicitly set eval_metric if you'd like to restore the old behavior.\n",
      " 12%|█████▎                                      | 12/100 [12:19<1:35:56, 65.41s/trial, best loss: -0.5366666666666666]"
     ]
    },
    {
     "name": "stderr",
     "output_type": "stream",
     "text": [
      "C:\\Users\\Ayush\\Anaconda3\\lib\\site-packages\\xgboost\\sklearn.py:1224: UserWarning: The use of label encoder in XGBClassifier is deprecated and will be removed in a future release. To remove this warning, do the following: 1) Pass option use_label_encoder=False when constructing XGBClassifier object; and 2) Encode your labels (y) as integers starting with 0, i.e. 0, 1, 2, ..., [num_class - 1].\n",
      "  warnings.warn(label_encoder_deprecation_msg, UserWarning)\n",
      "\n",
      "2023/05/06 14:53:20 WARNING mlflow.utils.autologging_utils: Encountered unexpected error during xgboost autologging: The following failures occurred while performing one or more logging operations: [MlflowException('Failed to perform one or more operations on the run with ID 598aca6afcea493582375404530c40da. Failed operations: [MlflowException(\"API request to http://localhost:5000/api/2.0/mlflow/runs/log-batch failed with exception HTTPConnectionPool(host=\\'localhost\\', port=5000): Max retries exceeded with url: /api/2.0/mlflow/runs/log-batch (Caused by ResponseError(\\'too many 500 error responses\\'))\")]')]\n"
     ]
    },
    {
     "name": "stdout",
     "output_type": "stream",
     "text": [
      "Training AUC is: 1.000000                                                                                              \n",
      "Test AUC is: 0.461832                                                                                                  \n",
      "Training accuracy is: 1.000000                                                                                         \n",
      "Test accuracy is: 0.461667                                                                                             \n",
      "[14:53:25] WARNING: D:\\bld\\xgboost-split_1637426510059\\work\\src\\learner.cc:1115: Starting in XGBoost 1.3.0, the default evaluation metric used with the objective 'binary:logistic' was changed from 'error' to 'logloss'. Explicitly set eval_metric if you'd like to restore the old behavior.\n",
      " 13%|█████▋                                      | 13/100 [13:24<1:34:51, 65.42s/trial, best loss: -0.5366666666666666]"
     ]
    },
    {
     "name": "stderr",
     "output_type": "stream",
     "text": [
      "C:\\Users\\Ayush\\Anaconda3\\lib\\site-packages\\xgboost\\sklearn.py:1224: UserWarning: The use of label encoder in XGBClassifier is deprecated and will be removed in a future release. To remove this warning, do the following: 1) Pass option use_label_encoder=False when constructing XGBClassifier object; and 2) Encode your labels (y) as integers starting with 0, i.e. 0, 1, 2, ..., [num_class - 1].\n",
      "  warnings.warn(label_encoder_deprecation_msg, UserWarning)\n",
      "\n",
      "2023/05/06 14:54:25 WARNING mlflow.utils.autologging_utils: Encountered unexpected error during xgboost autologging: The following failures occurred while performing one or more logging operations: [MlflowException('Failed to perform one or more operations on the run with ID 598aca6afcea493582375404530c40da. Failed operations: [MlflowException(\"API request to http://localhost:5000/api/2.0/mlflow/runs/log-batch failed with exception HTTPConnectionPool(host=\\'localhost\\', port=5000): Max retries exceeded with url: /api/2.0/mlflow/runs/log-batch (Caused by ResponseError(\\'too many 500 error responses\\'))\")]')]\n"
     ]
    },
    {
     "name": "stdout",
     "output_type": "stream",
     "text": [
      "Training AUC is: 1.000000                                                                                              \n",
      "Test AUC is: 0.515256                                                                                                  \n",
      "Training accuracy is: 1.000000                                                                                         \n",
      "Test accuracy is: 0.515000                                                                                             \n",
      "[14:54:31] WARNING: D:\\bld\\xgboost-split_1637426510059\\work\\src\\learner.cc:1115: Starting in XGBoost 1.3.0, the default evaluation metric used with the objective 'binary:logistic' was changed from 'error' to 'logloss'. Explicitly set eval_metric if you'd like to restore the old behavior.\n",
      " 14%|██████▏                                     | 14/100 [14:30<1:33:51, 65.49s/trial, best loss: -0.5366666666666666]"
     ]
    },
    {
     "name": "stderr",
     "output_type": "stream",
     "text": [
      "C:\\Users\\Ayush\\Anaconda3\\lib\\site-packages\\xgboost\\sklearn.py:1224: UserWarning: The use of label encoder in XGBClassifier is deprecated and will be removed in a future release. To remove this warning, do the following: 1) Pass option use_label_encoder=False when constructing XGBClassifier object; and 2) Encode your labels (y) as integers starting with 0, i.e. 0, 1, 2, ..., [num_class - 1].\n",
      "  warnings.warn(label_encoder_deprecation_msg, UserWarning)\n",
      "\n",
      "2023/05/06 14:55:31 WARNING mlflow.utils.autologging_utils: Encountered unexpected error during xgboost autologging: The following failures occurred while performing one or more logging operations: [MlflowException('Failed to perform one or more operations on the run with ID 598aca6afcea493582375404530c40da. Failed operations: [MlflowException(\"API request to http://localhost:5000/api/2.0/mlflow/runs/log-batch failed with exception HTTPConnectionPool(host=\\'localhost\\', port=5000): Max retries exceeded with url: /api/2.0/mlflow/runs/log-batch (Caused by ResponseError(\\'too many 500 error responses\\'))\")]')]\n"
     ]
    },
    {
     "name": "stdout",
     "output_type": "stream",
     "text": [
      "Training AUC is: 0.997088                                                                                              \n",
      "Test AUC is: 0.516690                                                                                                  \n",
      "Training accuracy is: 0.997083                                                                                         \n",
      "Test accuracy is: 0.516667                                                                                             \n",
      "[14:55:36] WARNING: D:\\bld\\xgboost-split_1637426510059\\work\\src\\learner.cc:1115: Starting in XGBoost 1.3.0, the default evaluation metric used with the objective 'binary:logistic' was changed from 'error' to 'logloss'. Explicitly set eval_metric if you'd like to restore the old behavior.\n",
      " 15%|██████▌                                     | 15/100 [15:35<1:32:48, 65.51s/trial, best loss: -0.5366666666666666]"
     ]
    },
    {
     "name": "stderr",
     "output_type": "stream",
     "text": [
      "C:\\Users\\Ayush\\Anaconda3\\lib\\site-packages\\xgboost\\sklearn.py:1224: UserWarning: The use of label encoder in XGBClassifier is deprecated and will be removed in a future release. To remove this warning, do the following: 1) Pass option use_label_encoder=False when constructing XGBClassifier object; and 2) Encode your labels (y) as integers starting with 0, i.e. 0, 1, 2, ..., [num_class - 1].\n",
      "  warnings.warn(label_encoder_deprecation_msg, UserWarning)\n",
      "\n",
      "2023/05/06 14:56:37 WARNING mlflow.utils.autologging_utils: Encountered unexpected error during xgboost autologging: The following failures occurred while performing one or more logging operations: [MlflowException('Failed to perform one or more operations on the run with ID 598aca6afcea493582375404530c40da. Failed operations: [MlflowException(\"API request to http://localhost:5000/api/2.0/mlflow/runs/log-batch failed with exception HTTPConnectionPool(host=\\'localhost\\', port=5000): Max retries exceeded with url: /api/2.0/mlflow/runs/log-batch (Caused by ResponseError(\\'too many 500 error responses\\'))\")]')]\n"
     ]
    },
    {
     "name": "stdout",
     "output_type": "stream",
     "text": [
      "Training AUC is: 1.000000                                                                                              \n",
      "Test AUC is: 0.503245                                                                                                  \n",
      "Training accuracy is: 1.000000                                                                                         \n",
      "Test accuracy is: 0.503333                                                                                             \n",
      "[14:56:42] WARNING: D:\\bld\\xgboost-split_1637426510059\\work\\src\\learner.cc:1115: Starting in XGBoost 1.3.0, the default evaluation metric used with the objective 'binary:logistic' was changed from 'error' to 'logloss'. Explicitly set eval_metric if you'd like to restore the old behavior.\n",
      " 16%|███████                                     | 16/100 [16:41<1:31:41, 65.50s/trial, best loss: -0.5366666666666666]"
     ]
    },
    {
     "name": "stderr",
     "output_type": "stream",
     "text": [
      "C:\\Users\\Ayush\\Anaconda3\\lib\\site-packages\\xgboost\\sklearn.py:1224: UserWarning: The use of label encoder in XGBClassifier is deprecated and will be removed in a future release. To remove this warning, do the following: 1) Pass option use_label_encoder=False when constructing XGBClassifier object; and 2) Encode your labels (y) as integers starting with 0, i.e. 0, 1, 2, ..., [num_class - 1].\n",
      "  warnings.warn(label_encoder_deprecation_msg, UserWarning)\n",
      "\n",
      "2023/05/06 14:57:42 WARNING mlflow.utils.autologging_utils: Encountered unexpected error during xgboost autologging: The following failures occurred while performing one or more logging operations: [MlflowException('Failed to perform one or more operations on the run with ID 598aca6afcea493582375404530c40da. Failed operations: [MlflowException(\"API request to http://localhost:5000/api/2.0/mlflow/runs/log-batch failed with exception HTTPConnectionPool(host=\\'localhost\\', port=5000): Max retries exceeded with url: /api/2.0/mlflow/runs/log-batch (Caused by ResponseError(\\'too many 500 error responses\\'))\")]')]\n"
     ]
    },
    {
     "name": "stdout",
     "output_type": "stream",
     "text": [
      "Training AUC is: 0.999583                                                                                              \n",
      "Test AUC is: 0.525079                                                                                                  \n",
      "Training accuracy is: 0.999583                                                                                         \n",
      "Test accuracy is: 0.525000                                                                                             \n",
      "[14:57:47] WARNING: D:\\bld\\xgboost-split_1637426510059\\work\\src\\learner.cc:1115: Starting in XGBoost 1.3.0, the default evaluation metric used with the objective 'binary:logistic' was changed from 'error' to 'logloss'. Explicitly set eval_metric if you'd like to restore the old behavior.\n",
      " 17%|███████▍                                    | 17/100 [17:46<1:30:35, 65.49s/trial, best loss: -0.5366666666666666]"
     ]
    },
    {
     "name": "stderr",
     "output_type": "stream",
     "text": [
      "C:\\Users\\Ayush\\Anaconda3\\lib\\site-packages\\xgboost\\sklearn.py:1224: UserWarning: The use of label encoder in XGBClassifier is deprecated and will be removed in a future release. To remove this warning, do the following: 1) Pass option use_label_encoder=False when constructing XGBClassifier object; and 2) Encode your labels (y) as integers starting with 0, i.e. 0, 1, 2, ..., [num_class - 1].\n",
      "  warnings.warn(label_encoder_deprecation_msg, UserWarning)\n",
      "\n",
      "2023/05/06 14:58:48 WARNING mlflow.utils.autologging_utils: Encountered unexpected error during xgboost autologging: The following failures occurred while performing one or more logging operations: [MlflowException('Failed to perform one or more operations on the run with ID 598aca6afcea493582375404530c40da. Failed operations: [MlflowException(\"API request to http://localhost:5000/api/2.0/mlflow/runs/log-batch failed with exception HTTPConnectionPool(host=\\'localhost\\', port=5000): Max retries exceeded with url: /api/2.0/mlflow/runs/log-batch (Caused by ResponseError(\\'too many 500 error responses\\'))\")]')]\n"
     ]
    },
    {
     "name": "stdout",
     "output_type": "stream",
     "text": [
      "Training AUC is: 1.000000                                                                                              \n",
      "Test AUC is: 0.528301                                                                                                  \n",
      "Training accuracy is: 1.000000                                                                                         \n",
      "Test accuracy is: 0.528333                                                                                             \n",
      "[14:58:53] WARNING: D:\\bld\\xgboost-split_1637426510059\\work\\src\\learner.cc:1115: Starting in XGBoost 1.3.0, the default evaluation metric used with the objective 'binary:logistic' was changed from 'error' to 'logloss'. Explicitly set eval_metric if you'd like to restore the old behavior.\n",
      " 18%|███████▉                                    | 18/100 [18:52<1:29:25, 65.43s/trial, best loss: -0.5366666666666666]"
     ]
    },
    {
     "name": "stderr",
     "output_type": "stream",
     "text": [
      "C:\\Users\\Ayush\\Anaconda3\\lib\\site-packages\\xgboost\\sklearn.py:1224: UserWarning: The use of label encoder in XGBClassifier is deprecated and will be removed in a future release. To remove this warning, do the following: 1) Pass option use_label_encoder=False when constructing XGBClassifier object; and 2) Encode your labels (y) as integers starting with 0, i.e. 0, 1, 2, ..., [num_class - 1].\n",
      "  warnings.warn(label_encoder_deprecation_msg, UserWarning)\n",
      "\n",
      "2023/05/06 14:59:53 WARNING mlflow.utils.autologging_utils: Encountered unexpected error during xgboost autologging: The following failures occurred while performing one or more logging operations: [MlflowException('Failed to perform one or more operations on the run with ID 598aca6afcea493582375404530c40da. Failed operations: [MlflowException(\"API request to http://localhost:5000/api/2.0/mlflow/runs/log-batch failed with exception HTTPConnectionPool(host=\\'localhost\\', port=5000): Max retries exceeded with url: /api/2.0/mlflow/runs/log-batch (Caused by ResponseError(\\'too many 500 error responses\\'))\")]')]\n"
     ]
    },
    {
     "name": "stdout",
     "output_type": "stream",
     "text": [
      "Training AUC is: 1.000000                                                                                              \n",
      "Test AUC is: 0.510045                                                                                                  \n",
      "Training accuracy is: 1.000000                                                                                         \n",
      "Test accuracy is: 0.510000                                                                                             \n",
      "[14:59:58] WARNING: D:\\bld\\xgboost-split_1637426510059\\work\\src\\learner.cc:1115: Starting in XGBoost 1.3.0, the default evaluation metric used with the objective 'binary:logistic' was changed from 'error' to 'logloss'. Explicitly set eval_metric if you'd like to restore the old behavior.\n",
      " 19%|████████▎                                   | 19/100 [19:57<1:28:18, 65.41s/trial, best loss: -0.5366666666666666]"
     ]
    },
    {
     "name": "stderr",
     "output_type": "stream",
     "text": [
      "C:\\Users\\Ayush\\Anaconda3\\lib\\site-packages\\xgboost\\sklearn.py:1224: UserWarning: The use of label encoder in XGBClassifier is deprecated and will be removed in a future release. To remove this warning, do the following: 1) Pass option use_label_encoder=False when constructing XGBClassifier object; and 2) Encode your labels (y) as integers starting with 0, i.e. 0, 1, 2, ..., [num_class - 1].\n",
      "  warnings.warn(label_encoder_deprecation_msg, UserWarning)\n",
      "\n",
      "2023/05/06 15:00:58 WARNING mlflow.utils.autologging_utils: Encountered unexpected error during xgboost autologging: The following failures occurred while performing one or more logging operations: [MlflowException('Failed to perform one or more operations on the run with ID 598aca6afcea493582375404530c40da. Failed operations: [MlflowException(\"API request to http://localhost:5000/api/2.0/mlflow/runs/log-batch failed with exception HTTPConnectionPool(host=\\'localhost\\', port=5000): Max retries exceeded with url: /api/2.0/mlflow/runs/log-batch (Caused by ResponseError(\\'too many 500 error responses\\'))\")]')]\n"
     ]
    },
    {
     "name": "stdout",
     "output_type": "stream",
     "text": [
      "Training AUC is: 1.000000                                                                                              \n",
      "Test AUC is: 0.486555                                                                                                  \n",
      "Training accuracy is: 1.000000                                                                                         \n",
      "Test accuracy is: 0.486667                                                                                             \n",
      "[15:01:04] WARNING: D:\\bld\\xgboost-split_1637426510059\\work\\src\\learner.cc:1115: Starting in XGBoost 1.3.0, the default evaluation metric used with the objective 'binary:logistic' was changed from 'error' to 'logloss'. Explicitly set eval_metric if you'd like to restore the old behavior.\n",
      " 20%|████████▊                                   | 20/100 [21:03<1:27:19, 65.49s/trial, best loss: -0.5366666666666666]"
     ]
    },
    {
     "name": "stderr",
     "output_type": "stream",
     "text": [
      "C:\\Users\\Ayush\\Anaconda3\\lib\\site-packages\\xgboost\\sklearn.py:1224: UserWarning: The use of label encoder in XGBClassifier is deprecated and will be removed in a future release. To remove this warning, do the following: 1) Pass option use_label_encoder=False when constructing XGBClassifier object; and 2) Encode your labels (y) as integers starting with 0, i.e. 0, 1, 2, ..., [num_class - 1].\n",
      "  warnings.warn(label_encoder_deprecation_msg, UserWarning)\n",
      "\n",
      "2023/05/06 15:02:04 WARNING mlflow.utils.autologging_utils: Encountered unexpected error during xgboost autologging: The following failures occurred while performing one or more logging operations: [MlflowException('Failed to perform one or more operations on the run with ID 598aca6afcea493582375404530c40da. Failed operations: [MlflowException(\"API request to http://localhost:5000/api/2.0/mlflow/runs/log-batch failed with exception HTTPConnectionPool(host=\\'localhost\\', port=5000): Max retries exceeded with url: /api/2.0/mlflow/runs/log-batch (Caused by ResponseError(\\'too many 500 error responses\\'))\")]')]\n"
     ]
    },
    {
     "name": "stdout",
     "output_type": "stream",
     "text": [
      "Training AUC is: 1.000000                                                                                              \n",
      "Test AUC is: 0.541746                                                                                                  \n",
      "Training accuracy is: 1.000000                                                                                         \n",
      "Test accuracy is: 0.541667                                                                                             \n",
      "[15:02:09] WARNING: D:\\bld\\xgboost-split_1637426510059\\work\\src\\learner.cc:1115: Starting in XGBoost 1.3.0, the default evaluation metric used with the objective 'binary:logistic' was changed from 'error' to 'logloss'. Explicitly set eval_metric if you'd like to restore the old behavior.\n",
      " 21%|█████████▏                                  | 21/100 [22:08<1:26:19, 65.56s/trial, best loss: -0.5416666666666666]"
     ]
    },
    {
     "name": "stderr",
     "output_type": "stream",
     "text": [
      "C:\\Users\\Ayush\\Anaconda3\\lib\\site-packages\\xgboost\\sklearn.py:1224: UserWarning: The use of label encoder in XGBClassifier is deprecated and will be removed in a future release. To remove this warning, do the following: 1) Pass option use_label_encoder=False when constructing XGBClassifier object; and 2) Encode your labels (y) as integers starting with 0, i.e. 0, 1, 2, ..., [num_class - 1].\n",
      "  warnings.warn(label_encoder_deprecation_msg, UserWarning)\n",
      "\n",
      "2023/05/06 15:03:10 WARNING mlflow.utils.autologging_utils: Encountered unexpected error during xgboost autologging: The following failures occurred while performing one or more logging operations: [MlflowException('Failed to perform one or more operations on the run with ID 598aca6afcea493582375404530c40da. Failed operations: [MlflowException(\"API request to http://localhost:5000/api/2.0/mlflow/runs/log-batch failed with exception HTTPConnectionPool(host=\\'localhost\\', port=5000): Max retries exceeded with url: /api/2.0/mlflow/runs/log-batch (Caused by ResponseError(\\'too many 500 error responses\\'))\")]')]\n"
     ]
    },
    {
     "name": "stdout",
     "output_type": "stream",
     "text": [
      "Training AUC is: 1.000000                                                                                              \n",
      "Test AUC is: 0.508345                                                                                                  \n",
      "Training accuracy is: 1.000000                                                                                         \n",
      "Test accuracy is: 0.508333                                                                                             \n",
      " 22%|█████████▋                                  | 22/100 [23:14<1:25:13, 65.56s/trial, best loss: -0.5416666666666666]"
     ]
    },
    {
     "name": "stderr",
     "output_type": "stream",
     "text": [
      "C:\\Users\\Ayush\\Anaconda3\\lib\\site-packages\\xgboost\\sklearn.py:1224: UserWarning: The use of label encoder in XGBClassifier is deprecated and will be removed in a future release. To remove this warning, do the following: 1) Pass option use_label_encoder=False when constructing XGBClassifier object; and 2) Encode your labels (y) as integers starting with 0, i.e. 0, 1, 2, ..., [num_class - 1].\n",
      "  warnings.warn(label_encoder_deprecation_msg, UserWarning)\n",
      "\n",
      "2023/05/06 15:03:15 ERROR mlflow.xgboost: Failed to log feature importance plot. XGBoost autologging will ignore the failure and continue. Exception: \n",
      "Traceback (most recent call last):\n",
      "  File \"C:\\Users\\Ayush\\Anaconda3\\lib\\site-packages\\mlflow\\xgboost\\__init__.py\", line 636, in train\n",
      "    features, importance = zip(*imp.items())\n",
      "ValueError: not enough values to unpack (expected 2, got 0)\n",
      "2023/05/06 15:04:15 WARNING mlflow.utils.autologging_utils: Encountered unexpected error during xgboost autologging: The following failures occurred while performing one or more logging operations: [MlflowException('Failed to perform one or more operations on the run with ID 598aca6afcea493582375404530c40da. Failed operations: [MlflowException(\"API request to http://localhost:5000/api/2.0/mlflow/runs/log-batch failed with exception HTTPConnectionPool(host=\\'localhost\\', port=5000): Max retries exceeded with url: /api/2.0/mlflow/runs/log-batch (Caused by ResponseError(\\'too many 500 error responses\\'))\")]')]\n"
     ]
    },
    {
     "name": "stdout",
     "output_type": "stream",
     "text": [
      "Training AUC is: 0.500000                                                                                              \n",
      "Test AUC is: 0.500000                                                                                                  \n",
      "Training accuracy is: 0.499167                                                                                         \n",
      "Test accuracy is: 0.503333                                                                                             \n",
      "[15:04:20] WARNING: D:\\bld\\xgboost-split_1637426510059\\work\\src\\learner.cc:1115: Starting in XGBoost 1.3.0, the default evaluation metric used with the objective 'binary:logistic' was changed from 'error' to 'logloss'. Explicitly set eval_metric if you'd like to restore the old behavior.\n",
      " 23%|██████████                                  | 23/100 [24:19<1:24:05, 65.52s/trial, best loss: -0.5416666666666666]"
     ]
    },
    {
     "name": "stderr",
     "output_type": "stream",
     "text": [
      "C:\\Users\\Ayush\\Anaconda3\\lib\\site-packages\\xgboost\\sklearn.py:1224: UserWarning: The use of label encoder in XGBClassifier is deprecated and will be removed in a future release. To remove this warning, do the following: 1) Pass option use_label_encoder=False when constructing XGBClassifier object; and 2) Encode your labels (y) as integers starting with 0, i.e. 0, 1, 2, ..., [num_class - 1].\n",
      "  warnings.warn(label_encoder_deprecation_msg, UserWarning)\n",
      "\n",
      "2023/05/06 15:05:21 WARNING mlflow.utils.autologging_utils: Encountered unexpected error during xgboost autologging: The following failures occurred while performing one or more logging operations: [MlflowException('Failed to perform one or more operations on the run with ID 598aca6afcea493582375404530c40da. Failed operations: [MlflowException(\"API request to http://localhost:5000/api/2.0/mlflow/runs/log-batch failed with exception HTTPConnectionPool(host=\\'localhost\\', port=5000): Max retries exceeded with url: /api/2.0/mlflow/runs/log-batch (Caused by ResponseError(\\'too many 500 error responses\\'))\")]')]\n"
     ]
    },
    {
     "name": "stdout",
     "output_type": "stream",
     "text": [
      "Training AUC is: 1.000000                                                                                              \n",
      "Test AUC is: 0.498278                                                                                                  \n",
      "Training accuracy is: 1.000000                                                                                         \n",
      "Test accuracy is: 0.498333                                                                                             \n",
      "[15:05:26] WARNING: D:\\bld\\xgboost-split_1637426510059\\work\\src\\learner.cc:1115: Starting in XGBoost 1.3.0, the default evaluation metric used with the objective 'binary:logistic' was changed from 'error' to 'logloss'. Explicitly set eval_metric if you'd like to restore the old behavior.\n",
      " 24%|██████████▌                                 | 24/100 [25:25<1:22:59, 65.52s/trial, best loss: -0.5416666666666666]"
     ]
    },
    {
     "name": "stderr",
     "output_type": "stream",
     "text": [
      "C:\\Users\\Ayush\\Anaconda3\\lib\\site-packages\\xgboost\\sklearn.py:1224: UserWarning: The use of label encoder in XGBClassifier is deprecated and will be removed in a future release. To remove this warning, do the following: 1) Pass option use_label_encoder=False when constructing XGBClassifier object; and 2) Encode your labels (y) as integers starting with 0, i.e. 0, 1, 2, ..., [num_class - 1].\n",
      "  warnings.warn(label_encoder_deprecation_msg, UserWarning)\n",
      "\n",
      "2023/05/06 15:06:26 WARNING mlflow.utils.autologging_utils: Encountered unexpected error during xgboost autologging: The following failures occurred while performing one or more logging operations: [MlflowException('Failed to perform one or more operations on the run with ID 598aca6afcea493582375404530c40da. Failed operations: [MlflowException(\"API request to http://localhost:5000/api/2.0/mlflow/runs/log-batch failed with exception HTTPConnectionPool(host=\\'localhost\\', port=5000): Max retries exceeded with url: /api/2.0/mlflow/runs/log-batch (Caused by ResponseError(\\'too many 500 error responses\\'))\")]')]\n"
     ]
    },
    {
     "name": "stdout",
     "output_type": "stream",
     "text": [
      "Training AUC is: 1.000000                                                                                              \n",
      "Test AUC is: 0.498322                                                                                                  \n",
      "Training accuracy is: 1.000000                                                                                         \n",
      "Test accuracy is: 0.498333                                                                                             \n",
      "[15:06:32] WARNING: D:\\bld\\xgboost-split_1637426510059\\work\\src\\learner.cc:1115: Starting in XGBoost 1.3.0, the default evaluation metric used with the objective 'binary:logistic' was changed from 'error' to 'logloss'. Explicitly set eval_metric if you'd like to restore the old behavior.\n",
      " 25%|███████████                                 | 25/100 [26:31<1:22:02, 65.63s/trial, best loss: -0.5416666666666666]"
     ]
    },
    {
     "name": "stderr",
     "output_type": "stream",
     "text": [
      "C:\\Users\\Ayush\\Anaconda3\\lib\\site-packages\\xgboost\\sklearn.py:1224: UserWarning: The use of label encoder in XGBClassifier is deprecated and will be removed in a future release. To remove this warning, do the following: 1) Pass option use_label_encoder=False when constructing XGBClassifier object; and 2) Encode your labels (y) as integers starting with 0, i.e. 0, 1, 2, ..., [num_class - 1].\n",
      "  warnings.warn(label_encoder_deprecation_msg, UserWarning)\n",
      "\n",
      "2023/05/06 15:07:32 WARNING mlflow.utils.autologging_utils: Encountered unexpected error during xgboost autologging: The following failures occurred while performing one or more logging operations: [MlflowException('Failed to perform one or more operations on the run with ID 598aca6afcea493582375404530c40da. Failed operations: [MlflowException(\"API request to http://localhost:5000/api/2.0/mlflow/runs/log-batch failed with exception HTTPConnectionPool(host=\\'localhost\\', port=5000): Max retries exceeded with url: /api/2.0/mlflow/runs/log-batch (Caused by ResponseError(\\'too many 500 error responses\\'))\")]')]\n"
     ]
    },
    {
     "name": "stdout",
     "output_type": "stream",
     "text": [
      "Training AUC is: 0.997500                                                                                              \n",
      "Test AUC is: 0.521634                                                                                                  \n",
      "Training accuracy is: 0.997500                                                                                         \n",
      "Test accuracy is: 0.521667                                                                                             \n",
      "[15:07:37] WARNING: D:\\bld\\xgboost-split_1637426510059\\work\\src\\learner.cc:1115: Starting in XGBoost 1.3.0, the default evaluation metric used with the objective 'binary:logistic' was changed from 'error' to 'logloss'. Explicitly set eval_metric if you'd like to restore the old behavior.\n",
      " 26%|███████████▍                                | 26/100 [27:36<1:20:54, 65.60s/trial, best loss: -0.5416666666666666]"
     ]
    },
    {
     "name": "stderr",
     "output_type": "stream",
     "text": [
      "C:\\Users\\Ayush\\Anaconda3\\lib\\site-packages\\xgboost\\sklearn.py:1224: UserWarning: The use of label encoder in XGBClassifier is deprecated and will be removed in a future release. To remove this warning, do the following: 1) Pass option use_label_encoder=False when constructing XGBClassifier object; and 2) Encode your labels (y) as integers starting with 0, i.e. 0, 1, 2, ..., [num_class - 1].\n",
      "  warnings.warn(label_encoder_deprecation_msg, UserWarning)\n",
      "\n",
      "2023/05/06 15:08:38 WARNING mlflow.utils.autologging_utils: Encountered unexpected error during xgboost autologging: The following failures occurred while performing one or more logging operations: [MlflowException('Failed to perform one or more operations on the run with ID 598aca6afcea493582375404530c40da. Failed operations: [MlflowException(\"API request to http://localhost:5000/api/2.0/mlflow/runs/log-batch failed with exception HTTPConnectionPool(host=\\'localhost\\', port=5000): Max retries exceeded with url: /api/2.0/mlflow/runs/log-batch (Caused by ResponseError(\\'too many 500 error responses\\'))\")]')]\n"
     ]
    },
    {
     "name": "stdout",
     "output_type": "stream",
     "text": [
      "Training AUC is: 1.000000                                                                                              \n",
      "Test AUC is: 0.495011                                                                                                  \n",
      "Training accuracy is: 1.000000                                                                                         \n",
      "Test accuracy is: 0.495000                                                                                             \n",
      "[15:08:43] WARNING: D:\\bld\\xgboost-split_1637426510059\\work\\src\\learner.cc:1115: Starting in XGBoost 1.3.0, the default evaluation metric used with the objective 'binary:logistic' was changed from 'error' to 'logloss'. Explicitly set eval_metric if you'd like to restore the old behavior.\n",
      " 27%|███████████▉                                | 27/100 [28:42<1:19:45, 65.56s/trial, best loss: -0.5416666666666666]"
     ]
    },
    {
     "name": "stderr",
     "output_type": "stream",
     "text": [
      "C:\\Users\\Ayush\\Anaconda3\\lib\\site-packages\\xgboost\\sklearn.py:1224: UserWarning: The use of label encoder in XGBClassifier is deprecated and will be removed in a future release. To remove this warning, do the following: 1) Pass option use_label_encoder=False when constructing XGBClassifier object; and 2) Encode your labels (y) as integers starting with 0, i.e. 0, 1, 2, ..., [num_class - 1].\n",
      "  warnings.warn(label_encoder_deprecation_msg, UserWarning)\n",
      "\n",
      "2023/05/06 15:09:43 WARNING mlflow.utils.autologging_utils: Encountered unexpected error during xgboost autologging: The following failures occurred while performing one or more logging operations: [MlflowException('Failed to perform one or more operations on the run with ID 598aca6afcea493582375404530c40da. Failed operations: [MlflowException(\"API request to http://localhost:5000/api/2.0/mlflow/runs/log-batch failed with exception HTTPConnectionPool(host=\\'localhost\\', port=5000): Max retries exceeded with url: /api/2.0/mlflow/runs/log-batch (Caused by ResponseError(\\'too many 500 error responses\\'))\")]')]\n"
     ]
    },
    {
     "name": "stdout",
     "output_type": "stream",
     "text": [
      "Training AUC is: 1.000000                                                                                              \n",
      "Test AUC is: 0.478410                                                                                                  \n",
      "Training accuracy is: 1.000000                                                                                         \n",
      "Test accuracy is: 0.478333                                                                                             \n",
      "[15:09:48] WARNING: D:\\bld\\xgboost-split_1637426510059\\work\\src\\learner.cc:1115: Starting in XGBoost 1.3.0, the default evaluation metric used with the objective 'binary:logistic' was changed from 'error' to 'logloss'. Explicitly set eval_metric if you'd like to restore the old behavior.\n",
      " 28%|████████████▎                               | 28/100 [29:47<1:18:42, 65.58s/trial, best loss: -0.5416666666666666]"
     ]
    },
    {
     "name": "stderr",
     "output_type": "stream",
     "text": [
      "C:\\Users\\Ayush\\Anaconda3\\lib\\site-packages\\xgboost\\sklearn.py:1224: UserWarning: The use of label encoder in XGBClassifier is deprecated and will be removed in a future release. To remove this warning, do the following: 1) Pass option use_label_encoder=False when constructing XGBClassifier object; and 2) Encode your labels (y) as integers starting with 0, i.e. 0, 1, 2, ..., [num_class - 1].\n",
      "  warnings.warn(label_encoder_deprecation_msg, UserWarning)\n",
      "\n",
      "2023/05/06 15:10:49 WARNING mlflow.utils.autologging_utils: Encountered unexpected error during xgboost autologging: The following failures occurred while performing one or more logging operations: [MlflowException('Failed to perform one or more operations on the run with ID 598aca6afcea493582375404530c40da. Failed operations: [MlflowException(\"API request to http://localhost:5000/api/2.0/mlflow/runs/log-batch failed with exception HTTPConnectionPool(host=\\'localhost\\', port=5000): Max retries exceeded with url: /api/2.0/mlflow/runs/log-batch (Caused by ResponseError(\\'too many 500 error responses\\'))\")]')]\n"
     ]
    },
    {
     "name": "stdout",
     "output_type": "stream",
     "text": [
      "Training AUC is: 1.000000                                                                                              \n",
      "Test AUC is: 0.488255                                                                                                  \n",
      "Training accuracy is: 1.000000                                                                                         \n",
      "Test accuracy is: 0.488333                                                                                             \n",
      "[15:10:54] WARNING: D:\\bld\\xgboost-split_1637426510059\\work\\src\\learner.cc:1115: Starting in XGBoost 1.3.0, the default evaluation metric used with the objective 'binary:logistic' was changed from 'error' to 'logloss'. Explicitly set eval_metric if you'd like to restore the old behavior.\n",
      " 29%|████████████▊                               | 29/100 [30:53<1:17:42, 65.67s/trial, best loss: -0.5416666666666666]"
     ]
    },
    {
     "name": "stderr",
     "output_type": "stream",
     "text": [
      "C:\\Users\\Ayush\\Anaconda3\\lib\\site-packages\\xgboost\\sklearn.py:1224: UserWarning: The use of label encoder in XGBClassifier is deprecated and will be removed in a future release. To remove this warning, do the following: 1) Pass option use_label_encoder=False when constructing XGBClassifier object; and 2) Encode your labels (y) as integers starting with 0, i.e. 0, 1, 2, ..., [num_class - 1].\n",
      "  warnings.warn(label_encoder_deprecation_msg, UserWarning)\n",
      "\n",
      "2023/05/06 15:11:54 WARNING mlflow.utils.autologging_utils: Encountered unexpected error during xgboost autologging: The following failures occurred while performing one or more logging operations: [MlflowException('Failed to perform one or more operations on the run with ID 598aca6afcea493582375404530c40da. Failed operations: [MlflowException(\"API request to http://localhost:5000/api/2.0/mlflow/runs/log-batch failed with exception HTTPConnectionPool(host=\\'localhost\\', port=5000): Max retries exceeded with url: /api/2.0/mlflow/runs/log-batch (Caused by ResponseError(\\'too many 500 error responses\\'))\")]')]\n"
     ]
    },
    {
     "name": "stdout",
     "output_type": "stream",
     "text": [
      "Training AUC is: 1.000000                                                                                              \n",
      "Test AUC is: 0.525212                                                                                                  \n",
      "Training accuracy is: 1.000000                                                                                         \n",
      "Test accuracy is: 0.525000                                                                                             \n",
      "[15:12:00] WARNING: D:\\bld\\xgboost-split_1637426510059\\work\\src\\learner.cc:1115: Starting in XGBoost 1.3.0, the default evaluation metric used with the objective 'binary:logistic' was changed from 'error' to 'logloss'. Explicitly set eval_metric if you'd like to restore the old behavior.\n",
      " 30%|█████████████▏                              | 30/100 [31:59<1:16:33, 65.62s/trial, best loss: -0.5416666666666666]"
     ]
    },
    {
     "name": "stderr",
     "output_type": "stream",
     "text": [
      "C:\\Users\\Ayush\\Anaconda3\\lib\\site-packages\\xgboost\\sklearn.py:1224: UserWarning: The use of label encoder in XGBClassifier is deprecated and will be removed in a future release. To remove this warning, do the following: 1) Pass option use_label_encoder=False when constructing XGBClassifier object; and 2) Encode your labels (y) as integers starting with 0, i.e. 0, 1, 2, ..., [num_class - 1].\n",
      "  warnings.warn(label_encoder_deprecation_msg, UserWarning)\n",
      "\n",
      "2023/05/06 15:13:00 WARNING mlflow.utils.autologging_utils: Encountered unexpected error during xgboost autologging: The following failures occurred while performing one or more logging operations: [MlflowException('Failed to perform one or more operations on the run with ID 598aca6afcea493582375404530c40da. Failed operations: [MlflowException(\"API request to http://localhost:5000/api/2.0/mlflow/runs/log-batch failed with exception HTTPConnectionPool(host=\\'localhost\\', port=5000): Max retries exceeded with url: /api/2.0/mlflow/runs/log-batch (Caused by ResponseError(\\'too many 500 error responses\\'))\")]')]\n"
     ]
    },
    {
     "name": "stdout",
     "output_type": "stream",
     "text": [
      "Training AUC is: 0.959574                                                                                              \n",
      "Test AUC is: 0.510112                                                                                                  \n",
      "Training accuracy is: 0.959583                                                                                         \n",
      "Test accuracy is: 0.510000                                                                                             \n",
      "[15:13:06] WARNING: D:\\bld\\xgboost-split_1637426510059\\work\\src\\learner.cc:1115: Starting in XGBoost 1.3.0, the default evaluation metric used with the objective 'binary:logistic' was changed from 'error' to 'logloss'. Explicitly set eval_metric if you'd like to restore the old behavior.\n",
      " 31%|█████████████▋                              | 31/100 [33:05<1:15:30, 65.66s/trial, best loss: -0.5416666666666666]"
     ]
    },
    {
     "name": "stderr",
     "output_type": "stream",
     "text": [
      "C:\\Users\\Ayush\\Anaconda3\\lib\\site-packages\\xgboost\\sklearn.py:1224: UserWarning: The use of label encoder in XGBClassifier is deprecated and will be removed in a future release. To remove this warning, do the following: 1) Pass option use_label_encoder=False when constructing XGBClassifier object; and 2) Encode your labels (y) as integers starting with 0, i.e. 0, 1, 2, ..., [num_class - 1].\n",
      "  warnings.warn(label_encoder_deprecation_msg, UserWarning)\n",
      "\n",
      "2023/05/06 15:14:06 WARNING mlflow.utils.autologging_utils: Encountered unexpected error during xgboost autologging: The following failures occurred while performing one or more logging operations: [MlflowException('Failed to perform one or more operations on the run with ID 598aca6afcea493582375404530c40da. Failed operations: [MlflowException(\"API request to http://localhost:5000/api/2.0/mlflow/runs/log-batch failed with exception HTTPConnectionPool(host=\\'localhost\\', port=5000): Max retries exceeded with url: /api/2.0/mlflow/runs/log-batch (Caused by ResponseError(\\'too many 500 error responses\\'))\")]')]\n"
     ]
    },
    {
     "name": "stdout",
     "output_type": "stream",
     "text": [
      "Training AUC is: 1.000000                                                                                              \n",
      "Test AUC is: 0.511656                                                                                                  \n",
      "Training accuracy is: 1.000000                                                                                         \n",
      "Test accuracy is: 0.511667                                                                                             \n",
      "[15:14:12] WARNING: D:\\bld\\xgboost-split_1637426510059\\work\\src\\learner.cc:1115: Starting in XGBoost 1.3.0, the default evaluation metric used with the objective 'binary:logistic' was changed from 'error' to 'logloss'. Explicitly set eval_metric if you'd like to restore the old behavior.\n",
      " 32%|██████████████                              | 32/100 [34:11<1:14:43, 65.93s/trial, best loss: -0.5416666666666666]"
     ]
    },
    {
     "name": "stderr",
     "output_type": "stream",
     "text": [
      "C:\\Users\\Ayush\\Anaconda3\\lib\\site-packages\\xgboost\\sklearn.py:1224: UserWarning: The use of label encoder in XGBClassifier is deprecated and will be removed in a future release. To remove this warning, do the following: 1) Pass option use_label_encoder=False when constructing XGBClassifier object; and 2) Encode your labels (y) as integers starting with 0, i.e. 0, 1, 2, ..., [num_class - 1].\n",
      "  warnings.warn(label_encoder_deprecation_msg, UserWarning)\n",
      "\n",
      "2023/05/06 15:15:12 WARNING mlflow.utils.autologging_utils: Encountered unexpected error during xgboost autologging: The following failures occurred while performing one or more logging operations: [MlflowException('Failed to perform one or more operations on the run with ID 598aca6afcea493582375404530c40da. Failed operations: [MlflowException(\"API request to http://localhost:5000/api/2.0/mlflow/runs/log-batch failed with exception HTTPConnectionPool(host=\\'localhost\\', port=5000): Max retries exceeded with url: /api/2.0/mlflow/runs/log-batch (Caused by ResponseError(\\'too many 500 error responses\\'))\")]')]\n"
     ]
    },
    {
     "name": "stdout",
     "output_type": "stream",
     "text": [
      "Training AUC is: 1.000000                                                                                              \n",
      "Test AUC is: 0.526579                                                                                                  \n",
      "Training accuracy is: 1.000000                                                                                         \n",
      "Test accuracy is: 0.526667                                                                                             \n",
      "[15:15:18] WARNING: D:\\bld\\xgboost-split_1637426510059\\work\\src\\learner.cc:1115: Starting in XGBoost 1.3.0, the default evaluation metric used with the objective 'binary:logistic' was changed from 'error' to 'logloss'. Explicitly set eval_metric if you'd like to restore the old behavior.\n",
      " 33%|██████████████▌                             | 33/100 [35:17<1:13:30, 65.83s/trial, best loss: -0.5416666666666666]"
     ]
    },
    {
     "name": "stderr",
     "output_type": "stream",
     "text": [
      "C:\\Users\\Ayush\\Anaconda3\\lib\\site-packages\\xgboost\\sklearn.py:1224: UserWarning: The use of label encoder in XGBClassifier is deprecated and will be removed in a future release. To remove this warning, do the following: 1) Pass option use_label_encoder=False when constructing XGBClassifier object; and 2) Encode your labels (y) as integers starting with 0, i.e. 0, 1, 2, ..., [num_class - 1].\n",
      "  warnings.warn(label_encoder_deprecation_msg, UserWarning)\n",
      "\n",
      "2023/05/06 15:16:18 WARNING mlflow.utils.autologging_utils: Encountered unexpected error during xgboost autologging: The following failures occurred while performing one or more logging operations: [MlflowException('Failed to perform one or more operations on the run with ID 598aca6afcea493582375404530c40da. Failed operations: [MlflowException(\"API request to http://localhost:5000/api/2.0/mlflow/runs/log-batch failed with exception HTTPConnectionPool(host=\\'localhost\\', port=5000): Max retries exceeded with url: /api/2.0/mlflow/runs/log-batch (Caused by ResponseError(\\'too many 500 error responses\\'))\")]')]\n"
     ]
    },
    {
     "name": "stdout",
     "output_type": "stream",
     "text": [
      "Training AUC is: 1.000000                                                                                              \n",
      "Test AUC is: 0.520023                                                                                                  \n",
      "Training accuracy is: 1.000000                                                                                         \n",
      "Test accuracy is: 0.520000                                                                                             \n",
      "[15:16:23] WARNING: D:\\bld\\xgboost-split_1637426510059\\work\\src\\learner.cc:1115: Starting in XGBoost 1.3.0, the default evaluation metric used with the objective 'binary:logistic' was changed from 'error' to 'logloss'. Explicitly set eval_metric if you'd like to restore the old behavior.\n",
      " 34%|██████████████▉                             | 34/100 [36:22<1:12:21, 65.79s/trial, best loss: -0.5416666666666666]"
     ]
    },
    {
     "name": "stderr",
     "output_type": "stream",
     "text": [
      "C:\\Users\\Ayush\\Anaconda3\\lib\\site-packages\\xgboost\\sklearn.py:1224: UserWarning: The use of label encoder in XGBClassifier is deprecated and will be removed in a future release. To remove this warning, do the following: 1) Pass option use_label_encoder=False when constructing XGBClassifier object; and 2) Encode your labels (y) as integers starting with 0, i.e. 0, 1, 2, ..., [num_class - 1].\n",
      "  warnings.warn(label_encoder_deprecation_msg, UserWarning)\n",
      "\n",
      "2023/05/06 15:17:24 WARNING mlflow.utils.autologging_utils: Encountered unexpected error during xgboost autologging: The following failures occurred while performing one or more logging operations: [MlflowException('Failed to perform one or more operations on the run with ID 598aca6afcea493582375404530c40da. Failed operations: [MlflowException(\"API request to http://localhost:5000/api/2.0/mlflow/runs/log-batch failed with exception HTTPConnectionPool(host=\\'localhost\\', port=5000): Max retries exceeded with url: /api/2.0/mlflow/runs/log-batch (Caused by ResponseError(\\'too many 500 error responses\\'))\")]')]\n"
     ]
    },
    {
     "name": "stdout",
     "output_type": "stream",
     "text": [
      "Training AUC is: 1.000000                                                                                              \n",
      "Test AUC is: 0.483088                                                                                                  \n",
      "Training accuracy is: 1.000000                                                                                         \n",
      "Test accuracy is: 0.483333                                                                                             \n",
      "[15:17:29] WARNING: D:\\bld\\xgboost-split_1637426510059\\work\\src\\learner.cc:1115: Starting in XGBoost 1.3.0, the default evaluation metric used with the objective 'binary:logistic' was changed from 'error' to 'logloss'. Explicitly set eval_metric if you'd like to restore the old behavior.\n",
      " 35%|███████████████▍                            | 35/100 [37:28<1:11:08, 65.67s/trial, best loss: -0.5416666666666666]"
     ]
    },
    {
     "name": "stderr",
     "output_type": "stream",
     "text": [
      "C:\\Users\\Ayush\\Anaconda3\\lib\\site-packages\\xgboost\\sklearn.py:1224: UserWarning: The use of label encoder in XGBClassifier is deprecated and will be removed in a future release. To remove this warning, do the following: 1) Pass option use_label_encoder=False when constructing XGBClassifier object; and 2) Encode your labels (y) as integers starting with 0, i.e. 0, 1, 2, ..., [num_class - 1].\n",
      "  warnings.warn(label_encoder_deprecation_msg, UserWarning)\n",
      "\n",
      "2023/05/06 15:18:29 WARNING mlflow.utils.autologging_utils: Encountered unexpected error during xgboost autologging: The following failures occurred while performing one or more logging operations: [MlflowException('Failed to perform one or more operations on the run with ID 598aca6afcea493582375404530c40da. Failed operations: [MlflowException(\"API request to http://localhost:5000/api/2.0/mlflow/runs/log-batch failed with exception HTTPConnectionPool(host=\\'localhost\\', port=5000): Max retries exceeded with url: /api/2.0/mlflow/runs/log-batch (Caused by ResponseError(\\'too many 500 error responses\\'))\")]')]\n"
     ]
    },
    {
     "name": "stdout",
     "output_type": "stream",
     "text": [
      "Training AUC is: 0.963751                                                                                              \n",
      "Test AUC is: 0.501633                                                                                                  \n",
      "Training accuracy is: 0.963750                                                                                         \n",
      "Test accuracy is: 0.501667                                                                                             \n",
      "[15:18:36] WARNING: D:\\bld\\xgboost-split_1637426510059\\work\\src\\learner.cc:1115: Starting in XGBoost 1.3.0, the default evaluation metric used with the objective 'binary:logistic' was changed from 'error' to 'logloss'. Explicitly set eval_metric if you'd like to restore the old behavior.\n",
      " 36%|███████████████▊                            | 36/100 [38:34<1:10:22, 65.98s/trial, best loss: -0.5416666666666666]"
     ]
    },
    {
     "name": "stderr",
     "output_type": "stream",
     "text": [
      "C:\\Users\\Ayush\\Anaconda3\\lib\\site-packages\\xgboost\\sklearn.py:1224: UserWarning: The use of label encoder in XGBClassifier is deprecated and will be removed in a future release. To remove this warning, do the following: 1) Pass option use_label_encoder=False when constructing XGBClassifier object; and 2) Encode your labels (y) as integers starting with 0, i.e. 0, 1, 2, ..., [num_class - 1].\n",
      "  warnings.warn(label_encoder_deprecation_msg, UserWarning)\n",
      "\n",
      "2023/05/06 15:19:36 WARNING mlflow.utils.autologging_utils: Encountered unexpected error during xgboost autologging: The following failures occurred while performing one or more logging operations: [MlflowException('Failed to perform one or more operations on the run with ID 598aca6afcea493582375404530c40da. Failed operations: [MlflowException(\"API request to http://localhost:5000/api/2.0/mlflow/runs/log-batch failed with exception HTTPConnectionPool(host=\\'localhost\\', port=5000): Max retries exceeded with url: /api/2.0/mlflow/runs/log-batch (Caused by ResponseError(\\'too many 500 error responses\\'))\")]')]\n"
     ]
    },
    {
     "name": "stdout",
     "output_type": "stream",
     "text": [
      "Training AUC is: 1.000000                                                                                              \n",
      "Test AUC is: 0.498344                                                                                                  \n",
      "Training accuracy is: 1.000000                                                                                         \n",
      "Test accuracy is: 0.498333                                                                                             \n",
      "[15:19:45] WARNING: D:\\bld\\xgboost-split_1637426510059\\work\\src\\learner.cc:1115: Starting in XGBoost 1.3.0, the default evaluation metric used with the objective 'binary:logistic' was changed from 'error' to 'logloss'. Explicitly set eval_metric if you'd like to restore the old behavior.\n",
      " 37%|████████████████▎                           | 37/100 [39:44<1:10:25, 67.07s/trial, best loss: -0.5416666666666666]"
     ]
    },
    {
     "name": "stderr",
     "output_type": "stream",
     "text": [
      "C:\\Users\\Ayush\\Anaconda3\\lib\\site-packages\\xgboost\\sklearn.py:1224: UserWarning: The use of label encoder in XGBClassifier is deprecated and will be removed in a future release. To remove this warning, do the following: 1) Pass option use_label_encoder=False when constructing XGBClassifier object; and 2) Encode your labels (y) as integers starting with 0, i.e. 0, 1, 2, ..., [num_class - 1].\n",
      "  warnings.warn(label_encoder_deprecation_msg, UserWarning)\n",
      "\n",
      "2023/05/06 15:20:45 WARNING mlflow.utils.autologging_utils: Encountered unexpected error during xgboost autologging: The following failures occurred while performing one or more logging operations: [MlflowException('Failed to perform one or more operations on the run with ID 598aca6afcea493582375404530c40da. Failed operations: [MlflowException(\"API request to http://localhost:5000/api/2.0/mlflow/runs/log-batch failed with exception HTTPConnectionPool(host=\\'localhost\\', port=5000): Max retries exceeded with url: /api/2.0/mlflow/runs/log-batch (Caused by ResponseError(\\'too many 500 error responses\\'))\")]')]\n"
     ]
    },
    {
     "name": "stdout",
     "output_type": "stream",
     "text": [
      "Training AUC is: 1.000000                                                                                              \n",
      "Test AUC is: 0.485366                                                                                                  \n",
      "Training accuracy is: 1.000000                                                                                         \n",
      "Test accuracy is: 0.485000                                                                                             \n",
      "[15:20:50] WARNING: D:\\bld\\xgboost-split_1637426510059\\work\\src\\learner.cc:1115: Starting in XGBoost 1.3.0, the default evaluation metric used with the objective 'binary:logistic' was changed from 'error' to 'logloss'. Explicitly set eval_metric if you'd like to restore the old behavior.\n",
      " 38%|████████████████▋                           | 38/100 [40:49<1:08:44, 66.53s/trial, best loss: -0.5416666666666666]"
     ]
    },
    {
     "name": "stderr",
     "output_type": "stream",
     "text": [
      "C:\\Users\\Ayush\\Anaconda3\\lib\\site-packages\\xgboost\\sklearn.py:1224: UserWarning: The use of label encoder in XGBClassifier is deprecated and will be removed in a future release. To remove this warning, do the following: 1) Pass option use_label_encoder=False when constructing XGBClassifier object; and 2) Encode your labels (y) as integers starting with 0, i.e. 0, 1, 2, ..., [num_class - 1].\n",
      "  warnings.warn(label_encoder_deprecation_msg, UserWarning)\n",
      "\n",
      "2023/05/06 15:21:51 WARNING mlflow.utils.autologging_utils: Encountered unexpected error during xgboost autologging: The following failures occurred while performing one or more logging operations: [MlflowException('Failed to perform one or more operations on the run with ID 598aca6afcea493582375404530c40da. Failed operations: [MlflowException(\"API request to http://localhost:5000/api/2.0/mlflow/runs/log-batch failed with exception HTTPConnectionPool(host=\\'localhost\\', port=5000): Max retries exceeded with url: /api/2.0/mlflow/runs/log-batch (Caused by ResponseError(\\'too many 500 error responses\\'))\")]')]\n"
     ]
    },
    {
     "name": "stdout",
     "output_type": "stream",
     "text": [
      "Training AUC is: 1.000000                                                                                              \n",
      "Test AUC is: 0.506734                                                                                                  \n",
      "Training accuracy is: 1.000000                                                                                         \n",
      "Test accuracy is: 0.506667                                                                                             \n",
      "[15:21:56] WARNING: D:\\bld\\xgboost-split_1637426510059\\work\\src\\learner.cc:1115: Starting in XGBoost 1.3.0, the default evaluation metric used with the objective 'binary:logistic' was changed from 'error' to 'logloss'. Explicitly set eval_metric if you'd like to restore the old behavior.\n",
      " 39%|█████████████████▏                          | 39/100 [41:55<1:07:18, 66.20s/trial, best loss: -0.5416666666666666]"
     ]
    },
    {
     "name": "stderr",
     "output_type": "stream",
     "text": [
      "C:\\Users\\Ayush\\Anaconda3\\lib\\site-packages\\xgboost\\sklearn.py:1224: UserWarning: The use of label encoder in XGBClassifier is deprecated and will be removed in a future release. To remove this warning, do the following: 1) Pass option use_label_encoder=False when constructing XGBClassifier object; and 2) Encode your labels (y) as integers starting with 0, i.e. 0, 1, 2, ..., [num_class - 1].\n",
      "  warnings.warn(label_encoder_deprecation_msg, UserWarning)\n",
      "\n",
      "2023/05/06 15:22:56 WARNING mlflow.utils.autologging_utils: Encountered unexpected error during xgboost autologging: The following failures occurred while performing one or more logging operations: [MlflowException('Failed to perform one or more operations on the run with ID 598aca6afcea493582375404530c40da. Failed operations: [MlflowException(\"API request to http://localhost:5000/api/2.0/mlflow/runs/log-batch failed with exception HTTPConnectionPool(host=\\'localhost\\', port=5000): Max retries exceeded with url: /api/2.0/mlflow/runs/log-batch (Caused by ResponseError(\\'too many 500 error responses\\'))\")]')]\n"
     ]
    },
    {
     "name": "stdout",
     "output_type": "stream",
     "text": [
      "Training AUC is: 1.000000                                                                                              \n",
      "Test AUC is: 0.501789                                                                                                  \n",
      "Training accuracy is: 1.000000                                                                                         \n",
      "Test accuracy is: 0.501667                                                                                             \n",
      "[15:23:01] WARNING: D:\\bld\\xgboost-split_1637426510059\\work\\src\\learner.cc:1115: Starting in XGBoost 1.3.0, the default evaluation metric used with the objective 'binary:logistic' was changed from 'error' to 'logloss'. Explicitly set eval_metric if you'd like to restore the old behavior.\n",
      " 40%|█████████████████▌                          | 40/100 [43:00<1:05:54, 65.92s/trial, best loss: -0.5416666666666666]"
     ]
    },
    {
     "name": "stderr",
     "output_type": "stream",
     "text": [
      "C:\\Users\\Ayush\\Anaconda3\\lib\\site-packages\\xgboost\\sklearn.py:1224: UserWarning: The use of label encoder in XGBClassifier is deprecated and will be removed in a future release. To remove this warning, do the following: 1) Pass option use_label_encoder=False when constructing XGBClassifier object; and 2) Encode your labels (y) as integers starting with 0, i.e. 0, 1, 2, ..., [num_class - 1].\n",
      "  warnings.warn(label_encoder_deprecation_msg, UserWarning)\n",
      "\n",
      "2023/05/06 15:24:01 WARNING mlflow.utils.autologging_utils: Encountered unexpected error during xgboost autologging: The following failures occurred while performing one or more logging operations: [MlflowException('Failed to perform one or more operations on the run with ID 598aca6afcea493582375404530c40da. Failed operations: [MlflowException(\"API request to http://localhost:5000/api/2.0/mlflow/runs/log-batch failed with exception HTTPConnectionPool(host=\\'localhost\\', port=5000): Max retries exceeded with url: /api/2.0/mlflow/runs/log-batch (Caused by ResponseError(\\'too many 500 error responses\\'))\")]')]\n"
     ]
    },
    {
     "name": "stdout",
     "output_type": "stream",
     "text": [
      "Training AUC is: 1.000000                                                                                              \n",
      "Test AUC is: 0.524879                                                                                                  \n",
      "Training accuracy is: 1.000000                                                                                         \n",
      "Test accuracy is: 0.525000                                                                                             \n",
      "[15:24:07] WARNING: D:\\bld\\xgboost-split_1637426510059\\work\\src\\learner.cc:1115: Starting in XGBoost 1.3.0, the default evaluation metric used with the objective 'binary:logistic' was changed from 'error' to 'logloss'. Explicitly set eval_metric if you'd like to restore the old behavior.\n",
      " 41%|██████████████████                          | 41/100 [44:06<1:04:52, 65.97s/trial, best loss: -0.5416666666666666]"
     ]
    },
    {
     "name": "stderr",
     "output_type": "stream",
     "text": [
      "C:\\Users\\Ayush\\Anaconda3\\lib\\site-packages\\xgboost\\sklearn.py:1224: UserWarning: The use of label encoder in XGBClassifier is deprecated and will be removed in a future release. To remove this warning, do the following: 1) Pass option use_label_encoder=False when constructing XGBClassifier object; and 2) Encode your labels (y) as integers starting with 0, i.e. 0, 1, 2, ..., [num_class - 1].\n",
      "  warnings.warn(label_encoder_deprecation_msg, UserWarning)\n",
      "\n",
      "2023/05/06 15:25:08 WARNING mlflow.utils.autologging_utils: Encountered unexpected error during xgboost autologging: The following failures occurred while performing one or more logging operations: [MlflowException('Failed to perform one or more operations on the run with ID 598aca6afcea493582375404530c40da. Failed operations: [MlflowException(\"API request to http://localhost:5000/api/2.0/mlflow/runs/log-batch failed with exception HTTPConnectionPool(host=\\'localhost\\', port=5000): Max retries exceeded with url: /api/2.0/mlflow/runs/log-batch (Caused by ResponseError(\\'too many 500 error responses\\'))\")]')]\n"
     ]
    },
    {
     "name": "stdout",
     "output_type": "stream",
     "text": [
      "Training AUC is: 1.000000                                                                                              \n",
      "Test AUC is: 0.524968                                                                                                  \n",
      "Training accuracy is: 1.000000                                                                                         \n",
      "Test accuracy is: 0.525000                                                                                             \n",
      "[15:25:13] WARNING: D:\\bld\\xgboost-split_1637426510059\\work\\src\\learner.cc:1115: Starting in XGBoost 1.3.0, the default evaluation metric used with the objective 'binary:logistic' was changed from 'error' to 'logloss'. Explicitly set eval_metric if you'd like to restore the old behavior.\n",
      " 42%|██████████████████▍                         | 42/100 [45:12<1:03:38, 65.84s/trial, best loss: -0.5416666666666666]"
     ]
    },
    {
     "name": "stderr",
     "output_type": "stream",
     "text": [
      "C:\\Users\\Ayush\\Anaconda3\\lib\\site-packages\\xgboost\\sklearn.py:1224: UserWarning: The use of label encoder in XGBClassifier is deprecated and will be removed in a future release. To remove this warning, do the following: 1) Pass option use_label_encoder=False when constructing XGBClassifier object; and 2) Encode your labels (y) as integers starting with 0, i.e. 0, 1, 2, ..., [num_class - 1].\n",
      "  warnings.warn(label_encoder_deprecation_msg, UserWarning)\n",
      "\n",
      "2023/05/06 15:26:13 WARNING mlflow.utils.autologging_utils: Encountered unexpected error during xgboost autologging: The following failures occurred while performing one or more logging operations: [MlflowException('Failed to perform one or more operations on the run with ID 598aca6afcea493582375404530c40da. Failed operations: [MlflowException(\"API request to http://localhost:5000/api/2.0/mlflow/runs/log-batch failed with exception HTTPConnectionPool(host=\\'localhost\\', port=5000): Max retries exceeded with url: /api/2.0/mlflow/runs/log-batch (Caused by ResponseError(\\'too many 500 error responses\\'))\")]')]\n"
     ]
    },
    {
     "name": "stdout",
     "output_type": "stream",
     "text": [
      "Training AUC is: 1.000000                                                                                              \n",
      "Test AUC is: 0.491655                                                                                                  \n",
      "Training accuracy is: 1.000000                                                                                         \n",
      "Test accuracy is: 0.491667                                                                                             \n",
      "[15:26:18] WARNING: D:\\bld\\xgboost-split_1637426510059\\work\\src\\learner.cc:1115: Starting in XGBoost 1.3.0, the default evaluation metric used with the objective 'binary:logistic' was changed from 'error' to 'logloss'. Explicitly set eval_metric if you'd like to restore the old behavior.\n",
      " 43%|██████████████████▉                         | 43/100 [46:17<1:02:30, 65.80s/trial, best loss: -0.5416666666666666]"
     ]
    },
    {
     "name": "stderr",
     "output_type": "stream",
     "text": [
      "C:\\Users\\Ayush\\Anaconda3\\lib\\site-packages\\xgboost\\sklearn.py:1224: UserWarning: The use of label encoder in XGBClassifier is deprecated and will be removed in a future release. To remove this warning, do the following: 1) Pass option use_label_encoder=False when constructing XGBClassifier object; and 2) Encode your labels (y) as integers starting with 0, i.e. 0, 1, 2, ..., [num_class - 1].\n",
      "  warnings.warn(label_encoder_deprecation_msg, UserWarning)\n",
      "\n",
      "2023/05/06 15:27:19 WARNING mlflow.utils.autologging_utils: Encountered unexpected error during xgboost autologging: The following failures occurred while performing one or more logging operations: [MlflowException('Failed to perform one or more operations on the run with ID 598aca6afcea493582375404530c40da. Failed operations: [MlflowException(\"API request to http://localhost:5000/api/2.0/mlflow/runs/log-batch failed with exception HTTPConnectionPool(host=\\'localhost\\', port=5000): Max retries exceeded with url: /api/2.0/mlflow/runs/log-batch (Caused by ResponseError(\\'too many 500 error responses\\'))\")]')]\n"
     ]
    },
    {
     "name": "stdout",
     "output_type": "stream",
     "text": [
      "Training AUC is: 1.000000                                                                                              \n",
      "Test AUC is: 0.503511                                                                                                  \n",
      "Training accuracy is: 1.000000                                                                                         \n",
      "Test accuracy is: 0.503333                                                                                             \n",
      "[15:27:24] WARNING: D:\\bld\\xgboost-split_1637426510059\\work\\src\\learner.cc:1115: Starting in XGBoost 1.3.0, the default evaluation metric used with the objective 'binary:logistic' was changed from 'error' to 'logloss'. Explicitly set eval_metric if you'd like to restore the old behavior.\n",
      " 44%|███████████████████▎                        | 44/100 [47:23<1:01:16, 65.65s/trial, best loss: -0.5416666666666666]"
     ]
    },
    {
     "name": "stderr",
     "output_type": "stream",
     "text": [
      "C:\\Users\\Ayush\\Anaconda3\\lib\\site-packages\\xgboost\\sklearn.py:1224: UserWarning: The use of label encoder in XGBClassifier is deprecated and will be removed in a future release. To remove this warning, do the following: 1) Pass option use_label_encoder=False when constructing XGBClassifier object; and 2) Encode your labels (y) as integers starting with 0, i.e. 0, 1, 2, ..., [num_class - 1].\n",
      "  warnings.warn(label_encoder_deprecation_msg, UserWarning)\n",
      "\n",
      "2023/05/06 15:28:24 WARNING mlflow.utils.autologging_utils: Encountered unexpected error during xgboost autologging: The following failures occurred while performing one or more logging operations: [MlflowException('Failed to perform one or more operations on the run with ID 598aca6afcea493582375404530c40da. Failed operations: [MlflowException(\"API request to http://localhost:5000/api/2.0/mlflow/runs/log-batch failed with exception HTTPConnectionPool(host=\\'localhost\\', port=5000): Max retries exceeded with url: /api/2.0/mlflow/runs/log-batch (Caused by ResponseError(\\'too many 500 error responses\\'))\")]')]\n"
     ]
    },
    {
     "name": "stdout",
     "output_type": "stream",
     "text": [
      "Training AUC is: 0.852898                                                                                              \n",
      "Test AUC is: 0.531924                                                                                                  \n",
      "Training accuracy is: 0.852917                                                                                         \n",
      "Test accuracy is: 0.531667                                                                                             \n",
      "[15:28:29] WARNING: D:\\bld\\xgboost-split_1637426510059\\work\\src\\learner.cc:1115: Starting in XGBoost 1.3.0, the default evaluation metric used with the objective 'binary:logistic' was changed from 'error' to 'logloss'. Explicitly set eval_metric if you'd like to restore the old behavior.\n",
      " 45%|███████████████████▊                        | 45/100 [48:28<1:00:06, 65.57s/trial, best loss: -0.5416666666666666]"
     ]
    },
    {
     "name": "stderr",
     "output_type": "stream",
     "text": [
      "C:\\Users\\Ayush\\Anaconda3\\lib\\site-packages\\xgboost\\sklearn.py:1224: UserWarning: The use of label encoder in XGBClassifier is deprecated and will be removed in a future release. To remove this warning, do the following: 1) Pass option use_label_encoder=False when constructing XGBClassifier object; and 2) Encode your labels (y) as integers starting with 0, i.e. 0, 1, 2, ..., [num_class - 1].\n",
      "  warnings.warn(label_encoder_deprecation_msg, UserWarning)\n",
      "\n",
      "2023/05/06 15:29:29 WARNING mlflow.utils.autologging_utils: Encountered unexpected error during xgboost autologging: The following failures occurred while performing one or more logging operations: [MlflowException('Failed to perform one or more operations on the run with ID 598aca6afcea493582375404530c40da. Failed operations: [MlflowException(\"API request to http://localhost:5000/api/2.0/mlflow/runs/log-batch failed with exception HTTPConnectionPool(host=\\'localhost\\', port=5000): Max retries exceeded with url: /api/2.0/mlflow/runs/log-batch (Caused by ResponseError(\\'too many 500 error responses\\'))\")]')]\n"
     ]
    },
    {
     "name": "stdout",
     "output_type": "stream",
     "text": [
      "Training AUC is: 1.000000                                                                                              \n",
      "Test AUC is: 0.498211                                                                                                  \n",
      "Training accuracy is: 1.000000                                                                                         \n",
      "Test accuracy is: 0.498333                                                                                             \n",
      "[15:29:35] WARNING: D:\\bld\\xgboost-split_1637426510059\\work\\src\\learner.cc:1115: Starting in XGBoost 1.3.0, the default evaluation metric used with the objective 'binary:logistic' was changed from 'error' to 'logloss'. Explicitly set eval_metric if you'd like to restore the old behavior.\n",
      " 46%|█████████████████████▏                        | 46/100 [49:33<58:58, 65.53s/trial, best loss: -0.5416666666666666]"
     ]
    },
    {
     "name": "stderr",
     "output_type": "stream",
     "text": [
      "C:\\Users\\Ayush\\Anaconda3\\lib\\site-packages\\xgboost\\sklearn.py:1224: UserWarning: The use of label encoder in XGBClassifier is deprecated and will be removed in a future release. To remove this warning, do the following: 1) Pass option use_label_encoder=False when constructing XGBClassifier object; and 2) Encode your labels (y) as integers starting with 0, i.e. 0, 1, 2, ..., [num_class - 1].\n",
      "  warnings.warn(label_encoder_deprecation_msg, UserWarning)\n",
      "\n",
      "2023/05/06 15:30:35 WARNING mlflow.utils.autologging_utils: Encountered unexpected error during xgboost autologging: The following failures occurred while performing one or more logging operations: [MlflowException('Failed to perform one or more operations on the run with ID 598aca6afcea493582375404530c40da. Failed operations: [MlflowException(\"API request to http://localhost:5000/api/2.0/mlflow/runs/log-batch failed with exception HTTPConnectionPool(host=\\'localhost\\', port=5000): Max retries exceeded with url: /api/2.0/mlflow/runs/log-batch (Caused by ResponseError(\\'too many 500 error responses\\'))\")]')]\n"
     ]
    },
    {
     "name": "stdout",
     "output_type": "stream",
     "text": [
      "Training AUC is: 1.000000                                                                                              \n",
      "Test AUC is: 0.494922                                                                                                  \n",
      "Training accuracy is: 1.000000                                                                                         \n",
      "Test accuracy is: 0.495000                                                                                             \n",
      "[15:30:41] WARNING: D:\\bld\\xgboost-split_1637426510059\\work\\src\\learner.cc:1115: Starting in XGBoost 1.3.0, the default evaluation metric used with the objective 'binary:logistic' was changed from 'error' to 'logloss'. Explicitly set eval_metric if you'd like to restore the old behavior.\n",
      " 47%|█████████████████████▌                        | 47/100 [50:39<58:00, 65.68s/trial, best loss: -0.5416666666666666]"
     ]
    },
    {
     "name": "stderr",
     "output_type": "stream",
     "text": [
      "C:\\Users\\Ayush\\Anaconda3\\lib\\site-packages\\xgboost\\sklearn.py:1224: UserWarning: The use of label encoder in XGBClassifier is deprecated and will be removed in a future release. To remove this warning, do the following: 1) Pass option use_label_encoder=False when constructing XGBClassifier object; and 2) Encode your labels (y) as integers starting with 0, i.e. 0, 1, 2, ..., [num_class - 1].\n",
      "  warnings.warn(label_encoder_deprecation_msg, UserWarning)\n",
      "\n",
      "2023/05/06 15:31:41 WARNING mlflow.utils.autologging_utils: Encountered unexpected error during xgboost autologging: The following failures occurred while performing one or more logging operations: [MlflowException('Failed to perform one or more operations on the run with ID 598aca6afcea493582375404530c40da. Failed operations: [MlflowException(\"API request to http://localhost:5000/api/2.0/mlflow/runs/log-batch failed with exception HTTPConnectionPool(host=\\'localhost\\', port=5000): Max retries exceeded with url: /api/2.0/mlflow/runs/log-batch (Caused by ResponseError(\\'too many 500 error responses\\'))\")]')]\n"
     ]
    },
    {
     "name": "stdout",
     "output_type": "stream",
     "text": [
      "Training AUC is: 1.000000                                                                                              \n",
      "Test AUC is: 0.548635                                                                                                  \n",
      "Training accuracy is: 1.000000                                                                                         \n",
      "Test accuracy is: 0.548333                                                                                             \n",
      "[15:31:46] WARNING: D:\\bld\\xgboost-split_1637426510059\\work\\src\\learner.cc:1115: Starting in XGBoost 1.3.0, the default evaluation metric used with the objective 'binary:logistic' was changed from 'error' to 'logloss'. Explicitly set eval_metric if you'd like to restore the old behavior.\n",
      " 48%|██████████████████████                        | 48/100 [51:45<56:49, 65.57s/trial, best loss: -0.5483333333333333]"
     ]
    },
    {
     "name": "stderr",
     "output_type": "stream",
     "text": [
      "C:\\Users\\Ayush\\Anaconda3\\lib\\site-packages\\xgboost\\sklearn.py:1224: UserWarning: The use of label encoder in XGBClassifier is deprecated and will be removed in a future release. To remove this warning, do the following: 1) Pass option use_label_encoder=False when constructing XGBClassifier object; and 2) Encode your labels (y) as integers starting with 0, i.e. 0, 1, 2, ..., [num_class - 1].\n",
      "  warnings.warn(label_encoder_deprecation_msg, UserWarning)\n",
      "\n",
      "2023/05/06 15:32:46 WARNING mlflow.utils.autologging_utils: Encountered unexpected error during xgboost autologging: The following failures occurred while performing one or more logging operations: [MlflowException('Failed to perform one or more operations on the run with ID 598aca6afcea493582375404530c40da. Failed operations: [MlflowException(\"API request to http://localhost:5000/api/2.0/mlflow/runs/log-batch failed with exception HTTPConnectionPool(host=\\'localhost\\', port=5000): Max retries exceeded with url: /api/2.0/mlflow/runs/log-batch (Caused by ResponseError(\\'too many 500 error responses\\'))\")]')]\n"
     ]
    },
    {
     "name": "stdout",
     "output_type": "stream",
     "text": [
      "Training AUC is: 1.000000                                                                                              \n",
      "Test AUC is: 0.496911                                                                                                  \n",
      "Training accuracy is: 1.000000                                                                                         \n",
      "Test accuracy is: 0.496667                                                                                             \n",
      "[15:32:51] WARNING: D:\\bld\\xgboost-split_1637426510059\\work\\src\\learner.cc:1115: Starting in XGBoost 1.3.0, the default evaluation metric used with the objective 'binary:logistic' was changed from 'error' to 'logloss'. Explicitly set eval_metric if you'd like to restore the old behavior.\n",
      " 49%|██████████████████████▌                       | 49/100 [52:50<55:40, 65.49s/trial, best loss: -0.5483333333333333]"
     ]
    },
    {
     "name": "stderr",
     "output_type": "stream",
     "text": [
      "C:\\Users\\Ayush\\Anaconda3\\lib\\site-packages\\xgboost\\sklearn.py:1224: UserWarning: The use of label encoder in XGBClassifier is deprecated and will be removed in a future release. To remove this warning, do the following: 1) Pass option use_label_encoder=False when constructing XGBClassifier object; and 2) Encode your labels (y) as integers starting with 0, i.e. 0, 1, 2, ..., [num_class - 1].\n",
      "  warnings.warn(label_encoder_deprecation_msg, UserWarning)\n",
      "\n",
      "2023/05/06 15:33:51 WARNING mlflow.utils.autologging_utils: Encountered unexpected error during xgboost autologging: The following failures occurred while performing one or more logging operations: [MlflowException('Failed to perform one or more operations on the run with ID 598aca6afcea493582375404530c40da. Failed operations: [MlflowException(\"API request to http://localhost:5000/api/2.0/mlflow/runs/log-batch failed with exception HTTPConnectionPool(host=\\'localhost\\', port=5000): Max retries exceeded with url: /api/2.0/mlflow/runs/log-batch (Caused by ResponseError(\\'too many 500 error responses\\'))\")]')]\n"
     ]
    },
    {
     "name": "stdout",
     "output_type": "stream",
     "text": [
      "Training AUC is: 0.952064                                                                                              \n",
      "Test AUC is: 0.498300                                                                                                  \n",
      "Training accuracy is: 0.952083                                                                                         \n",
      "Test accuracy is: 0.498333                                                                                             \n",
      "[15:33:57] WARNING: D:\\bld\\xgboost-split_1637426510059\\work\\src\\learner.cc:1115: Starting in XGBoost 1.3.0, the default evaluation metric used with the objective 'binary:logistic' was changed from 'error' to 'logloss'. Explicitly set eval_metric if you'd like to restore the old behavior.\n",
      " 50%|███████████████████████                       | 50/100 [53:55<54:33, 65.46s/trial, best loss: -0.5483333333333333]"
     ]
    },
    {
     "name": "stderr",
     "output_type": "stream",
     "text": [
      "C:\\Users\\Ayush\\Anaconda3\\lib\\site-packages\\xgboost\\sklearn.py:1224: UserWarning: The use of label encoder in XGBClassifier is deprecated and will be removed in a future release. To remove this warning, do the following: 1) Pass option use_label_encoder=False when constructing XGBClassifier object; and 2) Encode your labels (y) as integers starting with 0, i.e. 0, 1, 2, ..., [num_class - 1].\n",
      "  warnings.warn(label_encoder_deprecation_msg, UserWarning)\n",
      "\n",
      "2023/05/06 15:34:57 WARNING mlflow.utils.autologging_utils: Encountered unexpected error during xgboost autologging: The following failures occurred while performing one or more logging operations: [MlflowException('Failed to perform one or more operations on the run with ID 598aca6afcea493582375404530c40da. Failed operations: [MlflowException(\"API request to http://localhost:5000/api/2.0/mlflow/runs/log-batch failed with exception HTTPConnectionPool(host=\\'localhost\\', port=5000): Max retries exceeded with url: /api/2.0/mlflow/runs/log-batch (Caused by ResponseError(\\'too many 500 error responses\\'))\")]')]\n"
     ]
    },
    {
     "name": "stdout",
     "output_type": "stream",
     "text": [
      "Training AUC is: 1.000000                                                                                              \n",
      "Test AUC is: 0.496822                                                                                                  \n",
      "Training accuracy is: 1.000000                                                                                         \n",
      "Test accuracy is: 0.496667                                                                                             \n",
      "[15:35:02] WARNING: D:\\bld\\xgboost-split_1637426510059\\work\\src\\learner.cc:1115: Starting in XGBoost 1.3.0, the default evaluation metric used with the objective 'binary:logistic' was changed from 'error' to 'logloss'. Explicitly set eval_metric if you'd like to restore the old behavior.\n",
      " 51%|███████████████████████▍                      | 51/100 [55:01<53:30, 65.51s/trial, best loss: -0.5483333333333333]"
     ]
    },
    {
     "name": "stderr",
     "output_type": "stream",
     "text": [
      "C:\\Users\\Ayush\\Anaconda3\\lib\\site-packages\\xgboost\\sklearn.py:1224: UserWarning: The use of label encoder in XGBClassifier is deprecated and will be removed in a future release. To remove this warning, do the following: 1) Pass option use_label_encoder=False when constructing XGBClassifier object; and 2) Encode your labels (y) as integers starting with 0, i.e. 0, 1, 2, ..., [num_class - 1].\n",
      "  warnings.warn(label_encoder_deprecation_msg, UserWarning)\n",
      "\n",
      "2023/05/06 15:36:06 WARNING mlflow.utils.autologging_utils: Encountered unexpected error during xgboost autologging: The following failures occurred while performing one or more logging operations: [MlflowException('Failed to perform one or more operations on the run with ID 598aca6afcea493582375404530c40da. Failed operations: [MlflowException(\"API request to http://localhost:5000/api/2.0/mlflow/runs/log-batch failed with exception HTTPConnectionPool(host=\\'localhost\\', port=5000): Max retries exceeded with url: /api/2.0/mlflow/runs/log-batch (Caused by ResponseError(\\'too many 500 error responses\\'))\")]')]\n"
     ]
    },
    {
     "name": "stdout",
     "output_type": "stream",
     "text": [
      "Training AUC is: 1.000000                                                                                              \n",
      "Test AUC is: 0.541702                                                                                                  \n",
      "Training accuracy is: 1.000000                                                                                         \n",
      "Test accuracy is: 0.541667                                                                                             \n",
      "[15:36:12] WARNING: D:\\bld\\xgboost-split_1637426510059\\work\\src\\learner.cc:1115: Starting in XGBoost 1.3.0, the default evaluation metric used with the objective 'binary:logistic' was changed from 'error' to 'logloss'. Explicitly set eval_metric if you'd like to restore the old behavior.\n",
      " 52%|███████████████████████▉                      | 52/100 [56:11<53:25, 66.78s/trial, best loss: -0.5483333333333333]"
     ]
    },
    {
     "name": "stderr",
     "output_type": "stream",
     "text": [
      "C:\\Users\\Ayush\\Anaconda3\\lib\\site-packages\\xgboost\\sklearn.py:1224: UserWarning: The use of label encoder in XGBClassifier is deprecated and will be removed in a future release. To remove this warning, do the following: 1) Pass option use_label_encoder=False when constructing XGBClassifier object; and 2) Encode your labels (y) as integers starting with 0, i.e. 0, 1, 2, ..., [num_class - 1].\n",
      "  warnings.warn(label_encoder_deprecation_msg, UserWarning)\n",
      "\n",
      "2023/05/06 15:37:12 WARNING mlflow.utils.autologging_utils: Encountered unexpected error during xgboost autologging: The following failures occurred while performing one or more logging operations: [MlflowException('Failed to perform one or more operations on the run with ID 598aca6afcea493582375404530c40da. Failed operations: [MlflowException(\"API request to http://localhost:5000/api/2.0/mlflow/runs/log-batch failed with exception HTTPConnectionPool(host=\\'localhost\\', port=5000): Max retries exceeded with url: /api/2.0/mlflow/runs/log-batch (Caused by ResponseError(\\'too many 500 error responses\\'))\")]')]\n"
     ]
    },
    {
     "name": "stdout",
     "output_type": "stream",
     "text": [
      "Training AUC is: 1.000000                                                                                              \n",
      "Test AUC is: 0.533424                                                                                                  \n",
      "Training accuracy is: 1.000000                                                                                         \n",
      "Test accuracy is: 0.533333                                                                                             \n",
      "[15:37:18] WARNING: D:\\bld\\xgboost-split_1637426510059\\work\\src\\learner.cc:1115: Starting in XGBoost 1.3.0, the default evaluation metric used with the objective 'binary:logistic' was changed from 'error' to 'logloss'. Explicitly set eval_metric if you'd like to restore the old behavior.\n",
      " 53%|████████████████████████▍                     | 53/100 [57:17<52:07, 66.55s/trial, best loss: -0.5483333333333333]"
     ]
    },
    {
     "name": "stderr",
     "output_type": "stream",
     "text": [
      "C:\\Users\\Ayush\\Anaconda3\\lib\\site-packages\\xgboost\\sklearn.py:1224: UserWarning: The use of label encoder in XGBClassifier is deprecated and will be removed in a future release. To remove this warning, do the following: 1) Pass option use_label_encoder=False when constructing XGBClassifier object; and 2) Encode your labels (y) as integers starting with 0, i.e. 0, 1, 2, ..., [num_class - 1].\n",
      "  warnings.warn(label_encoder_deprecation_msg, UserWarning)\n",
      "\n",
      "2023/05/06 15:38:18 WARNING mlflow.utils.autologging_utils: Encountered unexpected error during xgboost autologging: The following failures occurred while performing one or more logging operations: [MlflowException('Failed to perform one or more operations on the run with ID 598aca6afcea493582375404530c40da. Failed operations: [MlflowException(\"API request to http://localhost:5000/api/2.0/mlflow/runs/log-batch failed with exception HTTPConnectionPool(host=\\'localhost\\', port=5000): Max retries exceeded with url: /api/2.0/mlflow/runs/log-batch (Caused by ResponseError(\\'too many 500 error responses\\'))\")]')]\n"
     ]
    },
    {
     "name": "stdout",
     "output_type": "stream",
     "text": [
      "Training AUC is: 0.998335                                                                                              \n",
      "Test AUC is: 0.530201                                                                                                  \n",
      "Training accuracy is: 0.998333                                                                                         \n",
      "Test accuracy is: 0.530000                                                                                             \n",
      "[15:38:23] WARNING: D:\\bld\\xgboost-split_1637426510059\\work\\src\\learner.cc:1115: Starting in XGBoost 1.3.0, the default evaluation metric used with the objective 'binary:logistic' was changed from 'error' to 'logloss'. Explicitly set eval_metric if you'd like to restore the old behavior.\n",
      " 54%|████████████████████████▊                     | 54/100 [58:22<50:46, 66.23s/trial, best loss: -0.5483333333333333]"
     ]
    },
    {
     "name": "stderr",
     "output_type": "stream",
     "text": [
      "C:\\Users\\Ayush\\Anaconda3\\lib\\site-packages\\xgboost\\sklearn.py:1224: UserWarning: The use of label encoder in XGBClassifier is deprecated and will be removed in a future release. To remove this warning, do the following: 1) Pass option use_label_encoder=False when constructing XGBClassifier object; and 2) Encode your labels (y) as integers starting with 0, i.e. 0, 1, 2, ..., [num_class - 1].\n",
      "  warnings.warn(label_encoder_deprecation_msg, UserWarning)\n",
      "\n",
      "2023/05/06 15:39:24 WARNING mlflow.utils.autologging_utils: Encountered unexpected error during xgboost autologging: The following failures occurred while performing one or more logging operations: [MlflowException('Failed to perform one or more operations on the run with ID 598aca6afcea493582375404530c40da. Failed operations: [MlflowException(\"API request to http://localhost:5000/api/2.0/mlflow/runs/log-batch failed with exception HTTPConnectionPool(host=\\'localhost\\', port=5000): Max retries exceeded with url: /api/2.0/mlflow/runs/log-batch (Caused by ResponseError(\\'too many 500 error responses\\'))\")]')]\n"
     ]
    },
    {
     "name": "stdout",
     "output_type": "stream",
     "text": [
      "Training AUC is: 0.992083                                                                                              \n",
      "Test AUC is: 0.513467                                                                                                  \n",
      "Training accuracy is: 0.992083                                                                                         \n",
      "Test accuracy is: 0.513333                                                                                             \n",
      "[15:39:29] WARNING: D:\\bld\\xgboost-split_1637426510059\\work\\src\\learner.cc:1115: Starting in XGBoost 1.3.0, the default evaluation metric used with the objective 'binary:logistic' was changed from 'error' to 'logloss'. Explicitly set eval_metric if you'd like to restore the old behavior.\n",
      " 55%|█████████████████████████▎                    | 55/100 [59:28<49:29, 65.99s/trial, best loss: -0.5483333333333333]"
     ]
    },
    {
     "name": "stderr",
     "output_type": "stream",
     "text": [
      "C:\\Users\\Ayush\\Anaconda3\\lib\\site-packages\\xgboost\\sklearn.py:1224: UserWarning: The use of label encoder in XGBClassifier is deprecated and will be removed in a future release. To remove this warning, do the following: 1) Pass option use_label_encoder=False when constructing XGBClassifier object; and 2) Encode your labels (y) as integers starting with 0, i.e. 0, 1, 2, ..., [num_class - 1].\n",
      "  warnings.warn(label_encoder_deprecation_msg, UserWarning)\n",
      "\n",
      "2023/05/06 15:40:29 WARNING mlflow.utils.autologging_utils: Encountered unexpected error during xgboost autologging: The following failures occurred while performing one or more logging operations: [MlflowException('Failed to perform one or more operations on the run with ID 598aca6afcea493582375404530c40da. Failed operations: [MlflowException(\"API request to http://localhost:5000/api/2.0/mlflow/runs/log-batch failed with exception HTTPConnectionPool(host=\\'localhost\\', port=5000): Max retries exceeded with url: /api/2.0/mlflow/runs/log-batch (Caused by ResponseError(\\'too many 500 error responses\\'))\")]')]\n"
     ]
    },
    {
     "name": "stdout",
     "output_type": "stream",
     "text": [
      "Training AUC is: 1.000000                                                                                              \n",
      "Test AUC is: 0.468565                                                                                                  \n",
      "Training accuracy is: 1.000000                                                                                         \n",
      "Test accuracy is: 0.468333                                                                                             \n",
      "[15:40:34] WARNING: D:\\bld\\xgboost-split_1637426510059\\work\\src\\learner.cc:1115: Starting in XGBoost 1.3.0, the default evaluation metric used with the objective 'binary:logistic' was changed from 'error' to 'logloss'. Explicitly set eval_metric if you'd like to restore the old behavior.\n",
      " 56%|████████████████████████▋                   | 56/100 [1:00:33<48:15, 65.81s/trial, best loss: -0.5483333333333333]"
     ]
    },
    {
     "name": "stderr",
     "output_type": "stream",
     "text": [
      "C:\\Users\\Ayush\\Anaconda3\\lib\\site-packages\\xgboost\\sklearn.py:1224: UserWarning: The use of label encoder in XGBClassifier is deprecated and will be removed in a future release. To remove this warning, do the following: 1) Pass option use_label_encoder=False when constructing XGBClassifier object; and 2) Encode your labels (y) as integers starting with 0, i.e. 0, 1, 2, ..., [num_class - 1].\n",
      "  warnings.warn(label_encoder_deprecation_msg, UserWarning)\n",
      "\n",
      "2023/05/06 15:41:35 WARNING mlflow.utils.autologging_utils: Encountered unexpected error during xgboost autologging: The following failures occurred while performing one or more logging operations: [MlflowException('Failed to perform one or more operations on the run with ID 598aca6afcea493582375404530c40da. Failed operations: [MlflowException(\"API request to http://localhost:5000/api/2.0/mlflow/runs/log-batch failed with exception HTTPConnectionPool(host=\\'localhost\\', port=5000): Max retries exceeded with url: /api/2.0/mlflow/runs/log-batch (Caused by ResponseError(\\'too many 500 error responses\\'))\")]')]\n"
     ]
    },
    {
     "name": "stdout",
     "output_type": "stream",
     "text": [
      "Training AUC is: 1.000000                                                                                              \n",
      "Test AUC is: 0.491633                                                                                                  \n",
      "Training accuracy is: 1.000000                                                                                         \n",
      "Test accuracy is: 0.491667                                                                                             \n",
      "[15:41:40] WARNING: D:\\bld\\xgboost-split_1637426510059\\work\\src\\learner.cc:1115: Starting in XGBoost 1.3.0, the default evaluation metric used with the objective 'binary:logistic' was changed from 'error' to 'logloss'. Explicitly set eval_metric if you'd like to restore the old behavior.\n",
      " 57%|█████████████████████████                   | 57/100 [1:01:39<47:06, 65.74s/trial, best loss: -0.5483333333333333]"
     ]
    },
    {
     "name": "stderr",
     "output_type": "stream",
     "text": [
      "C:\\Users\\Ayush\\Anaconda3\\lib\\site-packages\\xgboost\\sklearn.py:1224: UserWarning: The use of label encoder in XGBClassifier is deprecated and will be removed in a future release. To remove this warning, do the following: 1) Pass option use_label_encoder=False when constructing XGBClassifier object; and 2) Encode your labels (y) as integers starting with 0, i.e. 0, 1, 2, ..., [num_class - 1].\n",
      "  warnings.warn(label_encoder_deprecation_msg, UserWarning)\n",
      "\n",
      "2023/05/06 15:42:40 WARNING mlflow.utils.autologging_utils: Encountered unexpected error during xgboost autologging: The following failures occurred while performing one or more logging operations: [MlflowException('Failed to perform one or more operations on the run with ID 598aca6afcea493582375404530c40da. Failed operations: [MlflowException(\"API request to http://localhost:5000/api/2.0/mlflow/runs/log-batch failed with exception HTTPConnectionPool(host=\\'localhost\\', port=5000): Max retries exceeded with url: /api/2.0/mlflow/runs/log-batch (Caused by ResponseError(\\'too many 500 error responses\\'))\")]')]\n"
     ]
    },
    {
     "name": "stdout",
     "output_type": "stream",
     "text": [
      "Training AUC is: 1.000000                                                                                              \n",
      "Test AUC is: 0.503489                                                                                                  \n",
      "Training accuracy is: 1.000000                                                                                         \n",
      "Test accuracy is: 0.503333                                                                                             \n",
      "[15:42:45] WARNING: D:\\bld\\xgboost-split_1637426510059\\work\\src\\learner.cc:1115: Starting in XGBoost 1.3.0, the default evaluation metric used with the objective 'binary:logistic' was changed from 'error' to 'logloss'. Explicitly set eval_metric if you'd like to restore the old behavior.\n",
      " 58%|█████████████████████████▌                  | 58/100 [1:02:44<45:58, 65.67s/trial, best loss: -0.5483333333333333]"
     ]
    },
    {
     "name": "stderr",
     "output_type": "stream",
     "text": [
      "C:\\Users\\Ayush\\Anaconda3\\lib\\site-packages\\xgboost\\sklearn.py:1224: UserWarning: The use of label encoder in XGBClassifier is deprecated and will be removed in a future release. To remove this warning, do the following: 1) Pass option use_label_encoder=False when constructing XGBClassifier object; and 2) Encode your labels (y) as integers starting with 0, i.e. 0, 1, 2, ..., [num_class - 1].\n",
      "  warnings.warn(label_encoder_deprecation_msg, UserWarning)\n",
      "\n",
      "2023/05/06 15:43:46 WARNING mlflow.utils.autologging_utils: Encountered unexpected error during xgboost autologging: The following failures occurred while performing one or more logging operations: [MlflowException('Failed to perform one or more operations on the run with ID 598aca6afcea493582375404530c40da. Failed operations: [MlflowException(\"API request to http://localhost:5000/api/2.0/mlflow/runs/log-batch failed with exception HTTPConnectionPool(host=\\'localhost\\', port=5000): Max retries exceeded with url: /api/2.0/mlflow/runs/log-batch (Caused by ResponseError(\\'too many 500 error responses\\'))\")]')]\n"
     ]
    },
    {
     "name": "stdout",
     "output_type": "stream",
     "text": [
      "Training AUC is: 1.000000                                                                                              \n",
      "Test AUC is: 0.513156                                                                                                  \n",
      "Training accuracy is: 1.000000                                                                                         \n",
      "Test accuracy is: 0.513333                                                                                             \n",
      "[15:43:51] WARNING: D:\\bld\\xgboost-split_1637426510059\\work\\src\\learner.cc:1115: Starting in XGBoost 1.3.0, the default evaluation metric used with the objective 'binary:logistic' was changed from 'error' to 'logloss'. Explicitly set eval_metric if you'd like to restore the old behavior.\n",
      " 59%|█████████████████████████▉                  | 59/100 [1:03:50<44:54, 65.73s/trial, best loss: -0.5483333333333333]"
     ]
    },
    {
     "name": "stderr",
     "output_type": "stream",
     "text": [
      "C:\\Users\\Ayush\\Anaconda3\\lib\\site-packages\\xgboost\\sklearn.py:1224: UserWarning: The use of label encoder in XGBClassifier is deprecated and will be removed in a future release. To remove this warning, do the following: 1) Pass option use_label_encoder=False when constructing XGBClassifier object; and 2) Encode your labels (y) as integers starting with 0, i.e. 0, 1, 2, ..., [num_class - 1].\n",
      "  warnings.warn(label_encoder_deprecation_msg, UserWarning)\n",
      "\n",
      "2023/05/06 15:44:51 WARNING mlflow.utils.autologging_utils: Encountered unexpected error during xgboost autologging: The following failures occurred while performing one or more logging operations: [MlflowException('Failed to perform one or more operations on the run with ID 598aca6afcea493582375404530c40da. Failed operations: [MlflowException(\"API request to http://localhost:5000/api/2.0/mlflow/runs/log-batch failed with exception HTTPConnectionPool(host=\\'localhost\\', port=5000): Max retries exceeded with url: /api/2.0/mlflow/runs/log-batch (Caused by ResponseError(\\'too many 500 error responses\\'))\")]')]\n"
     ]
    },
    {
     "name": "stdout",
     "output_type": "stream",
     "text": [
      "Training AUC is: 1.000000                                                                                              \n",
      "Test AUC is: 0.511789                                                                                                  \n",
      "Training accuracy is: 1.000000                                                                                         \n",
      "Test accuracy is: 0.511667                                                                                             \n",
      "[15:44:56] WARNING: D:\\bld\\xgboost-split_1637426510059\\work\\src\\learner.cc:1115: Starting in XGBoost 1.3.0, the default evaluation metric used with the objective 'binary:logistic' was changed from 'error' to 'logloss'. Explicitly set eval_metric if you'd like to restore the old behavior.\n",
      " 60%|██████████████████████████▍                 | 60/100 [1:04:55<43:43, 65.60s/trial, best loss: -0.5483333333333333]"
     ]
    },
    {
     "name": "stderr",
     "output_type": "stream",
     "text": [
      "C:\\Users\\Ayush\\Anaconda3\\lib\\site-packages\\xgboost\\sklearn.py:1224: UserWarning: The use of label encoder in XGBClassifier is deprecated and will be removed in a future release. To remove this warning, do the following: 1) Pass option use_label_encoder=False when constructing XGBClassifier object; and 2) Encode your labels (y) as integers starting with 0, i.e. 0, 1, 2, ..., [num_class - 1].\n",
      "  warnings.warn(label_encoder_deprecation_msg, UserWarning)\n",
      "\n",
      "2023/05/06 15:45:57 WARNING mlflow.utils.autologging_utils: Encountered unexpected error during xgboost autologging: The following failures occurred while performing one or more logging operations: [MlflowException('Failed to perform one or more operations on the run with ID 598aca6afcea493582375404530c40da. Failed operations: [MlflowException(\"API request to http://localhost:5000/api/2.0/mlflow/runs/log-batch failed with exception HTTPConnectionPool(host=\\'localhost\\', port=5000): Max retries exceeded with url: /api/2.0/mlflow/runs/log-batch (Caused by ResponseError(\\'too many 500 error responses\\'))\")]')]\n"
     ]
    },
    {
     "name": "stdout",
     "output_type": "stream",
     "text": [
      "Training AUC is: 1.000000                                                                                              \n",
      "Test AUC is: 0.546669                                                                                                  \n",
      "Training accuracy is: 1.000000                                                                                         \n",
      "Test accuracy is: 0.546667                                                                                             \n",
      "[15:46:02] WARNING: D:\\bld\\xgboost-split_1637426510059\\work\\src\\learner.cc:1115: Starting in XGBoost 1.3.0, the default evaluation metric used with the objective 'binary:logistic' was changed from 'error' to 'logloss'. Explicitly set eval_metric if you'd like to restore the old behavior.\n",
      " 61%|██████████████████████████▊                 | 61/100 [1:06:01<42:36, 65.54s/trial, best loss: -0.5483333333333333]"
     ]
    },
    {
     "name": "stderr",
     "output_type": "stream",
     "text": [
      "C:\\Users\\Ayush\\Anaconda3\\lib\\site-packages\\xgboost\\sklearn.py:1224: UserWarning: The use of label encoder in XGBClassifier is deprecated and will be removed in a future release. To remove this warning, do the following: 1) Pass option use_label_encoder=False when constructing XGBClassifier object; and 2) Encode your labels (y) as integers starting with 0, i.e. 0, 1, 2, ..., [num_class - 1].\n",
      "  warnings.warn(label_encoder_deprecation_msg, UserWarning)\n",
      "\n",
      "2023/05/06 15:47:02 WARNING mlflow.utils.autologging_utils: Encountered unexpected error during xgboost autologging: The following failures occurred while performing one or more logging operations: [MlflowException('Failed to perform one or more operations on the run with ID 598aca6afcea493582375404530c40da. Failed operations: [MlflowException(\"API request to http://localhost:5000/api/2.0/mlflow/runs/log-batch failed with exception HTTPConnectionPool(host=\\'localhost\\', port=5000): Max retries exceeded with url: /api/2.0/mlflow/runs/log-batch (Caused by ResponseError(\\'too many 500 error responses\\'))\")]')]\n"
     ]
    },
    {
     "name": "stdout",
     "output_type": "stream",
     "text": [
      "Training AUC is: 1.000000                                                                                              \n",
      "Test AUC is: 0.494900                                                                                                  \n",
      "Training accuracy is: 1.000000                                                                                         \n",
      "Test accuracy is: 0.495000                                                                                             \n",
      "[15:47:07] WARNING: D:\\bld\\xgboost-split_1637426510059\\work\\src\\learner.cc:1115: Starting in XGBoost 1.3.0, the default evaluation metric used with the objective 'binary:logistic' was changed from 'error' to 'logloss'. Explicitly set eval_metric if you'd like to restore the old behavior.\n",
      " 62%|███████████████████████████▎                | 62/100 [1:07:06<41:29, 65.50s/trial, best loss: -0.5483333333333333]"
     ]
    },
    {
     "name": "stderr",
     "output_type": "stream",
     "text": [
      "C:\\Users\\Ayush\\Anaconda3\\lib\\site-packages\\xgboost\\sklearn.py:1224: UserWarning: The use of label encoder in XGBClassifier is deprecated and will be removed in a future release. To remove this warning, do the following: 1) Pass option use_label_encoder=False when constructing XGBClassifier object; and 2) Encode your labels (y) as integers starting with 0, i.e. 0, 1, 2, ..., [num_class - 1].\n",
      "  warnings.warn(label_encoder_deprecation_msg, UserWarning)\n",
      "\n",
      "2023/05/06 15:48:08 WARNING mlflow.utils.autologging_utils: Encountered unexpected error during xgboost autologging: The following failures occurred while performing one or more logging operations: [MlflowException('Failed to perform one or more operations on the run with ID 598aca6afcea493582375404530c40da. Failed operations: [MlflowException(\"API request to http://localhost:5000/api/2.0/mlflow/runs/log-batch failed with exception HTTPConnectionPool(host=\\'localhost\\', port=5000): Max retries exceeded with url: /api/2.0/mlflow/runs/log-batch (Caused by ResponseError(\\'too many 500 error responses\\'))\")]')]\n"
     ]
    },
    {
     "name": "stdout",
     "output_type": "stream",
     "text": [
      "Training AUC is: 1.000000                                                                                              \n",
      "Test AUC is: 0.514901                                                                                                  \n",
      "Training accuracy is: 1.000000                                                                                         \n",
      "Test accuracy is: 0.515000                                                                                             \n",
      "[15:48:13] WARNING: D:\\bld\\xgboost-split_1637426510059\\work\\src\\learner.cc:1115: Starting in XGBoost 1.3.0, the default evaluation metric used with the objective 'binary:logistic' was changed from 'error' to 'logloss'. Explicitly set eval_metric if you'd like to restore the old behavior.\n",
      " 63%|███████████████████████████▋                | 63/100 [1:08:12<40:23, 65.51s/trial, best loss: -0.5483333333333333]"
     ]
    },
    {
     "name": "stderr",
     "output_type": "stream",
     "text": [
      "C:\\Users\\Ayush\\Anaconda3\\lib\\site-packages\\xgboost\\sklearn.py:1224: UserWarning: The use of label encoder in XGBClassifier is deprecated and will be removed in a future release. To remove this warning, do the following: 1) Pass option use_label_encoder=False when constructing XGBClassifier object; and 2) Encode your labels (y) as integers starting with 0, i.e. 0, 1, 2, ..., [num_class - 1].\n",
      "  warnings.warn(label_encoder_deprecation_msg, UserWarning)\n",
      "\n",
      "2023/05/06 15:49:13 WARNING mlflow.utils.autologging_utils: Encountered unexpected error during xgboost autologging: The following failures occurred while performing one or more logging operations: [MlflowException('Failed to perform one or more operations on the run with ID 598aca6afcea493582375404530c40da. Failed operations: [MlflowException(\"API request to http://localhost:5000/api/2.0/mlflow/runs/log-batch failed with exception HTTPConnectionPool(host=\\'localhost\\', port=5000): Max retries exceeded with url: /api/2.0/mlflow/runs/log-batch (Caused by ResponseError(\\'too many 500 error responses\\'))\")]')]\n"
     ]
    },
    {
     "name": "stdout",
     "output_type": "stream",
     "text": [
      "Training AUC is: 0.996668                                                                                              \n",
      "Test AUC is: 0.493533                                                                                                  \n",
      "Training accuracy is: 0.996667                                                                                         \n",
      "Test accuracy is: 0.493333                                                                                             \n",
      "[15:49:18] WARNING: D:\\bld\\xgboost-split_1637426510059\\work\\src\\learner.cc:1115: Starting in XGBoost 1.3.0, the default evaluation metric used with the objective 'binary:logistic' was changed from 'error' to 'logloss'. Explicitly set eval_metric if you'd like to restore the old behavior.\n",
      " 64%|████████████████████████████▏               | 64/100 [1:09:17<39:17, 65.50s/trial, best loss: -0.5483333333333333]"
     ]
    },
    {
     "name": "stderr",
     "output_type": "stream",
     "text": [
      "C:\\Users\\Ayush\\Anaconda3\\lib\\site-packages\\xgboost\\sklearn.py:1224: UserWarning: The use of label encoder in XGBClassifier is deprecated and will be removed in a future release. To remove this warning, do the following: 1) Pass option use_label_encoder=False when constructing XGBClassifier object; and 2) Encode your labels (y) as integers starting with 0, i.e. 0, 1, 2, ..., [num_class - 1].\n",
      "  warnings.warn(label_encoder_deprecation_msg, UserWarning)\n",
      "\n",
      "2023/05/06 15:50:19 WARNING mlflow.utils.autologging_utils: Encountered unexpected error during xgboost autologging: The following failures occurred while performing one or more logging operations: [MlflowException('Failed to perform one or more operations on the run with ID 598aca6afcea493582375404530c40da. Failed operations: [MlflowException(\"API request to http://localhost:5000/api/2.0/mlflow/runs/log-batch failed with exception HTTPConnectionPool(host=\\'localhost\\', port=5000): Max retries exceeded with url: /api/2.0/mlflow/runs/log-batch (Caused by ResponseError(\\'too many 500 error responses\\'))\")]')]\n"
     ]
    },
    {
     "name": "stdout",
     "output_type": "stream",
     "text": [
      "Training AUC is: 1.000000                                                                                              \n",
      "Test AUC is: 0.504856                                                                                                  \n",
      "Training accuracy is: 1.000000                                                                                         \n",
      "Test accuracy is: 0.505000                                                                                             \n",
      "[15:50:24] WARNING: D:\\bld\\xgboost-split_1637426510059\\work\\src\\learner.cc:1115: Starting in XGBoost 1.3.0, the default evaluation metric used with the objective 'binary:logistic' was changed from 'error' to 'logloss'. Explicitly set eval_metric if you'd like to restore the old behavior.\n",
      " 65%|████████████████████████████▌               | 65/100 [1:10:23<38:11, 65.46s/trial, best loss: -0.5483333333333333]"
     ]
    },
    {
     "name": "stderr",
     "output_type": "stream",
     "text": [
      "C:\\Users\\Ayush\\Anaconda3\\lib\\site-packages\\xgboost\\sklearn.py:1224: UserWarning: The use of label encoder in XGBClassifier is deprecated and will be removed in a future release. To remove this warning, do the following: 1) Pass option use_label_encoder=False when constructing XGBClassifier object; and 2) Encode your labels (y) as integers starting with 0, i.e. 0, 1, 2, ..., [num_class - 1].\n",
      "  warnings.warn(label_encoder_deprecation_msg, UserWarning)\n",
      "\n",
      "2023/05/06 15:51:24 WARNING mlflow.utils.autologging_utils: Encountered unexpected error during xgboost autologging: The following failures occurred while performing one or more logging operations: [MlflowException('Failed to perform one or more operations on the run with ID 598aca6afcea493582375404530c40da. Failed operations: [MlflowException(\"API request to http://localhost:5000/api/2.0/mlflow/runs/log-batch failed with exception HTTPConnectionPool(host=\\'localhost\\', port=5000): Max retries exceeded with url: /api/2.0/mlflow/runs/log-batch (Caused by ResponseError(\\'too many 500 error responses\\'))\")]')]\n"
     ]
    },
    {
     "name": "stdout",
     "output_type": "stream",
     "text": [
      "Training AUC is: 1.000000                                                                                              \n",
      "Test AUC is: 0.526757                                                                                                  \n",
      "Training accuracy is: 1.000000                                                                                         \n",
      "Test accuracy is: 0.526667                                                                                             \n",
      "[15:51:29] WARNING: D:\\bld\\xgboost-split_1637426510059\\work\\src\\learner.cc:1115: Starting in XGBoost 1.3.0, the default evaluation metric used with the objective 'binary:logistic' was changed from 'error' to 'logloss'. Explicitly set eval_metric if you'd like to restore the old behavior.\n",
      " 66%|█████████████████████████████               | 66/100 [1:11:28<37:05, 65.45s/trial, best loss: -0.5483333333333333]"
     ]
    },
    {
     "name": "stderr",
     "output_type": "stream",
     "text": [
      "C:\\Users\\Ayush\\Anaconda3\\lib\\site-packages\\xgboost\\sklearn.py:1224: UserWarning: The use of label encoder in XGBClassifier is deprecated and will be removed in a future release. To remove this warning, do the following: 1) Pass option use_label_encoder=False when constructing XGBClassifier object; and 2) Encode your labels (y) as integers starting with 0, i.e. 0, 1, 2, ..., [num_class - 1].\n",
      "  warnings.warn(label_encoder_deprecation_msg, UserWarning)\n",
      "\n",
      "2023/05/06 15:52:29 WARNING mlflow.utils.autologging_utils: Encountered unexpected error during xgboost autologging: The following failures occurred while performing one or more logging operations: [MlflowException('Failed to perform one or more operations on the run with ID 598aca6afcea493582375404530c40da. Failed operations: [MlflowException(\"API request to http://localhost:5000/api/2.0/mlflow/runs/log-batch failed with exception HTTPConnectionPool(host=\\'localhost\\', port=5000): Max retries exceeded with url: /api/2.0/mlflow/runs/log-batch (Caused by ResponseError(\\'too many 500 error responses\\'))\")]')]\n"
     ]
    },
    {
     "name": "stdout",
     "output_type": "stream",
     "text": [
      "Training AUC is: 1.000000                                                                                              \n",
      "Test AUC is: 0.490333                                                                                                  \n",
      "Training accuracy is: 1.000000                                                                                         \n",
      "Test accuracy is: 0.490000                                                                                             \n",
      "[15:52:35] WARNING: D:\\bld\\xgboost-split_1637426510059\\work\\src\\learner.cc:1115: Starting in XGBoost 1.3.0, the default evaluation metric used with the objective 'binary:logistic' was changed from 'error' to 'logloss'. Explicitly set eval_metric if you'd like to restore the old behavior.\n",
      " 67%|█████████████████████████████▍              | 67/100 [1:12:33<35:59, 65.44s/trial, best loss: -0.5483333333333333]"
     ]
    },
    {
     "name": "stderr",
     "output_type": "stream",
     "text": [
      "C:\\Users\\Ayush\\Anaconda3\\lib\\site-packages\\xgboost\\sklearn.py:1224: UserWarning: The use of label encoder in XGBClassifier is deprecated and will be removed in a future release. To remove this warning, do the following: 1) Pass option use_label_encoder=False when constructing XGBClassifier object; and 2) Encode your labels (y) as integers starting with 0, i.e. 0, 1, 2, ..., [num_class - 1].\n",
      "  warnings.warn(label_encoder_deprecation_msg, UserWarning)\n",
      "\n",
      "2023/05/06 15:53:35 WARNING mlflow.utils.autologging_utils: Encountered unexpected error during xgboost autologging: The following failures occurred while performing one or more logging operations: [MlflowException('Failed to perform one or more operations on the run with ID 598aca6afcea493582375404530c40da. Failed operations: [MlflowException(\"API request to http://localhost:5000/api/2.0/mlflow/runs/log-batch failed with exception HTTPConnectionPool(host=\\'localhost\\', port=5000): Max retries exceeded with url: /api/2.0/mlflow/runs/log-batch (Caused by ResponseError(\\'too many 500 error responses\\'))\")]')]\n"
     ]
    },
    {
     "name": "stdout",
     "output_type": "stream",
     "text": [
      "Training AUC is: 1.000000                                                                                              \n",
      "Test AUC is: 0.516601                                                                                                  \n",
      "Training accuracy is: 1.000000                                                                                         \n",
      "Test accuracy is: 0.516667                                                                                             \n",
      "[15:53:40] WARNING: D:\\bld\\xgboost-split_1637426510059\\work\\src\\learner.cc:1115: Starting in XGBoost 1.3.0, the default evaluation metric used with the objective 'binary:logistic' was changed from 'error' to 'logloss'. Explicitly set eval_metric if you'd like to restore the old behavior.\n",
      " 68%|█████████████████████████████▉              | 68/100 [1:13:39<34:54, 65.44s/trial, best loss: -0.5483333333333333]"
     ]
    },
    {
     "name": "stderr",
     "output_type": "stream",
     "text": [
      "C:\\Users\\Ayush\\Anaconda3\\lib\\site-packages\\xgboost\\sklearn.py:1224: UserWarning: The use of label encoder in XGBClassifier is deprecated and will be removed in a future release. To remove this warning, do the following: 1) Pass option use_label_encoder=False when constructing XGBClassifier object; and 2) Encode your labels (y) as integers starting with 0, i.e. 0, 1, 2, ..., [num_class - 1].\n",
      "  warnings.warn(label_encoder_deprecation_msg, UserWarning)\n",
      "\n",
      "2023/05/06 15:54:40 WARNING mlflow.utils.autologging_utils: Encountered unexpected error during xgboost autologging: The following failures occurred while performing one or more logging operations: [MlflowException('Failed to perform one or more operations on the run with ID 598aca6afcea493582375404530c40da. Failed operations: [MlflowException(\"API request to http://localhost:5000/api/2.0/mlflow/runs/log-batch failed with exception HTTPConnectionPool(host=\\'localhost\\', port=5000): Max retries exceeded with url: /api/2.0/mlflow/runs/log-batch (Caused by ResponseError(\\'too many 500 error responses\\'))\")]')]\n"
     ]
    },
    {
     "name": "stdout",
     "output_type": "stream",
     "text": [
      "Training AUC is: 1.000000                                                                                              \n",
      "Test AUC is: 0.530068                                                                                                  \n",
      "Training accuracy is: 1.000000                                                                                         \n",
      "Test accuracy is: 0.530000                                                                                             \n",
      "[15:54:46] WARNING: D:\\bld\\xgboost-split_1637426510059\\work\\src\\learner.cc:1115: Starting in XGBoost 1.3.0, the default evaluation metric used with the objective 'binary:logistic' was changed from 'error' to 'logloss'. Explicitly set eval_metric if you'd like to restore the old behavior.\n",
      " 69%|██████████████████████████████▎             | 69/100 [1:14:45<33:49, 65.47s/trial, best loss: -0.5483333333333333]"
     ]
    },
    {
     "name": "stderr",
     "output_type": "stream",
     "text": [
      "C:\\Users\\Ayush\\Anaconda3\\lib\\site-packages\\xgboost\\sklearn.py:1224: UserWarning: The use of label encoder in XGBClassifier is deprecated and will be removed in a future release. To remove this warning, do the following: 1) Pass option use_label_encoder=False when constructing XGBClassifier object; and 2) Encode your labels (y) as integers starting with 0, i.e. 0, 1, 2, ..., [num_class - 1].\n",
      "  warnings.warn(label_encoder_deprecation_msg, UserWarning)\n",
      "\n",
      "2023/05/06 15:55:46 WARNING mlflow.utils.autologging_utils: Encountered unexpected error during xgboost autologging: The following failures occurred while performing one or more logging operations: [MlflowException('Failed to perform one or more operations on the run with ID 598aca6afcea493582375404530c40da. Failed operations: [MlflowException(\"API request to http://localhost:5000/api/2.0/mlflow/runs/log-batch failed with exception HTTPConnectionPool(host=\\'localhost\\', port=5000): Max retries exceeded with url: /api/2.0/mlflow/runs/log-batch (Caused by ResponseError(\\'too many 500 error responses\\'))\")]')]\n"
     ]
    },
    {
     "name": "stdout",
     "output_type": "stream",
     "text": [
      "Training AUC is: 1.000000                                                                                              \n",
      "Test AUC is: 0.540068                                                                                                  \n",
      "Training accuracy is: 1.000000                                                                                         \n",
      "Test accuracy is: 0.540000                                                                                             \n",
      "[15:55:51] WARNING: D:\\bld\\xgboost-split_1637426510059\\work\\src\\learner.cc:1115: Starting in XGBoost 1.3.0, the default evaluation metric used with the objective 'binary:logistic' was changed from 'error' to 'logloss'. Explicitly set eval_metric if you'd like to restore the old behavior.\n",
      " 70%|██████████████████████████████▊             | 70/100 [1:15:50<32:45, 65.52s/trial, best loss: -0.5483333333333333]"
     ]
    },
    {
     "name": "stderr",
     "output_type": "stream",
     "text": [
      "C:\\Users\\Ayush\\Anaconda3\\lib\\site-packages\\xgboost\\sklearn.py:1224: UserWarning: The use of label encoder in XGBClassifier is deprecated and will be removed in a future release. To remove this warning, do the following: 1) Pass option use_label_encoder=False when constructing XGBClassifier object; and 2) Encode your labels (y) as integers starting with 0, i.e. 0, 1, 2, ..., [num_class - 1].\n",
      "  warnings.warn(label_encoder_deprecation_msg, UserWarning)\n",
      "\n",
      "2023/05/06 15:56:51 WARNING mlflow.utils.autologging_utils: Encountered unexpected error during xgboost autologging: The following failures occurred while performing one or more logging operations: [MlflowException('Failed to perform one or more operations on the run with ID 598aca6afcea493582375404530c40da. Failed operations: [MlflowException(\"API request to http://localhost:5000/api/2.0/mlflow/runs/log-batch failed with exception HTTPConnectionPool(host=\\'localhost\\', port=5000): Max retries exceeded with url: /api/2.0/mlflow/runs/log-batch (Caused by ResponseError(\\'too many 500 error responses\\'))\")]')]\n"
     ]
    },
    {
     "name": "stdout",
     "output_type": "stream",
     "text": [
      "Training AUC is: 1.000000                                                                                              \n",
      "Test AUC is: 0.513223                                                                                                  \n",
      "Training accuracy is: 1.000000                                                                                         \n",
      "Test accuracy is: 0.513333                                                                                             \n",
      "[15:56:57] WARNING: D:\\bld\\xgboost-split_1637426510059\\work\\src\\learner.cc:1115: Starting in XGBoost 1.3.0, the default evaluation metric used with the objective 'binary:logistic' was changed from 'error' to 'logloss'. Explicitly set eval_metric if you'd like to restore the old behavior.\n",
      " 71%|███████████████████████████████▏            | 71/100 [1:16:56<31:41, 65.57s/trial, best loss: -0.5483333333333333]"
     ]
    },
    {
     "name": "stderr",
     "output_type": "stream",
     "text": [
      "C:\\Users\\Ayush\\Anaconda3\\lib\\site-packages\\xgboost\\sklearn.py:1224: UserWarning: The use of label encoder in XGBClassifier is deprecated and will be removed in a future release. To remove this warning, do the following: 1) Pass option use_label_encoder=False when constructing XGBClassifier object; and 2) Encode your labels (y) as integers starting with 0, i.e. 0, 1, 2, ..., [num_class - 1].\n",
      "  warnings.warn(label_encoder_deprecation_msg, UserWarning)\n",
      "\n",
      "2023/05/06 15:57:57 WARNING mlflow.utils.autologging_utils: Encountered unexpected error during xgboost autologging: The following failures occurred while performing one or more logging operations: [MlflowException('Failed to perform one or more operations on the run with ID 598aca6afcea493582375404530c40da. Failed operations: [MlflowException(\"API request to http://localhost:5000/api/2.0/mlflow/runs/log-batch failed with exception HTTPConnectionPool(host=\\'localhost\\', port=5000): Max retries exceeded with url: /api/2.0/mlflow/runs/log-batch (Caused by ResponseError(\\'too many 500 error responses\\'))\")]')]\n"
     ]
    },
    {
     "name": "stdout",
     "output_type": "stream",
     "text": [
      "Training AUC is: 1.000000                                                                                              \n",
      "Test AUC is: 0.496778                                                                                                  \n",
      "Training accuracy is: 1.000000                                                                                         \n",
      "Test accuracy is: 0.496667                                                                                             \n",
      "[15:58:02] WARNING: D:\\bld\\xgboost-split_1637426510059\\work\\src\\learner.cc:1115: Starting in XGBoost 1.3.0, the default evaluation metric used with the objective 'binary:logistic' was changed from 'error' to 'logloss'. Explicitly set eval_metric if you'd like to restore the old behavior.\n",
      " 72%|███████████████████████████████▋            | 72/100 [1:18:01<30:36, 65.59s/trial, best loss: -0.5483333333333333]"
     ]
    },
    {
     "name": "stderr",
     "output_type": "stream",
     "text": [
      "C:\\Users\\Ayush\\Anaconda3\\lib\\site-packages\\xgboost\\sklearn.py:1224: UserWarning: The use of label encoder in XGBClassifier is deprecated and will be removed in a future release. To remove this warning, do the following: 1) Pass option use_label_encoder=False when constructing XGBClassifier object; and 2) Encode your labels (y) as integers starting with 0, i.e. 0, 1, 2, ..., [num_class - 1].\n",
      "  warnings.warn(label_encoder_deprecation_msg, UserWarning)\n",
      "\n",
      "2023/05/06 15:59:03 WARNING mlflow.utils.autologging_utils: Encountered unexpected error during xgboost autologging: The following failures occurred while performing one or more logging operations: [MlflowException('Failed to perform one or more operations on the run with ID 598aca6afcea493582375404530c40da. Failed operations: [MlflowException(\"API request to http://localhost:5000/api/2.0/mlflow/runs/log-batch failed with exception HTTPConnectionPool(host=\\'localhost\\', port=5000): Max retries exceeded with url: /api/2.0/mlflow/runs/log-batch (Caused by ResponseError(\\'too many 500 error responses\\'))\")]')]\n"
     ]
    },
    {
     "name": "stdout",
     "output_type": "stream",
     "text": [
      "Training AUC is: 0.997083                                                                                              \n",
      "Test AUC is: 0.490288                                                                                                  \n",
      "Training accuracy is: 0.997083                                                                                         \n",
      "Test accuracy is: 0.490000                                                                                             \n",
      "[15:59:08] WARNING: D:\\bld\\xgboost-split_1637426510059\\work\\src\\learner.cc:1115: Starting in XGBoost 1.3.0, the default evaluation metric used with the objective 'binary:logistic' was changed from 'error' to 'logloss'. Explicitly set eval_metric if you'd like to restore the old behavior.\n",
      " 73%|████████████████████████████████            | 73/100 [1:19:07<29:31, 65.63s/trial, best loss: -0.5483333333333333]"
     ]
    },
    {
     "name": "stderr",
     "output_type": "stream",
     "text": [
      "C:\\Users\\Ayush\\Anaconda3\\lib\\site-packages\\xgboost\\sklearn.py:1224: UserWarning: The use of label encoder in XGBClassifier is deprecated and will be removed in a future release. To remove this warning, do the following: 1) Pass option use_label_encoder=False when constructing XGBClassifier object; and 2) Encode your labels (y) as integers starting with 0, i.e. 0, 1, 2, ..., [num_class - 1].\n",
      "  warnings.warn(label_encoder_deprecation_msg, UserWarning)\n",
      "\n",
      "2023/05/06 16:00:11 WARNING mlflow.utils.autologging_utils: Encountered unexpected error during xgboost autologging: The following failures occurred while performing one or more logging operations: [MlflowException('Failed to perform one or more operations on the run with ID 598aca6afcea493582375404530c40da. Failed operations: [MlflowException(\"API request to http://localhost:5000/api/2.0/mlflow/runs/log-batch failed with exception HTTPConnectionPool(host=\\'localhost\\', port=5000): Max retries exceeded with url: /api/2.0/mlflow/runs/log-batch (Caused by ResponseError(\\'too many 500 error responses\\'))\")]')]\n",
      "2023/05/06 16:02:13 WARNING mlflow.utils.environment: Encountered an unexpected error while inferring pip requirements (model URI: C:\\Users\\Ayush\\AppData\\Local\\Temp\\tmpoz_0srrn\\model, flavor: xgboost), fall back to return ['xgboost==1.5.0']. Set logging level to DEBUG to see the full traceback.\n"
     ]
    },
    {
     "name": "stdout",
     "output_type": "stream",
     "text": [
      "Training AUC is: 1.000000                                                                                              \n",
      "Test AUC is: 0.525057                                                                                                  \n",
      "Training accuracy is: 1.000000                                                                                         \n",
      "Test accuracy is: 0.525000                                                                                             \n",
      "[16:02:15] WARNING: D:\\bld\\xgboost-split_1637426510059\\work\\src\\learner.cc:1115: Starting in XGBoost 1.3.0, the default evaluation metric used with the objective 'binary:logistic' was changed from 'error' to 'logloss'. Explicitly set eval_metric if you'd like to restore the old behavior.\n",
      " 74%|███████████████████████████████▊           | 74/100 [1:22:14<44:11, 101.98s/trial, best loss: -0.5483333333333333]"
     ]
    },
    {
     "name": "stderr",
     "output_type": "stream",
     "text": [
      "C:\\Users\\Ayush\\Anaconda3\\lib\\site-packages\\xgboost\\sklearn.py:1224: UserWarning: The use of label encoder in XGBClassifier is deprecated and will be removed in a future release. To remove this warning, do the following: 1) Pass option use_label_encoder=False when constructing XGBClassifier object; and 2) Encode your labels (y) as integers starting with 0, i.e. 0, 1, 2, ..., [num_class - 1].\n",
      "  warnings.warn(label_encoder_deprecation_msg, UserWarning)\n",
      "\n",
      "2023/05/06 16:03:33 WARNING mlflow.utils.autologging_utils: Encountered unexpected error during xgboost autologging: The following failures occurred while performing one or more logging operations: [MlflowException('Failed to perform one or more operations on the run with ID 598aca6afcea493582375404530c40da. Failed operations: [MlflowException(\"API request to http://localhost:5000/api/2.0/mlflow/runs/log-batch failed with exception HTTPConnectionPool(host=\\'localhost\\', port=5000): Max retries exceeded with url: /api/2.0/mlflow/runs/log-batch (Caused by ResponseError(\\'too many 500 error responses\\'))\")]')]\n",
      "2023/05/06 16:05:50 WARNING mlflow.utils.environment: Encountered an unexpected error while inferring pip requirements (model URI: C:\\Users\\Ayush\\AppData\\Local\\Temp\\tmp80rn6jjb\\model, flavor: xgboost), fall back to return ['xgboost==1.5.0']. Set logging level to DEBUG to see the full traceback.\n"
     ]
    },
    {
     "name": "stdout",
     "output_type": "stream",
     "text": [
      "Training AUC is: 1.000000                                                                                              \n",
      "Test AUC is: 0.523379                                                                                                  \n",
      "Training accuracy is: 1.000000                                                                                         \n",
      "Test accuracy is: 0.523333                                                                                             \n",
      "[16:08:09] WARNING: D:\\bld\\xgboost-split_1637426510059\\work\\src\\learner.cc:1115: Starting in XGBoost 1.3.0, the default evaluation metric used with the objective 'binary:logistic' was changed from 'error' to 'logloss'. Explicitly set eval_metric if you'd like to restore the old behavior.\n",
      " 75%|██████████████████████████████▊          | 75/100 [1:28:08<1:04:17, 154.29s/trial, best loss: -0.5483333333333333]"
     ]
    },
    {
     "name": "stderr",
     "output_type": "stream",
     "text": [
      "C:\\Users\\Ayush\\Anaconda3\\lib\\site-packages\\xgboost\\sklearn.py:1224: UserWarning: The use of label encoder in XGBClassifier is deprecated and will be removed in a future release. To remove this warning, do the following: 1) Pass option use_label_encoder=False when constructing XGBClassifier object; and 2) Encode your labels (y) as integers starting with 0, i.e. 0, 1, 2, ..., [num_class - 1].\n",
      "  warnings.warn(label_encoder_deprecation_msg, UserWarning)\n",
      "\n",
      "2023/05/06 16:09:41 WARNING mlflow.utils.autologging_utils: Encountered unexpected error during xgboost autologging: The following failures occurred while performing one or more logging operations: [MlflowException('Failed to perform one or more operations on the run with ID 598aca6afcea493582375404530c40da. Failed operations: [MlflowException(\"API request to http://localhost:5000/api/2.0/mlflow/runs/log-batch failed with exception HTTPConnectionPool(host=\\'localhost\\', port=5000): Max retries exceeded with url: /api/2.0/mlflow/runs/log-batch (Caused by ResponseError(\\'too many 500 error responses\\'))\")]')]\n",
      "2023/05/06 16:11:49 WARNING mlflow.utils.environment: Encountered an unexpected error while inferring pip requirements (model URI: C:\\Users\\Ayush\\AppData\\Local\\Temp\\tmprb98vyny\\model, flavor: xgboost), fall back to return ['xgboost==1.5.0']. Set logging level to DEBUG to see the full traceback.\n"
     ]
    },
    {
     "name": "stdout",
     "output_type": "stream",
     "text": [
      "Training AUC is: 1.000000                                                                                              \n",
      "Test AUC is: 0.519868                                                                                                  \n",
      "Training accuracy is: 1.000000                                                                                         \n",
      "Test accuracy is: 0.520000                                                                                             \n",
      " 76%|███████████████████████████████▏         | 76/100 [1:32:23<1:23:08, 207.84s/trial, best loss: -0.5483333333333333]"
     ]
    },
    {
     "name": "stderr",
     "output_type": "stream",
     "text": [
      "C:\\Users\\Ayush\\Anaconda3\\lib\\site-packages\\xgboost\\sklearn.py:1224: UserWarning: The use of label encoder in XGBClassifier is deprecated and will be removed in a future release. To remove this warning, do the following: 1) Pass option use_label_encoder=False when constructing XGBClassifier object; and 2) Encode your labels (y) as integers starting with 0, i.e. 0, 1, 2, ..., [num_class - 1].\n",
      "  warnings.warn(label_encoder_deprecation_msg, UserWarning)\n",
      "\n"
     ]
    },
    {
     "name": "stdout",
     "output_type": "stream",
     "text": [
      "[16:12:24] WARNING: D:\\bld\\xgboost-split_1637426510059\\work\\src\\learner.cc:1115: Starting in XGBoost 1.3.0, the default evaluation metric used with the objective 'binary:logistic' was changed from 'error' to 'logloss'. Explicitly set eval_metric if you'd like to restore the old behavior.\n",
      " 76%|███████████████████████████████▏         | 76/100 [1:32:23<1:23:08, 207.84s/trial, best loss: -0.5483333333333333]"
     ]
    },
    {
     "name": "stderr",
     "output_type": "stream",
     "text": [
      "2023/05/06 16:14:01 WARNING mlflow.utils.autologging_utils: Encountered unexpected error during xgboost autologging: The following failures occurred while performing one or more logging operations: [MlflowException('Failed to perform one or more operations on the run with ID 598aca6afcea493582375404530c40da. Failed operations: [MlflowException(\"API request to http://localhost:5000/api/2.0/mlflow/runs/log-batch failed with exception HTTPConnectionPool(host=\\'localhost\\', port=5000): Max retries exceeded with url: /api/2.0/mlflow/runs/log-batch (Caused by ResponseError(\\'too many 500 error responses\\'))\")]')]\n",
      "2023/05/06 16:16:18 WARNING mlflow.utils.environment: Encountered an unexpected error while inferring pip requirements (model URI: C:\\Users\\Ayush\\AppData\\Local\\Temp\\tmpw9b30j2e\\model, flavor: xgboost), fall back to return ['xgboost==1.5.0']. Set logging level to DEBUG to see the full traceback.\n"
     ]
    },
    {
     "name": "stdout",
     "output_type": "stream",
     "text": [
      "Training AUC is: 1.000000                                                                                              \n",
      "Test AUC is: 0.460109                                                                                                  \n",
      "Training accuracy is: 1.000000                                                                                         \n",
      "Test accuracy is: 0.460000                                                                                             \n",
      "[16:18:25] WARNING: D:\\bld\\xgboost-split_1637426510059\\work\\src\\learner.cc:1115: Starting in XGBoost 1.3.0, the default evaluation metric used with the objective 'binary:logistic' was changed from 'error' to 'logloss'. Explicitly set eval_metric if you'd like to restore the old behavior.\n",
      " 77%|███████████████████████████████▌         | 77/100 [1:38:24<1:31:12, 237.94s/trial, best loss: -0.5483333333333333]"
     ]
    },
    {
     "name": "stderr",
     "output_type": "stream",
     "text": [
      "C:\\Users\\Ayush\\Anaconda3\\lib\\site-packages\\xgboost\\sklearn.py:1224: UserWarning: The use of label encoder in XGBClassifier is deprecated and will be removed in a future release. To remove this warning, do the following: 1) Pass option use_label_encoder=False when constructing XGBClassifier object; and 2) Encode your labels (y) as integers starting with 0, i.e. 0, 1, 2, ..., [num_class - 1].\n",
      "  warnings.warn(label_encoder_deprecation_msg, UserWarning)\n",
      "\n",
      "2023/05/06 16:20:09 WARNING mlflow.utils.autologging_utils: Encountered unexpected error during xgboost autologging: The following failures occurred while performing one or more logging operations: [MlflowException('Failed to perform one or more operations on the run with ID 598aca6afcea493582375404530c40da. Failed operations: [MlflowException(\"API request to http://localhost:5000/api/2.0/mlflow/runs/log-batch failed with exception HTTPConnectionPool(host=\\'localhost\\', port=5000): Max retries exceeded with url: /api/2.0/mlflow/runs/log-batch (Caused by ResponseError(\\'too many 500 error responses\\'))\")]')]\n"
     ]
    },
    {
     "name": "stdout",
     "output_type": "stream",
     "text": [
      "Training AUC is: 0.997919                                                                                              \n",
      "Test AUC is: 0.550113                                                                                                  \n",
      "Training accuracy is: 0.997917                                                                                         \n",
      "Test accuracy is: 0.550000                                                                                             \n",
      "[16:20:32] WARNING: D:\\bld\\xgboost-split_1637426510059\\work\\src\\learner.cc:1115: Starting in XGBoost 1.3.0, the default evaluation metric used with the objective 'binary:logistic' was changed from 'error' to 'logloss'. Explicitly set eval_metric if you'd like to restore the old behavior.\n",
      " 78%|██████████████████████████████████████████▉            | 78/100 [1:40:30<1:20:47, 220.35s/trial, best loss: -0.55]"
     ]
    },
    {
     "name": "stderr",
     "output_type": "stream",
     "text": [
      "C:\\Users\\Ayush\\Anaconda3\\lib\\site-packages\\xgboost\\sklearn.py:1224: UserWarning: The use of label encoder in XGBClassifier is deprecated and will be removed in a future release. To remove this warning, do the following: 1) Pass option use_label_encoder=False when constructing XGBClassifier object; and 2) Encode your labels (y) as integers starting with 0, i.e. 0, 1, 2, ..., [num_class - 1].\n",
      "  warnings.warn(label_encoder_deprecation_msg, UserWarning)\n",
      "\n",
      "2023/05/06 16:21:32 WARNING mlflow.utils.autologging_utils: Encountered unexpected error during xgboost autologging: The following failures occurred while performing one or more logging operations: [MlflowException('Failed to perform one or more operations on the run with ID 598aca6afcea493582375404530c40da. Failed operations: [MlflowException(\"API request to http://localhost:5000/api/2.0/mlflow/runs/log-batch failed with exception HTTPConnectionPool(host=\\'localhost\\', port=5000): Max retries exceeded with url: /api/2.0/mlflow/runs/log-batch (Caused by ResponseError(\\'too many 500 error responses\\'))\")]')]\n"
     ]
    },
    {
     "name": "stdout",
     "output_type": "stream",
     "text": [
      "Training AUC is: 0.947500                                                                                              \n",
      "Test AUC is: 0.503245                                                                                                  \n",
      "Training accuracy is: 0.947500                                                                                         \n",
      "Test accuracy is: 0.503333                                                                                             \n",
      "[16:21:37] WARNING: D:\\bld\\xgboost-split_1637426510059\\work\\src\\learner.cc:1115: Starting in XGBoost 1.3.0, the default evaluation metric used with the objective 'binary:logistic' was changed from 'error' to 'logloss'. Explicitly set eval_metric if you'd like to restore the old behavior.\n",
      " 79%|███████████████████████████████████████████▍           | 79/100 [1:41:36<1:00:51, 173.88s/trial, best loss: -0.55]"
     ]
    },
    {
     "name": "stderr",
     "output_type": "stream",
     "text": [
      "C:\\Users\\Ayush\\Anaconda3\\lib\\site-packages\\xgboost\\sklearn.py:1224: UserWarning: The use of label encoder in XGBClassifier is deprecated and will be removed in a future release. To remove this warning, do the following: 1) Pass option use_label_encoder=False when constructing XGBClassifier object; and 2) Encode your labels (y) as integers starting with 0, i.e. 0, 1, 2, ..., [num_class - 1].\n",
      "  warnings.warn(label_encoder_deprecation_msg, UserWarning)\n",
      "\n",
      "2023/05/06 16:22:37 WARNING mlflow.utils.autologging_utils: Encountered unexpected error during xgboost autologging: The following failures occurred while performing one or more logging operations: [MlflowException('Failed to perform one or more operations on the run with ID 598aca6afcea493582375404530c40da. Failed operations: [MlflowException(\"API request to http://localhost:5000/api/2.0/mlflow/runs/log-batch failed with exception HTTPConnectionPool(host=\\'localhost\\', port=5000): Max retries exceeded with url: /api/2.0/mlflow/runs/log-batch (Caused by ResponseError(\\'too many 500 error responses\\'))\")]')]\n"
     ]
    },
    {
     "name": "stdout",
     "output_type": "stream",
     "text": [
      "Training AUC is: 0.974165                                                                                              \n",
      "Test AUC is: 0.483466                                                                                                  \n",
      "Training accuracy is: 0.974167                                                                                         \n",
      "Test accuracy is: 0.483333                                                                                             \n",
      "[16:22:43] WARNING: D:\\bld\\xgboost-split_1637426510059\\work\\src\\learner.cc:1115: Starting in XGBoost 1.3.0, the default evaluation metric used with the objective 'binary:logistic' was changed from 'error' to 'logloss'. Explicitly set eval_metric if you'd like to restore the old behavior.\n",
      " 80%|█████████████████████████████████████████████▌           | 80/100 [1:42:41<47:07, 141.38s/trial, best loss: -0.55]"
     ]
    },
    {
     "name": "stderr",
     "output_type": "stream",
     "text": [
      "C:\\Users\\Ayush\\Anaconda3\\lib\\site-packages\\xgboost\\sklearn.py:1224: UserWarning: The use of label encoder in XGBClassifier is deprecated and will be removed in a future release. To remove this warning, do the following: 1) Pass option use_label_encoder=False when constructing XGBClassifier object; and 2) Encode your labels (y) as integers starting with 0, i.e. 0, 1, 2, ..., [num_class - 1].\n",
      "  warnings.warn(label_encoder_deprecation_msg, UserWarning)\n",
      "\n",
      "2023/05/06 16:23:43 WARNING mlflow.utils.autologging_utils: Encountered unexpected error during xgboost autologging: The following failures occurred while performing one or more logging operations: [MlflowException('Failed to perform one or more operations on the run with ID 598aca6afcea493582375404530c40da. Failed operations: [MlflowException(\"API request to http://localhost:5000/api/2.0/mlflow/runs/log-batch failed with exception HTTPConnectionPool(host=\\'localhost\\', port=5000): Max retries exceeded with url: /api/2.0/mlflow/runs/log-batch (Caused by ResponseError(\\'too many 500 error responses\\'))\")]')]\n"
     ]
    },
    {
     "name": "stdout",
     "output_type": "stream",
     "text": [
      "Training AUC is: 0.991668                                                                                              \n",
      "Test AUC is: 0.500178                                                                                                  \n",
      "Training accuracy is: 0.991667                                                                                         \n",
      "Test accuracy is: 0.500000                                                                                             \n",
      "[16:23:48] WARNING: D:\\bld\\xgboost-split_1637426510059\\work\\src\\learner.cc:1115: Starting in XGBoost 1.3.0, the default evaluation metric used with the objective 'binary:logistic' was changed from 'error' to 'logloss'. Explicitly set eval_metric if you'd like to restore the old behavior.\n",
      " 81%|██████████████████████████████████████████████▏          | 81/100 [1:43:47<37:33, 118.62s/trial, best loss: -0.55]"
     ]
    },
    {
     "name": "stderr",
     "output_type": "stream",
     "text": [
      "C:\\Users\\Ayush\\Anaconda3\\lib\\site-packages\\xgboost\\sklearn.py:1224: UserWarning: The use of label encoder in XGBClassifier is deprecated and will be removed in a future release. To remove this warning, do the following: 1) Pass option use_label_encoder=False when constructing XGBClassifier object; and 2) Encode your labels (y) as integers starting with 0, i.e. 0, 1, 2, ..., [num_class - 1].\n",
      "  warnings.warn(label_encoder_deprecation_msg, UserWarning)\n",
      "\n",
      "2023/05/06 16:24:48 WARNING mlflow.utils.autologging_utils: Encountered unexpected error during xgboost autologging: The following failures occurred while performing one or more logging operations: [MlflowException('Failed to perform one or more operations on the run with ID 598aca6afcea493582375404530c40da. Failed operations: [MlflowException(\"API request to http://localhost:5000/api/2.0/mlflow/runs/log-batch failed with exception HTTPConnectionPool(host=\\'localhost\\', port=5000): Max retries exceeded with url: /api/2.0/mlflow/runs/log-batch (Caused by ResponseError(\\'too many 500 error responses\\'))\")]')]\n"
     ]
    },
    {
     "name": "stdout",
     "output_type": "stream",
     "text": [
      "Training AUC is: 1.000000                                                                                              \n",
      "Test AUC is: 0.545102                                                                                                  \n",
      "Training accuracy is: 1.000000                                                                                         \n",
      "Test accuracy is: 0.545000                                                                                             \n",
      "[16:24:54] WARNING: D:\\bld\\xgboost-split_1637426510059\\work\\src\\learner.cc:1115: Starting in XGBoost 1.3.0, the default evaluation metric used with the objective 'binary:logistic' was changed from 'error' to 'logloss'. Explicitly set eval_metric if you'd like to restore the old behavior.\n",
      " 82%|██████████████████████████████████████████████▋          | 82/100 [1:44:52<30:47, 102.66s/trial, best loss: -0.55]"
     ]
    },
    {
     "name": "stderr",
     "output_type": "stream",
     "text": [
      "C:\\Users\\Ayush\\Anaconda3\\lib\\site-packages\\xgboost\\sklearn.py:1224: UserWarning: The use of label encoder in XGBClassifier is deprecated and will be removed in a future release. To remove this warning, do the following: 1) Pass option use_label_encoder=False when constructing XGBClassifier object; and 2) Encode your labels (y) as integers starting with 0, i.e. 0, 1, 2, ..., [num_class - 1].\n",
      "  warnings.warn(label_encoder_deprecation_msg, UserWarning)\n",
      "\n",
      "2023/05/06 16:25:54 WARNING mlflow.utils.autologging_utils: Encountered unexpected error during xgboost autologging: The following failures occurred while performing one or more logging operations: [MlflowException('Failed to perform one or more operations on the run with ID 598aca6afcea493582375404530c40da. Failed operations: [MlflowException(\"API request to http://localhost:5000/api/2.0/mlflow/runs/log-batch failed with exception HTTPConnectionPool(host=\\'localhost\\', port=5000): Max retries exceeded with url: /api/2.0/mlflow/runs/log-batch (Caused by ResponseError(\\'too many 500 error responses\\'))\")]')]\n"
     ]
    },
    {
     "name": "stdout",
     "output_type": "stream",
     "text": [
      "Training AUC is: 0.683342                                                                                              \n",
      "Test AUC is: 0.513134                                                                                                  \n",
      "Training accuracy is: 0.683333                                                                                         \n",
      "Test accuracy is: 0.513333                                                                                             \n",
      "[16:25:59] WARNING: D:\\bld\\xgboost-split_1637426510059\\work\\src\\learner.cc:1115: Starting in XGBoost 1.3.0, the default evaluation metric used with the objective 'binary:logistic' was changed from 'error' to 'logloss'. Explicitly set eval_metric if you'd like to restore the old behavior.\n",
      " 83%|████████████████████████████████████████████████▏         | 83/100 [1:45:58<25:55, 91.50s/trial, best loss: -0.55]"
     ]
    },
    {
     "name": "stderr",
     "output_type": "stream",
     "text": [
      "C:\\Users\\Ayush\\Anaconda3\\lib\\site-packages\\xgboost\\sklearn.py:1224: UserWarning: The use of label encoder in XGBClassifier is deprecated and will be removed in a future release. To remove this warning, do the following: 1) Pass option use_label_encoder=False when constructing XGBClassifier object; and 2) Encode your labels (y) as integers starting with 0, i.e. 0, 1, 2, ..., [num_class - 1].\n",
      "  warnings.warn(label_encoder_deprecation_msg, UserWarning)\n",
      "\n",
      "2023/05/06 16:26:59 WARNING mlflow.utils.autologging_utils: Encountered unexpected error during xgboost autologging: The following failures occurred while performing one or more logging operations: [MlflowException('Failed to perform one or more operations on the run with ID 598aca6afcea493582375404530c40da. Failed operations: [MlflowException(\"API request to http://localhost:5000/api/2.0/mlflow/runs/log-batch failed with exception HTTPConnectionPool(host=\\'localhost\\', port=5000): Max retries exceeded with url: /api/2.0/mlflow/runs/log-batch (Caused by ResponseError(\\'too many 500 error responses\\'))\")]')]\n"
     ]
    },
    {
     "name": "stdout",
     "output_type": "stream",
     "text": [
      "Training AUC is: 0.972920                                                                                              \n",
      "Test AUC is: 0.479999                                                                                                  \n",
      "Training accuracy is: 0.972917                                                                                         \n",
      "Test accuracy is: 0.480000                                                                                             \n",
      "[16:27:04] WARNING: D:\\bld\\xgboost-split_1637426510059\\work\\src\\learner.cc:1115: Starting in XGBoost 1.3.0, the default evaluation metric used with the objective 'binary:logistic' was changed from 'error' to 'logloss'. Explicitly set eval_metric if you'd like to restore the old behavior.\n",
      " 84%|████████████████████████████████████████████████▋         | 84/100 [1:47:03<22:18, 83.66s/trial, best loss: -0.55]"
     ]
    },
    {
     "name": "stderr",
     "output_type": "stream",
     "text": [
      "C:\\Users\\Ayush\\Anaconda3\\lib\\site-packages\\xgboost\\sklearn.py:1224: UserWarning: The use of label encoder in XGBClassifier is deprecated and will be removed in a future release. To remove this warning, do the following: 1) Pass option use_label_encoder=False when constructing XGBClassifier object; and 2) Encode your labels (y) as integers starting with 0, i.e. 0, 1, 2, ..., [num_class - 1].\n",
      "  warnings.warn(label_encoder_deprecation_msg, UserWarning)\n",
      "\n",
      "2023/05/06 16:28:05 WARNING mlflow.utils.autologging_utils: Encountered unexpected error during xgboost autologging: The following failures occurred while performing one or more logging operations: [MlflowException('Failed to perform one or more operations on the run with ID 598aca6afcea493582375404530c40da. Failed operations: [MlflowException(\"API request to http://localhost:5000/api/2.0/mlflow/runs/log-batch failed with exception HTTPConnectionPool(host=\\'localhost\\', port=5000): Max retries exceeded with url: /api/2.0/mlflow/runs/log-batch (Caused by ResponseError(\\'too many 500 error responses\\'))\")]')]\n"
     ]
    },
    {
     "name": "stdout",
     "output_type": "stream",
     "text": [
      "Training AUC is: 0.987083                                                                                              \n",
      "Test AUC is: 0.483266                                                                                                  \n",
      "Training accuracy is: 0.987083                                                                                         \n",
      "Test accuracy is: 0.483333                                                                                             \n",
      "[16:28:10] WARNING: D:\\bld\\xgboost-split_1637426510059\\work\\src\\learner.cc:1115: Starting in XGBoost 1.3.0, the default evaluation metric used with the objective 'binary:logistic' was changed from 'error' to 'logloss'. Explicitly set eval_metric if you'd like to restore the old behavior.\n",
      " 85%|█████████████████████████████████████████████████▎        | 85/100 [1:48:08<19:32, 78.14s/trial, best loss: -0.55]"
     ]
    },
    {
     "name": "stderr",
     "output_type": "stream",
     "text": [
      "C:\\Users\\Ayush\\Anaconda3\\lib\\site-packages\\xgboost\\sklearn.py:1224: UserWarning: The use of label encoder in XGBClassifier is deprecated and will be removed in a future release. To remove this warning, do the following: 1) Pass option use_label_encoder=False when constructing XGBClassifier object; and 2) Encode your labels (y) as integers starting with 0, i.e. 0, 1, 2, ..., [num_class - 1].\n",
      "  warnings.warn(label_encoder_deprecation_msg, UserWarning)\n",
      "\n",
      "2023/05/06 16:29:10 WARNING mlflow.utils.autologging_utils: Encountered unexpected error during xgboost autologging: The following failures occurred while performing one or more logging operations: [MlflowException('Failed to perform one or more operations on the run with ID 598aca6afcea493582375404530c40da. Failed operations: [MlflowException(\"API request to http://localhost:5000/api/2.0/mlflow/runs/log-batch failed with exception HTTPConnectionPool(host=\\'localhost\\', port=5000): Max retries exceeded with url: /api/2.0/mlflow/runs/log-batch (Caused by ResponseError(\\'too many 500 error responses\\'))\")]')]\n"
     ]
    },
    {
     "name": "stdout",
     "output_type": "stream",
     "text": [
      "Training AUC is: 0.998333                                                                                              \n",
      "Test AUC is: 0.544791                                                                                                  \n",
      "Training accuracy is: 0.998333                                                                                         \n",
      "Test accuracy is: 0.545000                                                                                             \n",
      "[16:29:15] WARNING: D:\\bld\\xgboost-split_1637426510059\\work\\src\\learner.cc:1115: Starting in XGBoost 1.3.0, the default evaluation metric used with the objective 'binary:logistic' was changed from 'error' to 'logloss'. Explicitly set eval_metric if you'd like to restore the old behavior.\n",
      " 86%|█████████████████████████████████████████████████▉        | 86/100 [1:49:14<17:20, 74.30s/trial, best loss: -0.55]"
     ]
    },
    {
     "name": "stderr",
     "output_type": "stream",
     "text": [
      "C:\\Users\\Ayush\\Anaconda3\\lib\\site-packages\\xgboost\\sklearn.py:1224: UserWarning: The use of label encoder in XGBClassifier is deprecated and will be removed in a future release. To remove this warning, do the following: 1) Pass option use_label_encoder=False when constructing XGBClassifier object; and 2) Encode your labels (y) as integers starting with 0, i.e. 0, 1, 2, ..., [num_class - 1].\n",
      "  warnings.warn(label_encoder_deprecation_msg, UserWarning)\n",
      "\n",
      "2023/05/06 16:30:15 WARNING mlflow.utils.autologging_utils: Encountered unexpected error during xgboost autologging: The following failures occurred while performing one or more logging operations: [MlflowException('Failed to perform one or more operations on the run with ID 598aca6afcea493582375404530c40da. Failed operations: [MlflowException(\"API request to http://localhost:5000/api/2.0/mlflow/runs/log-batch failed with exception HTTPConnectionPool(host=\\'localhost\\', port=5000): Max retries exceeded with url: /api/2.0/mlflow/runs/log-batch (Caused by ResponseError(\\'too many 500 error responses\\'))\")]')]\n"
     ]
    },
    {
     "name": "stdout",
     "output_type": "stream",
     "text": [
      "Training AUC is: 0.777943                                                                                              \n",
      "Test AUC is: 0.508456                                                                                                  \n",
      "Training accuracy is: 0.777917                                                                                         \n",
      "Test accuracy is: 0.508333                                                                                             \n",
      "[16:30:20] WARNING: D:\\bld\\xgboost-split_1637426510059\\work\\src\\learner.cc:1115: Starting in XGBoost 1.3.0, the default evaluation metric used with the objective 'binary:logistic' was changed from 'error' to 'logloss'. Explicitly set eval_metric if you'd like to restore the old behavior.\n",
      " 87%|██████████████████████████████████████████████████▍       | 87/100 [1:50:19<15:31, 71.62s/trial, best loss: -0.55]"
     ]
    },
    {
     "name": "stderr",
     "output_type": "stream",
     "text": [
      "C:\\Users\\Ayush\\Anaconda3\\lib\\site-packages\\xgboost\\sklearn.py:1224: UserWarning: The use of label encoder in XGBClassifier is deprecated and will be removed in a future release. To remove this warning, do the following: 1) Pass option use_label_encoder=False when constructing XGBClassifier object; and 2) Encode your labels (y) as integers starting with 0, i.e. 0, 1, 2, ..., [num_class - 1].\n",
      "  warnings.warn(label_encoder_deprecation_msg, UserWarning)\n",
      "\n",
      "2023/05/06 16:31:21 WARNING mlflow.utils.autologging_utils: Encountered unexpected error during xgboost autologging: The following failures occurred while performing one or more logging operations: [MlflowException('Failed to perform one or more operations on the run with ID 598aca6afcea493582375404530c40da. Failed operations: [MlflowException(\"API request to http://localhost:5000/api/2.0/mlflow/runs/log-batch failed with exception HTTPConnectionPool(host=\\'localhost\\', port=5000): Max retries exceeded with url: /api/2.0/mlflow/runs/log-batch (Caused by ResponseError(\\'too many 500 error responses\\'))\")]')]\n"
     ]
    },
    {
     "name": "stdout",
     "output_type": "stream",
     "text": [
      "Training AUC is: 1.000000                                                                                              \n",
      "Test AUC is: 0.491766                                                                                                  \n",
      "Training accuracy is: 1.000000                                                                                         \n",
      "Test accuracy is: 0.491667                                                                                             \n",
      "[16:31:26] WARNING: D:\\bld\\xgboost-split_1637426510059\\work\\src\\learner.cc:1115: Starting in XGBoost 1.3.0, the default evaluation metric used with the objective 'binary:logistic' was changed from 'error' to 'logloss'. Explicitly set eval_metric if you'd like to restore the old behavior.\n",
      " 88%|███████████████████████████████████████████████████       | 88/100 [1:51:25<13:57, 69.78s/trial, best loss: -0.55]"
     ]
    },
    {
     "name": "stderr",
     "output_type": "stream",
     "text": [
      "C:\\Users\\Ayush\\Anaconda3\\lib\\site-packages\\xgboost\\sklearn.py:1224: UserWarning: The use of label encoder in XGBClassifier is deprecated and will be removed in a future release. To remove this warning, do the following: 1) Pass option use_label_encoder=False when constructing XGBClassifier object; and 2) Encode your labels (y) as integers starting with 0, i.e. 0, 1, 2, ..., [num_class - 1].\n",
      "  warnings.warn(label_encoder_deprecation_msg, UserWarning)\n",
      "\n",
      "2023/05/06 16:32:26 WARNING mlflow.utils.autologging_utils: Encountered unexpected error during xgboost autologging: The following failures occurred while performing one or more logging operations: [MlflowException('Failed to perform one or more operations on the run with ID 598aca6afcea493582375404530c40da. Failed operations: [MlflowException(\"API request to http://localhost:5000/api/2.0/mlflow/runs/log-batch failed with exception HTTPConnectionPool(host=\\'localhost\\', port=5000): Max retries exceeded with url: /api/2.0/mlflow/runs/log-batch (Caused by ResponseError(\\'too many 500 error responses\\'))\")]')]\n"
     ]
    },
    {
     "name": "stdout",
     "output_type": "stream",
     "text": [
      "Training AUC is: 1.000000                                                                                              \n",
      "Test AUC is: 0.481766                                                                                                  \n",
      "Training accuracy is: 1.000000                                                                                         \n",
      "Test accuracy is: 0.481667                                                                                             \n",
      "[16:32:32] WARNING: D:\\bld\\xgboost-split_1637426510059\\work\\src\\learner.cc:1115: Starting in XGBoost 1.3.0, the default evaluation metric used with the objective 'binary:logistic' was changed from 'error' to 'logloss'. Explicitly set eval_metric if you'd like to restore the old behavior.\n",
      " 89%|███████████████████████████████████████████████████▌      | 89/100 [1:52:31<12:34, 68.60s/trial, best loss: -0.55]"
     ]
    },
    {
     "name": "stderr",
     "output_type": "stream",
     "text": [
      "C:\\Users\\Ayush\\Anaconda3\\lib\\site-packages\\xgboost\\sklearn.py:1224: UserWarning: The use of label encoder in XGBClassifier is deprecated and will be removed in a future release. To remove this warning, do the following: 1) Pass option use_label_encoder=False when constructing XGBClassifier object; and 2) Encode your labels (y) as integers starting with 0, i.e. 0, 1, 2, ..., [num_class - 1].\n",
      "  warnings.warn(label_encoder_deprecation_msg, UserWarning)\n",
      "\n",
      "2023/05/06 16:33:32 WARNING mlflow.utils.autologging_utils: Encountered unexpected error during xgboost autologging: The following failures occurred while performing one or more logging operations: [MlflowException('Failed to perform one or more operations on the run with ID 598aca6afcea493582375404530c40da. Failed operations: [MlflowException(\"API request to http://localhost:5000/api/2.0/mlflow/runs/log-batch failed with exception HTTPConnectionPool(host=\\'localhost\\', port=5000): Max retries exceeded with url: /api/2.0/mlflow/runs/log-batch (Caused by ResponseError(\\'too many 500 error responses\\'))\")]')]\n"
     ]
    },
    {
     "name": "stdout",
     "output_type": "stream",
     "text": [
      "Training AUC is: 0.984583                                                                                              \n",
      "Test AUC is: 0.520201                                                                                                  \n",
      "Training accuracy is: 0.984583                                                                                         \n",
      "Test accuracy is: 0.520000                                                                                             \n",
      "[16:33:37] WARNING: D:\\bld\\xgboost-split_1637426510059\\work\\src\\learner.cc:1115: Starting in XGBoost 1.3.0, the default evaluation metric used with the objective 'binary:logistic' was changed from 'error' to 'logloss'. Explicitly set eval_metric if you'd like to restore the old behavior.\n",
      " 90%|████████████████████████████████████████████████████▏     | 90/100 [1:53:36<11:17, 67.70s/trial, best loss: -0.55]"
     ]
    },
    {
     "name": "stderr",
     "output_type": "stream",
     "text": [
      "C:\\Users\\Ayush\\Anaconda3\\lib\\site-packages\\xgboost\\sklearn.py:1224: UserWarning: The use of label encoder in XGBClassifier is deprecated and will be removed in a future release. To remove this warning, do the following: 1) Pass option use_label_encoder=False when constructing XGBClassifier object; and 2) Encode your labels (y) as integers starting with 0, i.e. 0, 1, 2, ..., [num_class - 1].\n",
      "  warnings.warn(label_encoder_deprecation_msg, UserWarning)\n",
      "\n",
      "2023/05/06 16:34:37 WARNING mlflow.utils.autologging_utils: Encountered unexpected error during xgboost autologging: The following failures occurred while performing one or more logging operations: [MlflowException('Failed to perform one or more operations on the run with ID 598aca6afcea493582375404530c40da. Failed operations: [MlflowException(\"API request to http://localhost:5000/api/2.0/mlflow/runs/log-batch failed with exception HTTPConnectionPool(host=\\'localhost\\', port=5000): Max retries exceeded with url: /api/2.0/mlflow/runs/log-batch (Caused by ResponseError(\\'too many 500 error responses\\'))\")]')]\n"
     ]
    },
    {
     "name": "stdout",
     "output_type": "stream",
     "text": [
      "Training AUC is: 1.000000                                                                                              \n",
      "Test AUC is: 0.483577                                                                                                  \n",
      "Training accuracy is: 1.000000                                                                                         \n",
      "Test accuracy is: 0.483333                                                                                             \n",
      " 91%|████████████████████████████████████████████████████▊     | 91/100 [1:54:41<10:03, 67.06s/trial, best loss: -0.55]"
     ]
    },
    {
     "name": "stderr",
     "output_type": "stream",
     "text": [
      "C:\\Users\\Ayush\\Anaconda3\\lib\\site-packages\\xgboost\\sklearn.py:1224: UserWarning: The use of label encoder in XGBClassifier is deprecated and will be removed in a future release. To remove this warning, do the following: 1) Pass option use_label_encoder=False when constructing XGBClassifier object; and 2) Encode your labels (y) as integers starting with 0, i.e. 0, 1, 2, ..., [num_class - 1].\n",
      "  warnings.warn(label_encoder_deprecation_msg, UserWarning)\n",
      "\n",
      "2023/05/06 16:34:43 ERROR mlflow.xgboost: Failed to log feature importance plot. XGBoost autologging will ignore the failure and continue. Exception: \n",
      "Traceback (most recent call last):\n",
      "  File \"C:\\Users\\Ayush\\Anaconda3\\lib\\site-packages\\mlflow\\xgboost\\__init__.py\", line 636, in train\n",
      "    features, importance = zip(*imp.items())\n",
      "ValueError: not enough values to unpack (expected 2, got 0)\n",
      "2023/05/06 16:35:43 WARNING mlflow.utils.autologging_utils: Encountered unexpected error during xgboost autologging: The following failures occurred while performing one or more logging operations: [MlflowException('Failed to perform one or more operations on the run with ID 598aca6afcea493582375404530c40da. Failed operations: [MlflowException(\"API request to http://localhost:5000/api/2.0/mlflow/runs/log-batch failed with exception HTTPConnectionPool(host=\\'localhost\\', port=5000): Max retries exceeded with url: /api/2.0/mlflow/runs/log-batch (Caused by ResponseError(\\'too many 500 error responses\\'))\")]')]\n"
     ]
    },
    {
     "name": "stdout",
     "output_type": "stream",
     "text": [
      "Training AUC is: 0.500000                                                                                              \n",
      "Test AUC is: 0.500000                                                                                                  \n",
      "Training accuracy is: 0.499167                                                                                         \n",
      "Test accuracy is: 0.503333                                                                                             \n",
      "[16:35:48] WARNING: D:\\bld\\xgboost-split_1637426510059\\work\\src\\learner.cc:1115: Starting in XGBoost 1.3.0, the default evaluation metric used with the objective 'binary:logistic' was changed from 'error' to 'logloss'. Explicitly set eval_metric if you'd like to restore the old behavior.\n",
      " 92%|█████████████████████████████████████████████████████▎    | 92/100 [1:55:47<08:53, 66.63s/trial, best loss: -0.55]"
     ]
    },
    {
     "name": "stderr",
     "output_type": "stream",
     "text": [
      "C:\\Users\\Ayush\\Anaconda3\\lib\\site-packages\\xgboost\\sklearn.py:1224: UserWarning: The use of label encoder in XGBClassifier is deprecated and will be removed in a future release. To remove this warning, do the following: 1) Pass option use_label_encoder=False when constructing XGBClassifier object; and 2) Encode your labels (y) as integers starting with 0, i.e. 0, 1, 2, ..., [num_class - 1].\n",
      "  warnings.warn(label_encoder_deprecation_msg, UserWarning)\n",
      "\n",
      "2023/05/06 16:36:49 WARNING mlflow.utils.autologging_utils: Encountered unexpected error during xgboost autologging: The following failures occurred while performing one or more logging operations: [MlflowException('Failed to perform one or more operations on the run with ID 598aca6afcea493582375404530c40da. Failed operations: [MlflowException(\"API request to http://localhost:5000/api/2.0/mlflow/runs/log-batch failed with exception HTTPConnectionPool(host=\\'localhost\\', port=5000): Max retries exceeded with url: /api/2.0/mlflow/runs/log-batch (Caused by ResponseError(\\'too many 500 error responses\\'))\")]')]\n"
     ]
    },
    {
     "name": "stdout",
     "output_type": "stream",
     "text": [
      "Training AUC is: 1.000000                                                                                              \n",
      "Test AUC is: 0.510000                                                                                                  \n",
      "Training accuracy is: 1.000000                                                                                         \n",
      "Test accuracy is: 0.510000                                                                                             \n",
      "[16:36:54] WARNING: D:\\bld\\xgboost-split_1637426510059\\work\\src\\learner.cc:1115: Starting in XGBoost 1.3.0, the default evaluation metric used with the objective 'binary:logistic' was changed from 'error' to 'logloss'. Explicitly set eval_metric if you'd like to restore the old behavior.\n",
      " 93%|█████████████████████████████████████████████████████▉    | 93/100 [1:56:53<07:43, 66.26s/trial, best loss: -0.55]"
     ]
    },
    {
     "name": "stderr",
     "output_type": "stream",
     "text": [
      "C:\\Users\\Ayush\\Anaconda3\\lib\\site-packages\\xgboost\\sklearn.py:1224: UserWarning: The use of label encoder in XGBClassifier is deprecated and will be removed in a future release. To remove this warning, do the following: 1) Pass option use_label_encoder=False when constructing XGBClassifier object; and 2) Encode your labels (y) as integers starting with 0, i.e. 0, 1, 2, ..., [num_class - 1].\n",
      "  warnings.warn(label_encoder_deprecation_msg, UserWarning)\n",
      "\n",
      "2023/05/06 16:37:54 WARNING mlflow.utils.autologging_utils: Encountered unexpected error during xgboost autologging: The following failures occurred while performing one or more logging operations: [MlflowException('Failed to perform one or more operations on the run with ID 598aca6afcea493582375404530c40da. Failed operations: [MlflowException(\"API request to http://localhost:5000/api/2.0/mlflow/runs/log-batch failed with exception HTTPConnectionPool(host=\\'localhost\\', port=5000): Max retries exceeded with url: /api/2.0/mlflow/runs/log-batch (Caused by ResponseError(\\'too many 500 error responses\\'))\")]')]\n"
     ]
    },
    {
     "name": "stdout",
     "output_type": "stream",
     "text": [
      "Training AUC is: 1.000000                                                                                              \n",
      "Test AUC is: 0.540313                                                                                                  \n",
      "Training accuracy is: 1.000000                                                                                         \n",
      "Test accuracy is: 0.540000                                                                                             \n",
      "[16:40:10] WARNING: D:\\bld\\xgboost-split_1637426510059\\work\\src\\learner.cc:1115: Starting in XGBoost 1.3.0, the default evaluation metric used with the objective 'binary:logistic' was changed from 'error' to 'logloss'. Explicitly set eval_metric if you'd like to restore the old behavior.\n",
      " 94%|█████████████████████████████████████████████████████▌   | 94/100 [2:00:08<10:26, 104.45s/trial, best loss: -0.55]"
     ]
    },
    {
     "name": "stderr",
     "output_type": "stream",
     "text": [
      "C:\\Users\\Ayush\\Anaconda3\\lib\\site-packages\\xgboost\\sklearn.py:1224: UserWarning: The use of label encoder in XGBClassifier is deprecated and will be removed in a future release. To remove this warning, do the following: 1) Pass option use_label_encoder=False when constructing XGBClassifier object; and 2) Encode your labels (y) as integers starting with 0, i.e. 0, 1, 2, ..., [num_class - 1].\n",
      "  warnings.warn(label_encoder_deprecation_msg, UserWarning)\n",
      "\n",
      "2023/05/06 16:41:12 WARNING mlflow.utils.autologging_utils: Encountered unexpected error during xgboost autologging: The following failures occurred while performing one or more logging operations: [MlflowException('Failed to perform one or more operations on the run with ID 598aca6afcea493582375404530c40da. Failed operations: [MlflowException(\"API request to http://localhost:5000/api/2.0/mlflow/runs/log-batch failed with exception HTTPConnectionPool(host=\\'localhost\\', port=5000): Max retries exceeded with url: /api/2.0/mlflow/runs/log-batch (Caused by ResponseError(\\'too many 500 error responses\\'))\")]')]\n"
     ]
    },
    {
     "name": "stdout",
     "output_type": "stream",
     "text": [
      "Training AUC is: 0.942085                                                                                              \n",
      "Test AUC is: 0.525212                                                                                                  \n",
      "Training accuracy is: 0.942083                                                                                         \n",
      "Test accuracy is: 0.525000                                                                                             \n",
      "[16:41:18] WARNING: D:\\bld\\xgboost-split_1637426510059\\work\\src\\learner.cc:1115: Starting in XGBoost 1.3.0, the default evaluation metric used with the objective 'binary:logistic' was changed from 'error' to 'logloss'. Explicitly set eval_metric if you'd like to restore the old behavior.\n",
      " 95%|███████████████████████████████████████████████████████   | 95/100 [2:01:16<07:50, 94.11s/trial, best loss: -0.55]"
     ]
    },
    {
     "name": "stderr",
     "output_type": "stream",
     "text": [
      "C:\\Users\\Ayush\\Anaconda3\\lib\\site-packages\\xgboost\\sklearn.py:1224: UserWarning: The use of label encoder in XGBClassifier is deprecated and will be removed in a future release. To remove this warning, do the following: 1) Pass option use_label_encoder=False when constructing XGBClassifier object; and 2) Encode your labels (y) as integers starting with 0, i.e. 0, 1, 2, ..., [num_class - 1].\n",
      "  warnings.warn(label_encoder_deprecation_msg, UserWarning)\n",
      "\n",
      "2023/05/06 16:42:52 WARNING mlflow.utils.autologging_utils: Encountered unexpected error during xgboost autologging: The following failures occurred while performing one or more logging operations: [MlflowException('Failed to perform one or more operations on the run with ID 598aca6afcea493582375404530c40da. Failed operations: [MlflowException(\"API request to http://localhost:5000/api/2.0/mlflow/runs/log-batch failed with exception HTTPConnectionPool(host=\\'localhost\\', port=5000): Max retries exceeded with url: /api/2.0/mlflow/runs/log-batch (Caused by ResponseError(\\'too many 500 error responses\\'))\")]')]\n"
     ]
    },
    {
     "name": "stdout",
     "output_type": "stream",
     "text": [
      "Training AUC is: 1.000000                                                                                              \n",
      "Test AUC is: 0.501900                                                                                                  \n",
      "Training accuracy is: 1.000000                                                                                         \n",
      "Test accuracy is: 0.501667                                                                                             \n",
      "[16:43:27] WARNING: D:\\bld\\xgboost-split_1637426510059\\work\\src\\learner.cc:1115: Starting in XGBoost 1.3.0, the default evaluation metric used with the objective 'binary:logistic' was changed from 'error' to 'logloss'. Explicitly set eval_metric if you'd like to restore the old behavior.\n",
      " 96%|██████████████████████████████████████████████████████▋  | 96/100 [2:03:25<06:58, 104.61s/trial, best loss: -0.55]"
     ]
    },
    {
     "name": "stderr",
     "output_type": "stream",
     "text": [
      "C:\\Users\\Ayush\\Anaconda3\\lib\\site-packages\\xgboost\\sklearn.py:1224: UserWarning: The use of label encoder in XGBClassifier is deprecated and will be removed in a future release. To remove this warning, do the following: 1) Pass option use_label_encoder=False when constructing XGBClassifier object; and 2) Encode your labels (y) as integers starting with 0, i.e. 0, 1, 2, ..., [num_class - 1].\n",
      "  warnings.warn(label_encoder_deprecation_msg, UserWarning)\n",
      "\n",
      "2023/05/06 16:44:27 WARNING mlflow.utils.autologging_utils: Encountered unexpected error during xgboost autologging: The following failures occurred while performing one or more logging operations: [MlflowException('Failed to perform one or more operations on the run with ID 598aca6afcea493582375404530c40da. Failed operations: [MlflowException(\"API request to http://localhost:5000/api/2.0/mlflow/runs/log-batch failed with exception HTTPConnectionPool(host=\\'localhost\\', port=5000): Max retries exceeded with url: /api/2.0/mlflow/runs/log-batch (Caused by ResponseError(\\'too many 500 error responses\\'))\")]')]\n"
     ]
    },
    {
     "name": "stdout",
     "output_type": "stream",
     "text": [
      "Training AUC is: 1.000000                                                                                              \n",
      "Test AUC is: 0.496822                                                                                                  \n",
      "Training accuracy is: 1.000000                                                                                         \n",
      "Test accuracy is: 0.496667                                                                                             \n",
      "[16:44:35] WARNING: D:\\bld\\xgboost-split_1637426510059\\work\\src\\learner.cc:1115: Starting in XGBoost 1.3.0, the default evaluation metric used with the objective 'binary:logistic' was changed from 'error' to 'logloss'. Explicitly set eval_metric if you'd like to restore the old behavior.\n",
      " 97%|████████████████████████████████████████████████████████▎ | 97/100 [2:04:33<04:40, 93.49s/trial, best loss: -0.55]"
     ]
    },
    {
     "name": "stderr",
     "output_type": "stream",
     "text": [
      "C:\\Users\\Ayush\\Anaconda3\\lib\\site-packages\\xgboost\\sklearn.py:1224: UserWarning: The use of label encoder in XGBClassifier is deprecated and will be removed in a future release. To remove this warning, do the following: 1) Pass option use_label_encoder=False when constructing XGBClassifier object; and 2) Encode your labels (y) as integers starting with 0, i.e. 0, 1, 2, ..., [num_class - 1].\n",
      "  warnings.warn(label_encoder_deprecation_msg, UserWarning)\n",
      "\n",
      "2023/05/06 16:45:36 WARNING mlflow.utils.autologging_utils: Encountered unexpected error during xgboost autologging: The following failures occurred while performing one or more logging operations: [MlflowException('Failed to perform one or more operations on the run with ID 598aca6afcea493582375404530c40da. Failed operations: [MlflowException(\"API request to http://localhost:5000/api/2.0/mlflow/runs/log-batch failed with exception HTTPConnectionPool(host=\\'localhost\\', port=5000): Max retries exceeded with url: /api/2.0/mlflow/runs/log-batch (Caused by ResponseError(\\'too many 500 error responses\\'))\")]')]\n"
     ]
    },
    {
     "name": "stdout",
     "output_type": "stream",
     "text": [
      "Training AUC is: 0.999584                                                                                              \n",
      "Test AUC is: 0.506667                                                                                                  \n",
      "Training accuracy is: 0.999583                                                                                         \n",
      "Test accuracy is: 0.506667                                                                                             \n",
      "[16:45:41] WARNING: D:\\bld\\xgboost-split_1637426510059\\work\\src\\learner.cc:1115: Starting in XGBoost 1.3.0, the default evaluation metric used with the objective 'binary:logistic' was changed from 'error' to 'logloss'. Explicitly set eval_metric if you'd like to restore the old behavior.\n",
      " 98%|████████████████████████████████████████████████████████▊ | 98/100 [2:05:40<02:51, 85.62s/trial, best loss: -0.55]"
     ]
    },
    {
     "name": "stderr",
     "output_type": "stream",
     "text": [
      "C:\\Users\\Ayush\\Anaconda3\\lib\\site-packages\\xgboost\\sklearn.py:1224: UserWarning: The use of label encoder in XGBClassifier is deprecated and will be removed in a future release. To remove this warning, do the following: 1) Pass option use_label_encoder=False when constructing XGBClassifier object; and 2) Encode your labels (y) as integers starting with 0, i.e. 0, 1, 2, ..., [num_class - 1].\n",
      "  warnings.warn(label_encoder_deprecation_msg, UserWarning)\n",
      "\n",
      "2023/05/06 16:46:41 WARNING mlflow.utils.autologging_utils: Encountered unexpected error during xgboost autologging: The following failures occurred while performing one or more logging operations: [MlflowException('Failed to perform one or more operations on the run with ID 598aca6afcea493582375404530c40da. Failed operations: [MlflowException(\"API request to http://localhost:5000/api/2.0/mlflow/runs/log-batch failed with exception HTTPConnectionPool(host=\\'localhost\\', port=5000): Max retries exceeded with url: /api/2.0/mlflow/runs/log-batch (Caused by ResponseError(\\'too many 500 error responses\\'))\")]')]\n"
     ]
    },
    {
     "name": "stdout",
     "output_type": "stream",
     "text": [
      "Training AUC is: 1.000000                                                                                              \n",
      "Test AUC is: 0.500111                                                                                                  \n",
      "Training accuracy is: 1.000000                                                                                         \n",
      "Test accuracy is: 0.500000                                                                                             \n",
      "[16:46:48] WARNING: D:\\bld\\xgboost-split_1637426510059\\work\\src\\learner.cc:1115: Starting in XGBoost 1.3.0, the default evaluation metric used with the objective 'binary:logistic' was changed from 'error' to 'logloss'. Explicitly set eval_metric if you'd like to restore the old behavior.\n",
      " 99%|█████████████████████████████████████████████████████████▍| 99/100 [2:06:47<01:19, 79.89s/trial, best loss: -0.55]"
     ]
    },
    {
     "name": "stderr",
     "output_type": "stream",
     "text": [
      "C:\\Users\\Ayush\\Anaconda3\\lib\\site-packages\\xgboost\\sklearn.py:1224: UserWarning: The use of label encoder in XGBClassifier is deprecated and will be removed in a future release. To remove this warning, do the following: 1) Pass option use_label_encoder=False when constructing XGBClassifier object; and 2) Encode your labels (y) as integers starting with 0, i.e. 0, 1, 2, ..., [num_class - 1].\n",
      "  warnings.warn(label_encoder_deprecation_msg, UserWarning)\n",
      "\n",
      "2023/05/06 16:47:48 WARNING mlflow.utils.autologging_utils: Encountered unexpected error during xgboost autologging: The following failures occurred while performing one or more logging operations: [MlflowException('Failed to perform one or more operations on the run with ID 598aca6afcea493582375404530c40da. Failed operations: [MlflowException(\"API request to http://localhost:5000/api/2.0/mlflow/runs/log-batch failed with exception HTTPConnectionPool(host=\\'localhost\\', port=5000): Max retries exceeded with url: /api/2.0/mlflow/runs/log-batch (Caused by ResponseError(\\'too many 500 error responses\\'))\")]')]\n"
     ]
    },
    {
     "name": "stdout",
     "output_type": "stream",
     "text": [
      "Training AUC is: 0.986665                                                                                              \n",
      "Test AUC is: 0.525057                                                                                                  \n",
      "Training accuracy is: 0.986667                                                                                         \n",
      "Test accuracy is: 0.525000                                                                                             \n",
      "100%|█████████████████████████████████████████████████████████| 100/100 [2:07:52<00:00, 76.73s/trial, best loss: -0.55]\n"
     ]
    }
   ],
   "source": [
    "trials = Trials()\n",
    "mlflow.end_run()\n",
    "best=None\n",
    "\n",
    "mlflow.end_run()\n",
    "\n",
    "# Launch the search\n",
    "with mlflow.start_run(experiment_id=experiment_id):\n",
    "    with mlflow.start_run(nested=True):\n",
    "        #log run tags \n",
    "        mlflow.set_tag('some_tag', 'Parallelized HyperOpt')\n",
    "    best = fmin(\n",
    "            fn=minmization_fn_xgb,\n",
    "            space=feature_space_xgb,\n",
    "            algo=tpe.suggest,\n",
    "            trials=trials,\n",
    "            max_evals=100\n",
    "    )\n",
    "        \n"
   ]
  },
  {
   "cell_type": "code",
   "execution_count": 21,
   "id": "dacdfba7",
   "metadata": {},
   "outputs": [
    {
     "name": "stdout",
     "output_type": "stream",
     "text": [
      "Best Run: {'classifier_type': 0, 'learning_rate': 0.32, 'max_depth': 15.0, 'n_estimators': 70.0, 'subsample': 0.3}\n"
     ]
    }
   ],
   "source": [
    "print(\"Best Run: {}\".format(best))"
   ]
  },
  {
   "cell_type": "code",
   "execution_count": 22,
   "id": "05307438",
   "metadata": {},
   "outputs": [
    {
     "name": "stdout",
     "output_type": "stream",
     "text": [
      "XGBClassifier(base_score=0.5, booster='gbtree', colsample_bylevel=1,\n",
      "              colsample_bynode=1, colsample_bytree=1, enable_categorical=False,\n",
      "              gamma=0, gpu_id=-1, importance_type=None,\n",
      "              interaction_constraints='', learning_rate=0.32, max_delta_step=0,\n",
      "              max_depth=15, min_child_weight=1, missing=nan,\n",
      "              monotone_constraints='()', n_estimators=70, n_jobs=4,\n",
      "              num_parallel_tree=1, predictor='auto', random_state=0,\n",
      "              reg_alpha=0, reg_lambda=1, scale_pos_weight=1, subsample=0.3,\n",
      "              tree_method='exact', validate_parameters=1, verbosity=None)\n",
      "Best Model Metrics and Parameters are: {'classifier_type': 0, 'learning_rate': 0.32, 'max_depth': 15.0, 'n_estimators': 70.0, 'subsample': 0.3}\n"
     ]
    }
   ],
   "source": [
    "best_model_gbt = trials.best_trial['result']['model']\n",
    "print(best_model_gbt)\n",
    "print(\"Best Model Metrics and Parameters are: {}\".format(best))"
   ]
  },
  {
   "cell_type": "code",
   "execution_count": 23,
   "id": "dc36ea34",
   "metadata": {},
   "outputs": [],
   "source": [
    "# Save gbt model\n",
    "with open(\"gbtModel.pkl\", \"wb\") as f:\n",
    "    pickle.dump(best_model_gbt, f)"
   ]
  },
  {
   "cell_type": "code",
   "execution_count": 24,
   "id": "ecb5c58f",
   "metadata": {},
   "outputs": [
    {
     "name": "stdout",
     "output_type": "stream",
     "text": [
      "\t ============ Training Set============\n",
      "              precision    recall  f1-score   support\n",
      "\n",
      "           0       1.00      1.00      1.00      1198\n",
      "           1       1.00      1.00      1.00      1202\n",
      "\n",
      "    accuracy                           1.00      2400\n",
      "   macro avg       1.00      1.00      1.00      2400\n",
      "weighted avg       1.00      1.00      1.00      2400\n",
      "\n",
      "AUC score is 0.9979187442187339\n",
      "\t ============ Test Set============\n",
      "              precision    recall  f1-score   support\n",
      "\n",
      "           0       0.56      0.53      0.54       302\n",
      "           1       0.55      0.57      0.56       298\n",
      "\n",
      "    accuracy                           0.55       600\n",
      "   macro avg       0.55      0.55      0.55       600\n",
      "weighted avg       0.55      0.55      0.55       600\n",
      "\n",
      "AUC score is 0.5501133383705943\n"
     ]
    }
   ],
   "source": [
    "# Model metrics\n",
    "def clf_evaluation(model, X_actual, y_actual):\n",
    "    y_pred=model.predict(X_actual)\n",
    "    \n",
    "    # Print Random Forest Model metrics\n",
    "    print(classification_report(y_actual, y_pred))\n",
    "    print('AUC score is', roc_auc_score(y_actual, y_pred))\n",
    "\n",
    "print(\"\\t\",\"=\"*12+\" Training Set\"+\"=\"*12)\n",
    "clf_evaluation(best_model_gbt, scaled_train, y_train)\n",
    "print(\"\\t\",\"=\"*12+\" Test Set\"+\"=\"*12)\n",
    "clf_evaluation(best_model_gbt, scaled_test, y_test)"
   ]
  },
  {
   "cell_type": "code",
   "execution_count": 25,
   "id": "b9947c98",
   "metadata": {},
   "outputs": [],
   "source": [
    "#get features\n",
    "imp_features = best_model_gbt.feature_importances_\n",
    "gbt_feature_imp = pd.DataFrame(imp_features)\n",
    "\n",
    "gbt_feature_imp=gbt_feature_imp.rename(columns={0:'Feature Importance'})\n",
    "gbt_feature_names=pd.DataFrame(features_list)\n",
    "gbt_feature_names=gbt_feature_names.rename(columns={0:'Feature Name'})\n",
    "gbt_feature_importance=pd.concat([gbt_feature_names, gbt_feature_imp], axis=1)\n",
    "gbt_feature_importance=gbt_feature_importance.sort_values(by='Feature Importance', ascending=False)"
   ]
  },
  {
   "cell_type": "markdown",
   "id": "84589c33",
   "metadata": {},
   "source": [
    "Since the accuracy of gbt is not so good, we will retrain it again using xgboost and lesser features"
   ]
  },
  {
   "cell_type": "code",
   "execution_count": 26,
   "id": "94b112be",
   "metadata": {},
   "outputs": [
    {
     "name": "stdout",
     "output_type": "stream",
     "text": [
      "(3000, 31)\n",
      "2100 30\n",
      "900 30\n",
      "Train seed Responders: 1056; Non Responders: 1044\n"
     ]
    },
    {
     "data": {
      "text/html": [
       "<div>\n",
       "<style scoped>\n",
       "    .dataframe tbody tr th:only-of-type {\n",
       "        vertical-align: middle;\n",
       "    }\n",
       "\n",
       "    .dataframe tbody tr th {\n",
       "        vertical-align: top;\n",
       "    }\n",
       "\n",
       "    .dataframe thead th {\n",
       "        text-align: right;\n",
       "    }\n",
       "</style>\n",
       "<table border=\"1\" class=\"dataframe\">\n",
       "  <thead>\n",
       "    <tr style=\"text-align: right;\">\n",
       "      <th></th>\n",
       "      <th>Feature_020</th>\n",
       "      <th>Feature_022</th>\n",
       "      <th>Feature_024</th>\n",
       "      <th>Feature_029</th>\n",
       "      <th>Feature_033</th>\n",
       "      <th>Feature_037</th>\n",
       "      <th>Feature_040</th>\n",
       "      <th>Feature_045</th>\n",
       "      <th>Feature_046</th>\n",
       "      <th>Feature_053</th>\n",
       "      <th>...</th>\n",
       "      <th>Feature_098</th>\n",
       "      <th>Feature_099</th>\n",
       "      <th>Feature_114</th>\n",
       "      <th>Feature_115</th>\n",
       "      <th>Feature_124</th>\n",
       "      <th>Feature_126</th>\n",
       "      <th>Feature_132</th>\n",
       "      <th>Feature_133</th>\n",
       "      <th>Feature_148</th>\n",
       "      <th>label</th>\n",
       "    </tr>\n",
       "    <tr>\n",
       "      <th>User_ID</th>\n",
       "      <th></th>\n",
       "      <th></th>\n",
       "      <th></th>\n",
       "      <th></th>\n",
       "      <th></th>\n",
       "      <th></th>\n",
       "      <th></th>\n",
       "      <th></th>\n",
       "      <th></th>\n",
       "      <th></th>\n",
       "      <th></th>\n",
       "      <th></th>\n",
       "      <th></th>\n",
       "      <th></th>\n",
       "      <th></th>\n",
       "      <th></th>\n",
       "      <th></th>\n",
       "      <th></th>\n",
       "      <th></th>\n",
       "      <th></th>\n",
       "      <th></th>\n",
       "    </tr>\n",
       "  </thead>\n",
       "  <tbody>\n",
       "    <tr>\n",
       "      <th>INT25666</th>\n",
       "      <td>2.275310</td>\n",
       "      <td>5.717779</td>\n",
       "      <td>0.699708</td>\n",
       "      <td>3.766486</td>\n",
       "      <td>1.644702</td>\n",
       "      <td>0.589319</td>\n",
       "      <td>2.389994</td>\n",
       "      <td>5.171867</td>\n",
       "      <td>0.192413</td>\n",
       "      <td>2.845417</td>\n",
       "      <td>...</td>\n",
       "      <td>1.327683</td>\n",
       "      <td>3.331128</td>\n",
       "      <td>9.919242</td>\n",
       "      <td>0.215096</td>\n",
       "      <td>4.434425</td>\n",
       "      <td>3.575505</td>\n",
       "      <td>7.589168</td>\n",
       "      <td>1.375561</td>\n",
       "      <td>9.165950</td>\n",
       "      <td>1</td>\n",
       "    </tr>\n",
       "    <tr>\n",
       "      <th>INT16465</th>\n",
       "      <td>5.102745</td>\n",
       "      <td>1.483328</td>\n",
       "      <td>4.799635</td>\n",
       "      <td>10.110183</td>\n",
       "      <td>1.992093</td>\n",
       "      <td>3.861800</td>\n",
       "      <td>8.046835</td>\n",
       "      <td>3.109428</td>\n",
       "      <td>7.017014</td>\n",
       "      <td>0.841681</td>\n",
       "      <td>...</td>\n",
       "      <td>0.669835</td>\n",
       "      <td>10.352973</td>\n",
       "      <td>4.205502</td>\n",
       "      <td>0.797404</td>\n",
       "      <td>3.156862</td>\n",
       "      <td>10.734502</td>\n",
       "      <td>2.041284</td>\n",
       "      <td>5.090492</td>\n",
       "      <td>3.929821</td>\n",
       "      <td>1</td>\n",
       "    </tr>\n",
       "    <tr>\n",
       "      <th>INT22387</th>\n",
       "      <td>1.644394</td>\n",
       "      <td>7.434647</td>\n",
       "      <td>4.454434</td>\n",
       "      <td>4.917835</td>\n",
       "      <td>2.322871</td>\n",
       "      <td>3.413896</td>\n",
       "      <td>0.465058</td>\n",
       "      <td>9.682595</td>\n",
       "      <td>8.957606</td>\n",
       "      <td>2.723355</td>\n",
       "      <td>...</td>\n",
       "      <td>0.121390</td>\n",
       "      <td>6.460395</td>\n",
       "      <td>0.977984</td>\n",
       "      <td>1.071582</td>\n",
       "      <td>3.865294</td>\n",
       "      <td>8.284223</td>\n",
       "      <td>9.788766</td>\n",
       "      <td>0.554804</td>\n",
       "      <td>5.991852</td>\n",
       "      <td>1</td>\n",
       "    </tr>\n",
       "    <tr>\n",
       "      <th>INT10150</th>\n",
       "      <td>2.130528</td>\n",
       "      <td>11.631759</td>\n",
       "      <td>5.949340</td>\n",
       "      <td>6.198519</td>\n",
       "      <td>1.621265</td>\n",
       "      <td>0.335832</td>\n",
       "      <td>0.811294</td>\n",
       "      <td>3.684588</td>\n",
       "      <td>6.771054</td>\n",
       "      <td>5.637880</td>\n",
       "      <td>...</td>\n",
       "      <td>6.055158</td>\n",
       "      <td>3.851346</td>\n",
       "      <td>2.365255</td>\n",
       "      <td>2.589257</td>\n",
       "      <td>3.917452</td>\n",
       "      <td>9.669703</td>\n",
       "      <td>7.325485</td>\n",
       "      <td>5.719532</td>\n",
       "      <td>8.246802</td>\n",
       "      <td>1</td>\n",
       "    </tr>\n",
       "    <tr>\n",
       "      <th>INT08730</th>\n",
       "      <td>6.700018</td>\n",
       "      <td>0.840431</td>\n",
       "      <td>6.198063</td>\n",
       "      <td>10.730696</td>\n",
       "      <td>2.292089</td>\n",
       "      <td>1.771471</td>\n",
       "      <td>4.198412</td>\n",
       "      <td>7.210886</td>\n",
       "      <td>4.866385</td>\n",
       "      <td>2.268747</td>\n",
       "      <td>...</td>\n",
       "      <td>1.819827</td>\n",
       "      <td>7.065220</td>\n",
       "      <td>3.797710</td>\n",
       "      <td>11.944679</td>\n",
       "      <td>4.824495</td>\n",
       "      <td>7.880906</td>\n",
       "      <td>5.343467</td>\n",
       "      <td>4.660071</td>\n",
       "      <td>6.544291</td>\n",
       "      <td>1</td>\n",
       "    </tr>\n",
       "  </tbody>\n",
       "</table>\n",
       "<p>5 rows × 31 columns</p>\n",
       "</div>"
      ],
      "text/plain": [
       "          Feature_020  Feature_022  Feature_024  Feature_029  Feature_033  \\\n",
       "User_ID                                                                     \n",
       "INT25666     2.275310     5.717779     0.699708     3.766486     1.644702   \n",
       "INT16465     5.102745     1.483328     4.799635    10.110183     1.992093   \n",
       "INT22387     1.644394     7.434647     4.454434     4.917835     2.322871   \n",
       "INT10150     2.130528    11.631759     5.949340     6.198519     1.621265   \n",
       "INT08730     6.700018     0.840431     6.198063    10.730696     2.292089   \n",
       "\n",
       "          Feature_037  Feature_040  Feature_045  Feature_046  Feature_053  \\\n",
       "User_ID                                                                     \n",
       "INT25666     0.589319     2.389994     5.171867     0.192413     2.845417   \n",
       "INT16465     3.861800     8.046835     3.109428     7.017014     0.841681   \n",
       "INT22387     3.413896     0.465058     9.682595     8.957606     2.723355   \n",
       "INT10150     0.335832     0.811294     3.684588     6.771054     5.637880   \n",
       "INT08730     1.771471     4.198412     7.210886     4.866385     2.268747   \n",
       "\n",
       "          ...  Feature_098  Feature_099  Feature_114  Feature_115  \\\n",
       "User_ID   ...                                                       \n",
       "INT25666  ...     1.327683     3.331128     9.919242     0.215096   \n",
       "INT16465  ...     0.669835    10.352973     4.205502     0.797404   \n",
       "INT22387  ...     0.121390     6.460395     0.977984     1.071582   \n",
       "INT10150  ...     6.055158     3.851346     2.365255     2.589257   \n",
       "INT08730  ...     1.819827     7.065220     3.797710    11.944679   \n",
       "\n",
       "          Feature_124  Feature_126  Feature_132  Feature_133  Feature_148  \\\n",
       "User_ID                                                                     \n",
       "INT25666     4.434425     3.575505     7.589168     1.375561     9.165950   \n",
       "INT16465     3.156862    10.734502     2.041284     5.090492     3.929821   \n",
       "INT22387     3.865294     8.284223     9.788766     0.554804     5.991852   \n",
       "INT10150     3.917452     9.669703     7.325485     5.719532     8.246802   \n",
       "INT08730     4.824495     7.880906     5.343467     4.660071     6.544291   \n",
       "\n",
       "          label  \n",
       "User_ID          \n",
       "INT25666      1  \n",
       "INT16465      1  \n",
       "INT22387      1  \n",
       "INT10150      1  \n",
       "INT08730      1  \n",
       "\n",
       "[5 rows x 31 columns]"
      ]
     },
     "execution_count": 26,
     "metadata": {},
     "output_type": "execute_result"
    }
   ],
   "source": [
    "top_features_gbt=gbt_feature_importance[:30]['Feature Name'].tolist()\n",
    "new_features_list=[f for f in features_list if f in top_features_gbt]\n",
    "\n",
    "modelinput_xgb = modelinput[new_features_list+['label']]\n",
    "print(modelinput_xgb.shape)\n",
    "\n",
    "X_train, X_test, y_train, y_test = train_test_split(modelinput_xgb.drop(['label'], axis=1), \n",
    "                                                    modelinput_xgb['label'], test_size=0.3, random_state=1233)\n",
    "\n",
    "print(X_train.shape[0], X_train.shape[1])\n",
    "print(X_test.shape[0], X_test.shape[1])\n",
    "\n",
    "print(\"Train seed Responders: {}; Non Responders: {}\".format(y_train.sum(), y_train.count()-y_train.sum()))\n",
    "\n",
    "scaler=MinMaxScaler()\n",
    "\n",
    "scaled_train=scaler.fit_transform(X_train)\n",
    "scaled_test=scaler.transform(X_test)\n",
    "\n",
    "modelinput_xgb.head()"
   ]
  },
  {
   "cell_type": "code",
   "execution_count": 27,
   "id": "88bb839c",
   "metadata": {},
   "outputs": [
    {
     "name": "stdout",
     "output_type": "stream",
     "text": [
      "[16:47:56] WARNING: D:\\bld\\xgboost-split_1637426510059\\work\\src\\learner.cc:1115: Starting in XGBoost 1.3.0, the default evaluation metric used with the objective 'binary:logistic' was changed from 'error' to 'logloss'. Explicitly set eval_metric if you'd like to restore the old behavior.\n",
      "  0%|                                                                          | 0/120 [00:00<?, ?trial/s, best loss=?]"
     ]
    },
    {
     "name": "stderr",
     "output_type": "stream",
     "text": [
      "C:\\Users\\Ayush\\Anaconda3\\lib\\site-packages\\xgboost\\sklearn.py:1224: UserWarning: The use of label encoder in XGBClassifier is deprecated and will be removed in a future release. To remove this warning, do the following: 1) Pass option use_label_encoder=False when constructing XGBClassifier object; and 2) Encode your labels (y) as integers starting with 0, i.e. 0, 1, 2, ..., [num_class - 1].\n",
      "  warnings.warn(label_encoder_deprecation_msg, UserWarning)\n",
      "\n"
     ]
    },
    {
     "name": "stdout",
     "output_type": "stream",
     "text": [
      "Training AUC is: 1.000000                                                                                              \n",
      "Test AUC is: 0.500207                                                                                                  \n",
      "Training accuracy is: 1.000000                                                                                         \n",
      "Test accuracy is: 0.500000                                                                                             \n",
      "[16:48:02] WARNING: D:\\bld\\xgboost-split_1637426510059\\work\\src\\learner.cc:1115: Starting in XGBoost 1.3.0, the default evaluation metric used with the objective 'binary:logistic' was changed from 'error' to 'logloss'. Explicitly set eval_metric if you'd like to restore the old behavior.\n",
      "  1%|▌                                                             | 1/120 [00:06<12:58,  6.54s/trial, best loss: -0.5]"
     ]
    },
    {
     "name": "stderr",
     "output_type": "stream",
     "text": [
      "C:\\Users\\Ayush\\Anaconda3\\lib\\site-packages\\xgboost\\sklearn.py:1224: UserWarning: The use of label encoder in XGBClassifier is deprecated and will be removed in a future release. To remove this warning, do the following: 1) Pass option use_label_encoder=False when constructing XGBClassifier object; and 2) Encode your labels (y) as integers starting with 0, i.e. 0, 1, 2, ..., [num_class - 1].\n",
      "  warnings.warn(label_encoder_deprecation_msg, UserWarning)\n",
      "\n",
      "2023/05/06 16:49:04 WARNING mlflow.utils.autologging_utils: Encountered unexpected error during xgboost autologging: The following failures occurred while performing one or more logging operations: [MlflowException('Failed to perform one or more operations on the run with ID 402f6f27e0a742b6ad5e739614697db9. Failed operations: [MlflowException(\"API request to http://localhost:5000/api/2.0/mlflow/runs/log-batch failed with exception HTTPConnectionPool(host=\\'localhost\\', port=5000): Max retries exceeded with url: /api/2.0/mlflow/runs/log-batch (Caused by ResponseError(\\'too many 500 error responses\\'))\")]')]\n"
     ]
    },
    {
     "name": "stdout",
     "output_type": "stream",
     "text": [
      "Training AUC is: 0.887049                                                                                              \n",
      "Test AUC is: 0.524567                                                                                                  \n",
      "Training accuracy is: 0.887143                                                                                         \n",
      "Test accuracy is: 0.524444                                                                                             \n",
      "[16:49:10] WARNING: D:\\bld\\xgboost-split_1637426510059\\work\\src\\learner.cc:1115: Starting in XGBoost 1.3.0, the default evaluation metric used with the objective 'binary:logistic' was changed from 'error' to 'logloss'. Explicitly set eval_metric if you'd like to restore the old behavior.\n",
      "  2%|▊                                            | 2/120 [01:14<1:23:45, 42.59s/trial, best loss: -0.5244444444444445]"
     ]
    },
    {
     "name": "stderr",
     "output_type": "stream",
     "text": [
      "C:\\Users\\Ayush\\Anaconda3\\lib\\site-packages\\xgboost\\sklearn.py:1224: UserWarning: The use of label encoder in XGBClassifier is deprecated and will be removed in a future release. To remove this warning, do the following: 1) Pass option use_label_encoder=False when constructing XGBClassifier object; and 2) Encode your labels (y) as integers starting with 0, i.e. 0, 1, 2, ..., [num_class - 1].\n",
      "  warnings.warn(label_encoder_deprecation_msg, UserWarning)\n",
      "\n",
      "2023/05/06 16:50:10 WARNING mlflow.utils.autologging_utils: Encountered unexpected error during xgboost autologging: The following failures occurred while performing one or more logging operations: [MlflowException('Failed to perform one or more operations on the run with ID 402f6f27e0a742b6ad5e739614697db9. Failed operations: [MlflowException(\"API request to http://localhost:5000/api/2.0/mlflow/runs/log-batch failed with exception HTTPConnectionPool(host=\\'localhost\\', port=5000): Max retries exceeded with url: /api/2.0/mlflow/runs/log-batch (Caused by ResponseError(\\'too many 500 error responses\\'))\")]')]\n"
     ]
    },
    {
     "name": "stdout",
     "output_type": "stream",
     "text": [
      "Training AUC is: 1.000000                                                                                              \n",
      "Test AUC is: 0.491110                                                                                                  \n",
      "Training accuracy is: 1.000000                                                                                         \n",
      "Test accuracy is: 0.491111                                                                                             \n",
      "[16:50:15] WARNING: D:\\bld\\xgboost-split_1637426510059\\work\\src\\learner.cc:1115: Starting in XGBoost 1.3.0, the default evaluation metric used with the objective 'binary:logistic' was changed from 'error' to 'logloss'. Explicitly set eval_metric if you'd like to restore the old behavior.\n",
      "  2%|█▏                                           | 3/120 [02:19<1:43:08, 52.89s/trial, best loss: -0.5244444444444445]"
     ]
    },
    {
     "name": "stderr",
     "output_type": "stream",
     "text": [
      "C:\\Users\\Ayush\\Anaconda3\\lib\\site-packages\\xgboost\\sklearn.py:1224: UserWarning: The use of label encoder in XGBClassifier is deprecated and will be removed in a future release. To remove this warning, do the following: 1) Pass option use_label_encoder=False when constructing XGBClassifier object; and 2) Encode your labels (y) as integers starting with 0, i.e. 0, 1, 2, ..., [num_class - 1].\n",
      "  warnings.warn(label_encoder_deprecation_msg, UserWarning)\n",
      "\n",
      "2023/05/06 16:51:15 WARNING mlflow.utils.autologging_utils: Encountered unexpected error during xgboost autologging: The following failures occurred while performing one or more logging operations: [MlflowException('Failed to perform one or more operations on the run with ID 402f6f27e0a742b6ad5e739614697db9. Failed operations: [MlflowException(\"API request to http://localhost:5000/api/2.0/mlflow/runs/log-batch failed with exception HTTPConnectionPool(host=\\'localhost\\', port=5000): Max retries exceeded with url: /api/2.0/mlflow/runs/log-batch (Caused by ResponseError(\\'too many 500 error responses\\'))\")]')]\n"
     ]
    },
    {
     "name": "stdout",
     "output_type": "stream",
     "text": [
      "Training AUC is: 0.973332                                                                                              \n",
      "Test AUC is: 0.508476                                                                                                  \n",
      "Training accuracy is: 0.973333                                                                                         \n",
      "Test accuracy is: 0.508889                                                                                             \n",
      "[16:51:20] WARNING: D:\\bld\\xgboost-split_1637426510059\\work\\src\\learner.cc:1115: Starting in XGBoost 1.3.0, the default evaluation metric used with the objective 'binary:logistic' was changed from 'error' to 'logloss'. Explicitly set eval_metric if you'd like to restore the old behavior.\n",
      "  3%|█▌                                           | 4/120 [03:24<1:51:37, 57.74s/trial, best loss: -0.5244444444444445]"
     ]
    },
    {
     "name": "stderr",
     "output_type": "stream",
     "text": [
      "C:\\Users\\Ayush\\Anaconda3\\lib\\site-packages\\xgboost\\sklearn.py:1224: UserWarning: The use of label encoder in XGBClassifier is deprecated and will be removed in a future release. To remove this warning, do the following: 1) Pass option use_label_encoder=False when constructing XGBClassifier object; and 2) Encode your labels (y) as integers starting with 0, i.e. 0, 1, 2, ..., [num_class - 1].\n",
      "  warnings.warn(label_encoder_deprecation_msg, UserWarning)\n",
      "\n",
      "2023/05/06 16:52:20 WARNING mlflow.utils.autologging_utils: Encountered unexpected error during xgboost autologging: The following failures occurred while performing one or more logging operations: [MlflowException('Failed to perform one or more operations on the run with ID 402f6f27e0a742b6ad5e739614697db9. Failed operations: [MlflowException(\"API request to http://localhost:5000/api/2.0/mlflow/runs/log-batch failed with exception HTTPConnectionPool(host=\\'localhost\\', port=5000): Max retries exceeded with url: /api/2.0/mlflow/runs/log-batch (Caused by ResponseError(\\'too many 500 error responses\\'))\")]')]\n"
     ]
    },
    {
     "name": "stdout",
     "output_type": "stream",
     "text": [
      "Training AUC is: 1.000000                                                                                              \n",
      "Test AUC is: 0.492413                                                                                                  \n",
      "Training accuracy is: 1.000000                                                                                         \n",
      "Test accuracy is: 0.492222                                                                                             \n",
      "[16:52:25] WARNING: D:\\bld\\xgboost-split_1637426510059\\work\\src\\learner.cc:1115: Starting in XGBoost 1.3.0, the default evaluation metric used with the objective 'binary:logistic' was changed from 'error' to 'logloss'. Explicitly set eval_metric if you'd like to restore the old behavior.\n",
      "  4%|█▉                                           | 5/120 [04:30<1:55:49, 60.43s/trial, best loss: -0.5244444444444445]"
     ]
    },
    {
     "name": "stderr",
     "output_type": "stream",
     "text": [
      "C:\\Users\\Ayush\\Anaconda3\\lib\\site-packages\\xgboost\\sklearn.py:1224: UserWarning: The use of label encoder in XGBClassifier is deprecated and will be removed in a future release. To remove this warning, do the following: 1) Pass option use_label_encoder=False when constructing XGBClassifier object; and 2) Encode your labels (y) as integers starting with 0, i.e. 0, 1, 2, ..., [num_class - 1].\n",
      "  warnings.warn(label_encoder_deprecation_msg, UserWarning)\n",
      "\n",
      "2023/05/06 16:53:26 WARNING mlflow.utils.autologging_utils: Encountered unexpected error during xgboost autologging: The following failures occurred while performing one or more logging operations: [MlflowException('Failed to perform one or more operations on the run with ID 402f6f27e0a742b6ad5e739614697db9. Failed operations: [MlflowException(\"API request to http://localhost:5000/api/2.0/mlflow/runs/log-batch failed with exception HTTPConnectionPool(host=\\'localhost\\', port=5000): Max retries exceeded with url: /api/2.0/mlflow/runs/log-batch (Caused by ResponseError(\\'too many 500 error responses\\'))\")]')]\n"
     ]
    },
    {
     "name": "stdout",
     "output_type": "stream",
     "text": [
      "Training AUC is: 0.945212                                                                                              \n",
      "Test AUC is: 0.508802                                                                                                  \n",
      "Training accuracy is: 0.945238                                                                                         \n",
      "Test accuracy is: 0.508889                                                                                             \n",
      "[16:53:31] WARNING: D:\\bld\\xgboost-split_1637426510059\\work\\src\\learner.cc:1115: Starting in XGBoost 1.3.0, the default evaluation metric used with the objective 'binary:logistic' was changed from 'error' to 'logloss'. Explicitly set eval_metric if you'd like to restore the old behavior.\n",
      "  5%|██▎                                          | 6/120 [05:35<1:57:52, 62.04s/trial, best loss: -0.5244444444444445]"
     ]
    },
    {
     "name": "stderr",
     "output_type": "stream",
     "text": [
      "C:\\Users\\Ayush\\Anaconda3\\lib\\site-packages\\xgboost\\sklearn.py:1224: UserWarning: The use of label encoder in XGBClassifier is deprecated and will be removed in a future release. To remove this warning, do the following: 1) Pass option use_label_encoder=False when constructing XGBClassifier object; and 2) Encode your labels (y) as integers starting with 0, i.e. 0, 1, 2, ..., [num_class - 1].\n",
      "  warnings.warn(label_encoder_deprecation_msg, UserWarning)\n",
      "\n",
      "2023/05/06 16:54:31 WARNING mlflow.utils.autologging_utils: Encountered unexpected error during xgboost autologging: The following failures occurred while performing one or more logging operations: [MlflowException('Failed to perform one or more operations on the run with ID 402f6f27e0a742b6ad5e739614697db9. Failed operations: [MlflowException(\"API request to http://localhost:5000/api/2.0/mlflow/runs/log-batch failed with exception HTTPConnectionPool(host=\\'localhost\\', port=5000): Max retries exceeded with url: /api/2.0/mlflow/runs/log-batch (Caused by ResponseError(\\'too many 500 error responses\\'))\")]')]\n"
     ]
    },
    {
     "name": "stdout",
     "output_type": "stream",
     "text": [
      "Training AUC is: 0.972353                                                                                              \n",
      "Test AUC is: 0.515618                                                                                                  \n",
      "Training accuracy is: 0.972381                                                                                         \n",
      "Test accuracy is: 0.515556                                                                                             \n",
      "[16:54:36] WARNING: D:\\bld\\xgboost-split_1637426510059\\work\\src\\learner.cc:1115: Starting in XGBoost 1.3.0, the default evaluation metric used with the objective 'binary:logistic' was changed from 'error' to 'logloss'. Explicitly set eval_metric if you'd like to restore the old behavior.\n",
      "  6%|██▋                                          | 7/120 [06:40<1:58:43, 63.04s/trial, best loss: -0.5244444444444445]"
     ]
    },
    {
     "name": "stderr",
     "output_type": "stream",
     "text": [
      "C:\\Users\\Ayush\\Anaconda3\\lib\\site-packages\\xgboost\\sklearn.py:1224: UserWarning: The use of label encoder in XGBClassifier is deprecated and will be removed in a future release. To remove this warning, do the following: 1) Pass option use_label_encoder=False when constructing XGBClassifier object; and 2) Encode your labels (y) as integers starting with 0, i.e. 0, 1, 2, ..., [num_class - 1].\n",
      "  warnings.warn(label_encoder_deprecation_msg, UserWarning)\n",
      "\n",
      "2023/05/06 16:55:36 WARNING mlflow.utils.autologging_utils: Encountered unexpected error during xgboost autologging: The following failures occurred while performing one or more logging operations: [MlflowException('Failed to perform one or more operations on the run with ID 402f6f27e0a742b6ad5e739614697db9. Failed operations: [MlflowException(\"API request to http://localhost:5000/api/2.0/mlflow/runs/log-batch failed with exception HTTPConnectionPool(host=\\'localhost\\', port=5000): Max retries exceeded with url: /api/2.0/mlflow/runs/log-batch (Caused by ResponseError(\\'too many 500 error responses\\'))\")]')]\n"
     ]
    },
    {
     "name": "stdout",
     "output_type": "stream",
     "text": [
      "Training AUC is: 1.000000                                                                                              \n",
      "Test AUC is: 0.504682                                                                                                  \n",
      "Training accuracy is: 1.000000                                                                                         \n",
      "Test accuracy is: 0.504444                                                                                             \n",
      "[16:55:42] WARNING: D:\\bld\\xgboost-split_1637426510059\\work\\src\\learner.cc:1115: Starting in XGBoost 1.3.0, the default evaluation metric used with the objective 'binary:logistic' was changed from 'error' to 'logloss'. Explicitly set eval_metric if you'd like to restore the old behavior.\n",
      "  7%|███                                          | 8/120 [07:46<1:59:32, 64.04s/trial, best loss: -0.5244444444444445]"
     ]
    },
    {
     "name": "stderr",
     "output_type": "stream",
     "text": [
      "C:\\Users\\Ayush\\Anaconda3\\lib\\site-packages\\xgboost\\sklearn.py:1224: UserWarning: The use of label encoder in XGBClassifier is deprecated and will be removed in a future release. To remove this warning, do the following: 1) Pass option use_label_encoder=False when constructing XGBClassifier object; and 2) Encode your labels (y) as integers starting with 0, i.e. 0, 1, 2, ..., [num_class - 1].\n",
      "  warnings.warn(label_encoder_deprecation_msg, UserWarning)\n",
      "\n",
      "2023/05/06 16:56:42 WARNING mlflow.utils.autologging_utils: Encountered unexpected error during xgboost autologging: The following failures occurred while performing one or more logging operations: [MlflowException('Failed to perform one or more operations on the run with ID 402f6f27e0a742b6ad5e739614697db9. Failed operations: [MlflowException(\"API request to http://localhost:5000/api/2.0/mlflow/runs/log-batch failed with exception HTTPConnectionPool(host=\\'localhost\\', port=5000): Max retries exceeded with url: /api/2.0/mlflow/runs/log-batch (Caused by ResponseError(\\'too many 500 error responses\\'))\")]')]\n"
     ]
    },
    {
     "name": "stdout",
     "output_type": "stream",
     "text": [
      "Training AUC is: 1.000000                                                                                              \n",
      "Test AUC is: 0.481271                                                                                                  \n",
      "Training accuracy is: 1.000000                                                                                         \n",
      "Test accuracy is: 0.481111                                                                                             \n",
      "[16:56:48] WARNING: D:\\bld\\xgboost-split_1637426510059\\work\\src\\learner.cc:1115: Starting in XGBoost 1.3.0, the default evaluation metric used with the objective 'binary:logistic' was changed from 'error' to 'logloss'. Explicitly set eval_metric if you'd like to restore the old behavior.\n",
      "  8%|███▍                                         | 9/120 [08:52<1:59:31, 64.61s/trial, best loss: -0.5244444444444445]"
     ]
    },
    {
     "name": "stderr",
     "output_type": "stream",
     "text": [
      "C:\\Users\\Ayush\\Anaconda3\\lib\\site-packages\\xgboost\\sklearn.py:1224: UserWarning: The use of label encoder in XGBClassifier is deprecated and will be removed in a future release. To remove this warning, do the following: 1) Pass option use_label_encoder=False when constructing XGBClassifier object; and 2) Encode your labels (y) as integers starting with 0, i.e. 0, 1, 2, ..., [num_class - 1].\n",
      "  warnings.warn(label_encoder_deprecation_msg, UserWarning)\n",
      "\n",
      "2023/05/06 16:57:48 WARNING mlflow.utils.autologging_utils: Encountered unexpected error during xgboost autologging: The following failures occurred while performing one or more logging operations: [MlflowException('Failed to perform one or more operations on the run with ID 402f6f27e0a742b6ad5e739614697db9. Failed operations: [MlflowException(\"API request to http://localhost:5000/api/2.0/mlflow/runs/log-batch failed with exception HTTPConnectionPool(host=\\'localhost\\', port=5000): Max retries exceeded with url: /api/2.0/mlflow/runs/log-batch (Caused by ResponseError(\\'too many 500 error responses\\'))\")]')]\n"
     ]
    },
    {
     "name": "stdout",
     "output_type": "stream",
     "text": [
      "Training AUC is: 1.000000                                                                                              \n",
      "Test AUC is: 0.517870                                                                                                  \n",
      "Training accuracy is: 1.000000                                                                                         \n",
      "Test accuracy is: 0.517778                                                                                             \n",
      "[16:57:53] WARNING: D:\\bld\\xgboost-split_1637426510059\\work\\src\\learner.cc:1115: Starting in XGBoost 1.3.0, the default evaluation metric used with the objective 'binary:logistic' was changed from 'error' to 'logloss'. Explicitly set eval_metric if you'd like to restore the old behavior.\n",
      "  8%|███▋                                        | 10/120 [09:57<1:58:49, 64.82s/trial, best loss: -0.5244444444444445]"
     ]
    },
    {
     "name": "stderr",
     "output_type": "stream",
     "text": [
      "C:\\Users\\Ayush\\Anaconda3\\lib\\site-packages\\xgboost\\sklearn.py:1224: UserWarning: The use of label encoder in XGBClassifier is deprecated and will be removed in a future release. To remove this warning, do the following: 1) Pass option use_label_encoder=False when constructing XGBClassifier object; and 2) Encode your labels (y) as integers starting with 0, i.e. 0, 1, 2, ..., [num_class - 1].\n",
      "  warnings.warn(label_encoder_deprecation_msg, UserWarning)\n",
      "\n",
      "2023/05/06 16:58:53 WARNING mlflow.utils.autologging_utils: Encountered unexpected error during xgboost autologging: The following failures occurred while performing one or more logging operations: [MlflowException('Failed to perform one or more operations on the run with ID 402f6f27e0a742b6ad5e739614697db9. Failed operations: [MlflowException(\"API request to http://localhost:5000/api/2.0/mlflow/runs/log-batch failed with exception HTTPConnectionPool(host=\\'localhost\\', port=5000): Max retries exceeded with url: /api/2.0/mlflow/runs/log-batch (Caused by ResponseError(\\'too many 500 error responses\\'))\")]')]\n"
     ]
    },
    {
     "name": "stdout",
     "output_type": "stream",
     "text": [
      "Training AUC is: 0.998569                                                                                              \n",
      "Test AUC is: 0.496859                                                                                                  \n",
      "Training accuracy is: 0.998571                                                                                         \n",
      "Test accuracy is: 0.496667                                                                                             \n",
      "[16:58:58] WARNING: D:\\bld\\xgboost-split_1637426510059\\work\\src\\learner.cc:1115: Starting in XGBoost 1.3.0, the default evaluation metric used with the objective 'binary:logistic' was changed from 'error' to 'logloss'. Explicitly set eval_metric if you'd like to restore the old behavior.\n",
      "  9%|████                                        | 11/120 [11:02<1:58:00, 64.96s/trial, best loss: -0.5244444444444445]"
     ]
    },
    {
     "name": "stderr",
     "output_type": "stream",
     "text": [
      "C:\\Users\\Ayush\\Anaconda3\\lib\\site-packages\\xgboost\\sklearn.py:1224: UserWarning: The use of label encoder in XGBClassifier is deprecated and will be removed in a future release. To remove this warning, do the following: 1) Pass option use_label_encoder=False when constructing XGBClassifier object; and 2) Encode your labels (y) as integers starting with 0, i.e. 0, 1, 2, ..., [num_class - 1].\n",
      "  warnings.warn(label_encoder_deprecation_msg, UserWarning)\n",
      "\n",
      "2023/05/06 16:59:58 WARNING mlflow.utils.autologging_utils: Encountered unexpected error during xgboost autologging: The following failures occurred while performing one or more logging operations: [MlflowException('Failed to perform one or more operations on the run with ID 402f6f27e0a742b6ad5e739614697db9. Failed operations: [MlflowException(\"API request to http://localhost:5000/api/2.0/mlflow/runs/log-batch failed with exception HTTPConnectionPool(host=\\'localhost\\', port=5000): Max retries exceeded with url: /api/2.0/mlflow/runs/log-batch (Caused by ResponseError(\\'too many 500 error responses\\'))\")]')]\n"
     ]
    },
    {
     "name": "stdout",
     "output_type": "stream",
     "text": [
      "Training AUC is: 0.726342                                                                                              \n",
      "Test AUC is: 0.478367                                                                                                  \n",
      "Training accuracy is: 0.726190                                                                                         \n",
      "Test accuracy is: 0.478889                                                                                             \n",
      "[17:00:06] WARNING: D:\\bld\\xgboost-split_1637426510059\\work\\src\\learner.cc:1115: Starting in XGBoost 1.3.0, the default evaluation metric used with the objective 'binary:logistic' was changed from 'error' to 'logloss'. Explicitly set eval_metric if you'd like to restore the old behavior.\n",
      " 10%|████▍                                       | 12/120 [12:10<1:58:28, 65.82s/trial, best loss: -0.5244444444444445]"
     ]
    },
    {
     "name": "stderr",
     "output_type": "stream",
     "text": [
      "C:\\Users\\Ayush\\Anaconda3\\lib\\site-packages\\xgboost\\sklearn.py:1224: UserWarning: The use of label encoder in XGBClassifier is deprecated and will be removed in a future release. To remove this warning, do the following: 1) Pass option use_label_encoder=False when constructing XGBClassifier object; and 2) Encode your labels (y) as integers starting with 0, i.e. 0, 1, 2, ..., [num_class - 1].\n",
      "  warnings.warn(label_encoder_deprecation_msg, UserWarning)\n",
      "\n",
      "2023/05/06 17:01:06 WARNING mlflow.utils.autologging_utils: Encountered unexpected error during xgboost autologging: The following failures occurred while performing one or more logging operations: [MlflowException('Failed to perform one or more operations on the run with ID 402f6f27e0a742b6ad5e739614697db9. Failed operations: [MlflowException(\"API request to http://localhost:5000/api/2.0/mlflow/runs/log-batch failed with exception HTTPConnectionPool(host=\\'localhost\\', port=5000): Max retries exceeded with url: /api/2.0/mlflow/runs/log-batch (Caused by ResponseError(\\'too many 500 error responses\\'))\")]')]\n"
     ]
    },
    {
     "name": "stdout",
     "output_type": "stream",
     "text": [
      "Training AUC is: 0.993817                                                                                              \n",
      "Test AUC is: 0.487820                                                                                                  \n",
      "Training accuracy is: 0.993810                                                                                         \n",
      "Test accuracy is: 0.487778                                                                                             \n",
      "[17:01:12] WARNING: D:\\bld\\xgboost-split_1637426510059\\work\\src\\learner.cc:1115: Starting in XGBoost 1.3.0, the default evaluation metric used with the objective 'binary:logistic' was changed from 'error' to 'logloss'. Explicitly set eval_metric if you'd like to restore the old behavior.\n",
      " 11%|████▊                                       | 13/120 [13:16<1:57:10, 65.70s/trial, best loss: -0.5244444444444445]"
     ]
    },
    {
     "name": "stderr",
     "output_type": "stream",
     "text": [
      "C:\\Users\\Ayush\\Anaconda3\\lib\\site-packages\\xgboost\\sklearn.py:1224: UserWarning: The use of label encoder in XGBClassifier is deprecated and will be removed in a future release. To remove this warning, do the following: 1) Pass option use_label_encoder=False when constructing XGBClassifier object; and 2) Encode your labels (y) as integers starting with 0, i.e. 0, 1, 2, ..., [num_class - 1].\n",
      "  warnings.warn(label_encoder_deprecation_msg, UserWarning)\n",
      "\n",
      "2023/05/06 17:02:12 WARNING mlflow.utils.autologging_utils: Encountered unexpected error during xgboost autologging: The following failures occurred while performing one or more logging operations: [MlflowException('Failed to perform one or more operations on the run with ID 402f6f27e0a742b6ad5e739614697db9. Failed operations: [MlflowException(\"API request to http://localhost:5000/api/2.0/mlflow/runs/log-batch failed with exception HTTPConnectionPool(host=\\'localhost\\', port=5000): Max retries exceeded with url: /api/2.0/mlflow/runs/log-batch (Caused by ResponseError(\\'too many 500 error responses\\'))\")]')]\n"
     ]
    },
    {
     "name": "stdout",
     "output_type": "stream",
     "text": [
      "Training AUC is: 0.999527                                                                                              \n",
      "Test AUC is: 0.480856                                                                                                  \n",
      "Training accuracy is: 0.999524                                                                                         \n",
      "Test accuracy is: 0.481111                                                                                             \n",
      "[17:02:17] WARNING: D:\\bld\\xgboost-split_1637426510059\\work\\src\\learner.cc:1115: Starting in XGBoost 1.3.0, the default evaluation metric used with the objective 'binary:logistic' was changed from 'error' to 'logloss'. Explicitly set eval_metric if you'd like to restore the old behavior.\n",
      " 12%|█████▏                                      | 14/120 [14:21<1:55:57, 65.63s/trial, best loss: -0.5244444444444445]"
     ]
    },
    {
     "name": "stderr",
     "output_type": "stream",
     "text": [
      "C:\\Users\\Ayush\\Anaconda3\\lib\\site-packages\\xgboost\\sklearn.py:1224: UserWarning: The use of label encoder in XGBClassifier is deprecated and will be removed in a future release. To remove this warning, do the following: 1) Pass option use_label_encoder=False when constructing XGBClassifier object; and 2) Encode your labels (y) as integers starting with 0, i.e. 0, 1, 2, ..., [num_class - 1].\n",
      "  warnings.warn(label_encoder_deprecation_msg, UserWarning)\n",
      "\n",
      "2023/05/06 17:03:17 WARNING mlflow.utils.autologging_utils: Encountered unexpected error during xgboost autologging: The following failures occurred while performing one or more logging operations: [MlflowException('Failed to perform one or more operations on the run with ID 402f6f27e0a742b6ad5e739614697db9. Failed operations: [MlflowException(\"API request to http://localhost:5000/api/2.0/mlflow/runs/log-batch failed with exception HTTPConnectionPool(host=\\'localhost\\', port=5000): Max retries exceeded with url: /api/2.0/mlflow/runs/log-batch (Caused by ResponseError(\\'too many 500 error responses\\'))\")]')]\n"
     ]
    },
    {
     "name": "stdout",
     "output_type": "stream",
     "text": [
      "Training AUC is: 0.990928                                                                                              \n",
      "Test AUC is: 0.519974                                                                                                  \n",
      "Training accuracy is: 0.990952                                                                                         \n",
      "Test accuracy is: 0.520000                                                                                             \n",
      "[17:03:23] WARNING: D:\\bld\\xgboost-split_1637426510059\\work\\src\\learner.cc:1115: Starting in XGBoost 1.3.0, the default evaluation metric used with the objective 'binary:logistic' was changed from 'error' to 'logloss'. Explicitly set eval_metric if you'd like to restore the old behavior.\n",
      " 12%|█████▌                                      | 15/120 [15:27<1:54:49, 65.62s/trial, best loss: -0.5244444444444445]"
     ]
    },
    {
     "name": "stderr",
     "output_type": "stream",
     "text": [
      "C:\\Users\\Ayush\\Anaconda3\\lib\\site-packages\\xgboost\\sklearn.py:1224: UserWarning: The use of label encoder in XGBClassifier is deprecated and will be removed in a future release. To remove this warning, do the following: 1) Pass option use_label_encoder=False when constructing XGBClassifier object; and 2) Encode your labels (y) as integers starting with 0, i.e. 0, 1, 2, ..., [num_class - 1].\n",
      "  warnings.warn(label_encoder_deprecation_msg, UserWarning)\n",
      "\n",
      "2023/05/06 17:04:23 WARNING mlflow.utils.autologging_utils: Encountered unexpected error during xgboost autologging: The following failures occurred while performing one or more logging operations: [MlflowException('Failed to perform one or more operations on the run with ID 402f6f27e0a742b6ad5e739614697db9. Failed operations: [MlflowException(\"API request to http://localhost:5000/api/2.0/mlflow/runs/log-batch failed with exception HTTPConnectionPool(host=\\'localhost\\', port=5000): Max retries exceeded with url: /api/2.0/mlflow/runs/log-batch (Caused by ResponseError(\\'too many 500 error responses\\'))\")]')]\n"
     ]
    },
    {
     "name": "stdout",
     "output_type": "stream",
     "text": [
      "Training AUC is: 1.000000                                                                                              \n",
      "Test AUC is: 0.507942                                                                                                  \n",
      "Training accuracy is: 1.000000                                                                                         \n",
      "Test accuracy is: 0.507778                                                                                             \n",
      " 13%|█████▊                                      | 16/120 [16:33<1:54:22, 65.98s/trial, best loss: -0.5244444444444445]"
     ]
    },
    {
     "name": "stderr",
     "output_type": "stream",
     "text": [
      "C:\\Users\\Ayush\\Anaconda3\\lib\\site-packages\\xgboost\\sklearn.py:1224: UserWarning: The use of label encoder in XGBClassifier is deprecated and will be removed in a future release. To remove this warning, do the following: 1) Pass option use_label_encoder=False when constructing XGBClassifier object; and 2) Encode your labels (y) as integers starting with 0, i.e. 0, 1, 2, ..., [num_class - 1].\n",
      "  warnings.warn(label_encoder_deprecation_msg, UserWarning)\n",
      "\n"
     ]
    },
    {
     "name": "stdout",
     "output_type": "stream",
     "text": [
      "[17:04:30] WARNING: D:\\bld\\xgboost-split_1637426510059\\work\\src\\learner.cc:1115: Starting in XGBoost 1.3.0, the default evaluation metric used with the objective 'binary:logistic' was changed from 'error' to 'logloss'. Explicitly set eval_metric if you'd like to restore the old behavior.\n",
      " 13%|█████▊                                      | 16/120 [16:34<1:54:22, 65.98s/trial, best loss: -0.5244444444444445]"
     ]
    },
    {
     "name": "stderr",
     "output_type": "stream",
     "text": [
      "2023/05/06 17:05:30 WARNING mlflow.utils.autologging_utils: Encountered unexpected error during xgboost autologging: The following failures occurred while performing one or more logging operations: [MlflowException('Failed to perform one or more operations on the run with ID 402f6f27e0a742b6ad5e739614697db9. Failed operations: [MlflowException(\"API request to http://localhost:5000/api/2.0/mlflow/runs/log-batch failed with exception HTTPConnectionPool(host=\\'localhost\\', port=5000): Max retries exceeded with url: /api/2.0/mlflow/runs/log-batch (Caused by ResponseError(\\'too many 500 error responses\\'))\")]')]\n"
     ]
    },
    {
     "name": "stdout",
     "output_type": "stream",
     "text": [
      "Training AUC is: 1.000000                                                                                              \n",
      "Test AUC is: 0.495436                                                                                                  \n",
      "Training accuracy is: 1.000000                                                                                         \n",
      "Test accuracy is: 0.495556                                                                                             \n",
      "[17:05:35] WARNING: D:\\bld\\xgboost-split_1637426510059\\work\\src\\learner.cc:1115: Starting in XGBoost 1.3.0, the default evaluation metric used with the objective 'binary:logistic' was changed from 'error' to 'logloss'. Explicitly set eval_metric if you'd like to restore the old behavior.\n",
      " 14%|██████▏                                     | 17/120 [17:39<1:53:10, 65.92s/trial, best loss: -0.5244444444444445]"
     ]
    },
    {
     "name": "stderr",
     "output_type": "stream",
     "text": [
      "C:\\Users\\Ayush\\Anaconda3\\lib\\site-packages\\xgboost\\sklearn.py:1224: UserWarning: The use of label encoder in XGBClassifier is deprecated and will be removed in a future release. To remove this warning, do the following: 1) Pass option use_label_encoder=False when constructing XGBClassifier object; and 2) Encode your labels (y) as integers starting with 0, i.e. 0, 1, 2, ..., [num_class - 1].\n",
      "  warnings.warn(label_encoder_deprecation_msg, UserWarning)\n",
      "\n",
      "2023/05/06 17:06:35 WARNING mlflow.utils.autologging_utils: Encountered unexpected error during xgboost autologging: The following failures occurred while performing one or more logging operations: [MlflowException('Failed to perform one or more operations on the run with ID 402f6f27e0a742b6ad5e739614697db9. Failed operations: [MlflowException(\"API request to http://localhost:5000/api/2.0/mlflow/runs/log-batch failed with exception HTTPConnectionPool(host=\\'localhost\\', port=5000): Max retries exceeded with url: /api/2.0/mlflow/runs/log-batch (Caused by ResponseError(\\'too many 500 error responses\\'))\")]')]\n"
     ]
    },
    {
     "name": "stdout",
     "output_type": "stream",
     "text": [
      "Training AUC is: 1.000000                                                                                              \n",
      "Test AUC is: 0.478841                                                                                                  \n",
      "Training accuracy is: 1.000000                                                                                         \n",
      "Test accuracy is: 0.478889                                                                                             \n",
      "[17:06:41] WARNING: D:\\bld\\xgboost-split_1637426510059\\work\\src\\learner.cc:1115: Starting in XGBoost 1.3.0, the default evaluation metric used with the objective 'binary:logistic' was changed from 'error' to 'logloss'. Explicitly set eval_metric if you'd like to restore the old behavior.\n",
      " 15%|██████▌                                     | 18/120 [18:45<1:52:00, 65.89s/trial, best loss: -0.5244444444444445]"
     ]
    },
    {
     "name": "stderr",
     "output_type": "stream",
     "text": [
      "C:\\Users\\Ayush\\Anaconda3\\lib\\site-packages\\xgboost\\sklearn.py:1224: UserWarning: The use of label encoder in XGBClassifier is deprecated and will be removed in a future release. To remove this warning, do the following: 1) Pass option use_label_encoder=False when constructing XGBClassifier object; and 2) Encode your labels (y) as integers starting with 0, i.e. 0, 1, 2, ..., [num_class - 1].\n",
      "  warnings.warn(label_encoder_deprecation_msg, UserWarning)\n",
      "\n",
      "2023/05/06 17:07:41 WARNING mlflow.utils.autologging_utils: Encountered unexpected error during xgboost autologging: The following failures occurred while performing one or more logging operations: [MlflowException('Failed to perform one or more operations on the run with ID 402f6f27e0a742b6ad5e739614697db9. Failed operations: [MlflowException(\"API request to http://localhost:5000/api/2.0/mlflow/runs/log-batch failed with exception HTTPConnectionPool(host=\\'localhost\\', port=5000): Max retries exceeded with url: /api/2.0/mlflow/runs/log-batch (Caused by ResponseError(\\'too many 500 error responses\\'))\")]')]\n"
     ]
    },
    {
     "name": "stdout",
     "output_type": "stream",
     "text": [
      "Training AUC is: 1.000000                                                                                              \n",
      "Test AUC is: 0.495495                                                                                                  \n",
      "Training accuracy is: 1.000000                                                                                         \n",
      "Test accuracy is: 0.495556                                                                                             \n",
      "[17:07:46] WARNING: D:\\bld\\xgboost-split_1637426510059\\work\\src\\learner.cc:1115: Starting in XGBoost 1.3.0, the default evaluation metric used with the objective 'binary:logistic' was changed from 'error' to 'logloss'. Explicitly set eval_metric if you'd like to restore the old behavior.\n",
      " 16%|██████▉                                     | 19/120 [19:51<1:50:37, 65.72s/trial, best loss: -0.5244444444444445]"
     ]
    },
    {
     "name": "stderr",
     "output_type": "stream",
     "text": [
      "C:\\Users\\Ayush\\Anaconda3\\lib\\site-packages\\xgboost\\sklearn.py:1224: UserWarning: The use of label encoder in XGBClassifier is deprecated and will be removed in a future release. To remove this warning, do the following: 1) Pass option use_label_encoder=False when constructing XGBClassifier object; and 2) Encode your labels (y) as integers starting with 0, i.e. 0, 1, 2, ..., [num_class - 1].\n",
      "  warnings.warn(label_encoder_deprecation_msg, UserWarning)\n",
      "\n",
      "2023/05/06 17:08:47 WARNING mlflow.utils.autologging_utils: Encountered unexpected error during xgboost autologging: The following failures occurred while performing one or more logging operations: [MlflowException('Failed to perform one or more operations on the run with ID 402f6f27e0a742b6ad5e739614697db9. Failed operations: [MlflowException(\"API request to http://localhost:5000/api/2.0/mlflow/runs/log-batch failed with exception HTTPConnectionPool(host=\\'localhost\\', port=5000): Max retries exceeded with url: /api/2.0/mlflow/runs/log-batch (Caused by ResponseError(\\'too many 500 error responses\\'))\")]')]\n"
     ]
    },
    {
     "name": "stdout",
     "output_type": "stream",
     "text": [
      "Training AUC is: 1.000000                                                                                              \n",
      "Test AUC is: 0.498992                                                                                                  \n",
      "Training accuracy is: 1.000000                                                                                         \n",
      "Test accuracy is: 0.498889                                                                                             \n",
      "[17:08:52] WARNING: D:\\bld\\xgboost-split_1637426510059\\work\\src\\learner.cc:1115: Starting in XGBoost 1.3.0, the default evaluation metric used with the objective 'binary:logistic' was changed from 'error' to 'logloss'. Explicitly set eval_metric if you'd like to restore the old behavior.\n",
      " 17%|███████▎                                    | 20/120 [20:57<1:49:40, 65.81s/trial, best loss: -0.5244444444444445]"
     ]
    },
    {
     "name": "stderr",
     "output_type": "stream",
     "text": [
      "C:\\Users\\Ayush\\Anaconda3\\lib\\site-packages\\xgboost\\sklearn.py:1224: UserWarning: The use of label encoder in XGBClassifier is deprecated and will be removed in a future release. To remove this warning, do the following: 1) Pass option use_label_encoder=False when constructing XGBClassifier object; and 2) Encode your labels (y) as integers starting with 0, i.e. 0, 1, 2, ..., [num_class - 1].\n",
      "  warnings.warn(label_encoder_deprecation_msg, UserWarning)\n",
      "\n",
      "2023/05/06 17:09:53 WARNING mlflow.utils.autologging_utils: Encountered unexpected error during xgboost autologging: The following failures occurred while performing one or more logging operations: [MlflowException('Failed to perform one or more operations on the run with ID 402f6f27e0a742b6ad5e739614697db9. Failed operations: [MlflowException(\"API request to http://localhost:5000/api/2.0/mlflow/runs/log-batch failed with exception HTTPConnectionPool(host=\\'localhost\\', port=5000): Max retries exceeded with url: /api/2.0/mlflow/runs/log-batch (Caused by ResponseError(\\'too many 500 error responses\\'))\")]')]\n"
     ]
    },
    {
     "name": "stdout",
     "output_type": "stream",
     "text": [
      "Training AUC is: 1.000000                                                                                              \n",
      "Test AUC is: 0.493806                                                                                                  \n",
      "Training accuracy is: 1.000000                                                                                         \n",
      "Test accuracy is: 0.494444                                                                                             \n",
      "[17:10:00] WARNING: D:\\bld\\xgboost-split_1637426510059\\work\\src\\learner.cc:1115: Starting in XGBoost 1.3.0, the default evaluation metric used with the objective 'binary:logistic' was changed from 'error' to 'logloss'. Explicitly set eval_metric if you'd like to restore the old behavior.\n",
      " 18%|███████▋                                    | 21/120 [22:04<1:49:15, 66.22s/trial, best loss: -0.5244444444444445]"
     ]
    },
    {
     "name": "stderr",
     "output_type": "stream",
     "text": [
      "C:\\Users\\Ayush\\Anaconda3\\lib\\site-packages\\xgboost\\sklearn.py:1224: UserWarning: The use of label encoder in XGBClassifier is deprecated and will be removed in a future release. To remove this warning, do the following: 1) Pass option use_label_encoder=False when constructing XGBClassifier object; and 2) Encode your labels (y) as integers starting with 0, i.e. 0, 1, 2, ..., [num_class - 1].\n",
      "  warnings.warn(label_encoder_deprecation_msg, UserWarning)\n",
      "\n",
      "2023/05/06 17:11:00 WARNING mlflow.utils.autologging_utils: Encountered unexpected error during xgboost autologging: The following failures occurred while performing one or more logging operations: [MlflowException('Failed to perform one or more operations on the run with ID 402f6f27e0a742b6ad5e739614697db9. Failed operations: [MlflowException(\"API request to http://localhost:5000/api/2.0/mlflow/runs/log-batch failed with exception HTTPConnectionPool(host=\\'localhost\\', port=5000): Max retries exceeded with url: /api/2.0/mlflow/runs/log-batch (Caused by ResponseError(\\'too many 500 error responses\\'))\")]')]\n"
     ]
    },
    {
     "name": "stdout",
     "output_type": "stream",
     "text": [
      "Training AUC is: 0.689476                                                                                              \n",
      "Test AUC is: 0.476262                                                                                                  \n",
      "Training accuracy is: 0.689524                                                                                         \n",
      "Test accuracy is: 0.476667                                                                                             \n",
      "[17:11:05] WARNING: D:\\bld\\xgboost-split_1637426510059\\work\\src\\learner.cc:1115: Starting in XGBoost 1.3.0, the default evaluation metric used with the objective 'binary:logistic' was changed from 'error' to 'logloss'. Explicitly set eval_metric if you'd like to restore the old behavior.\n",
      " 18%|████████                                    | 22/120 [23:09<1:47:41, 65.93s/trial, best loss: -0.5244444444444445]"
     ]
    },
    {
     "name": "stderr",
     "output_type": "stream",
     "text": [
      "C:\\Users\\Ayush\\Anaconda3\\lib\\site-packages\\xgboost\\sklearn.py:1224: UserWarning: The use of label encoder in XGBClassifier is deprecated and will be removed in a future release. To remove this warning, do the following: 1) Pass option use_label_encoder=False when constructing XGBClassifier object; and 2) Encode your labels (y) as integers starting with 0, i.e. 0, 1, 2, ..., [num_class - 1].\n",
      "  warnings.warn(label_encoder_deprecation_msg, UserWarning)\n",
      "\n",
      "2023/05/06 17:12:05 WARNING mlflow.utils.autologging_utils: Encountered unexpected error during xgboost autologging: The following failures occurred while performing one or more logging operations: [MlflowException('Failed to perform one or more operations on the run with ID 402f6f27e0a742b6ad5e739614697db9. Failed operations: [MlflowException(\"API request to http://localhost:5000/api/2.0/mlflow/runs/log-batch failed with exception HTTPConnectionPool(host=\\'localhost\\', port=5000): Max retries exceeded with url: /api/2.0/mlflow/runs/log-batch (Caused by ResponseError(\\'too many 500 error responses\\'))\")]')]\n"
     ]
    },
    {
     "name": "stdout",
     "output_type": "stream",
     "text": [
      "Training AUC is: 1.000000                                                                                              \n",
      "Test AUC is: 0.481330                                                                                                  \n",
      "Training accuracy is: 1.000000                                                                                         \n",
      "Test accuracy is: 0.481111                                                                                             \n",
      "[17:12:10] WARNING: D:\\bld\\xgboost-split_1637426510059\\work\\src\\learner.cc:1115: Starting in XGBoost 1.3.0, the default evaluation metric used with the objective 'binary:logistic' was changed from 'error' to 'logloss'. Explicitly set eval_metric if you'd like to restore the old behavior.\n",
      " 19%|████████▍                                   | 23/120 [24:14<1:46:16, 65.74s/trial, best loss: -0.5244444444444445]"
     ]
    },
    {
     "name": "stderr",
     "output_type": "stream",
     "text": [
      "C:\\Users\\Ayush\\Anaconda3\\lib\\site-packages\\xgboost\\sklearn.py:1224: UserWarning: The use of label encoder in XGBClassifier is deprecated and will be removed in a future release. To remove this warning, do the following: 1) Pass option use_label_encoder=False when constructing XGBClassifier object; and 2) Encode your labels (y) as integers starting with 0, i.e. 0, 1, 2, ..., [num_class - 1].\n",
      "  warnings.warn(label_encoder_deprecation_msg, UserWarning)\n",
      "\n",
      "2023/05/06 17:13:10 WARNING mlflow.utils.autologging_utils: Encountered unexpected error during xgboost autologging: The following failures occurred while performing one or more logging operations: [MlflowException('Failed to perform one or more operations on the run with ID 402f6f27e0a742b6ad5e739614697db9. Failed operations: [MlflowException(\"API request to http://localhost:5000/api/2.0/mlflow/runs/log-batch failed with exception HTTPConnectionPool(host=\\'localhost\\', port=5000): Max retries exceeded with url: /api/2.0/mlflow/runs/log-batch (Caused by ResponseError(\\'too many 500 error responses\\'))\")]')]\n"
     ]
    },
    {
     "name": "stdout",
     "output_type": "stream",
     "text": [
      "Training AUC is: 0.669584                                                                                              \n",
      "Test AUC is: 0.490635                                                                                                  \n",
      "Training accuracy is: 0.669524                                                                                         \n",
      "Test accuracy is: 0.491111                                                                                             \n",
      "[17:13:15] WARNING: D:\\bld\\xgboost-split_1637426510059\\work\\src\\learner.cc:1115: Starting in XGBoost 1.3.0, the default evaluation metric used with the objective 'binary:logistic' was changed from 'error' to 'logloss'. Explicitly set eval_metric if you'd like to restore the old behavior.\n",
      " 20%|████████▊                                   | 24/120 [25:20<1:44:59, 65.62s/trial, best loss: -0.5244444444444445]"
     ]
    },
    {
     "name": "stderr",
     "output_type": "stream",
     "text": [
      "C:\\Users\\Ayush\\Anaconda3\\lib\\site-packages\\xgboost\\sklearn.py:1224: UserWarning: The use of label encoder in XGBClassifier is deprecated and will be removed in a future release. To remove this warning, do the following: 1) Pass option use_label_encoder=False when constructing XGBClassifier object; and 2) Encode your labels (y) as integers starting with 0, i.e. 0, 1, 2, ..., [num_class - 1].\n",
      "  warnings.warn(label_encoder_deprecation_msg, UserWarning)\n",
      "\n",
      "2023/05/06 17:14:16 WARNING mlflow.utils.autologging_utils: Encountered unexpected error during xgboost autologging: The following failures occurred while performing one or more logging operations: [MlflowException('Failed to perform one or more operations on the run with ID 402f6f27e0a742b6ad5e739614697db9. Failed operations: [MlflowException(\"API request to http://localhost:5000/api/2.0/mlflow/runs/log-batch failed with exception HTTPConnectionPool(host=\\'localhost\\', port=5000): Max retries exceeded with url: /api/2.0/mlflow/runs/log-batch (Caused by ResponseError(\\'too many 500 error responses\\'))\")]')]\n"
     ]
    },
    {
     "name": "stdout",
     "output_type": "stream",
     "text": [
      "Training AUC is: 0.905194                                                                                              \n",
      "Test AUC is: 0.502608                                                                                                  \n",
      "Training accuracy is: 0.905238                                                                                         \n",
      "Test accuracy is: 0.502222                                                                                             \n",
      "[17:14:22] WARNING: D:\\bld\\xgboost-split_1637426510059\\work\\src\\learner.cc:1115: Starting in XGBoost 1.3.0, the default evaluation metric used with the objective 'binary:logistic' was changed from 'error' to 'logloss'. Explicitly set eval_metric if you'd like to restore the old behavior.\n",
      " 21%|█████████▏                                  | 25/120 [26:26<1:44:19, 65.89s/trial, best loss: -0.5244444444444445]"
     ]
    },
    {
     "name": "stderr",
     "output_type": "stream",
     "text": [
      "C:\\Users\\Ayush\\Anaconda3\\lib\\site-packages\\xgboost\\sklearn.py:1224: UserWarning: The use of label encoder in XGBClassifier is deprecated and will be removed in a future release. To remove this warning, do the following: 1) Pass option use_label_encoder=False when constructing XGBClassifier object; and 2) Encode your labels (y) as integers starting with 0, i.e. 0, 1, 2, ..., [num_class - 1].\n",
      "  warnings.warn(label_encoder_deprecation_msg, UserWarning)\n",
      "\n",
      "2023/05/06 17:15:22 WARNING mlflow.utils.autologging_utils: Encountered unexpected error during xgboost autologging: The following failures occurred while performing one or more logging operations: [MlflowException('Failed to perform one or more operations on the run with ID 402f6f27e0a742b6ad5e739614697db9. Failed operations: [MlflowException(\"API request to http://localhost:5000/api/2.0/mlflow/runs/log-batch failed with exception HTTPConnectionPool(host=\\'localhost\\', port=5000): Max retries exceeded with url: /api/2.0/mlflow/runs/log-batch (Caused by ResponseError(\\'too many 500 error responses\\'))\")]')]\n"
     ]
    },
    {
     "name": "stdout",
     "output_type": "stream",
     "text": [
      "Training AUC is: 1.000000                                                                                              \n",
      "Test AUC is: 0.482130                                                                                                  \n",
      "Training accuracy is: 1.000000                                                                                         \n",
      "Test accuracy is: 0.482222                                                                                             \n",
      "[17:15:28] WARNING: D:\\bld\\xgboost-split_1637426510059\\work\\src\\learner.cc:1115: Starting in XGBoost 1.3.0, the default evaluation metric used with the objective 'binary:logistic' was changed from 'error' to 'logloss'. Explicitly set eval_metric if you'd like to restore the old behavior.\n",
      " 22%|█████████▌                                  | 26/120 [27:32<1:43:10, 65.86s/trial, best loss: -0.5244444444444445]"
     ]
    },
    {
     "name": "stderr",
     "output_type": "stream",
     "text": [
      "C:\\Users\\Ayush\\Anaconda3\\lib\\site-packages\\xgboost\\sklearn.py:1224: UserWarning: The use of label encoder in XGBClassifier is deprecated and will be removed in a future release. To remove this warning, do the following: 1) Pass option use_label_encoder=False when constructing XGBClassifier object; and 2) Encode your labels (y) as integers starting with 0, i.e. 0, 1, 2, ..., [num_class - 1].\n",
      "  warnings.warn(label_encoder_deprecation_msg, UserWarning)\n",
      "\n",
      "2023/05/06 17:16:28 WARNING mlflow.utils.autologging_utils: Encountered unexpected error during xgboost autologging: The following failures occurred while performing one or more logging operations: [MlflowException('Failed to perform one or more operations on the run with ID 402f6f27e0a742b6ad5e739614697db9. Failed operations: [MlflowException(\"API request to http://localhost:5000/api/2.0/mlflow/runs/log-batch failed with exception HTTPConnectionPool(host=\\'localhost\\', port=5000): Max retries exceeded with url: /api/2.0/mlflow/runs/log-batch (Caused by ResponseError(\\'too many 500 error responses\\'))\")]')]\n"
     ]
    },
    {
     "name": "stdout",
     "output_type": "stream",
     "text": [
      "Training AUC is: 0.962856                                                                                              \n",
      "Test AUC is: 0.508802                                                                                                  \n",
      "Training accuracy is: 0.962857                                                                                         \n",
      "Test accuracy is: 0.508889                                                                                             \n",
      "[17:16:34] WARNING: D:\\bld\\xgboost-split_1637426510059\\work\\src\\learner.cc:1115: Starting in XGBoost 1.3.0, the default evaluation metric used with the objective 'binary:logistic' was changed from 'error' to 'logloss'. Explicitly set eval_metric if you'd like to restore the old behavior.\n",
      " 22%|█████████▉                                  | 27/120 [28:38<1:42:01, 65.82s/trial, best loss: -0.5244444444444445]"
     ]
    },
    {
     "name": "stderr",
     "output_type": "stream",
     "text": [
      "C:\\Users\\Ayush\\Anaconda3\\lib\\site-packages\\xgboost\\sklearn.py:1224: UserWarning: The use of label encoder in XGBClassifier is deprecated and will be removed in a future release. To remove this warning, do the following: 1) Pass option use_label_encoder=False when constructing XGBClassifier object; and 2) Encode your labels (y) as integers starting with 0, i.e. 0, 1, 2, ..., [num_class - 1].\n",
      "  warnings.warn(label_encoder_deprecation_msg, UserWarning)\n",
      "\n",
      "2023/05/06 17:17:34 WARNING mlflow.utils.autologging_utils: Encountered unexpected error during xgboost autologging: The following failures occurred while performing one or more logging operations: [MlflowException('Failed to perform one or more operations on the run with ID 402f6f27e0a742b6ad5e739614697db9. Failed operations: [MlflowException(\"API request to http://localhost:5000/api/2.0/mlflow/runs/log-batch failed with exception HTTPConnectionPool(host=\\'localhost\\', port=5000): Max retries exceeded with url: /api/2.0/mlflow/runs/log-batch (Caused by ResponseError(\\'too many 500 error responses\\'))\")]')]\n"
     ]
    },
    {
     "name": "stdout",
     "output_type": "stream",
     "text": [
      "Training AUC is: 1.000000                                                                                              \n",
      "Test AUC is: 0.482367                                                                                                  \n",
      "Training accuracy is: 1.000000                                                                                         \n",
      "Test accuracy is: 0.482222                                                                                             \n",
      "[17:17:39] WARNING: D:\\bld\\xgboost-split_1637426510059\\work\\src\\learner.cc:1115: Starting in XGBoost 1.3.0, the default evaluation metric used with the objective 'binary:logistic' was changed from 'error' to 'logloss'. Explicitly set eval_metric if you'd like to restore the old behavior.\n",
      " 23%|██████████▎                                 | 28/120 [29:43<1:40:53, 65.80s/trial, best loss: -0.5244444444444445]"
     ]
    },
    {
     "name": "stderr",
     "output_type": "stream",
     "text": [
      "C:\\Users\\Ayush\\Anaconda3\\lib\\site-packages\\xgboost\\sklearn.py:1224: UserWarning: The use of label encoder in XGBClassifier is deprecated and will be removed in a future release. To remove this warning, do the following: 1) Pass option use_label_encoder=False when constructing XGBClassifier object; and 2) Encode your labels (y) as integers starting with 0, i.e. 0, 1, 2, ..., [num_class - 1].\n",
      "  warnings.warn(label_encoder_deprecation_msg, UserWarning)\n",
      "\n",
      "2023/05/06 17:18:39 WARNING mlflow.utils.autologging_utils: Encountered unexpected error during xgboost autologging: The following failures occurred while performing one or more logging operations: [MlflowException('Failed to perform one or more operations on the run with ID 402f6f27e0a742b6ad5e739614697db9. Failed operations: [MlflowException(\"API request to http://localhost:5000/api/2.0/mlflow/runs/log-batch failed with exception HTTPConnectionPool(host=\\'localhost\\', port=5000): Max retries exceeded with url: /api/2.0/mlflow/runs/log-batch (Caused by ResponseError(\\'too many 500 error responses\\'))\")]')]\n"
     ]
    },
    {
     "name": "stdout",
     "output_type": "stream",
     "text": [
      "Training AUC is: 0.990470                                                                                              \n",
      "Test AUC is: 0.496622                                                                                                  \n",
      "Training accuracy is: 0.990476                                                                                         \n",
      "Test accuracy is: 0.496667                                                                                             \n",
      "[17:18:44] WARNING: D:\\bld\\xgboost-split_1637426510059\\work\\src\\learner.cc:1115: Starting in XGBoost 1.3.0, the default evaluation metric used with the objective 'binary:logistic' was changed from 'error' to 'logloss'. Explicitly set eval_metric if you'd like to restore the old behavior.\n",
      " 24%|██████████▋                                 | 29/120 [30:49<1:39:33, 65.64s/trial, best loss: -0.5244444444444445]"
     ]
    },
    {
     "name": "stderr",
     "output_type": "stream",
     "text": [
      "C:\\Users\\Ayush\\Anaconda3\\lib\\site-packages\\xgboost\\sklearn.py:1224: UserWarning: The use of label encoder in XGBClassifier is deprecated and will be removed in a future release. To remove this warning, do the following: 1) Pass option use_label_encoder=False when constructing XGBClassifier object; and 2) Encode your labels (y) as integers starting with 0, i.e. 0, 1, 2, ..., [num_class - 1].\n",
      "  warnings.warn(label_encoder_deprecation_msg, UserWarning)\n",
      "\n",
      "2023/05/06 17:19:45 WARNING mlflow.utils.autologging_utils: Encountered unexpected error during xgboost autologging: The following failures occurred while performing one or more logging operations: [MlflowException('Failed to perform one or more operations on the run with ID 402f6f27e0a742b6ad5e739614697db9. Failed operations: [MlflowException(\"API request to http://localhost:5000/api/2.0/mlflow/runs/log-batch failed with exception HTTPConnectionPool(host=\\'localhost\\', port=5000): Max retries exceeded with url: /api/2.0/mlflow/runs/log-batch (Caused by ResponseError(\\'too many 500 error responses\\'))\")]')]\n"
     ]
    },
    {
     "name": "stdout",
     "output_type": "stream",
     "text": [
      "Training AUC is: 1.000000                                                                                              \n",
      "Test AUC is: 0.483316                                                                                                  \n",
      "Training accuracy is: 1.000000                                                                                         \n",
      "Test accuracy is: 0.483333                                                                                             \n",
      "[17:19:50] WARNING: D:\\bld\\xgboost-split_1637426510059\\work\\src\\learner.cc:1115: Starting in XGBoost 1.3.0, the default evaluation metric used with the objective 'binary:logistic' was changed from 'error' to 'logloss'. Explicitly set eval_metric if you'd like to restore the old behavior.\n",
      " 25%|███████████                                 | 30/120 [31:54<1:38:19, 65.55s/trial, best loss: -0.5244444444444445]"
     ]
    },
    {
     "name": "stderr",
     "output_type": "stream",
     "text": [
      "C:\\Users\\Ayush\\Anaconda3\\lib\\site-packages\\xgboost\\sklearn.py:1224: UserWarning: The use of label encoder in XGBClassifier is deprecated and will be removed in a future release. To remove this warning, do the following: 1) Pass option use_label_encoder=False when constructing XGBClassifier object; and 2) Encode your labels (y) as integers starting with 0, i.e. 0, 1, 2, ..., [num_class - 1].\n",
      "  warnings.warn(label_encoder_deprecation_msg, UserWarning)\n",
      "\n",
      "2023/05/06 17:20:50 WARNING mlflow.utils.autologging_utils: Encountered unexpected error during xgboost autologging: The following failures occurred while performing one or more logging operations: [MlflowException('Failed to perform one or more operations on the run with ID 402f6f27e0a742b6ad5e739614697db9. Failed operations: [MlflowException(\"API request to http://localhost:5000/api/2.0/mlflow/runs/log-batch failed with exception HTTPConnectionPool(host=\\'localhost\\', port=5000): Max retries exceeded with url: /api/2.0/mlflow/runs/log-batch (Caused by ResponseError(\\'too many 500 error responses\\'))\")]')]\n"
     ]
    },
    {
     "name": "stdout",
     "output_type": "stream",
     "text": [
      "Training AUC is: 0.764749                                                                                              \n",
      "Test AUC is: 0.491613                                                                                                  \n",
      "Training accuracy is: 0.764762                                                                                         \n",
      "Test accuracy is: 0.491111                                                                                             \n",
      "[17:20:55] WARNING: D:\\bld\\xgboost-split_1637426510059\\work\\src\\learner.cc:1115: Starting in XGBoost 1.3.0, the default evaluation metric used with the objective 'binary:logistic' was changed from 'error' to 'logloss'. Explicitly set eval_metric if you'd like to restore the old behavior.\n",
      " 26%|███████████▎                                | 31/120 [32:59<1:37:05, 65.45s/trial, best loss: -0.5244444444444445]"
     ]
    },
    {
     "name": "stderr",
     "output_type": "stream",
     "text": [
      "C:\\Users\\Ayush\\Anaconda3\\lib\\site-packages\\xgboost\\sklearn.py:1224: UserWarning: The use of label encoder in XGBClassifier is deprecated and will be removed in a future release. To remove this warning, do the following: 1) Pass option use_label_encoder=False when constructing XGBClassifier object; and 2) Encode your labels (y) as integers starting with 0, i.e. 0, 1, 2, ..., [num_class - 1].\n",
      "  warnings.warn(label_encoder_deprecation_msg, UserWarning)\n",
      "\n",
      "2023/05/06 17:21:55 WARNING mlflow.utils.autologging_utils: Encountered unexpected error during xgboost autologging: The following failures occurred while performing one or more logging operations: [MlflowException('Failed to perform one or more operations on the run with ID 402f6f27e0a742b6ad5e739614697db9. Failed operations: [MlflowException(\"API request to http://localhost:5000/api/2.0/mlflow/runs/log-batch failed with exception HTTPConnectionPool(host=\\'localhost\\', port=5000): Max retries exceeded with url: /api/2.0/mlflow/runs/log-batch (Caused by ResponseError(\\'too many 500 error responses\\'))\")]')]\n"
     ]
    },
    {
     "name": "stdout",
     "output_type": "stream",
     "text": [
      "Training AUC is: 1.000000                                                                                              \n",
      "Test AUC is: 0.476618                                                                                                  \n",
      "Training accuracy is: 1.000000                                                                                         \n",
      "Test accuracy is: 0.476667                                                                                             \n",
      "[17:22:00] WARNING: D:\\bld\\xgboost-split_1637426510059\\work\\src\\learner.cc:1115: Starting in XGBoost 1.3.0, the default evaluation metric used with the objective 'binary:logistic' was changed from 'error' to 'logloss'. Explicitly set eval_metric if you'd like to restore the old behavior.\n",
      " 27%|███████████▋                                | 32/120 [34:05<1:35:55, 65.40s/trial, best loss: -0.5244444444444445]"
     ]
    },
    {
     "name": "stderr",
     "output_type": "stream",
     "text": [
      "C:\\Users\\Ayush\\Anaconda3\\lib\\site-packages\\xgboost\\sklearn.py:1224: UserWarning: The use of label encoder in XGBClassifier is deprecated and will be removed in a future release. To remove this warning, do the following: 1) Pass option use_label_encoder=False when constructing XGBClassifier object; and 2) Encode your labels (y) as integers starting with 0, i.e. 0, 1, 2, ..., [num_class - 1].\n",
      "  warnings.warn(label_encoder_deprecation_msg, UserWarning)\n",
      "\n",
      "2023/05/06 17:23:01 WARNING mlflow.utils.autologging_utils: Encountered unexpected error during xgboost autologging: The following failures occurred while performing one or more logging operations: [MlflowException('Failed to perform one or more operations on the run with ID 402f6f27e0a742b6ad5e739614697db9. Failed operations: [MlflowException(\"API request to http://localhost:5000/api/2.0/mlflow/runs/log-batch failed with exception HTTPConnectionPool(host=\\'localhost\\', port=5000): Max retries exceeded with url: /api/2.0/mlflow/runs/log-batch (Caused by ResponseError(\\'too many 500 error responses\\'))\")]')]\n"
     ]
    },
    {
     "name": "stdout",
     "output_type": "stream",
     "text": [
      "Training AUC is: 1.000000                                                                                              \n",
      "Test AUC is: 0.474218                                                                                                  \n",
      "Training accuracy is: 1.000000                                                                                         \n",
      "Test accuracy is: 0.474444                                                                                             \n",
      "[17:23:06] WARNING: D:\\bld\\xgboost-split_1637426510059\\work\\src\\learner.cc:1115: Starting in XGBoost 1.3.0, the default evaluation metric used with the objective 'binary:logistic' was changed from 'error' to 'logloss'. Explicitly set eval_metric if you'd like to restore the old behavior.\n",
      " 28%|████████████                                | 33/120 [35:10<1:35:01, 65.53s/trial, best loss: -0.5244444444444445]"
     ]
    },
    {
     "name": "stderr",
     "output_type": "stream",
     "text": [
      "C:\\Users\\Ayush\\Anaconda3\\lib\\site-packages\\xgboost\\sklearn.py:1224: UserWarning: The use of label encoder in XGBClassifier is deprecated and will be removed in a future release. To remove this warning, do the following: 1) Pass option use_label_encoder=False when constructing XGBClassifier object; and 2) Encode your labels (y) as integers starting with 0, i.e. 0, 1, 2, ..., [num_class - 1].\n",
      "  warnings.warn(label_encoder_deprecation_msg, UserWarning)\n",
      "\n",
      "2023/05/06 17:24:06 WARNING mlflow.utils.autologging_utils: Encountered unexpected error during xgboost autologging: The following failures occurred while performing one or more logging operations: [MlflowException('Failed to perform one or more operations on the run with ID 402f6f27e0a742b6ad5e739614697db9. Failed operations: [MlflowException(\"API request to http://localhost:5000/api/2.0/mlflow/runs/log-batch failed with exception HTTPConnectionPool(host=\\'localhost\\', port=5000): Max retries exceeded with url: /api/2.0/mlflow/runs/log-batch (Caused by ResponseError(\\'too many 500 error responses\\'))\")]')]\n"
     ]
    },
    {
     "name": "stdout",
     "output_type": "stream",
     "text": [
      "Training AUC is: 1.000000                                                                                              \n",
      "Test AUC is: 0.480085                                                                                                  \n",
      "Training accuracy is: 1.000000                                                                                         \n",
      "Test accuracy is: 0.480000                                                                                             \n",
      "[17:24:12] WARNING: D:\\bld\\xgboost-split_1637426510059\\work\\src\\learner.cc:1115: Starting in XGBoost 1.3.0, the default evaluation metric used with the objective 'binary:logistic' was changed from 'error' to 'logloss'. Explicitly set eval_metric if you'd like to restore the old behavior.\n",
      " 28%|████████████▍                               | 34/120 [36:16<1:34:03, 65.62s/trial, best loss: -0.5244444444444445]"
     ]
    },
    {
     "name": "stderr",
     "output_type": "stream",
     "text": [
      "C:\\Users\\Ayush\\Anaconda3\\lib\\site-packages\\xgboost\\sklearn.py:1224: UserWarning: The use of label encoder in XGBClassifier is deprecated and will be removed in a future release. To remove this warning, do the following: 1) Pass option use_label_encoder=False when constructing XGBClassifier object; and 2) Encode your labels (y) as integers starting with 0, i.e. 0, 1, 2, ..., [num_class - 1].\n",
      "  warnings.warn(label_encoder_deprecation_msg, UserWarning)\n",
      "\n",
      "2023/05/06 17:25:12 WARNING mlflow.utils.autologging_utils: Encountered unexpected error during xgboost autologging: The following failures occurred while performing one or more logging operations: [MlflowException('Failed to perform one or more operations on the run with ID 402f6f27e0a742b6ad5e739614697db9. Failed operations: [MlflowException(\"API request to http://localhost:5000/api/2.0/mlflow/runs/log-batch failed with exception HTTPConnectionPool(host=\\'localhost\\', port=5000): Max retries exceeded with url: /api/2.0/mlflow/runs/log-batch (Caused by ResponseError(\\'too many 500 error responses\\'))\")]')]\n"
     ]
    },
    {
     "name": "stdout",
     "output_type": "stream",
     "text": [
      "Training AUC is: 1.000000                                                                                              \n",
      "Test AUC is: 0.493332                                                                                                  \n",
      "Training accuracy is: 1.000000                                                                                         \n",
      "Test accuracy is: 0.493333                                                                                             \n",
      "[17:25:18] WARNING: D:\\bld\\xgboost-split_1637426510059\\work\\src\\learner.cc:1115: Starting in XGBoost 1.3.0, the default evaluation metric used with the objective 'binary:logistic' was changed from 'error' to 'logloss'. Explicitly set eval_metric if you'd like to restore the old behavior.\n",
      " 29%|████████████▊                               | 35/120 [37:22<1:33:01, 65.67s/trial, best loss: -0.5244444444444445]"
     ]
    },
    {
     "name": "stderr",
     "output_type": "stream",
     "text": [
      "C:\\Users\\Ayush\\Anaconda3\\lib\\site-packages\\xgboost\\sklearn.py:1224: UserWarning: The use of label encoder in XGBClassifier is deprecated and will be removed in a future release. To remove this warning, do the following: 1) Pass option use_label_encoder=False when constructing XGBClassifier object; and 2) Encode your labels (y) as integers starting with 0, i.e. 0, 1, 2, ..., [num_class - 1].\n",
      "  warnings.warn(label_encoder_deprecation_msg, UserWarning)\n",
      "\n",
      "2023/05/06 17:26:18 WARNING mlflow.utils.autologging_utils: Encountered unexpected error during xgboost autologging: The following failures occurred while performing one or more logging operations: [MlflowException('Failed to perform one or more operations on the run with ID 402f6f27e0a742b6ad5e739614697db9. Failed operations: [MlflowException(\"API request to http://localhost:5000/api/2.0/mlflow/runs/log-batch failed with exception HTTPConnectionPool(host=\\'localhost\\', port=5000): Max retries exceeded with url: /api/2.0/mlflow/runs/log-batch (Caused by ResponseError(\\'too many 500 error responses\\'))\")]')]\n"
     ]
    },
    {
     "name": "stdout",
     "output_type": "stream",
     "text": [
      "Training AUC is: 1.000000                                                                                              \n",
      "Test AUC is: 0.491880                                                                                                  \n",
      "Training accuracy is: 1.000000                                                                                         \n",
      "Test accuracy is: 0.492222                                                                                             \n",
      "[17:26:23] WARNING: D:\\bld\\xgboost-split_1637426510059\\work\\src\\learner.cc:1115: Starting in XGBoost 1.3.0, the default evaluation metric used with the objective 'binary:logistic' was changed from 'error' to 'logloss'. Explicitly set eval_metric if you'd like to restore the old behavior.\n",
      " 30%|█████████████▏                              | 36/120 [38:27<1:31:48, 65.58s/trial, best loss: -0.5244444444444445]"
     ]
    },
    {
     "name": "stderr",
     "output_type": "stream",
     "text": [
      "C:\\Users\\Ayush\\Anaconda3\\lib\\site-packages\\xgboost\\sklearn.py:1224: UserWarning: The use of label encoder in XGBClassifier is deprecated and will be removed in a future release. To remove this warning, do the following: 1) Pass option use_label_encoder=False when constructing XGBClassifier object; and 2) Encode your labels (y) as integers starting with 0, i.e. 0, 1, 2, ..., [num_class - 1].\n",
      "  warnings.warn(label_encoder_deprecation_msg, UserWarning)\n",
      "\n",
      "2023/05/06 17:27:23 WARNING mlflow.utils.autologging_utils: Encountered unexpected error during xgboost autologging: The following failures occurred while performing one or more logging operations: [MlflowException('Failed to perform one or more operations on the run with ID 402f6f27e0a742b6ad5e739614697db9. Failed operations: [MlflowException(\"API request to http://localhost:5000/api/2.0/mlflow/runs/log-batch failed with exception HTTPConnectionPool(host=\\'localhost\\', port=5000): Max retries exceeded with url: /api/2.0/mlflow/runs/log-batch (Caused by ResponseError(\\'too many 500 error responses\\'))\")]')]\n"
     ]
    },
    {
     "name": "stdout",
     "output_type": "stream",
     "text": [
      "Training AUC is: 1.000000                                                                                              \n",
      "Test AUC is: 0.467965                                                                                                  \n",
      "Training accuracy is: 1.000000                                                                                         \n",
      "Test accuracy is: 0.467778                                                                                             \n",
      "[17:27:28] WARNING: D:\\bld\\xgboost-split_1637426510059\\work\\src\\learner.cc:1115: Starting in XGBoost 1.3.0, the default evaluation metric used with the objective 'binary:logistic' was changed from 'error' to 'logloss'. Explicitly set eval_metric if you'd like to restore the old behavior.\n",
      " 31%|█████████████▌                              | 37/120 [39:33<1:30:35, 65.49s/trial, best loss: -0.5244444444444445]"
     ]
    },
    {
     "name": "stderr",
     "output_type": "stream",
     "text": [
      "C:\\Users\\Ayush\\Anaconda3\\lib\\site-packages\\xgboost\\sklearn.py:1224: UserWarning: The use of label encoder in XGBClassifier is deprecated and will be removed in a future release. To remove this warning, do the following: 1) Pass option use_label_encoder=False when constructing XGBClassifier object; and 2) Encode your labels (y) as integers starting with 0, i.e. 0, 1, 2, ..., [num_class - 1].\n",
      "  warnings.warn(label_encoder_deprecation_msg, UserWarning)\n",
      "\n",
      "2023/05/06 17:28:29 WARNING mlflow.utils.autologging_utils: Encountered unexpected error during xgboost autologging: The following failures occurred while performing one or more logging operations: [MlflowException('Failed to perform one or more operations on the run with ID 402f6f27e0a742b6ad5e739614697db9. Failed operations: [MlflowException(\"API request to http://localhost:5000/api/2.0/mlflow/runs/log-batch failed with exception HTTPConnectionPool(host=\\'localhost\\', port=5000): Max retries exceeded with url: /api/2.0/mlflow/runs/log-batch (Caused by ResponseError(\\'too many 500 error responses\\'))\")]')]\n"
     ]
    },
    {
     "name": "stdout",
     "output_type": "stream",
     "text": [
      "Training AUC is: 1.000000                                                                                              \n",
      "Test AUC is: 0.509780                                                                                                  \n",
      "Training accuracy is: 1.000000                                                                                         \n",
      "Test accuracy is: 0.510000                                                                                             \n",
      "[17:28:34] WARNING: D:\\bld\\xgboost-split_1637426510059\\work\\src\\learner.cc:1115: Starting in XGBoost 1.3.0, the default evaluation metric used with the objective 'binary:logistic' was changed from 'error' to 'logloss'. Explicitly set eval_metric if you'd like to restore the old behavior.\n",
      " 32%|█████████████▉                              | 38/120 [40:38<1:29:35, 65.56s/trial, best loss: -0.5244444444444445]"
     ]
    },
    {
     "name": "stderr",
     "output_type": "stream",
     "text": [
      "C:\\Users\\Ayush\\Anaconda3\\lib\\site-packages\\xgboost\\sklearn.py:1224: UserWarning: The use of label encoder in XGBClassifier is deprecated and will be removed in a future release. To remove this warning, do the following: 1) Pass option use_label_encoder=False when constructing XGBClassifier object; and 2) Encode your labels (y) as integers starting with 0, i.e. 0, 1, 2, ..., [num_class - 1].\n",
      "  warnings.warn(label_encoder_deprecation_msg, UserWarning)\n",
      "\n",
      "2023/05/06 17:29:34 WARNING mlflow.utils.autologging_utils: Encountered unexpected error during xgboost autologging: The following failures occurred while performing one or more logging operations: [MlflowException('Failed to perform one or more operations on the run with ID 402f6f27e0a742b6ad5e739614697db9. Failed operations: [MlflowException(\"API request to http://localhost:5000/api/2.0/mlflow/runs/log-batch failed with exception HTTPConnectionPool(host=\\'localhost\\', port=5000): Max retries exceeded with url: /api/2.0/mlflow/runs/log-batch (Caused by ResponseError(\\'too many 500 error responses\\'))\")]')]\n"
     ]
    },
    {
     "name": "stdout",
     "output_type": "stream",
     "text": [
      "Training AUC is: 1.000000                                                                                              \n",
      "Test AUC is: 0.493480                                                                                                  \n",
      "Training accuracy is: 1.000000                                                                                         \n",
      "Test accuracy is: 0.493333                                                                                             \n",
      "[17:29:39] WARNING: D:\\bld\\xgboost-split_1637426510059\\work\\src\\learner.cc:1115: Starting in XGBoost 1.3.0, the default evaluation metric used with the objective 'binary:logistic' was changed from 'error' to 'logloss'. Explicitly set eval_metric if you'd like to restore the old behavior.\n",
      " 32%|██████████████▎                             | 39/120 [41:44<1:28:24, 65.49s/trial, best loss: -0.5244444444444445]"
     ]
    },
    {
     "name": "stderr",
     "output_type": "stream",
     "text": [
      "C:\\Users\\Ayush\\Anaconda3\\lib\\site-packages\\xgboost\\sklearn.py:1224: UserWarning: The use of label encoder in XGBClassifier is deprecated and will be removed in a future release. To remove this warning, do the following: 1) Pass option use_label_encoder=False when constructing XGBClassifier object; and 2) Encode your labels (y) as integers starting with 0, i.e. 0, 1, 2, ..., [num_class - 1].\n",
      "  warnings.warn(label_encoder_deprecation_msg, UserWarning)\n",
      "\n",
      "2023/05/06 17:30:40 WARNING mlflow.utils.autologging_utils: Encountered unexpected error during xgboost autologging: The following failures occurred while performing one or more logging operations: [MlflowException('Failed to perform one or more operations on the run with ID 402f6f27e0a742b6ad5e739614697db9. Failed operations: [MlflowException(\"API request to http://localhost:5000/api/2.0/mlflow/runs/log-batch failed with exception HTTPConnectionPool(host=\\'localhost\\', port=5000): Max retries exceeded with url: /api/2.0/mlflow/runs/log-batch (Caused by ResponseError(\\'too many 500 error responses\\'))\")]')]\n"
     ]
    },
    {
     "name": "stdout",
     "output_type": "stream",
     "text": [
      "Training AUC is: 0.862809                                                                                              \n",
      "Test AUC is: 0.504297                                                                                                  \n",
      "Training accuracy is: 0.862857                                                                                         \n",
      "Test accuracy is: 0.504444                                                                                             \n",
      "[17:30:45] WARNING: D:\\bld\\xgboost-split_1637426510059\\work\\src\\learner.cc:1115: Starting in XGBoost 1.3.0, the default evaluation metric used with the objective 'binary:logistic' was changed from 'error' to 'logloss'. Explicitly set eval_metric if you'd like to restore the old behavior.\n",
      " 33%|██████████████▋                             | 40/120 [42:49<1:27:16, 65.46s/trial, best loss: -0.5244444444444445]"
     ]
    },
    {
     "name": "stderr",
     "output_type": "stream",
     "text": [
      "C:\\Users\\Ayush\\Anaconda3\\lib\\site-packages\\xgboost\\sklearn.py:1224: UserWarning: The use of label encoder in XGBClassifier is deprecated and will be removed in a future release. To remove this warning, do the following: 1) Pass option use_label_encoder=False when constructing XGBClassifier object; and 2) Encode your labels (y) as integers starting with 0, i.e. 0, 1, 2, ..., [num_class - 1].\n",
      "  warnings.warn(label_encoder_deprecation_msg, UserWarning)\n",
      "\n",
      "2023/05/06 17:31:45 WARNING mlflow.utils.autologging_utils: Encountered unexpected error during xgboost autologging: The following failures occurred while performing one or more logging operations: [MlflowException('Failed to perform one or more operations on the run with ID 402f6f27e0a742b6ad5e739614697db9. Failed operations: [MlflowException(\"API request to http://localhost:5000/api/2.0/mlflow/runs/log-batch failed with exception HTTPConnectionPool(host=\\'localhost\\', port=5000): Max retries exceeded with url: /api/2.0/mlflow/runs/log-batch (Caused by ResponseError(\\'too many 500 error responses\\'))\")]')]\n"
     ]
    },
    {
     "name": "stdout",
     "output_type": "stream",
     "text": [
      "Training AUC is: 1.000000                                                                                              \n",
      "Test AUC is: 0.499881                                                                                                  \n",
      "Training accuracy is: 1.000000                                                                                         \n",
      "Test accuracy is: 0.500000                                                                                             \n",
      "[17:31:50] WARNING: D:\\bld\\xgboost-split_1637426510059\\work\\src\\learner.cc:1115: Starting in XGBoost 1.3.0, the default evaluation metric used with the objective 'binary:logistic' was changed from 'error' to 'logloss'. Explicitly set eval_metric if you'd like to restore the old behavior.\n",
      " 34%|███████████████                             | 41/120 [43:54<1:26:08, 65.43s/trial, best loss: -0.5244444444444445]"
     ]
    },
    {
     "name": "stderr",
     "output_type": "stream",
     "text": [
      "C:\\Users\\Ayush\\Anaconda3\\lib\\site-packages\\xgboost\\sklearn.py:1224: UserWarning: The use of label encoder in XGBClassifier is deprecated and will be removed in a future release. To remove this warning, do the following: 1) Pass option use_label_encoder=False when constructing XGBClassifier object; and 2) Encode your labels (y) as integers starting with 0, i.e. 0, 1, 2, ..., [num_class - 1].\n",
      "  warnings.warn(label_encoder_deprecation_msg, UserWarning)\n",
      "\n",
      "2023/05/06 17:32:50 WARNING mlflow.utils.autologging_utils: Encountered unexpected error during xgboost autologging: The following failures occurred while performing one or more logging operations: [MlflowException('Failed to perform one or more operations on the run with ID 402f6f27e0a742b6ad5e739614697db9. Failed operations: [MlflowException(\"API request to http://localhost:5000/api/2.0/mlflow/runs/log-batch failed with exception HTTPConnectionPool(host=\\'localhost\\', port=5000): Max retries exceeded with url: /api/2.0/mlflow/runs/log-batch (Caused by ResponseError(\\'too many 500 error responses\\'))\")]')]\n"
     ]
    },
    {
     "name": "stdout",
     "output_type": "stream",
     "text": [
      "Training AUC is: 1.000000                                                                                              \n",
      "Test AUC is: 0.495673                                                                                                  \n",
      "Training accuracy is: 1.000000                                                                                         \n",
      "Test accuracy is: 0.495556                                                                                             \n",
      "[17:32:56] WARNING: D:\\bld\\xgboost-split_1637426510059\\work\\src\\learner.cc:1115: Starting in XGBoost 1.3.0, the default evaluation metric used with the objective 'binary:logistic' was changed from 'error' to 'logloss'. Explicitly set eval_metric if you'd like to restore the old behavior.\n",
      " 35%|███████████████▍                            | 42/120 [45:00<1:25:03, 65.43s/trial, best loss: -0.5244444444444445]"
     ]
    },
    {
     "name": "stderr",
     "output_type": "stream",
     "text": [
      "C:\\Users\\Ayush\\Anaconda3\\lib\\site-packages\\xgboost\\sklearn.py:1224: UserWarning: The use of label encoder in XGBClassifier is deprecated and will be removed in a future release. To remove this warning, do the following: 1) Pass option use_label_encoder=False when constructing XGBClassifier object; and 2) Encode your labels (y) as integers starting with 0, i.e. 0, 1, 2, ..., [num_class - 1].\n",
      "  warnings.warn(label_encoder_deprecation_msg, UserWarning)\n",
      "\n",
      "2023/05/06 17:33:56 WARNING mlflow.utils.autologging_utils: Encountered unexpected error during xgboost autologging: The following failures occurred while performing one or more logging operations: [MlflowException('Failed to perform one or more operations on the run with ID 402f6f27e0a742b6ad5e739614697db9. Failed operations: [MlflowException(\"API request to http://localhost:5000/api/2.0/mlflow/runs/log-batch failed with exception HTTPConnectionPool(host=\\'localhost\\', port=5000): Max retries exceeded with url: /api/2.0/mlflow/runs/log-batch (Caused by ResponseError(\\'too many 500 error responses\\'))\")]')]\n"
     ]
    },
    {
     "name": "stdout",
     "output_type": "stream",
     "text": [
      "Training AUC is: 0.836729                                                                                              \n",
      "Test AUC is: 0.494192                                                                                                  \n",
      "Training accuracy is: 0.836667                                                                                         \n",
      "Test accuracy is: 0.494444                                                                                             \n",
      "[17:34:01] WARNING: D:\\bld\\xgboost-split_1637426510059\\work\\src\\learner.cc:1115: Starting in XGBoost 1.3.0, the default evaluation metric used with the objective 'binary:logistic' was changed from 'error' to 'logloss'. Explicitly set eval_metric if you'd like to restore the old behavior.\n",
      " 36%|███████████████▊                            | 43/120 [46:05<1:23:57, 65.42s/trial, best loss: -0.5244444444444445]"
     ]
    },
    {
     "name": "stderr",
     "output_type": "stream",
     "text": [
      "C:\\Users\\Ayush\\Anaconda3\\lib\\site-packages\\xgboost\\sklearn.py:1224: UserWarning: The use of label encoder in XGBClassifier is deprecated and will be removed in a future release. To remove this warning, do the following: 1) Pass option use_label_encoder=False when constructing XGBClassifier object; and 2) Encode your labels (y) as integers starting with 0, i.e. 0, 1, 2, ..., [num_class - 1].\n",
      "  warnings.warn(label_encoder_deprecation_msg, UserWarning)\n",
      "\n",
      "2023/05/06 17:35:01 WARNING mlflow.utils.autologging_utils: Encountered unexpected error during xgboost autologging: The following failures occurred while performing one or more logging operations: [MlflowException('Failed to perform one or more operations on the run with ID 402f6f27e0a742b6ad5e739614697db9. Failed operations: [MlflowException(\"API request to http://localhost:5000/api/2.0/mlflow/runs/log-batch failed with exception HTTPConnectionPool(host=\\'localhost\\', port=5000): Max retries exceeded with url: /api/2.0/mlflow/runs/log-batch (Caused by ResponseError(\\'too many 500 error responses\\'))\")]')]\n"
     ]
    },
    {
     "name": "stdout",
     "output_type": "stream",
     "text": [
      "Training AUC is: 0.999521                                                                                              \n",
      "Test AUC is: 0.511943                                                                                                  \n",
      "Training accuracy is: 0.999524                                                                                         \n",
      "Test accuracy is: 0.512222                                                                                             \n",
      "[17:35:06] WARNING: D:\\bld\\xgboost-split_1637426510059\\work\\src\\learner.cc:1115: Starting in XGBoost 1.3.0, the default evaluation metric used with the objective 'binary:logistic' was changed from 'error' to 'logloss'. Explicitly set eval_metric if you'd like to restore the old behavior.\n",
      " 37%|████████████████▏                           | 44/120 [47:11<1:22:51, 65.41s/trial, best loss: -0.5244444444444445]"
     ]
    },
    {
     "name": "stderr",
     "output_type": "stream",
     "text": [
      "C:\\Users\\Ayush\\Anaconda3\\lib\\site-packages\\xgboost\\sklearn.py:1224: UserWarning: The use of label encoder in XGBClassifier is deprecated and will be removed in a future release. To remove this warning, do the following: 1) Pass option use_label_encoder=False when constructing XGBClassifier object; and 2) Encode your labels (y) as integers starting with 0, i.e. 0, 1, 2, ..., [num_class - 1].\n",
      "  warnings.warn(label_encoder_deprecation_msg, UserWarning)\n",
      "\n",
      "2023/05/06 17:36:07 WARNING mlflow.utils.autologging_utils: Encountered unexpected error during xgboost autologging: The following failures occurred while performing one or more logging operations: [MlflowException('Failed to perform one or more operations on the run with ID 402f6f27e0a742b6ad5e739614697db9. Failed operations: [MlflowException(\"API request to http://localhost:5000/api/2.0/mlflow/runs/log-batch failed with exception HTTPConnectionPool(host=\\'localhost\\', port=5000): Max retries exceeded with url: /api/2.0/mlflow/runs/log-batch (Caused by ResponseError(\\'too many 500 error responses\\'))\")]')]\n"
     ]
    },
    {
     "name": "stdout",
     "output_type": "stream",
     "text": [
      "Training AUC is: 1.000000                                                                                              \n",
      "Test AUC is: 0.511232                                                                                                  \n",
      "Training accuracy is: 1.000000                                                                                         \n",
      "Test accuracy is: 0.511111                                                                                             \n",
      "[17:36:12] WARNING: D:\\bld\\xgboost-split_1637426510059\\work\\src\\learner.cc:1115: Starting in XGBoost 1.3.0, the default evaluation metric used with the objective 'binary:logistic' was changed from 'error' to 'logloss'. Explicitly set eval_metric if you'd like to restore the old behavior.\n",
      " 38%|████████████████▌                           | 45/120 [48:16<1:21:46, 65.43s/trial, best loss: -0.5244444444444445]"
     ]
    },
    {
     "name": "stderr",
     "output_type": "stream",
     "text": [
      "C:\\Users\\Ayush\\Anaconda3\\lib\\site-packages\\xgboost\\sklearn.py:1224: UserWarning: The use of label encoder in XGBClassifier is deprecated and will be removed in a future release. To remove this warning, do the following: 1) Pass option use_label_encoder=False when constructing XGBClassifier object; and 2) Encode your labels (y) as integers starting with 0, i.e. 0, 1, 2, ..., [num_class - 1].\n",
      "  warnings.warn(label_encoder_deprecation_msg, UserWarning)\n",
      "\n",
      "2023/05/06 17:37:12 WARNING mlflow.utils.autologging_utils: Encountered unexpected error during xgboost autologging: The following failures occurred while performing one or more logging operations: [MlflowException('Failed to perform one or more operations on the run with ID 402f6f27e0a742b6ad5e739614697db9. Failed operations: [MlflowException(\"API request to http://localhost:5000/api/2.0/mlflow/runs/log-batch failed with exception HTTPConnectionPool(host=\\'localhost\\', port=5000): Max retries exceeded with url: /api/2.0/mlflow/runs/log-batch (Caused by ResponseError(\\'too many 500 error responses\\'))\")]')]\n"
     ]
    },
    {
     "name": "stdout",
     "output_type": "stream",
     "text": [
      "Training AUC is: 1.000000                                                                                              \n",
      "Test AUC is: 0.467609                                                                                                  \n",
      "Training accuracy is: 1.000000                                                                                         \n",
      "Test accuracy is: 0.467778                                                                                             \n",
      "[17:37:17] WARNING: D:\\bld\\xgboost-split_1637426510059\\work\\src\\learner.cc:1115: Starting in XGBoost 1.3.0, the default evaluation metric used with the objective 'binary:logistic' was changed from 'error' to 'logloss'. Explicitly set eval_metric if you'd like to restore the old behavior.\n",
      " 38%|████████████████▊                           | 46/120 [49:22<1:20:40, 65.42s/trial, best loss: -0.5244444444444445]"
     ]
    },
    {
     "name": "stderr",
     "output_type": "stream",
     "text": [
      "C:\\Users\\Ayush\\Anaconda3\\lib\\site-packages\\xgboost\\sklearn.py:1224: UserWarning: The use of label encoder in XGBClassifier is deprecated and will be removed in a future release. To remove this warning, do the following: 1) Pass option use_label_encoder=False when constructing XGBClassifier object; and 2) Encode your labels (y) as integers starting with 0, i.e. 0, 1, 2, ..., [num_class - 1].\n",
      "  warnings.warn(label_encoder_deprecation_msg, UserWarning)\n",
      "\n",
      "2023/05/06 17:38:18 WARNING mlflow.utils.autologging_utils: Encountered unexpected error during xgboost autologging: The following failures occurred while performing one or more logging operations: [MlflowException('Failed to perform one or more operations on the run with ID 402f6f27e0a742b6ad5e739614697db9. Failed operations: [MlflowException(\"API request to http://localhost:5000/api/2.0/mlflow/runs/log-batch failed with exception HTTPConnectionPool(host=\\'localhost\\', port=5000): Max retries exceeded with url: /api/2.0/mlflow/runs/log-batch (Caused by ResponseError(\\'too many 500 error responses\\'))\")]')]\n"
     ]
    },
    {
     "name": "stdout",
     "output_type": "stream",
     "text": [
      "Training AUC is: 0.958567                                                                                              \n",
      "Test AUC is: 0.487761                                                                                                  \n",
      "Training accuracy is: 0.958571                                                                                         \n",
      "Test accuracy is: 0.487778                                                                                             \n",
      " 39%|█████████████████▏                          | 47/120 [50:27<1:19:34, 65.41s/trial, best loss: -0.5244444444444445]"
     ]
    },
    {
     "name": "stderr",
     "output_type": "stream",
     "text": [
      "C:\\Users\\Ayush\\Anaconda3\\lib\\site-packages\\xgboost\\sklearn.py:1224: UserWarning: The use of label encoder in XGBClassifier is deprecated and will be removed in a future release. To remove this warning, do the following: 1) Pass option use_label_encoder=False when constructing XGBClassifier object; and 2) Encode your labels (y) as integers starting with 0, i.e. 0, 1, 2, ..., [num_class - 1].\n",
      "  warnings.warn(label_encoder_deprecation_msg, UserWarning)\n",
      "\n",
      "2023/05/06 17:38:23 ERROR mlflow.xgboost: Failed to log feature importance plot. XGBoost autologging will ignore the failure and continue. Exception: \n",
      "Traceback (most recent call last):\n",
      "  File \"C:\\Users\\Ayush\\Anaconda3\\lib\\site-packages\\mlflow\\xgboost\\__init__.py\", line 636, in train\n",
      "    features, importance = zip(*imp.items())\n",
      "ValueError: not enough values to unpack (expected 2, got 0)\n",
      "2023/05/06 17:39:23 WARNING mlflow.utils.autologging_utils: Encountered unexpected error during xgboost autologging: The following failures occurred while performing one or more logging operations: [MlflowException('Failed to perform one or more operations on the run with ID 402f6f27e0a742b6ad5e739614697db9. Failed operations: [MlflowException(\"API request to http://localhost:5000/api/2.0/mlflow/runs/log-batch failed with exception HTTPConnectionPool(host=\\'localhost\\', port=5000): Max retries exceeded with url: /api/2.0/mlflow/runs/log-batch (Caused by ResponseError(\\'too many 500 error responses\\'))\")]')]\n"
     ]
    },
    {
     "name": "stdout",
     "output_type": "stream",
     "text": [
      "Training AUC is: 0.500000                                                                                              \n",
      "Test AUC is: 0.500000                                                                                                  \n",
      "Training accuracy is: 0.497143                                                                                         \n",
      "Test accuracy is: 0.506667                                                                                             \n",
      "[17:39:28] WARNING: D:\\bld\\xgboost-split_1637426510059\\work\\src\\learner.cc:1115: Starting in XGBoost 1.3.0, the default evaluation metric used with the objective 'binary:logistic' was changed from 'error' to 'logloss'. Explicitly set eval_metric if you'd like to restore the old behavior.\n",
      " 40%|█████████████████▌                          | 48/120 [51:32<1:18:27, 65.38s/trial, best loss: -0.5244444444444445]"
     ]
    },
    {
     "name": "stderr",
     "output_type": "stream",
     "text": [
      "C:\\Users\\Ayush\\Anaconda3\\lib\\site-packages\\xgboost\\sklearn.py:1224: UserWarning: The use of label encoder in XGBClassifier is deprecated and will be removed in a future release. To remove this warning, do the following: 1) Pass option use_label_encoder=False when constructing XGBClassifier object; and 2) Encode your labels (y) as integers starting with 0, i.e. 0, 1, 2, ..., [num_class - 1].\n",
      "  warnings.warn(label_encoder_deprecation_msg, UserWarning)\n",
      "\n",
      "2023/05/06 17:40:28 WARNING mlflow.utils.autologging_utils: Encountered unexpected error during xgboost autologging: The following failures occurred while performing one or more logging operations: [MlflowException('Failed to perform one or more operations on the run with ID 402f6f27e0a742b6ad5e739614697db9. Failed operations: [MlflowException(\"API request to http://localhost:5000/api/2.0/mlflow/runs/log-batch failed with exception HTTPConnectionPool(host=\\'localhost\\', port=5000): Max retries exceeded with url: /api/2.0/mlflow/runs/log-batch (Caused by ResponseError(\\'too many 500 error responses\\'))\")]')]\n"
     ]
    },
    {
     "name": "stdout",
     "output_type": "stream",
     "text": [
      "Training AUC is: 0.997148                                                                                              \n",
      "Test AUC is: 0.480974                                                                                                  \n",
      "Training accuracy is: 0.997143                                                                                         \n",
      "Test accuracy is: 0.481111                                                                                             \n",
      "[17:40:33] WARNING: D:\\bld\\xgboost-split_1637426510059\\work\\src\\learner.cc:1115: Starting in XGBoost 1.3.0, the default evaluation metric used with the objective 'binary:logistic' was changed from 'error' to 'logloss'. Explicitly set eval_metric if you'd like to restore the old behavior.\n",
      " 41%|█████████████████▉                          | 49/120 [52:37<1:17:20, 65.35s/trial, best loss: -0.5244444444444445]"
     ]
    },
    {
     "name": "stderr",
     "output_type": "stream",
     "text": [
      "C:\\Users\\Ayush\\Anaconda3\\lib\\site-packages\\xgboost\\sklearn.py:1224: UserWarning: The use of label encoder in XGBClassifier is deprecated and will be removed in a future release. To remove this warning, do the following: 1) Pass option use_label_encoder=False when constructing XGBClassifier object; and 2) Encode your labels (y) as integers starting with 0, i.e. 0, 1, 2, ..., [num_class - 1].\n",
      "  warnings.warn(label_encoder_deprecation_msg, UserWarning)\n",
      "\n",
      "2023/05/06 17:41:33 WARNING mlflow.utils.autologging_utils: Encountered unexpected error during xgboost autologging: The following failures occurred while performing one or more logging operations: [MlflowException('Failed to perform one or more operations on the run with ID 402f6f27e0a742b6ad5e739614697db9. Failed operations: [MlflowException(\"API request to http://localhost:5000/api/2.0/mlflow/runs/log-batch failed with exception HTTPConnectionPool(host=\\'localhost\\', port=5000): Max retries exceeded with url: /api/2.0/mlflow/runs/log-batch (Caused by ResponseError(\\'too many 500 error responses\\'))\")]')]\n"
     ]
    },
    {
     "name": "stdout",
     "output_type": "stream",
     "text": [
      "Training AUC is: 0.723300                                                                                              \n",
      "Test AUC is: 0.519026                                                                                                  \n",
      "Training accuracy is: 0.723333                                                                                         \n",
      "Test accuracy is: 0.518889                                                                                             \n",
      "[17:41:39] WARNING: D:\\bld\\xgboost-split_1637426510059\\work\\src\\learner.cc:1115: Starting in XGBoost 1.3.0, the default evaluation metric used with the objective 'binary:logistic' was changed from 'error' to 'logloss'. Explicitly set eval_metric if you'd like to restore the old behavior.\n",
      " 42%|██████████████████▎                         | 50/120 [53:43<1:16:13, 65.33s/trial, best loss: -0.5244444444444445]"
     ]
    },
    {
     "name": "stderr",
     "output_type": "stream",
     "text": [
      "C:\\Users\\Ayush\\Anaconda3\\lib\\site-packages\\xgboost\\sklearn.py:1224: UserWarning: The use of label encoder in XGBClassifier is deprecated and will be removed in a future release. To remove this warning, do the following: 1) Pass option use_label_encoder=False when constructing XGBClassifier object; and 2) Encode your labels (y) as integers starting with 0, i.e. 0, 1, 2, ..., [num_class - 1].\n",
      "  warnings.warn(label_encoder_deprecation_msg, UserWarning)\n",
      "\n",
      "2023/05/06 17:42:39 WARNING mlflow.utils.autologging_utils: Encountered unexpected error during xgboost autologging: The following failures occurred while performing one or more logging operations: [MlflowException('Failed to perform one or more operations on the run with ID 402f6f27e0a742b6ad5e739614697db9. Failed operations: [MlflowException(\"API request to http://localhost:5000/api/2.0/mlflow/runs/log-batch failed with exception HTTPConnectionPool(host=\\'localhost\\', port=5000): Max retries exceeded with url: /api/2.0/mlflow/runs/log-batch (Caused by ResponseError(\\'too many 500 error responses\\'))\")]')]\n"
     ]
    },
    {
     "name": "stdout",
     "output_type": "stream",
     "text": [
      "Training AUC is: 0.849987                                                                                              \n",
      "Test AUC is: 0.498992                                                                                                  \n",
      "Training accuracy is: 0.850000                                                                                         \n",
      "Test accuracy is: 0.498889                                                                                             \n",
      "[17:42:44] WARNING: D:\\bld\\xgboost-split_1637426510059\\work\\src\\learner.cc:1115: Starting in XGBoost 1.3.0, the default evaluation metric used with the objective 'binary:logistic' was changed from 'error' to 'logloss'. Explicitly set eval_metric if you'd like to restore the old behavior.\n",
      " 42%|██████████████████▋                         | 51/120 [54:48<1:15:06, 65.30s/trial, best loss: -0.5244444444444445]"
     ]
    },
    {
     "name": "stderr",
     "output_type": "stream",
     "text": [
      "C:\\Users\\Ayush\\Anaconda3\\lib\\site-packages\\xgboost\\sklearn.py:1224: UserWarning: The use of label encoder in XGBClassifier is deprecated and will be removed in a future release. To remove this warning, do the following: 1) Pass option use_label_encoder=False when constructing XGBClassifier object; and 2) Encode your labels (y) as integers starting with 0, i.e. 0, 1, 2, ..., [num_class - 1].\n",
      "  warnings.warn(label_encoder_deprecation_msg, UserWarning)\n",
      "\n",
      "2023/05/06 17:43:44 WARNING mlflow.utils.autologging_utils: Encountered unexpected error during xgboost autologging: The following failures occurred while performing one or more logging operations: [MlflowException('Failed to perform one or more operations on the run with ID 402f6f27e0a742b6ad5e739614697db9. Failed operations: [MlflowException(\"API request to http://localhost:5000/api/2.0/mlflow/runs/log-batch failed with exception HTTPConnectionPool(host=\\'localhost\\', port=5000): Max retries exceeded with url: /api/2.0/mlflow/runs/log-batch (Caused by ResponseError(\\'too many 500 error responses\\'))\")]')]\n"
     ]
    },
    {
     "name": "stdout",
     "output_type": "stream",
     "text": [
      "Training AUC is: 1.000000                                                                                              \n",
      "Test AUC is: 0.514432                                                                                                  \n",
      "Training accuracy is: 1.000000                                                                                         \n",
      "Test accuracy is: 0.514444                                                                                             \n",
      "[17:43:49] WARNING: D:\\bld\\xgboost-split_1637426510059\\work\\src\\learner.cc:1115: Starting in XGBoost 1.3.0, the default evaluation metric used with the objective 'binary:logistic' was changed from 'error' to 'logloss'. Explicitly set eval_metric if you'd like to restore the old behavior.\n",
      " 43%|███████████████████                         | 52/120 [55:53<1:13:59, 65.28s/trial, best loss: -0.5244444444444445]"
     ]
    },
    {
     "name": "stderr",
     "output_type": "stream",
     "text": [
      "C:\\Users\\Ayush\\Anaconda3\\lib\\site-packages\\xgboost\\sklearn.py:1224: UserWarning: The use of label encoder in XGBClassifier is deprecated and will be removed in a future release. To remove this warning, do the following: 1) Pass option use_label_encoder=False when constructing XGBClassifier object; and 2) Encode your labels (y) as integers starting with 0, i.e. 0, 1, 2, ..., [num_class - 1].\n",
      "  warnings.warn(label_encoder_deprecation_msg, UserWarning)\n",
      "\n",
      "2023/05/06 17:44:49 WARNING mlflow.utils.autologging_utils: Encountered unexpected error during xgboost autologging: The following failures occurred while performing one or more logging operations: [MlflowException('Failed to perform one or more operations on the run with ID 402f6f27e0a742b6ad5e739614697db9. Failed operations: [MlflowException(\"API request to http://localhost:5000/api/2.0/mlflow/runs/log-batch failed with exception HTTPConnectionPool(host=\\'localhost\\', port=5000): Max retries exceeded with url: /api/2.0/mlflow/runs/log-batch (Caused by ResponseError(\\'too many 500 error responses\\'))\")]')]\n"
     ]
    },
    {
     "name": "stdout",
     "output_type": "stream",
     "text": [
      "Training AUC is: 1.000000                                                                                              \n",
      "Test AUC is: 0.468409                                                                                                  \n",
      "Training accuracy is: 1.000000                                                                                         \n",
      "Test accuracy is: 0.468889                                                                                             \n",
      "[17:44:54] WARNING: D:\\bld\\xgboost-split_1637426510059\\work\\src\\learner.cc:1115: Starting in XGBoost 1.3.0, the default evaluation metric used with the objective 'binary:logistic' was changed from 'error' to 'logloss'. Explicitly set eval_metric if you'd like to restore the old behavior.\n",
      " 44%|███████████████████▍                        | 53/120 [56:58<1:12:51, 65.24s/trial, best loss: -0.5244444444444445]"
     ]
    },
    {
     "name": "stderr",
     "output_type": "stream",
     "text": [
      "C:\\Users\\Ayush\\Anaconda3\\lib\\site-packages\\xgboost\\sklearn.py:1224: UserWarning: The use of label encoder in XGBClassifier is deprecated and will be removed in a future release. To remove this warning, do the following: 1) Pass option use_label_encoder=False when constructing XGBClassifier object; and 2) Encode your labels (y) as integers starting with 0, i.e. 0, 1, 2, ..., [num_class - 1].\n",
      "  warnings.warn(label_encoder_deprecation_msg, UserWarning)\n",
      "\n",
      "2023/05/06 17:45:54 WARNING mlflow.utils.autologging_utils: Encountered unexpected error during xgboost autologging: The following failures occurred while performing one or more logging operations: [MlflowException('Failed to perform one or more operations on the run with ID 402f6f27e0a742b6ad5e739614697db9. Failed operations: [MlflowException(\"API request to http://localhost:5000/api/2.0/mlflow/runs/log-batch failed with exception HTTPConnectionPool(host=\\'localhost\\', port=5000): Max retries exceeded with url: /api/2.0/mlflow/runs/log-batch (Caused by ResponseError(\\'too many 500 error responses\\'))\")]')]\n"
     ]
    },
    {
     "name": "stdout",
     "output_type": "stream",
     "text": [
      "Training AUC is: 1.000000                                                                                              \n",
      "Test AUC is: 0.500059                                                                                                  \n",
      "Training accuracy is: 1.000000                                                                                         \n",
      "Test accuracy is: 0.500000                                                                                             \n",
      "[17:46:00] WARNING: D:\\bld\\xgboost-split_1637426510059\\work\\src\\learner.cc:1115: Starting in XGBoost 1.3.0, the default evaluation metric used with the objective 'binary:logistic' was changed from 'error' to 'logloss'. Explicitly set eval_metric if you'd like to restore the old behavior.\n",
      " 45%|███████████████████▊                        | 54/120 [58:05<1:12:05, 65.53s/trial, best loss: -0.5244444444444445]"
     ]
    },
    {
     "name": "stderr",
     "output_type": "stream",
     "text": [
      "C:\\Users\\Ayush\\Anaconda3\\lib\\site-packages\\xgboost\\sklearn.py:1224: UserWarning: The use of label encoder in XGBClassifier is deprecated and will be removed in a future release. To remove this warning, do the following: 1) Pass option use_label_encoder=False when constructing XGBClassifier object; and 2) Encode your labels (y) as integers starting with 0, i.e. 0, 1, 2, ..., [num_class - 1].\n",
      "  warnings.warn(label_encoder_deprecation_msg, UserWarning)\n",
      "\n",
      "2023/05/06 17:47:01 WARNING mlflow.utils.autologging_utils: Encountered unexpected error during xgboost autologging: The following failures occurred while performing one or more logging operations: [MlflowException('Failed to perform one or more operations on the run with ID 402f6f27e0a742b6ad5e739614697db9. Failed operations: [MlflowException(\"API request to http://localhost:5000/api/2.0/mlflow/runs/log-batch failed with exception HTTPConnectionPool(host=\\'localhost\\', port=5000): Max retries exceeded with url: /api/2.0/mlflow/runs/log-batch (Caused by ResponseError(\\'too many 500 error responses\\'))\")]')]\n"
     ]
    },
    {
     "name": "stdout",
     "output_type": "stream",
     "text": [
      "Training AUC is: 0.996179                                                                                              \n",
      "Test AUC is: 0.509957                                                                                                  \n",
      "Training accuracy is: 0.996190                                                                                         \n",
      "Test accuracy is: 0.510000                                                                                             \n",
      "[17:47:07] WARNING: D:\\bld\\xgboost-split_1637426510059\\work\\src\\learner.cc:1115: Starting in XGBoost 1.3.0, the default evaluation metric used with the objective 'binary:logistic' was changed from 'error' to 'logloss'. Explicitly set eval_metric if you'd like to restore the old behavior.\n",
      " 46%|████████████████████▏                       | 55/120 [59:11<1:11:16, 65.80s/trial, best loss: -0.5244444444444445]"
     ]
    },
    {
     "name": "stderr",
     "output_type": "stream",
     "text": [
      "C:\\Users\\Ayush\\Anaconda3\\lib\\site-packages\\xgboost\\sklearn.py:1224: UserWarning: The use of label encoder in XGBClassifier is deprecated and will be removed in a future release. To remove this warning, do the following: 1) Pass option use_label_encoder=False when constructing XGBClassifier object; and 2) Encode your labels (y) as integers starting with 0, i.e. 0, 1, 2, ..., [num_class - 1].\n",
      "  warnings.warn(label_encoder_deprecation_msg, UserWarning)\n",
      "\n",
      "2023/05/06 17:48:07 WARNING mlflow.utils.autologging_utils: Encountered unexpected error during xgboost autologging: The following failures occurred while performing one or more logging operations: [MlflowException('Failed to perform one or more operations on the run with ID 402f6f27e0a742b6ad5e739614697db9. Failed operations: [MlflowException(\"API request to http://localhost:5000/api/2.0/mlflow/runs/log-batch failed with exception HTTPConnectionPool(host=\\'localhost\\', port=5000): Max retries exceeded with url: /api/2.0/mlflow/runs/log-batch (Caused by ResponseError(\\'too many 500 error responses\\'))\")]')]\n"
     ]
    },
    {
     "name": "stdout",
     "output_type": "stream",
     "text": [
      "Training AUC is: 1.000000                                                                                              \n",
      "Test AUC is: 0.522019                                                                                                  \n",
      "Training accuracy is: 1.000000                                                                                         \n",
      "Test accuracy is: 0.522222                                                                                             \n",
      "[17:48:13] WARNING: D:\\bld\\xgboost-split_1637426510059\\work\\src\\learner.cc:1115: Starting in XGBoost 1.3.0, the default evaluation metric used with the objective 'binary:logistic' was changed from 'error' to 'logloss'. Explicitly set eval_metric if you'd like to restore the old behavior.\n",
      " 47%|███████████████████▌                      | 56/120 [1:00:17<1:10:09, 65.77s/trial, best loss: -0.5244444444444445]"
     ]
    },
    {
     "name": "stderr",
     "output_type": "stream",
     "text": [
      "C:\\Users\\Ayush\\Anaconda3\\lib\\site-packages\\xgboost\\sklearn.py:1224: UserWarning: The use of label encoder in XGBClassifier is deprecated and will be removed in a future release. To remove this warning, do the following: 1) Pass option use_label_encoder=False when constructing XGBClassifier object; and 2) Encode your labels (y) as integers starting with 0, i.e. 0, 1, 2, ..., [num_class - 1].\n",
      "  warnings.warn(label_encoder_deprecation_msg, UserWarning)\n",
      "\n",
      "2023/05/06 17:49:13 WARNING mlflow.utils.autologging_utils: Encountered unexpected error during xgboost autologging: The following failures occurred while performing one or more logging operations: [MlflowException('Failed to perform one or more operations on the run with ID 402f6f27e0a742b6ad5e739614697db9. Failed operations: [MlflowException(\"API request to http://localhost:5000/api/2.0/mlflow/runs/log-batch failed with exception HTTPConnectionPool(host=\\'localhost\\', port=5000): Max retries exceeded with url: /api/2.0/mlflow/runs/log-batch (Caused by ResponseError(\\'too many 500 error responses\\'))\")]')]\n"
     ]
    },
    {
     "name": "stdout",
     "output_type": "stream",
     "text": [
      "Training AUC is: 1.000000                                                                                              \n",
      "Test AUC is: 0.523234                                                                                                  \n",
      "Training accuracy is: 1.000000                                                                                         \n",
      "Test accuracy is: 0.523333                                                                                             \n",
      " 48%|███████████████████▉                      | 57/120 [1:01:22<1:09:00, 65.72s/trial, best loss: -0.5244444444444445]"
     ]
    },
    {
     "name": "stderr",
     "output_type": "stream",
     "text": [
      "C:\\Users\\Ayush\\Anaconda3\\lib\\site-packages\\xgboost\\sklearn.py:1224: UserWarning: The use of label encoder in XGBClassifier is deprecated and will be removed in a future release. To remove this warning, do the following: 1) Pass option use_label_encoder=False when constructing XGBClassifier object; and 2) Encode your labels (y) as integers starting with 0, i.e. 0, 1, 2, ..., [num_class - 1].\n",
      "  warnings.warn(label_encoder_deprecation_msg, UserWarning)\n",
      "\n",
      "2023/05/06 17:49:18 ERROR mlflow.xgboost: Failed to log feature importance plot. XGBoost autologging will ignore the failure and continue. Exception: \n",
      "Traceback (most recent call last):\n",
      "  File \"C:\\Users\\Ayush\\Anaconda3\\lib\\site-packages\\mlflow\\xgboost\\__init__.py\", line 636, in train\n",
      "    features, importance = zip(*imp.items())\n",
      "ValueError: not enough values to unpack (expected 2, got 0)\n",
      "2023/05/06 17:50:18 WARNING mlflow.utils.autologging_utils: Encountered unexpected error during xgboost autologging: The following failures occurred while performing one or more logging operations: [MlflowException('Failed to perform one or more operations on the run with ID 402f6f27e0a742b6ad5e739614697db9. Failed operations: [MlflowException(\"API request to http://localhost:5000/api/2.0/mlflow/runs/log-batch failed with exception HTTPConnectionPool(host=\\'localhost\\', port=5000): Max retries exceeded with url: /api/2.0/mlflow/runs/log-batch (Caused by ResponseError(\\'too many 500 error responses\\'))\")]')]\n"
     ]
    },
    {
     "name": "stdout",
     "output_type": "stream",
     "text": [
      "Training AUC is: 0.500000                                                                                              \n",
      "Test AUC is: 0.500000                                                                                                  \n",
      "Training accuracy is: 0.497143                                                                                         \n",
      "Test accuracy is: 0.506667                                                                                             \n",
      "[17:50:24] WARNING: D:\\bld\\xgboost-split_1637426510059\\work\\src\\learner.cc:1115: Starting in XGBoost 1.3.0, the default evaluation metric used with the objective 'binary:logistic' was changed from 'error' to 'logloss'. Explicitly set eval_metric if you'd like to restore the old behavior.\n",
      " 48%|████████████████████▎                     | 58/120 [1:02:28<1:07:55, 65.74s/trial, best loss: -0.5244444444444445]"
     ]
    },
    {
     "name": "stderr",
     "output_type": "stream",
     "text": [
      "C:\\Users\\Ayush\\Anaconda3\\lib\\site-packages\\xgboost\\sklearn.py:1224: UserWarning: The use of label encoder in XGBClassifier is deprecated and will be removed in a future release. To remove this warning, do the following: 1) Pass option use_label_encoder=False when constructing XGBClassifier object; and 2) Encode your labels (y) as integers starting with 0, i.e. 0, 1, 2, ..., [num_class - 1].\n",
      "  warnings.warn(label_encoder_deprecation_msg, UserWarning)\n",
      "\n",
      "2023/05/06 17:51:24 WARNING mlflow.utils.autologging_utils: Encountered unexpected error during xgboost autologging: The following failures occurred while performing one or more logging operations: [MlflowException('Failed to perform one or more operations on the run with ID 402f6f27e0a742b6ad5e739614697db9. Failed operations: [MlflowException(\"API request to http://localhost:5000/api/2.0/mlflow/runs/log-batch failed with exception HTTPConnectionPool(host=\\'localhost\\', port=5000): Max retries exceeded with url: /api/2.0/mlflow/runs/log-batch (Caused by ResponseError(\\'too many 500 error responses\\'))\")]')]\n"
     ]
    },
    {
     "name": "stdout",
     "output_type": "stream",
     "text": [
      "Training AUC is: 1.000000                                                                                              \n",
      "Test AUC is: 0.498755                                                                                                  \n",
      "Training accuracy is: 1.000000                                                                                         \n",
      "Test accuracy is: 0.498889                                                                                             \n",
      "[17:51:30] WARNING: D:\\bld\\xgboost-split_1637426510059\\work\\src\\learner.cc:1115: Starting in XGBoost 1.3.0, the default evaluation metric used with the objective 'binary:logistic' was changed from 'error' to 'logloss'. Explicitly set eval_metric if you'd like to restore the old behavior.\n",
      " 49%|████████████████████▋                     | 59/120 [1:03:34<1:06:48, 65.72s/trial, best loss: -0.5244444444444445]"
     ]
    },
    {
     "name": "stderr",
     "output_type": "stream",
     "text": [
      "C:\\Users\\Ayush\\Anaconda3\\lib\\site-packages\\xgboost\\sklearn.py:1224: UserWarning: The use of label encoder in XGBClassifier is deprecated and will be removed in a future release. To remove this warning, do the following: 1) Pass option use_label_encoder=False when constructing XGBClassifier object; and 2) Encode your labels (y) as integers starting with 0, i.e. 0, 1, 2, ..., [num_class - 1].\n",
      "  warnings.warn(label_encoder_deprecation_msg, UserWarning)\n",
      "\n",
      "2023/05/06 17:52:30 WARNING mlflow.utils.autologging_utils: Encountered unexpected error during xgboost autologging: The following failures occurred while performing one or more logging operations: [MlflowException('Failed to perform one or more operations on the run with ID 402f6f27e0a742b6ad5e739614697db9. Failed operations: [MlflowException(\"API request to http://localhost:5000/api/2.0/mlflow/runs/log-batch failed with exception HTTPConnectionPool(host=\\'localhost\\', port=5000): Max retries exceeded with url: /api/2.0/mlflow/runs/log-batch (Caused by ResponseError(\\'too many 500 error responses\\'))\")]')]\n"
     ]
    },
    {
     "name": "stdout",
     "output_type": "stream",
     "text": [
      "Training AUC is: 1.000000                                                                                              \n",
      "Test AUC is: 0.499467                                                                                                  \n",
      "Training accuracy is: 1.000000                                                                                         \n",
      "Test accuracy is: 0.500000                                                                                             \n",
      " 50%|█████████████████████                     | 60/120 [1:04:40<1:05:49, 65.82s/trial, best loss: -0.5244444444444445]"
     ]
    },
    {
     "name": "stderr",
     "output_type": "stream",
     "text": [
      "C:\\Users\\Ayush\\Anaconda3\\lib\\site-packages\\xgboost\\sklearn.py:1224: UserWarning: The use of label encoder in XGBClassifier is deprecated and will be removed in a future release. To remove this warning, do the following: 1) Pass option use_label_encoder=False when constructing XGBClassifier object; and 2) Encode your labels (y) as integers starting with 0, i.e. 0, 1, 2, ..., [num_class - 1].\n",
      "  warnings.warn(label_encoder_deprecation_msg, UserWarning)\n",
      "\n"
     ]
    },
    {
     "name": "stdout",
     "output_type": "stream",
     "text": [
      "[17:52:36] WARNING: D:\\bld\\xgboost-split_1637426510059\\work\\src\\learner.cc:1115: Starting in XGBoost 1.3.0, the default evaluation metric used with the objective 'binary:logistic' was changed from 'error' to 'logloss'. Explicitly set eval_metric if you'd like to restore the old behavior.\n",
      " 50%|█████████████████████                     | 60/120 [1:04:40<1:05:49, 65.82s/trial, best loss: -0.5244444444444445]"
     ]
    },
    {
     "name": "stderr",
     "output_type": "stream",
     "text": [
      "2023/05/06 17:53:36 WARNING mlflow.utils.autologging_utils: Encountered unexpected error during xgboost autologging: The following failures occurred while performing one or more logging operations: [MlflowException('Failed to perform one or more operations on the run with ID 402f6f27e0a742b6ad5e739614697db9. Failed operations: [MlflowException(\"API request to http://localhost:5000/api/2.0/mlflow/runs/log-batch failed with exception HTTPConnectionPool(host=\\'localhost\\', port=5000): Max retries exceeded with url: /api/2.0/mlflow/runs/log-batch (Caused by ResponseError(\\'too many 500 error responses\\'))\")]')]\n"
     ]
    },
    {
     "name": "stdout",
     "output_type": "stream",
     "text": [
      "Training AUC is: 0.998095                                                                                              \n",
      "Test AUC is: 0.505512                                                                                                  \n",
      "Training accuracy is: 0.998095                                                                                         \n",
      "Test accuracy is: 0.505556                                                                                             \n",
      "[17:53:42] WARNING: D:\\bld\\xgboost-split_1637426510059\\work\\src\\learner.cc:1115: Starting in XGBoost 1.3.0, the default evaluation metric used with the objective 'binary:logistic' was changed from 'error' to 'logloss'. Explicitly set eval_metric if you'd like to restore the old behavior.\n",
      " 51%|█████████████████████▎                    | 61/120 [1:05:46<1:04:43, 65.83s/trial, best loss: -0.5244444444444445]"
     ]
    },
    {
     "name": "stderr",
     "output_type": "stream",
     "text": [
      "C:\\Users\\Ayush\\Anaconda3\\lib\\site-packages\\xgboost\\sklearn.py:1224: UserWarning: The use of label encoder in XGBClassifier is deprecated and will be removed in a future release. To remove this warning, do the following: 1) Pass option use_label_encoder=False when constructing XGBClassifier object; and 2) Encode your labels (y) as integers starting with 0, i.e. 0, 1, 2, ..., [num_class - 1].\n",
      "  warnings.warn(label_encoder_deprecation_msg, UserWarning)\n",
      "\n",
      "2023/05/06 17:54:42 WARNING mlflow.utils.autologging_utils: Encountered unexpected error during xgboost autologging: The following failures occurred while performing one or more logging operations: [MlflowException('Failed to perform one or more operations on the run with ID 402f6f27e0a742b6ad5e739614697db9. Failed operations: [MlflowException(\"API request to http://localhost:5000/api/2.0/mlflow/runs/log-batch failed with exception HTTPConnectionPool(host=\\'localhost\\', port=5000): Max retries exceeded with url: /api/2.0/mlflow/runs/log-batch (Caused by ResponseError(\\'too many 500 error responses\\'))\")]')]\n"
     ]
    },
    {
     "name": "stdout",
     "output_type": "stream",
     "text": [
      "Training AUC is: 0.999048                                                                                              \n",
      "Test AUC is: 0.527590                                                                                                  \n",
      "Training accuracy is: 0.999048                                                                                         \n",
      "Test accuracy is: 0.527778                                                                                             \n",
      "[17:54:47] WARNING: D:\\bld\\xgboost-split_1637426510059\\work\\src\\learner.cc:1115: Starting in XGBoost 1.3.0, the default evaluation metric used with the objective 'binary:logistic' was changed from 'error' to 'logloss'. Explicitly set eval_metric if you'd like to restore the old behavior.\n",
      " 52%|█████████████████████▋                    | 62/120 [1:06:51<1:03:33, 65.75s/trial, best loss: -0.5277777777777778]"
     ]
    },
    {
     "name": "stderr",
     "output_type": "stream",
     "text": [
      "C:\\Users\\Ayush\\Anaconda3\\lib\\site-packages\\xgboost\\sklearn.py:1224: UserWarning: The use of label encoder in XGBClassifier is deprecated and will be removed in a future release. To remove this warning, do the following: 1) Pass option use_label_encoder=False when constructing XGBClassifier object; and 2) Encode your labels (y) as integers starting with 0, i.e. 0, 1, 2, ..., [num_class - 1].\n",
      "  warnings.warn(label_encoder_deprecation_msg, UserWarning)\n",
      "\n",
      "2023/05/06 17:55:47 WARNING mlflow.utils.autologging_utils: Encountered unexpected error during xgboost autologging: The following failures occurred while performing one or more logging operations: [MlflowException('Failed to perform one or more operations on the run with ID 402f6f27e0a742b6ad5e739614697db9. Failed operations: [MlflowException(\"API request to http://localhost:5000/api/2.0/mlflow/runs/log-batch failed with exception HTTPConnectionPool(host=\\'localhost\\', port=5000): Max retries exceeded with url: /api/2.0/mlflow/runs/log-batch (Caused by ResponseError(\\'too many 500 error responses\\'))\")]')]\n"
     ]
    },
    {
     "name": "stdout",
     "output_type": "stream",
     "text": [
      "Training AUC is: 1.000000                                                                                              \n",
      "Test AUC is: 0.507646                                                                                                  \n",
      "Training accuracy is: 1.000000                                                                                         \n",
      "Test accuracy is: 0.507778                                                                                             \n",
      "[17:55:53] WARNING: D:\\bld\\xgboost-split_1637426510059\\work\\src\\learner.cc:1115: Starting in XGBoost 1.3.0, the default evaluation metric used with the objective 'binary:logistic' was changed from 'error' to 'logloss'. Explicitly set eval_metric if you'd like to restore the old behavior.\n",
      " 52%|██████████████████████                    | 63/120 [1:07:57<1:02:25, 65.72s/trial, best loss: -0.5277777777777778]"
     ]
    },
    {
     "name": "stderr",
     "output_type": "stream",
     "text": [
      "C:\\Users\\Ayush\\Anaconda3\\lib\\site-packages\\xgboost\\sklearn.py:1224: UserWarning: The use of label encoder in XGBClassifier is deprecated and will be removed in a future release. To remove this warning, do the following: 1) Pass option use_label_encoder=False when constructing XGBClassifier object; and 2) Encode your labels (y) as integers starting with 0, i.e. 0, 1, 2, ..., [num_class - 1].\n",
      "  warnings.warn(label_encoder_deprecation_msg, UserWarning)\n",
      "\n",
      "2023/05/06 17:56:53 WARNING mlflow.utils.autologging_utils: Encountered unexpected error during xgboost autologging: The following failures occurred while performing one or more logging operations: [MlflowException('Failed to perform one or more operations on the run with ID 402f6f27e0a742b6ad5e739614697db9. Failed operations: [MlflowException(\"API request to http://localhost:5000/api/2.0/mlflow/runs/log-batch failed with exception HTTPConnectionPool(host=\\'localhost\\', port=5000): Max retries exceeded with url: /api/2.0/mlflow/runs/log-batch (Caused by ResponseError(\\'too many 500 error responses\\'))\")]')]\n"
     ]
    },
    {
     "name": "stdout",
     "output_type": "stream",
     "text": [
      "Training AUC is: 0.995722                                                                                              \n",
      "Test AUC is: 0.483286                                                                                                  \n",
      "Training accuracy is: 0.995714                                                                                         \n",
      "Test accuracy is: 0.483333                                                                                             \n",
      "[17:56:59] WARNING: D:\\bld\\xgboost-split_1637426510059\\work\\src\\learner.cc:1115: Starting in XGBoost 1.3.0, the default evaluation metric used with the objective 'binary:logistic' was changed from 'error' to 'logloss'. Explicitly set eval_metric if you'd like to restore the old behavior.\n",
      " 53%|██████████████████████▍                   | 64/120 [1:09:03<1:01:20, 65.72s/trial, best loss: -0.5277777777777778]"
     ]
    },
    {
     "name": "stderr",
     "output_type": "stream",
     "text": [
      "C:\\Users\\Ayush\\Anaconda3\\lib\\site-packages\\xgboost\\sklearn.py:1224: UserWarning: The use of label encoder in XGBClassifier is deprecated and will be removed in a future release. To remove this warning, do the following: 1) Pass option use_label_encoder=False when constructing XGBClassifier object; and 2) Encode your labels (y) as integers starting with 0, i.e. 0, 1, 2, ..., [num_class - 1].\n",
      "  warnings.warn(label_encoder_deprecation_msg, UserWarning)\n",
      "\n",
      "2023/05/06 17:57:59 WARNING mlflow.utils.autologging_utils: Encountered unexpected error during xgboost autologging: The following failures occurred while performing one or more logging operations: [MlflowException('Failed to perform one or more operations on the run with ID 402f6f27e0a742b6ad5e739614697db9. Failed operations: [MlflowException(\"API request to http://localhost:5000/api/2.0/mlflow/runs/log-batch failed with exception HTTPConnectionPool(host=\\'localhost\\', port=5000): Max retries exceeded with url: /api/2.0/mlflow/runs/log-batch (Caused by ResponseError(\\'too many 500 error responses\\'))\")]')]\n"
     ]
    },
    {
     "name": "stdout",
     "output_type": "stream",
     "text": [
      "Training AUC is: 1.000000                                                                                              \n",
      "Test AUC is: 0.502134                                                                                                  \n",
      "Training accuracy is: 1.000000                                                                                         \n",
      "Test accuracy is: 0.502222                                                                                             \n",
      "[17:58:04] WARNING: D:\\bld\\xgboost-split_1637426510059\\work\\src\\learner.cc:1115: Starting in XGBoost 1.3.0, the default evaluation metric used with the objective 'binary:logistic' was changed from 'error' to 'logloss'. Explicitly set eval_metric if you'd like to restore the old behavior.\n",
      " 54%|██████████████████████▊                   | 65/120 [1:10:08<1:00:14, 65.72s/trial, best loss: -0.5277777777777778]"
     ]
    },
    {
     "name": "stderr",
     "output_type": "stream",
     "text": [
      "C:\\Users\\Ayush\\Anaconda3\\lib\\site-packages\\xgboost\\sklearn.py:1224: UserWarning: The use of label encoder in XGBClassifier is deprecated and will be removed in a future release. To remove this warning, do the following: 1) Pass option use_label_encoder=False when constructing XGBClassifier object; and 2) Encode your labels (y) as integers starting with 0, i.e. 0, 1, 2, ..., [num_class - 1].\n",
      "  warnings.warn(label_encoder_deprecation_msg, UserWarning)\n",
      "\n",
      "2023/05/06 17:59:04 WARNING mlflow.utils.autologging_utils: Encountered unexpected error during xgboost autologging: The following failures occurred while performing one or more logging operations: [MlflowException('Failed to perform one or more operations on the run with ID 402f6f27e0a742b6ad5e739614697db9. Failed operations: [MlflowException(\"API request to http://localhost:5000/api/2.0/mlflow/runs/log-batch failed with exception HTTPConnectionPool(host=\\'localhost\\', port=5000): Max retries exceeded with url: /api/2.0/mlflow/runs/log-batch (Caused by ResponseError(\\'too many 500 error responses\\'))\")]')]\n"
     ]
    },
    {
     "name": "stdout",
     "output_type": "stream",
     "text": [
      "Training AUC is: 1.000000                                                                                              \n",
      "Test AUC is: 0.504327                                                                                                  \n",
      "Training accuracy is: 1.000000                                                                                         \n",
      "Test accuracy is: 0.504444                                                                                             \n",
      "[17:59:10] WARNING: D:\\bld\\xgboost-split_1637426510059\\work\\src\\learner.cc:1115: Starting in XGBoost 1.3.0, the default evaluation metric used with the objective 'binary:logistic' was changed from 'error' to 'logloss'. Explicitly set eval_metric if you'd like to restore the old behavior.\n",
      " 55%|████████████████████████▏                   | 66/120 [1:11:14<59:08, 65.72s/trial, best loss: -0.5277777777777778]"
     ]
    },
    {
     "name": "stderr",
     "output_type": "stream",
     "text": [
      "C:\\Users\\Ayush\\Anaconda3\\lib\\site-packages\\xgboost\\sklearn.py:1224: UserWarning: The use of label encoder in XGBClassifier is deprecated and will be removed in a future release. To remove this warning, do the following: 1) Pass option use_label_encoder=False when constructing XGBClassifier object; and 2) Encode your labels (y) as integers starting with 0, i.e. 0, 1, 2, ..., [num_class - 1].\n",
      "  warnings.warn(label_encoder_deprecation_msg, UserWarning)\n",
      "\n",
      "2023/05/06 18:00:10 WARNING mlflow.utils.autologging_utils: Encountered unexpected error during xgboost autologging: The following failures occurred while performing one or more logging operations: [MlflowException('Failed to perform one or more operations on the run with ID 402f6f27e0a742b6ad5e739614697db9. Failed operations: [MlflowException(\"API request to http://localhost:5000/api/2.0/mlflow/runs/log-batch failed with exception HTTPConnectionPool(host=\\'localhost\\', port=5000): Max retries exceeded with url: /api/2.0/mlflow/runs/log-batch (Caused by ResponseError(\\'too many 500 error responses\\'))\")]')]\n"
     ]
    },
    {
     "name": "stdout",
     "output_type": "stream",
     "text": [
      "Training AUC is: 0.998580                                                                                              \n",
      "Test AUC is: 0.506520                                                                                                  \n",
      "Training accuracy is: 0.998571                                                                                         \n",
      "Test accuracy is: 0.506667                                                                                             \n",
      "[18:00:16] WARNING: D:\\bld\\xgboost-split_1637426510059\\work\\src\\learner.cc:1115: Starting in XGBoost 1.3.0, the default evaluation metric used with the objective 'binary:logistic' was changed from 'error' to 'logloss'. Explicitly set eval_metric if you'd like to restore the old behavior.\n",
      " 56%|████████████████████████▌                   | 67/120 [1:12:20<58:01, 65.70s/trial, best loss: -0.5277777777777778]"
     ]
    },
    {
     "name": "stderr",
     "output_type": "stream",
     "text": [
      "C:\\Users\\Ayush\\Anaconda3\\lib\\site-packages\\xgboost\\sklearn.py:1224: UserWarning: The use of label encoder in XGBClassifier is deprecated and will be removed in a future release. To remove this warning, do the following: 1) Pass option use_label_encoder=False when constructing XGBClassifier object; and 2) Encode your labels (y) as integers starting with 0, i.e. 0, 1, 2, ..., [num_class - 1].\n",
      "  warnings.warn(label_encoder_deprecation_msg, UserWarning)\n",
      "\n",
      "2023/05/06 18:01:16 WARNING mlflow.utils.autologging_utils: Encountered unexpected error during xgboost autologging: The following failures occurred while performing one or more logging operations: [MlflowException('Failed to perform one or more operations on the run with ID 402f6f27e0a742b6ad5e739614697db9. Failed operations: [MlflowException(\"API request to http://localhost:5000/api/2.0/mlflow/runs/log-batch failed with exception HTTPConnectionPool(host=\\'localhost\\', port=5000): Max retries exceeded with url: /api/2.0/mlflow/runs/log-batch (Caused by ResponseError(\\'too many 500 error responses\\'))\")]')]\n"
     ]
    },
    {
     "name": "stdout",
     "output_type": "stream",
     "text": [
      "Training AUC is: 1.000000                                                                                              \n",
      "Test AUC is: 0.494369                                                                                                  \n",
      "Training accuracy is: 1.000000                                                                                         \n",
      "Test accuracy is: 0.494444                                                                                             \n",
      "[18:01:21] WARNING: D:\\bld\\xgboost-split_1637426510059\\work\\src\\learner.cc:1115: Starting in XGBoost 1.3.0, the default evaluation metric used with the objective 'binary:logistic' was changed from 'error' to 'logloss'. Explicitly set eval_metric if you'd like to restore the old behavior.\n",
      " 57%|████████████████████████▉                   | 68/120 [1:13:26<56:57, 65.71s/trial, best loss: -0.5277777777777778]"
     ]
    },
    {
     "name": "stderr",
     "output_type": "stream",
     "text": [
      "C:\\Users\\Ayush\\Anaconda3\\lib\\site-packages\\xgboost\\sklearn.py:1224: UserWarning: The use of label encoder in XGBClassifier is deprecated and will be removed in a future release. To remove this warning, do the following: 1) Pass option use_label_encoder=False when constructing XGBClassifier object; and 2) Encode your labels (y) as integers starting with 0, i.e. 0, 1, 2, ..., [num_class - 1].\n",
      "  warnings.warn(label_encoder_deprecation_msg, UserWarning)\n",
      "\n",
      "2023/05/06 18:02:22 WARNING mlflow.utils.autologging_utils: Encountered unexpected error during xgboost autologging: The following failures occurred while performing one or more logging operations: [MlflowException('Failed to perform one or more operations on the run with ID 402f6f27e0a742b6ad5e739614697db9. Failed operations: [MlflowException(\"API request to http://localhost:5000/api/2.0/mlflow/runs/log-batch failed with exception HTTPConnectionPool(host=\\'localhost\\', port=5000): Max retries exceeded with url: /api/2.0/mlflow/runs/log-batch (Caused by ResponseError(\\'too many 500 error responses\\'))\")]')]\n"
     ]
    },
    {
     "name": "stdout",
     "output_type": "stream",
     "text": [
      "Training AUC is: 1.000000                                                                                              \n",
      "Test AUC is: 0.499141                                                                                                  \n",
      "Training accuracy is: 1.000000                                                                                         \n",
      "Test accuracy is: 0.498889                                                                                             \n",
      "[18:02:27] WARNING: D:\\bld\\xgboost-split_1637426510059\\work\\src\\learner.cc:1115: Starting in XGBoost 1.3.0, the default evaluation metric used with the objective 'binary:logistic' was changed from 'error' to 'logloss'. Explicitly set eval_metric if you'd like to restore the old behavior.\n",
      " 57%|█████████████████████████▎                  | 69/120 [1:14:31<55:52, 65.73s/trial, best loss: -0.5277777777777778]"
     ]
    },
    {
     "name": "stderr",
     "output_type": "stream",
     "text": [
      "C:\\Users\\Ayush\\Anaconda3\\lib\\site-packages\\xgboost\\sklearn.py:1224: UserWarning: The use of label encoder in XGBClassifier is deprecated and will be removed in a future release. To remove this warning, do the following: 1) Pass option use_label_encoder=False when constructing XGBClassifier object; and 2) Encode your labels (y) as integers starting with 0, i.e. 0, 1, 2, ..., [num_class - 1].\n",
      "  warnings.warn(label_encoder_deprecation_msg, UserWarning)\n",
      "\n",
      "2023/05/06 18:03:27 WARNING mlflow.utils.autologging_utils: Encountered unexpected error during xgboost autologging: The following failures occurred while performing one or more logging operations: [MlflowException('Failed to perform one or more operations on the run with ID 402f6f27e0a742b6ad5e739614697db9. Failed operations: [MlflowException(\"API request to http://localhost:5000/api/2.0/mlflow/runs/log-batch failed with exception HTTPConnectionPool(host=\\'localhost\\', port=5000): Max retries exceeded with url: /api/2.0/mlflow/runs/log-batch (Caused by ResponseError(\\'too many 500 error responses\\'))\")]')]\n"
     ]
    },
    {
     "name": "stdout",
     "output_type": "stream",
     "text": [
      "Training AUC is: 1.000000                                                                                              \n",
      "Test AUC is: 0.497955                                                                                                  \n",
      "Training accuracy is: 1.000000                                                                                         \n",
      "Test accuracy is: 0.497778                                                                                             \n",
      "[18:03:33] WARNING: D:\\bld\\xgboost-split_1637426510059\\work\\src\\learner.cc:1115: Starting in XGBoost 1.3.0, the default evaluation metric used with the objective 'binary:logistic' was changed from 'error' to 'logloss'. Explicitly set eval_metric if you'd like to restore the old behavior.\n",
      " 58%|█████████████████████████▋                  | 70/120 [1:15:37<54:47, 65.75s/trial, best loss: -0.5277777777777778]"
     ]
    },
    {
     "name": "stderr",
     "output_type": "stream",
     "text": [
      "C:\\Users\\Ayush\\Anaconda3\\lib\\site-packages\\xgboost\\sklearn.py:1224: UserWarning: The use of label encoder in XGBClassifier is deprecated and will be removed in a future release. To remove this warning, do the following: 1) Pass option use_label_encoder=False when constructing XGBClassifier object; and 2) Encode your labels (y) as integers starting with 0, i.e. 0, 1, 2, ..., [num_class - 1].\n",
      "  warnings.warn(label_encoder_deprecation_msg, UserWarning)\n",
      "\n",
      "2023/05/06 18:04:33 WARNING mlflow.utils.autologging_utils: Encountered unexpected error during xgboost autologging: The following failures occurred while performing one or more logging operations: [MlflowException('Failed to perform one or more operations on the run with ID 402f6f27e0a742b6ad5e739614697db9. Failed operations: [MlflowException(\"API request to http://localhost:5000/api/2.0/mlflow/runs/log-batch failed with exception HTTPConnectionPool(host=\\'localhost\\', port=5000): Max retries exceeded with url: /api/2.0/mlflow/runs/log-batch (Caused by ResponseError(\\'too many 500 error responses\\'))\")]')]\n"
     ]
    },
    {
     "name": "stdout",
     "output_type": "stream",
     "text": [
      "Training AUC is: 1.000000                                                                                              \n",
      "Test AUC is: 0.533399                                                                                                  \n",
      "Training accuracy is: 1.000000                                                                                         \n",
      "Test accuracy is: 0.533333                                                                                             \n",
      "[18:04:39] WARNING: D:\\bld\\xgboost-split_1637426510059\\work\\src\\learner.cc:1115: Starting in XGBoost 1.3.0, the default evaluation metric used with the objective 'binary:logistic' was changed from 'error' to 'logloss'. Explicitly set eval_metric if you'd like to restore the old behavior.\n",
      " 59%|██████████████████████████                  | 71/120 [1:16:43<53:45, 65.82s/trial, best loss: -0.5333333333333333]"
     ]
    },
    {
     "name": "stderr",
     "output_type": "stream",
     "text": [
      "C:\\Users\\Ayush\\Anaconda3\\lib\\site-packages\\xgboost\\sklearn.py:1224: UserWarning: The use of label encoder in XGBClassifier is deprecated and will be removed in a future release. To remove this warning, do the following: 1) Pass option use_label_encoder=False when constructing XGBClassifier object; and 2) Encode your labels (y) as integers starting with 0, i.e. 0, 1, 2, ..., [num_class - 1].\n",
      "  warnings.warn(label_encoder_deprecation_msg, UserWarning)\n",
      "\n",
      "2023/05/06 18:05:39 WARNING mlflow.utils.autologging_utils: Encountered unexpected error during xgboost autologging: The following failures occurred while performing one or more logging operations: [MlflowException('Failed to perform one or more operations on the run with ID 402f6f27e0a742b6ad5e739614697db9. Failed operations: [MlflowException(\"API request to http://localhost:5000/api/2.0/mlflow/runs/log-batch failed with exception HTTPConnectionPool(host=\\'localhost\\', port=5000): Max retries exceeded with url: /api/2.0/mlflow/runs/log-batch (Caused by ResponseError(\\'too many 500 error responses\\'))\")]')]\n"
     ]
    },
    {
     "name": "stdout",
     "output_type": "stream",
     "text": [
      "Training AUC is: 1.000000                                                                                              \n",
      "Test AUC is: 0.524390                                                                                                  \n",
      "Training accuracy is: 1.000000                                                                                         \n",
      "Test accuracy is: 0.524444                                                                                             \n",
      "[18:05:45] WARNING: D:\\bld\\xgboost-split_1637426510059\\work\\src\\learner.cc:1115: Starting in XGBoost 1.3.0, the default evaluation metric used with the objective 'binary:logistic' was changed from 'error' to 'logloss'. Explicitly set eval_metric if you'd like to restore the old behavior.\n",
      " 60%|██████████████████████████▍                 | 72/120 [1:17:49<52:37, 65.78s/trial, best loss: -0.5333333333333333]"
     ]
    },
    {
     "name": "stderr",
     "output_type": "stream",
     "text": [
      "C:\\Users\\Ayush\\Anaconda3\\lib\\site-packages\\xgboost\\sklearn.py:1224: UserWarning: The use of label encoder in XGBClassifier is deprecated and will be removed in a future release. To remove this warning, do the following: 1) Pass option use_label_encoder=False when constructing XGBClassifier object; and 2) Encode your labels (y) as integers starting with 0, i.e. 0, 1, 2, ..., [num_class - 1].\n",
      "  warnings.warn(label_encoder_deprecation_msg, UserWarning)\n",
      "\n",
      "2023/05/06 18:06:45 WARNING mlflow.utils.autologging_utils: Encountered unexpected error during xgboost autologging: The following failures occurred while performing one or more logging operations: [MlflowException('Failed to perform one or more operations on the run with ID 402f6f27e0a742b6ad5e739614697db9. Failed operations: [MlflowException(\"API request to http://localhost:5000/api/2.0/mlflow/runs/log-batch failed with exception HTTPConnectionPool(host=\\'localhost\\', port=5000): Max retries exceeded with url: /api/2.0/mlflow/runs/log-batch (Caused by ResponseError(\\'too many 500 error responses\\'))\")]')]\n"
     ]
    },
    {
     "name": "stdout",
     "output_type": "stream",
     "text": [
      "Training AUC is: 1.000000                                                                                              \n",
      "Test AUC is: 0.524508                                                                                                  \n",
      "Training accuracy is: 1.000000                                                                                         \n",
      "Test accuracy is: 0.524444                                                                                             \n",
      "[18:06:51] WARNING: D:\\bld\\xgboost-split_1637426510059\\work\\src\\learner.cc:1115: Starting in XGBoost 1.3.0, the default evaluation metric used with the objective 'binary:logistic' was changed from 'error' to 'logloss'. Explicitly set eval_metric if you'd like to restore the old behavior.\n",
      " 61%|██████████████████████████▊                 | 73/120 [1:18:55<51:35, 65.86s/trial, best loss: -0.5333333333333333]"
     ]
    },
    {
     "name": "stderr",
     "output_type": "stream",
     "text": [
      "C:\\Users\\Ayush\\Anaconda3\\lib\\site-packages\\xgboost\\sklearn.py:1224: UserWarning: The use of label encoder in XGBClassifier is deprecated and will be removed in a future release. To remove this warning, do the following: 1) Pass option use_label_encoder=False when constructing XGBClassifier object; and 2) Encode your labels (y) as integers starting with 0, i.e. 0, 1, 2, ..., [num_class - 1].\n",
      "  warnings.warn(label_encoder_deprecation_msg, UserWarning)\n",
      "\n",
      "2023/05/06 18:07:51 WARNING mlflow.utils.autologging_utils: Encountered unexpected error during xgboost autologging: The following failures occurred while performing one or more logging operations: [MlflowException('Failed to perform one or more operations on the run with ID 402f6f27e0a742b6ad5e739614697db9. Failed operations: [MlflowException(\"API request to http://localhost:5000/api/2.0/mlflow/runs/log-batch failed with exception HTTPConnectionPool(host=\\'localhost\\', port=5000): Max retries exceeded with url: /api/2.0/mlflow/runs/log-batch (Caused by ResponseError(\\'too many 500 error responses\\'))\")]')]\n"
     ]
    },
    {
     "name": "stdout",
     "output_type": "stream",
     "text": [
      "Training AUC is: 1.000000                                                                                              \n",
      "Test AUC is: 0.514373                                                                                                  \n",
      "Training accuracy is: 1.000000                                                                                         \n",
      "Test accuracy is: 0.514444                                                                                             \n",
      "[18:07:56] WARNING: D:\\bld\\xgboost-split_1637426510059\\work\\src\\learner.cc:1115: Starting in XGBoost 1.3.0, the default evaluation metric used with the objective 'binary:logistic' was changed from 'error' to 'logloss'. Explicitly set eval_metric if you'd like to restore the old behavior.\n",
      " 62%|███████████████████████████▏                | 74/120 [1:20:01<50:26, 65.80s/trial, best loss: -0.5333333333333333]"
     ]
    },
    {
     "name": "stderr",
     "output_type": "stream",
     "text": [
      "C:\\Users\\Ayush\\Anaconda3\\lib\\site-packages\\xgboost\\sklearn.py:1224: UserWarning: The use of label encoder in XGBClassifier is deprecated and will be removed in a future release. To remove this warning, do the following: 1) Pass option use_label_encoder=False when constructing XGBClassifier object; and 2) Encode your labels (y) as integers starting with 0, i.e. 0, 1, 2, ..., [num_class - 1].\n",
      "  warnings.warn(label_encoder_deprecation_msg, UserWarning)\n",
      "\n",
      "2023/05/06 18:08:57 WARNING mlflow.utils.autologging_utils: Encountered unexpected error during xgboost autologging: The following failures occurred while performing one or more logging operations: [MlflowException('Failed to perform one or more operations on the run with ID 402f6f27e0a742b6ad5e739614697db9. Failed operations: [MlflowException(\"API request to http://localhost:5000/api/2.0/mlflow/runs/log-batch failed with exception HTTPConnectionPool(host=\\'localhost\\', port=5000): Max retries exceeded with url: /api/2.0/mlflow/runs/log-batch (Caused by ResponseError(\\'too many 500 error responses\\'))\")]')]\n"
     ]
    },
    {
     "name": "stdout",
     "output_type": "stream",
     "text": [
      "Training AUC is: 1.000000                                                                                              \n",
      "Test AUC is: 0.498992                                                                                                  \n",
      "Training accuracy is: 1.000000                                                                                         \n",
      "Test accuracy is: 0.498889                                                                                             \n",
      "[18:09:02] WARNING: D:\\bld\\xgboost-split_1637426510059\\work\\src\\learner.cc:1115: Starting in XGBoost 1.3.0, the default evaluation metric used with the objective 'binary:logistic' was changed from 'error' to 'logloss'. Explicitly set eval_metric if you'd like to restore the old behavior.\n",
      " 62%|███████████████████████████▌                | 75/120 [1:21:06<49:21, 65.80s/trial, best loss: -0.5333333333333333]"
     ]
    },
    {
     "name": "stderr",
     "output_type": "stream",
     "text": [
      "C:\\Users\\Ayush\\Anaconda3\\lib\\site-packages\\xgboost\\sklearn.py:1224: UserWarning: The use of label encoder in XGBClassifier is deprecated and will be removed in a future release. To remove this warning, do the following: 1) Pass option use_label_encoder=False when constructing XGBClassifier object; and 2) Encode your labels (y) as integers starting with 0, i.e. 0, 1, 2, ..., [num_class - 1].\n",
      "  warnings.warn(label_encoder_deprecation_msg, UserWarning)\n",
      "\n",
      "2023/05/06 18:10:02 WARNING mlflow.utils.autologging_utils: Encountered unexpected error during xgboost autologging: The following failures occurred while performing one or more logging operations: [MlflowException('Failed to perform one or more operations on the run with ID 402f6f27e0a742b6ad5e739614697db9. Failed operations: [MlflowException(\"API request to http://localhost:5000/api/2.0/mlflow/runs/log-batch failed with exception HTTPConnectionPool(host=\\'localhost\\', port=5000): Max retries exceeded with url: /api/2.0/mlflow/runs/log-batch (Caused by ResponseError(\\'too many 500 error responses\\'))\")]')]\n"
     ]
    },
    {
     "name": "stdout",
     "output_type": "stream",
     "text": [
      "Training AUC is: 1.000000                                                                                              \n",
      "Test AUC is: 0.500000                                                                                                  \n",
      "Training accuracy is: 1.000000                                                                                         \n",
      "Test accuracy is: 0.500000                                                                                             \n",
      "[18:10:08] WARNING: D:\\bld\\xgboost-split_1637426510059\\work\\src\\learner.cc:1115: Starting in XGBoost 1.3.0, the default evaluation metric used with the objective 'binary:logistic' was changed from 'error' to 'logloss'. Explicitly set eval_metric if you'd like to restore the old behavior.\n",
      " 63%|███████████████████████████▊                | 76/120 [1:22:12<48:14, 65.79s/trial, best loss: -0.5333333333333333]"
     ]
    },
    {
     "name": "stderr",
     "output_type": "stream",
     "text": [
      "C:\\Users\\Ayush\\Anaconda3\\lib\\site-packages\\xgboost\\sklearn.py:1224: UserWarning: The use of label encoder in XGBClassifier is deprecated and will be removed in a future release. To remove this warning, do the following: 1) Pass option use_label_encoder=False when constructing XGBClassifier object; and 2) Encode your labels (y) as integers starting with 0, i.e. 0, 1, 2, ..., [num_class - 1].\n",
      "  warnings.warn(label_encoder_deprecation_msg, UserWarning)\n",
      "\n",
      "2023/05/06 18:11:08 WARNING mlflow.utils.autologging_utils: Encountered unexpected error during xgboost autologging: The following failures occurred while performing one or more logging operations: [MlflowException('Failed to perform one or more operations on the run with ID 402f6f27e0a742b6ad5e739614697db9. Failed operations: [MlflowException(\"API request to http://localhost:5000/api/2.0/mlflow/runs/log-batch failed with exception HTTPConnectionPool(host=\\'localhost\\', port=5000): Max retries exceeded with url: /api/2.0/mlflow/runs/log-batch (Caused by ResponseError(\\'too many 500 error responses\\'))\")]')]\n"
     ]
    },
    {
     "name": "stdout",
     "output_type": "stream",
     "text": [
      "Training AUC is: 1.000000                                                                                              \n",
      "Test AUC is: 0.491347                                                                                                  \n",
      "Training accuracy is: 1.000000                                                                                         \n",
      "Test accuracy is: 0.491111                                                                                             \n",
      "[18:11:14] WARNING: D:\\bld\\xgboost-split_1637426510059\\work\\src\\learner.cc:1115: Starting in XGBoost 1.3.0, the default evaluation metric used with the objective 'binary:logistic' was changed from 'error' to 'logloss'. Explicitly set eval_metric if you'd like to restore the old behavior.\n",
      " 64%|████████████████████████████▏               | 77/120 [1:23:18<47:07, 65.76s/trial, best loss: -0.5333333333333333]"
     ]
    },
    {
     "name": "stderr",
     "output_type": "stream",
     "text": [
      "C:\\Users\\Ayush\\Anaconda3\\lib\\site-packages\\xgboost\\sklearn.py:1224: UserWarning: The use of label encoder in XGBClassifier is deprecated and will be removed in a future release. To remove this warning, do the following: 1) Pass option use_label_encoder=False when constructing XGBClassifier object; and 2) Encode your labels (y) as integers starting with 0, i.e. 0, 1, 2, ..., [num_class - 1].\n",
      "  warnings.warn(label_encoder_deprecation_msg, UserWarning)\n",
      "\n",
      "2023/05/06 18:12:14 WARNING mlflow.utils.autologging_utils: Encountered unexpected error during xgboost autologging: The following failures occurred while performing one or more logging operations: [MlflowException('Failed to perform one or more operations on the run with ID 402f6f27e0a742b6ad5e739614697db9. Failed operations: [MlflowException(\"API request to http://localhost:5000/api/2.0/mlflow/runs/log-batch failed with exception HTTPConnectionPool(host=\\'localhost\\', port=5000): Max retries exceeded with url: /api/2.0/mlflow/runs/log-batch (Caused by ResponseError(\\'too many 500 error responses\\'))\")]')]\n"
     ]
    },
    {
     "name": "stdout",
     "output_type": "stream",
     "text": [
      "Training AUC is: 1.000000                                                                                              \n",
      "Test AUC is: 0.496711                                                                                                  \n",
      "Training accuracy is: 1.000000                                                                                         \n",
      "Test accuracy is: 0.496667                                                                                             \n",
      "[18:12:20] WARNING: D:\\bld\\xgboost-split_1637426510059\\work\\src\\learner.cc:1115: Starting in XGBoost 1.3.0, the default evaluation metric used with the objective 'binary:logistic' was changed from 'error' to 'logloss'. Explicitly set eval_metric if you'd like to restore the old behavior.\n",
      " 65%|████████████████████████████▌               | 78/120 [1:24:24<46:06, 65.88s/trial, best loss: -0.5333333333333333]"
     ]
    },
    {
     "name": "stderr",
     "output_type": "stream",
     "text": [
      "C:\\Users\\Ayush\\Anaconda3\\lib\\site-packages\\xgboost\\sklearn.py:1224: UserWarning: The use of label encoder in XGBClassifier is deprecated and will be removed in a future release. To remove this warning, do the following: 1) Pass option use_label_encoder=False when constructing XGBClassifier object; and 2) Encode your labels (y) as integers starting with 0, i.e. 0, 1, 2, ..., [num_class - 1].\n",
      "  warnings.warn(label_encoder_deprecation_msg, UserWarning)\n",
      "\n",
      "2023/05/06 18:13:20 WARNING mlflow.utils.autologging_utils: Encountered unexpected error during xgboost autologging: The following failures occurred while performing one or more logging operations: [MlflowException('Failed to perform one or more operations on the run with ID 402f6f27e0a742b6ad5e739614697db9. Failed operations: [MlflowException(\"API request to http://localhost:5000/api/2.0/mlflow/runs/log-batch failed with exception HTTPConnectionPool(host=\\'localhost\\', port=5000): Max retries exceeded with url: /api/2.0/mlflow/runs/log-batch (Caused by ResponseError(\\'too many 500 error responses\\'))\")]')]\n"
     ]
    },
    {
     "name": "stdout",
     "output_type": "stream",
     "text": [
      "Training AUC is: 1.000000                                                                                              \n",
      "Test AUC is: 0.494666                                                                                                  \n",
      "Training accuracy is: 1.000000                                                                                         \n",
      "Test accuracy is: 0.494444                                                                                             \n",
      "[18:13:26] WARNING: D:\\bld\\xgboost-split_1637426510059\\work\\src\\learner.cc:1115: Starting in XGBoost 1.3.0, the default evaluation metric used with the objective 'binary:logistic' was changed from 'error' to 'logloss'. Explicitly set eval_metric if you'd like to restore the old behavior.\n",
      " 66%|████████████████████████████▉               | 79/120 [1:25:31<45:10, 66.11s/trial, best loss: -0.5333333333333333]"
     ]
    },
    {
     "name": "stderr",
     "output_type": "stream",
     "text": [
      "C:\\Users\\Ayush\\Anaconda3\\lib\\site-packages\\xgboost\\sklearn.py:1224: UserWarning: The use of label encoder in XGBClassifier is deprecated and will be removed in a future release. To remove this warning, do the following: 1) Pass option use_label_encoder=False when constructing XGBClassifier object; and 2) Encode your labels (y) as integers starting with 0, i.e. 0, 1, 2, ..., [num_class - 1].\n",
      "  warnings.warn(label_encoder_deprecation_msg, UserWarning)\n",
      "\n",
      "2023/05/06 18:14:27 WARNING mlflow.utils.autologging_utils: Encountered unexpected error during xgboost autologging: The following failures occurred while performing one or more logging operations: [MlflowException('Failed to perform one or more operations on the run with ID 402f6f27e0a742b6ad5e739614697db9. Failed operations: [MlflowException(\"API request to http://localhost:5000/api/2.0/mlflow/runs/log-batch failed with exception HTTPConnectionPool(host=\\'localhost\\', port=5000): Max retries exceeded with url: /api/2.0/mlflow/runs/log-batch (Caused by ResponseError(\\'too many 500 error responses\\'))\")]')]\n"
     ]
    },
    {
     "name": "stdout",
     "output_type": "stream",
     "text": [
      "Training AUC is: 0.999527                                                                                              \n",
      "Test AUC is: 0.479107                                                                                                  \n",
      "Training accuracy is: 0.999524                                                                                         \n",
      "Test accuracy is: 0.478889                                                                                             \n",
      "[18:14:32] WARNING: D:\\bld\\xgboost-split_1637426510059\\work\\src\\learner.cc:1115: Starting in XGBoost 1.3.0, the default evaluation metric used with the objective 'binary:logistic' was changed from 'error' to 'logloss'. Explicitly set eval_metric if you'd like to restore the old behavior.\n",
      " 67%|█████████████████████████████▎              | 80/120 [1:26:36<44:00, 66.00s/trial, best loss: -0.5333333333333333]"
     ]
    },
    {
     "name": "stderr",
     "output_type": "stream",
     "text": [
      "C:\\Users\\Ayush\\Anaconda3\\lib\\site-packages\\xgboost\\sklearn.py:1224: UserWarning: The use of label encoder in XGBClassifier is deprecated and will be removed in a future release. To remove this warning, do the following: 1) Pass option use_label_encoder=False when constructing XGBClassifier object; and 2) Encode your labels (y) as integers starting with 0, i.e. 0, 1, 2, ..., [num_class - 1].\n",
      "  warnings.warn(label_encoder_deprecation_msg, UserWarning)\n",
      "\n",
      "2023/05/06 18:15:32 WARNING mlflow.utils.autologging_utils: Encountered unexpected error during xgboost autologging: The following failures occurred while performing one or more logging operations: [MlflowException('Failed to perform one or more operations on the run with ID 402f6f27e0a742b6ad5e739614697db9. Failed operations: [MlflowException(\"API request to http://localhost:5000/api/2.0/mlflow/runs/log-batch failed with exception HTTPConnectionPool(host=\\'localhost\\', port=5000): Max retries exceeded with url: /api/2.0/mlflow/runs/log-batch (Caused by ResponseError(\\'too many 500 error responses\\'))\")]')]\n"
     ]
    },
    {
     "name": "stdout",
     "output_type": "stream",
     "text": [
      "Training AUC is: 1.000000                                                                                              \n",
      "Test AUC is: 0.521100                                                                                                  \n",
      "Training accuracy is: 1.000000                                                                                         \n",
      "Test accuracy is: 0.521111                                                                                             \n",
      "[18:15:38] WARNING: D:\\bld\\xgboost-split_1637426510059\\work\\src\\learner.cc:1115: Starting in XGBoost 1.3.0, the default evaluation metric used with the objective 'binary:logistic' was changed from 'error' to 'logloss'. Explicitly set eval_metric if you'd like to restore the old behavior.\n",
      " 68%|█████████████████████████████▋              | 81/120 [1:27:42<42:49, 65.88s/trial, best loss: -0.5333333333333333]"
     ]
    },
    {
     "name": "stderr",
     "output_type": "stream",
     "text": [
      "C:\\Users\\Ayush\\Anaconda3\\lib\\site-packages\\xgboost\\sklearn.py:1224: UserWarning: The use of label encoder in XGBClassifier is deprecated and will be removed in a future release. To remove this warning, do the following: 1) Pass option use_label_encoder=False when constructing XGBClassifier object; and 2) Encode your labels (y) as integers starting with 0, i.e. 0, 1, 2, ..., [num_class - 1].\n",
      "  warnings.warn(label_encoder_deprecation_msg, UserWarning)\n",
      "\n",
      "2023/05/06 18:16:38 WARNING mlflow.utils.autologging_utils: Encountered unexpected error during xgboost autologging: The following failures occurred while performing one or more logging operations: [MlflowException('Failed to perform one or more operations on the run with ID 402f6f27e0a742b6ad5e739614697db9. Failed operations: [MlflowException(\"API request to http://localhost:5000/api/2.0/mlflow/runs/log-batch failed with exception HTTPConnectionPool(host=\\'localhost\\', port=5000): Max retries exceeded with url: /api/2.0/mlflow/runs/log-batch (Caused by ResponseError(\\'too many 500 error responses\\'))\")]')]\n"
     ]
    },
    {
     "name": "stdout",
     "output_type": "stream",
     "text": [
      "Training AUC is: 1.000000                                                                                              \n",
      "Test AUC is: 0.503438                                                                                                  \n",
      "Training accuracy is: 1.000000                                                                                         \n",
      "Test accuracy is: 0.503333                                                                                             \n",
      "[18:16:44] WARNING: D:\\bld\\xgboost-split_1637426510059\\work\\src\\learner.cc:1115: Starting in XGBoost 1.3.0, the default evaluation metric used with the objective 'binary:logistic' was changed from 'error' to 'logloss'. Explicitly set eval_metric if you'd like to restore the old behavior.\n",
      " 68%|██████████████████████████████              | 82/120 [1:28:48<41:47, 65.99s/trial, best loss: -0.5333333333333333]"
     ]
    },
    {
     "name": "stderr",
     "output_type": "stream",
     "text": [
      "C:\\Users\\Ayush\\Anaconda3\\lib\\site-packages\\xgboost\\sklearn.py:1224: UserWarning: The use of label encoder in XGBClassifier is deprecated and will be removed in a future release. To remove this warning, do the following: 1) Pass option use_label_encoder=False when constructing XGBClassifier object; and 2) Encode your labels (y) as integers starting with 0, i.e. 0, 1, 2, ..., [num_class - 1].\n",
      "  warnings.warn(label_encoder_deprecation_msg, UserWarning)\n",
      "\n",
      "2023/05/06 18:17:44 WARNING mlflow.utils.autologging_utils: Encountered unexpected error during xgboost autologging: The following failures occurred while performing one or more logging operations: [MlflowException('Failed to perform one or more operations on the run with ID 402f6f27e0a742b6ad5e739614697db9. Failed operations: [MlflowException(\"API request to http://localhost:5000/api/2.0/mlflow/runs/log-batch failed with exception HTTPConnectionPool(host=\\'localhost\\', port=5000): Max retries exceeded with url: /api/2.0/mlflow/runs/log-batch (Caused by ResponseError(\\'too many 500 error responses\\'))\")]')]\n"
     ]
    },
    {
     "name": "stdout",
     "output_type": "stream",
     "text": [
      "Training AUC is: 1.000000                                                                                              \n",
      "Test AUC is: 0.481271                                                                                                  \n",
      "Training accuracy is: 1.000000                                                                                         \n",
      "Test accuracy is: 0.481111                                                                                             \n",
      "[18:17:50] WARNING: D:\\bld\\xgboost-split_1637426510059\\work\\src\\learner.cc:1115: Starting in XGBoost 1.3.0, the default evaluation metric used with the objective 'binary:logistic' was changed from 'error' to 'logloss'. Explicitly set eval_metric if you'd like to restore the old behavior.\n",
      " 69%|██████████████████████████████▍             | 83/120 [1:29:54<40:38, 65.91s/trial, best loss: -0.5333333333333333]"
     ]
    },
    {
     "name": "stderr",
     "output_type": "stream",
     "text": [
      "C:\\Users\\Ayush\\Anaconda3\\lib\\site-packages\\xgboost\\sklearn.py:1224: UserWarning: The use of label encoder in XGBClassifier is deprecated and will be removed in a future release. To remove this warning, do the following: 1) Pass option use_label_encoder=False when constructing XGBClassifier object; and 2) Encode your labels (y) as integers starting with 0, i.e. 0, 1, 2, ..., [num_class - 1].\n",
      "  warnings.warn(label_encoder_deprecation_msg, UserWarning)\n",
      "\n",
      "2023/05/06 18:18:50 WARNING mlflow.utils.autologging_utils: Encountered unexpected error during xgboost autologging: The following failures occurred while performing one or more logging operations: [MlflowException('Failed to perform one or more operations on the run with ID 402f6f27e0a742b6ad5e739614697db9. Failed operations: [MlflowException(\"API request to http://localhost:5000/api/2.0/mlflow/runs/log-batch failed with exception HTTPConnectionPool(host=\\'localhost\\', port=5000): Max retries exceeded with url: /api/2.0/mlflow/runs/log-batch (Caused by ResponseError(\\'too many 500 error responses\\'))\")]')]\n"
     ]
    },
    {
     "name": "stdout",
     "output_type": "stream",
     "text": [
      "Training AUC is: 1.000000                                                                                              \n",
      "Test AUC is: 0.504297                                                                                                  \n",
      "Training accuracy is: 1.000000                                                                                         \n",
      "Test accuracy is: 0.504444                                                                                             \n",
      "[18:18:56] WARNING: D:\\bld\\xgboost-split_1637426510059\\work\\src\\learner.cc:1115: Starting in XGBoost 1.3.0, the default evaluation metric used with the objective 'binary:logistic' was changed from 'error' to 'logloss'. Explicitly set eval_metric if you'd like to restore the old behavior.\n",
      " 70%|██████████████████████████████▊             | 84/120 [1:31:00<39:34, 65.95s/trial, best loss: -0.5333333333333333]"
     ]
    },
    {
     "name": "stderr",
     "output_type": "stream",
     "text": [
      "C:\\Users\\Ayush\\Anaconda3\\lib\\site-packages\\xgboost\\sklearn.py:1224: UserWarning: The use of label encoder in XGBClassifier is deprecated and will be removed in a future release. To remove this warning, do the following: 1) Pass option use_label_encoder=False when constructing XGBClassifier object; and 2) Encode your labels (y) as integers starting with 0, i.e. 0, 1, 2, ..., [num_class - 1].\n",
      "  warnings.warn(label_encoder_deprecation_msg, UserWarning)\n",
      "\n",
      "2023/05/06 18:19:56 WARNING mlflow.utils.autologging_utils: Encountered unexpected error during xgboost autologging: The following failures occurred while performing one or more logging operations: [MlflowException('Failed to perform one or more operations on the run with ID 402f6f27e0a742b6ad5e739614697db9. Failed operations: [MlflowException(\"API request to http://localhost:5000/api/2.0/mlflow/runs/log-batch failed with exception HTTPConnectionPool(host=\\'localhost\\', port=5000): Max retries exceeded with url: /api/2.0/mlflow/runs/log-batch (Caused by ResponseError(\\'too many 500 error responses\\'))\")]')]\n"
     ]
    },
    {
     "name": "stdout",
     "output_type": "stream",
     "text": [
      "Training AUC is: 0.999521                                                                                              \n",
      "Test AUC is: 0.529931                                                                                                  \n",
      "Training accuracy is: 0.999524                                                                                         \n",
      "Test accuracy is: 0.530000                                                                                             \n",
      "[18:20:01] WARNING: D:\\bld\\xgboost-split_1637426510059\\work\\src\\learner.cc:1115: Starting in XGBoost 1.3.0, the default evaluation metric used with the objective 'binary:logistic' was changed from 'error' to 'logloss'. Explicitly set eval_metric if you'd like to restore the old behavior.\n",
      " 71%|███████████████████████████████▏            | 85/120 [1:32:06<38:25, 65.87s/trial, best loss: -0.5333333333333333]"
     ]
    },
    {
     "name": "stderr",
     "output_type": "stream",
     "text": [
      "C:\\Users\\Ayush\\Anaconda3\\lib\\site-packages\\xgboost\\sklearn.py:1224: UserWarning: The use of label encoder in XGBClassifier is deprecated and will be removed in a future release. To remove this warning, do the following: 1) Pass option use_label_encoder=False when constructing XGBClassifier object; and 2) Encode your labels (y) as integers starting with 0, i.e. 0, 1, 2, ..., [num_class - 1].\n",
      "  warnings.warn(label_encoder_deprecation_msg, UserWarning)\n",
      "\n",
      "2023/05/06 18:21:02 WARNING mlflow.utils.autologging_utils: Encountered unexpected error during xgboost autologging: The following failures occurred while performing one or more logging operations: [MlflowException('Failed to perform one or more operations on the run with ID 402f6f27e0a742b6ad5e739614697db9. Failed operations: [MlflowException(\"API request to http://localhost:5000/api/2.0/mlflow/runs/log-batch failed with exception HTTPConnectionPool(host=\\'localhost\\', port=5000): Max retries exceeded with url: /api/2.0/mlflow/runs/log-batch (Caused by ResponseError(\\'too many 500 error responses\\'))\")]')]\n"
     ]
    },
    {
     "name": "stdout",
     "output_type": "stream",
     "text": [
      "Training AUC is: 1.000000                                                                                              \n",
      "Test AUC is: 0.519944                                                                                                  \n",
      "Training accuracy is: 1.000000                                                                                         \n",
      "Test accuracy is: 0.520000                                                                                             \n",
      "[18:21:07] WARNING: D:\\bld\\xgboost-split_1637426510059\\work\\src\\learner.cc:1115: Starting in XGBoost 1.3.0, the default evaluation metric used with the objective 'binary:logistic' was changed from 'error' to 'logloss'. Explicitly set eval_metric if you'd like to restore the old behavior.\n",
      " 72%|███████████████████████████████▌            | 86/120 [1:33:11<37:18, 65.82s/trial, best loss: -0.5333333333333333]"
     ]
    },
    {
     "name": "stderr",
     "output_type": "stream",
     "text": [
      "C:\\Users\\Ayush\\Anaconda3\\lib\\site-packages\\xgboost\\sklearn.py:1224: UserWarning: The use of label encoder in XGBClassifier is deprecated and will be removed in a future release. To remove this warning, do the following: 1) Pass option use_label_encoder=False when constructing XGBClassifier object; and 2) Encode your labels (y) as integers starting with 0, i.e. 0, 1, 2, ..., [num_class - 1].\n",
      "  warnings.warn(label_encoder_deprecation_msg, UserWarning)\n",
      "\n",
      "2023/05/06 18:22:07 WARNING mlflow.utils.autologging_utils: Encountered unexpected error during xgboost autologging: The following failures occurred while performing one or more logging operations: [MlflowException('Failed to perform one or more operations on the run with ID 402f6f27e0a742b6ad5e739614697db9. Failed operations: [MlflowException(\"API request to http://localhost:5000/api/2.0/mlflow/runs/log-batch failed with exception HTTPConnectionPool(host=\\'localhost\\', port=5000): Max retries exceeded with url: /api/2.0/mlflow/runs/log-batch (Caused by ResponseError(\\'too many 500 error responses\\'))\")]')]\n"
     ]
    },
    {
     "name": "stdout",
     "output_type": "stream",
     "text": [
      "Training AUC is: 0.987123                                                                                              \n",
      "Test AUC is: 0.525664                                                                                                  \n",
      "Training accuracy is: 0.987143                                                                                         \n",
      "Test accuracy is: 0.525556                                                                                             \n",
      "[18:22:13] WARNING: D:\\bld\\xgboost-split_1637426510059\\work\\src\\learner.cc:1115: Starting in XGBoost 1.3.0, the default evaluation metric used with the objective 'binary:logistic' was changed from 'error' to 'logloss'. Explicitly set eval_metric if you'd like to restore the old behavior.\n",
      " 72%|███████████████████████████████▉            | 87/120 [1:34:17<36:11, 65.81s/trial, best loss: -0.5333333333333333]"
     ]
    },
    {
     "name": "stderr",
     "output_type": "stream",
     "text": [
      "C:\\Users\\Ayush\\Anaconda3\\lib\\site-packages\\xgboost\\sklearn.py:1224: UserWarning: The use of label encoder in XGBClassifier is deprecated and will be removed in a future release. To remove this warning, do the following: 1) Pass option use_label_encoder=False when constructing XGBClassifier object; and 2) Encode your labels (y) as integers starting with 0, i.e. 0, 1, 2, ..., [num_class - 1].\n",
      "  warnings.warn(label_encoder_deprecation_msg, UserWarning)\n",
      "\n",
      "2023/05/06 18:23:13 WARNING mlflow.utils.autologging_utils: Encountered unexpected error during xgboost autologging: The following failures occurred while performing one or more logging operations: [MlflowException('Failed to perform one or more operations on the run with ID 402f6f27e0a742b6ad5e739614697db9. Failed operations: [MlflowException(\"API request to http://localhost:5000/api/2.0/mlflow/runs/log-batch failed with exception HTTPConnectionPool(host=\\'localhost\\', port=5000): Max retries exceeded with url: /api/2.0/mlflow/runs/log-batch (Caused by ResponseError(\\'too many 500 error responses\\'))\")]')]\n"
     ]
    },
    {
     "name": "stdout",
     "output_type": "stream",
     "text": [
      "Training AUC is: 1.000000                                                                                              \n",
      "Test AUC is: 0.515440                                                                                                  \n",
      "Training accuracy is: 1.000000                                                                                         \n",
      "Test accuracy is: 0.515556                                                                                             \n",
      " 73%|████████████████████████████████▎           | 88/120 [1:35:22<35:04, 65.78s/trial, best loss: -0.5333333333333333]"
     ]
    },
    {
     "name": "stderr",
     "output_type": "stream",
     "text": [
      "C:\\Users\\Ayush\\Anaconda3\\lib\\site-packages\\xgboost\\sklearn.py:1224: UserWarning: The use of label encoder in XGBClassifier is deprecated and will be removed in a future release. To remove this warning, do the following: 1) Pass option use_label_encoder=False when constructing XGBClassifier object; and 2) Encode your labels (y) as integers starting with 0, i.e. 0, 1, 2, ..., [num_class - 1].\n",
      "  warnings.warn(label_encoder_deprecation_msg, UserWarning)\n",
      "\n",
      "2023/05/06 18:23:19 ERROR mlflow.xgboost: Failed to log feature importance plot. XGBoost autologging will ignore the failure and continue. Exception: \n",
      "Traceback (most recent call last):\n",
      "  File \"C:\\Users\\Ayush\\Anaconda3\\lib\\site-packages\\mlflow\\xgboost\\__init__.py\", line 636, in train\n",
      "    features, importance = zip(*imp.items())\n",
      "ValueError: not enough values to unpack (expected 2, got 0)\n",
      "2023/05/06 18:24:19 WARNING mlflow.utils.autologging_utils: Encountered unexpected error during xgboost autologging: The following failures occurred while performing one or more logging operations: [MlflowException('Failed to perform one or more operations on the run with ID 402f6f27e0a742b6ad5e739614697db9. Failed operations: [MlflowException(\"API request to http://localhost:5000/api/2.0/mlflow/runs/log-batch failed with exception HTTPConnectionPool(host=\\'localhost\\', port=5000): Max retries exceeded with url: /api/2.0/mlflow/runs/log-batch (Caused by ResponseError(\\'too many 500 error responses\\'))\")]')]\n"
     ]
    },
    {
     "name": "stdout",
     "output_type": "stream",
     "text": [
      "Training AUC is: 0.500000                                                                                              \n",
      "Test AUC is: 0.500000                                                                                                  \n",
      "Training accuracy is: 0.497143                                                                                         \n",
      "Test accuracy is: 0.506667                                                                                             \n",
      "[18:24:25] WARNING: D:\\bld\\xgboost-split_1637426510059\\work\\src\\learner.cc:1115: Starting in XGBoost 1.3.0, the default evaluation metric used with the objective 'binary:logistic' was changed from 'error' to 'logloss'. Explicitly set eval_metric if you'd like to restore the old behavior.\n",
      " 74%|████████████████████████████████▋           | 89/120 [1:36:29<34:01, 65.87s/trial, best loss: -0.5333333333333333]"
     ]
    },
    {
     "name": "stderr",
     "output_type": "stream",
     "text": [
      "C:\\Users\\Ayush\\Anaconda3\\lib\\site-packages\\xgboost\\sklearn.py:1224: UserWarning: The use of label encoder in XGBClassifier is deprecated and will be removed in a future release. To remove this warning, do the following: 1) Pass option use_label_encoder=False when constructing XGBClassifier object; and 2) Encode your labels (y) as integers starting with 0, i.e. 0, 1, 2, ..., [num_class - 1].\n",
      "  warnings.warn(label_encoder_deprecation_msg, UserWarning)\n",
      "\n",
      "2023/05/06 18:25:25 WARNING mlflow.utils.autologging_utils: Encountered unexpected error during xgboost autologging: The following failures occurred while performing one or more logging operations: [MlflowException('Failed to perform one or more operations on the run with ID 402f6f27e0a742b6ad5e739614697db9. Failed operations: [MlflowException(\"API request to http://localhost:5000/api/2.0/mlflow/runs/log-batch failed with exception HTTPConnectionPool(host=\\'localhost\\', port=5000): Max retries exceeded with url: /api/2.0/mlflow/runs/log-batch (Caused by ResponseError(\\'too many 500 error responses\\'))\")]')]\n"
     ]
    },
    {
     "name": "stdout",
     "output_type": "stream",
     "text": [
      "Training AUC is: 0.893863                                                                                              \n",
      "Test AUC is: 0.516625                                                                                                  \n",
      "Training accuracy is: 0.893810                                                                                         \n",
      "Test accuracy is: 0.516667                                                                                             \n",
      "[18:25:31] WARNING: D:\\bld\\xgboost-split_1637426510059\\work\\src\\learner.cc:1115: Starting in XGBoost 1.3.0, the default evaluation metric used with the objective 'binary:logistic' was changed from 'error' to 'logloss'. Explicitly set eval_metric if you'd like to restore the old behavior.\n",
      " 75%|█████████████████████████████████           | 90/120 [1:37:35<33:01, 66.06s/trial, best loss: -0.5333333333333333]"
     ]
    },
    {
     "name": "stderr",
     "output_type": "stream",
     "text": [
      "C:\\Users\\Ayush\\Anaconda3\\lib\\site-packages\\xgboost\\sklearn.py:1224: UserWarning: The use of label encoder in XGBClassifier is deprecated and will be removed in a future release. To remove this warning, do the following: 1) Pass option use_label_encoder=False when constructing XGBClassifier object; and 2) Encode your labels (y) as integers starting with 0, i.e. 0, 1, 2, ..., [num_class - 1].\n",
      "  warnings.warn(label_encoder_deprecation_msg, UserWarning)\n",
      "\n",
      "2023/05/06 18:26:31 WARNING mlflow.utils.autologging_utils: Encountered unexpected error during xgboost autologging: The following failures occurred while performing one or more logging operations: [MlflowException('Failed to perform one or more operations on the run with ID 402f6f27e0a742b6ad5e739614697db9. Failed operations: [MlflowException(\"API request to http://localhost:5000/api/2.0/mlflow/runs/log-batch failed with exception HTTPConnectionPool(host=\\'localhost\\', port=5000): Max retries exceeded with url: /api/2.0/mlflow/runs/log-batch (Caused by ResponseError(\\'too many 500 error responses\\'))\")]')]\n"
     ]
    },
    {
     "name": "stdout",
     "output_type": "stream",
     "text": [
      "Training AUC is: 1.000000                                                                                              \n",
      "Test AUC is: 0.525634                                                                                                  \n",
      "Training accuracy is: 1.000000                                                                                         \n",
      "Test accuracy is: 0.525556                                                                                             \n",
      "[18:26:37] WARNING: D:\\bld\\xgboost-split_1637426510059\\work\\src\\learner.cc:1115: Starting in XGBoost 1.3.0, the default evaluation metric used with the objective 'binary:logistic' was changed from 'error' to 'logloss'. Explicitly set eval_metric if you'd like to restore the old behavior.\n",
      " 76%|█████████████████████████████████▎          | 91/120 [1:38:41<31:53, 65.97s/trial, best loss: -0.5333333333333333]"
     ]
    },
    {
     "name": "stderr",
     "output_type": "stream",
     "text": [
      "C:\\Users\\Ayush\\Anaconda3\\lib\\site-packages\\xgboost\\sklearn.py:1224: UserWarning: The use of label encoder in XGBClassifier is deprecated and will be removed in a future release. To remove this warning, do the following: 1) Pass option use_label_encoder=False when constructing XGBClassifier object; and 2) Encode your labels (y) as integers starting with 0, i.e. 0, 1, 2, ..., [num_class - 1].\n",
      "  warnings.warn(label_encoder_deprecation_msg, UserWarning)\n",
      "\n",
      "2023/05/06 18:27:37 WARNING mlflow.utils.autologging_utils: Encountered unexpected error during xgboost autologging: The following failures occurred while performing one or more logging operations: [MlflowException('Failed to perform one or more operations on the run with ID 402f6f27e0a742b6ad5e739614697db9. Failed operations: [MlflowException(\"API request to http://localhost:5000/api/2.0/mlflow/runs/log-batch failed with exception HTTPConnectionPool(host=\\'localhost\\', port=5000): Max retries exceeded with url: /api/2.0/mlflow/runs/log-batch (Caused by ResponseError(\\'too many 500 error responses\\'))\")]')]\n"
     ]
    },
    {
     "name": "stdout",
     "output_type": "stream",
     "text": [
      "Training AUC is: 1.000000                                                                                              \n",
      "Test AUC is: 0.509454                                                                                                  \n",
      "Training accuracy is: 1.000000                                                                                         \n",
      "Test accuracy is: 0.510000                                                                                             \n",
      "[18:27:43] WARNING: D:\\bld\\xgboost-split_1637426510059\\work\\src\\learner.cc:1115: Starting in XGBoost 1.3.0, the default evaluation metric used with the objective 'binary:logistic' was changed from 'error' to 'logloss'. Explicitly set eval_metric if you'd like to restore the old behavior.\n",
      " 77%|█████████████████████████████████▋          | 92/120 [1:39:47<30:45, 65.90s/trial, best loss: -0.5333333333333333]"
     ]
    },
    {
     "name": "stderr",
     "output_type": "stream",
     "text": [
      "C:\\Users\\Ayush\\Anaconda3\\lib\\site-packages\\xgboost\\sklearn.py:1224: UserWarning: The use of label encoder in XGBClassifier is deprecated and will be removed in a future release. To remove this warning, do the following: 1) Pass option use_label_encoder=False when constructing XGBClassifier object; and 2) Encode your labels (y) as integers starting with 0, i.e. 0, 1, 2, ..., [num_class - 1].\n",
      "  warnings.warn(label_encoder_deprecation_msg, UserWarning)\n",
      "\n",
      "2023/05/06 18:28:43 WARNING mlflow.utils.autologging_utils: Encountered unexpected error during xgboost autologging: The following failures occurred while performing one or more logging operations: [MlflowException('Failed to perform one or more operations on the run with ID 402f6f27e0a742b6ad5e739614697db9. Failed operations: [MlflowException(\"API request to http://localhost:5000/api/2.0/mlflow/runs/log-batch failed with exception HTTPConnectionPool(host=\\'localhost\\', port=5000): Max retries exceeded with url: /api/2.0/mlflow/runs/log-batch (Caused by ResponseError(\\'too many 500 error responses\\'))\")]')]\n"
     ]
    },
    {
     "name": "stdout",
     "output_type": "stream",
     "text": [
      "Training AUC is: 1.000000                                                                                              \n",
      "Test AUC is: 0.514551                                                                                                  \n",
      "Training accuracy is: 1.000000                                                                                         \n",
      "Test accuracy is: 0.514444                                                                                             \n",
      "[18:28:48] WARNING: D:\\bld\\xgboost-split_1637426510059\\work\\src\\learner.cc:1115: Starting in XGBoost 1.3.0, the default evaluation metric used with the objective 'binary:logistic' was changed from 'error' to 'logloss'. Explicitly set eval_metric if you'd like to restore the old behavior.\n",
      " 78%|██████████████████████████████████          | 93/120 [1:40:52<29:37, 65.82s/trial, best loss: -0.5333333333333333]"
     ]
    },
    {
     "name": "stderr",
     "output_type": "stream",
     "text": [
      "C:\\Users\\Ayush\\Anaconda3\\lib\\site-packages\\xgboost\\sklearn.py:1224: UserWarning: The use of label encoder in XGBClassifier is deprecated and will be removed in a future release. To remove this warning, do the following: 1) Pass option use_label_encoder=False when constructing XGBClassifier object; and 2) Encode your labels (y) as integers starting with 0, i.e. 0, 1, 2, ..., [num_class - 1].\n",
      "  warnings.warn(label_encoder_deprecation_msg, UserWarning)\n",
      "\n",
      "2023/05/06 18:29:49 WARNING mlflow.utils.autologging_utils: Encountered unexpected error during xgboost autologging: The following failures occurred while performing one or more logging operations: [MlflowException('Failed to perform one or more operations on the run with ID 402f6f27e0a742b6ad5e739614697db9. Failed operations: [MlflowException(\"API request to http://localhost:5000/api/2.0/mlflow/runs/log-batch failed with exception HTTPConnectionPool(host=\\'localhost\\', port=5000): Max retries exceeded with url: /api/2.0/mlflow/runs/log-batch (Caused by ResponseError(\\'too many 500 error responses\\'))\")]')]\n"
     ]
    },
    {
     "name": "stdout",
     "output_type": "stream",
     "text": [
      "Training AUC is: 1.000000                                                                                              \n",
      "Test AUC is: 0.498874                                                                                                  \n",
      "Training accuracy is: 1.000000                                                                                         \n",
      "Test accuracy is: 0.498889                                                                                             \n",
      "[18:29:54] WARNING: D:\\bld\\xgboost-split_1637426510059\\work\\src\\learner.cc:1115: Starting in XGBoost 1.3.0, the default evaluation metric used with the objective 'binary:logistic' was changed from 'error' to 'logloss'. Explicitly set eval_metric if you'd like to restore the old behavior.\n",
      " 78%|██████████████████████████████████▍         | 94/120 [1:41:58<28:30, 65.79s/trial, best loss: -0.5333333333333333]"
     ]
    },
    {
     "name": "stderr",
     "output_type": "stream",
     "text": [
      "C:\\Users\\Ayush\\Anaconda3\\lib\\site-packages\\xgboost\\sklearn.py:1224: UserWarning: The use of label encoder in XGBClassifier is deprecated and will be removed in a future release. To remove this warning, do the following: 1) Pass option use_label_encoder=False when constructing XGBClassifier object; and 2) Encode your labels (y) as integers starting with 0, i.e. 0, 1, 2, ..., [num_class - 1].\n",
      "  warnings.warn(label_encoder_deprecation_msg, UserWarning)\n",
      "\n",
      "2023/05/06 18:30:54 WARNING mlflow.utils.autologging_utils: Encountered unexpected error during xgboost autologging: The following failures occurred while performing one or more logging operations: [MlflowException('Failed to perform one or more operations on the run with ID 402f6f27e0a742b6ad5e739614697db9. Failed operations: [MlflowException(\"API request to http://localhost:5000/api/2.0/mlflow/runs/log-batch failed with exception HTTPConnectionPool(host=\\'localhost\\', port=5000): Max retries exceeded with url: /api/2.0/mlflow/runs/log-batch (Caused by ResponseError(\\'too many 500 error responses\\'))\")]')]\n"
     ]
    },
    {
     "name": "stdout",
     "output_type": "stream",
     "text": [
      "Training AUC is: 0.998090                                                                                              \n",
      "Test AUC is: 0.499733                                                                                                  \n",
      "Training accuracy is: 0.998095                                                                                         \n",
      "Test accuracy is: 0.500000                                                                                             \n",
      "[18:31:00] WARNING: D:\\bld\\xgboost-split_1637426510059\\work\\src\\learner.cc:1115: Starting in XGBoost 1.3.0, the default evaluation metric used with the objective 'binary:logistic' was changed from 'error' to 'logloss'. Explicitly set eval_metric if you'd like to restore the old behavior.\n",
      " 79%|██████████████████████████████████▊         | 95/120 [1:43:04<27:24, 65.78s/trial, best loss: -0.5333333333333333]"
     ]
    },
    {
     "name": "stderr",
     "output_type": "stream",
     "text": [
      "C:\\Users\\Ayush\\Anaconda3\\lib\\site-packages\\xgboost\\sklearn.py:1224: UserWarning: The use of label encoder in XGBClassifier is deprecated and will be removed in a future release. To remove this warning, do the following: 1) Pass option use_label_encoder=False when constructing XGBClassifier object; and 2) Encode your labels (y) as integers starting with 0, i.e. 0, 1, 2, ..., [num_class - 1].\n",
      "  warnings.warn(label_encoder_deprecation_msg, UserWarning)\n",
      "\n",
      "2023/05/06 18:32:00 WARNING mlflow.utils.autologging_utils: Encountered unexpected error during xgboost autologging: The following failures occurred while performing one or more logging operations: [MlflowException('Failed to perform one or more operations on the run with ID 402f6f27e0a742b6ad5e739614697db9. Failed operations: [MlflowException(\"API request to http://localhost:5000/api/2.0/mlflow/runs/log-batch failed with exception HTTPConnectionPool(host=\\'localhost\\', port=5000): Max retries exceeded with url: /api/2.0/mlflow/runs/log-batch (Caused by ResponseError(\\'too many 500 error responses\\'))\")]')]\n"
     ]
    },
    {
     "name": "stdout",
     "output_type": "stream",
     "text": [
      "Training AUC is: 1.000000                                                                                              \n",
      "Test AUC is: 0.510995                                                                                                  \n",
      "Training accuracy is: 1.000000                                                                                         \n",
      "Test accuracy is: 0.511111                                                                                             \n",
      "[18:32:06] WARNING: D:\\bld\\xgboost-split_1637426510059\\work\\src\\learner.cc:1115: Starting in XGBoost 1.3.0, the default evaluation metric used with the objective 'binary:logistic' was changed from 'error' to 'logloss'. Explicitly set eval_metric if you'd like to restore the old behavior.\n",
      " 80%|███████████████████████████████████▏        | 96/120 [1:44:10<26:18, 65.77s/trial, best loss: -0.5333333333333333]"
     ]
    },
    {
     "name": "stderr",
     "output_type": "stream",
     "text": [
      "C:\\Users\\Ayush\\Anaconda3\\lib\\site-packages\\xgboost\\sklearn.py:1224: UserWarning: The use of label encoder in XGBClassifier is deprecated and will be removed in a future release. To remove this warning, do the following: 1) Pass option use_label_encoder=False when constructing XGBClassifier object; and 2) Encode your labels (y) as integers starting with 0, i.e. 0, 1, 2, ..., [num_class - 1].\n",
      "  warnings.warn(label_encoder_deprecation_msg, UserWarning)\n",
      "\n",
      "2023/05/06 18:33:06 WARNING mlflow.utils.autologging_utils: Encountered unexpected error during xgboost autologging: The following failures occurred while performing one or more logging operations: [MlflowException('Failed to perform one or more operations on the run with ID 402f6f27e0a742b6ad5e739614697db9. Failed operations: [MlflowException(\"API request to http://localhost:5000/api/2.0/mlflow/runs/log-batch failed with exception HTTPConnectionPool(host=\\'localhost\\', port=5000): Max retries exceeded with url: /api/2.0/mlflow/runs/log-batch (Caused by ResponseError(\\'too many 500 error responses\\'))\")]')]\n"
     ]
    },
    {
     "name": "stdout",
     "output_type": "stream",
     "text": [
      "Training AUC is: 1.000000                                                                                              \n",
      "Test AUC is: 0.517811                                                                                                  \n",
      "Training accuracy is: 1.000000                                                                                         \n",
      "Test accuracy is: 0.517778                                                                                             \n",
      "[18:33:11] WARNING: D:\\bld\\xgboost-split_1637426510059\\work\\src\\learner.cc:1115: Starting in XGBoost 1.3.0, the default evaluation metric used with the objective 'binary:logistic' was changed from 'error' to 'logloss'. Explicitly set eval_metric if you'd like to restore the old behavior.\n",
      " 81%|███████████████████████████████████▌        | 97/120 [1:45:15<25:11, 65.73s/trial, best loss: -0.5333333333333333]"
     ]
    },
    {
     "name": "stderr",
     "output_type": "stream",
     "text": [
      "C:\\Users\\Ayush\\Anaconda3\\lib\\site-packages\\xgboost\\sklearn.py:1224: UserWarning: The use of label encoder in XGBClassifier is deprecated and will be removed in a future release. To remove this warning, do the following: 1) Pass option use_label_encoder=False when constructing XGBClassifier object; and 2) Encode your labels (y) as integers starting with 0, i.e. 0, 1, 2, ..., [num_class - 1].\n",
      "  warnings.warn(label_encoder_deprecation_msg, UserWarning)\n",
      "\n",
      "2023/05/06 18:34:11 WARNING mlflow.utils.autologging_utils: Encountered unexpected error during xgboost autologging: The following failures occurred while performing one or more logging operations: [MlflowException('Failed to perform one or more operations on the run with ID 402f6f27e0a742b6ad5e739614697db9. Failed operations: [MlflowException(\"API request to http://localhost:5000/api/2.0/mlflow/runs/log-batch failed with exception HTTPConnectionPool(host=\\'localhost\\', port=5000): Max retries exceeded with url: /api/2.0/mlflow/runs/log-batch (Caused by ResponseError(\\'too many 500 error responses\\'))\")]')]\n"
     ]
    },
    {
     "name": "stdout",
     "output_type": "stream",
     "text": [
      "Training AUC is: 1.000000                                                                                              \n",
      "Test AUC is: 0.498785                                                                                                  \n",
      "Training accuracy is: 1.000000                                                                                         \n",
      "Test accuracy is: 0.498889                                                                                             \n",
      "[18:34:17] WARNING: D:\\bld\\xgboost-split_1637426510059\\work\\src\\learner.cc:1115: Starting in XGBoost 1.3.0, the default evaluation metric used with the objective 'binary:logistic' was changed from 'error' to 'logloss'. Explicitly set eval_metric if you'd like to restore the old behavior.\n",
      " 82%|███████████████████████████████████▉        | 98/120 [1:46:21<24:06, 65.74s/trial, best loss: -0.5333333333333333]"
     ]
    },
    {
     "name": "stderr",
     "output_type": "stream",
     "text": [
      "C:\\Users\\Ayush\\Anaconda3\\lib\\site-packages\\xgboost\\sklearn.py:1224: UserWarning: The use of label encoder in XGBClassifier is deprecated and will be removed in a future release. To remove this warning, do the following: 1) Pass option use_label_encoder=False when constructing XGBClassifier object; and 2) Encode your labels (y) as integers starting with 0, i.e. 0, 1, 2, ..., [num_class - 1].\n",
      "  warnings.warn(label_encoder_deprecation_msg, UserWarning)\n",
      "\n",
      "2023/05/06 18:35:17 WARNING mlflow.utils.autologging_utils: Encountered unexpected error during xgboost autologging: The following failures occurred while performing one or more logging operations: [MlflowException('Failed to perform one or more operations on the run with ID 402f6f27e0a742b6ad5e739614697db9. Failed operations: [MlflowException(\"API request to http://localhost:5000/api/2.0/mlflow/runs/log-batch failed with exception HTTPConnectionPool(host=\\'localhost\\', port=5000): Max retries exceeded with url: /api/2.0/mlflow/runs/log-batch (Caused by ResponseError(\\'too many 500 error responses\\'))\")]')]\n"
     ]
    },
    {
     "name": "stdout",
     "output_type": "stream",
     "text": [
      "Training AUC is: 1.000000                                                                                              \n",
      "Test AUC is: 0.515795                                                                                                  \n",
      "Training accuracy is: 1.000000                                                                                         \n",
      "Test accuracy is: 0.515556                                                                                             \n",
      "[18:35:23] WARNING: D:\\bld\\xgboost-split_1637426510059\\work\\src\\learner.cc:1115: Starting in XGBoost 1.3.0, the default evaluation metric used with the objective 'binary:logistic' was changed from 'error' to 'logloss'. Explicitly set eval_metric if you'd like to restore the old behavior.\n",
      " 82%|████████████████████████████████████▎       | 99/120 [1:47:27<23:01, 65.80s/trial, best loss: -0.5333333333333333]"
     ]
    },
    {
     "name": "stderr",
     "output_type": "stream",
     "text": [
      "C:\\Users\\Ayush\\Anaconda3\\lib\\site-packages\\xgboost\\sklearn.py:1224: UserWarning: The use of label encoder in XGBClassifier is deprecated and will be removed in a future release. To remove this warning, do the following: 1) Pass option use_label_encoder=False when constructing XGBClassifier object; and 2) Encode your labels (y) as integers starting with 0, i.e. 0, 1, 2, ..., [num_class - 1].\n",
      "  warnings.warn(label_encoder_deprecation_msg, UserWarning)\n",
      "\n",
      "2023/05/06 18:36:23 WARNING mlflow.utils.autologging_utils: Encountered unexpected error during xgboost autologging: The following failures occurred while performing one or more logging operations: [MlflowException('Failed to perform one or more operations on the run with ID 402f6f27e0a742b6ad5e739614697db9. Failed operations: [MlflowException(\"API request to http://localhost:5000/api/2.0/mlflow/runs/log-batch failed with exception HTTPConnectionPool(host=\\'localhost\\', port=5000): Max retries exceeded with url: /api/2.0/mlflow/runs/log-batch (Caused by ResponseError(\\'too many 500 error responses\\'))\")]')]\n"
     ]
    },
    {
     "name": "stdout",
     "output_type": "stream",
     "text": [
      "Training AUC is: 1.000000                                                                                              \n",
      "Test AUC is: 0.490961                                                                                                  \n",
      "Training accuracy is: 1.000000                                                                                         \n",
      "Test accuracy is: 0.491111                                                                                             \n",
      "[18:36:30] WARNING: D:\\bld\\xgboost-split_1637426510059\\work\\src\\learner.cc:1115: Starting in XGBoost 1.3.0, the default evaluation metric used with the objective 'binary:logistic' was changed from 'error' to 'logloss'. Explicitly set eval_metric if you'd like to restore the old behavior.\n",
      " 83%|███████████████████████████████████▊       | 100/120 [1:48:34<22:01, 66.07s/trial, best loss: -0.5333333333333333]"
     ]
    },
    {
     "name": "stderr",
     "output_type": "stream",
     "text": [
      "C:\\Users\\Ayush\\Anaconda3\\lib\\site-packages\\xgboost\\sklearn.py:1224: UserWarning: The use of label encoder in XGBClassifier is deprecated and will be removed in a future release. To remove this warning, do the following: 1) Pass option use_label_encoder=False when constructing XGBClassifier object; and 2) Encode your labels (y) as integers starting with 0, i.e. 0, 1, 2, ..., [num_class - 1].\n",
      "  warnings.warn(label_encoder_deprecation_msg, UserWarning)\n",
      "\n",
      "2023/05/06 18:37:30 WARNING mlflow.utils.autologging_utils: Encountered unexpected error during xgboost autologging: The following failures occurred while performing one or more logging operations: [MlflowException('Failed to perform one or more operations on the run with ID 402f6f27e0a742b6ad5e739614697db9. Failed operations: [MlflowException(\"API request to http://localhost:5000/api/2.0/mlflow/runs/log-batch failed with exception HTTPConnectionPool(host=\\'localhost\\', port=5000): Max retries exceeded with url: /api/2.0/mlflow/runs/log-batch (Caused by ResponseError(\\'too many 500 error responses\\'))\")]')]\n"
     ]
    },
    {
     "name": "stdout",
     "output_type": "stream",
     "text": [
      "Training AUC is: 1.000000                                                                                              \n",
      "Test AUC is: 0.496799                                                                                                  \n",
      "Training accuracy is: 1.000000                                                                                         \n",
      "Test accuracy is: 0.496667                                                                                             \n",
      " 84%|████████████████████████████████████▏      | 101/120 [1:49:39<20:53, 65.98s/trial, best loss: -0.5333333333333333]"
     ]
    },
    {
     "name": "stderr",
     "output_type": "stream",
     "text": [
      "C:\\Users\\Ayush\\Anaconda3\\lib\\site-packages\\xgboost\\sklearn.py:1224: UserWarning: The use of label encoder in XGBClassifier is deprecated and will be removed in a future release. To remove this warning, do the following: 1) Pass option use_label_encoder=False when constructing XGBClassifier object; and 2) Encode your labels (y) as integers starting with 0, i.e. 0, 1, 2, ..., [num_class - 1].\n",
      "  warnings.warn(label_encoder_deprecation_msg, UserWarning)\n",
      "\n",
      "2023/05/06 18:37:35 ERROR mlflow.xgboost: Failed to log feature importance plot. XGBoost autologging will ignore the failure and continue. Exception: \n",
      "Traceback (most recent call last):\n",
      "  File \"C:\\Users\\Ayush\\Anaconda3\\lib\\site-packages\\mlflow\\xgboost\\__init__.py\", line 636, in train\n",
      "    features, importance = zip(*imp.items())\n",
      "ValueError: not enough values to unpack (expected 2, got 0)\n",
      "2023/05/06 18:38:36 WARNING mlflow.utils.autologging_utils: Encountered unexpected error during xgboost autologging: The following failures occurred while performing one or more logging operations: [MlflowException('Failed to perform one or more operations on the run with ID 402f6f27e0a742b6ad5e739614697db9. Failed operations: [MlflowException(\"API request to http://localhost:5000/api/2.0/mlflow/runs/log-batch failed with exception HTTPConnectionPool(host=\\'localhost\\', port=5000): Max retries exceeded with url: /api/2.0/mlflow/runs/log-batch (Caused by ResponseError(\\'too many 500 error responses\\'))\")]')]\n"
     ]
    },
    {
     "name": "stdout",
     "output_type": "stream",
     "text": [
      "Training AUC is: 0.500000                                                                                              \n",
      "Test AUC is: 0.500000                                                                                                  \n",
      "Training accuracy is: 0.497143                                                                                         \n",
      "Test accuracy is: 0.506667                                                                                             \n",
      "[18:38:41] WARNING: D:\\bld\\xgboost-split_1637426510059\\work\\src\\learner.cc:1115: Starting in XGBoost 1.3.0, the default evaluation metric used with the objective 'binary:logistic' was changed from 'error' to 'logloss'. Explicitly set eval_metric if you'd like to restore the old behavior.\n",
      " 85%|████████████████████████████████████▌      | 102/120 [1:50:45<19:47, 65.96s/trial, best loss: -0.5333333333333333]"
     ]
    },
    {
     "name": "stderr",
     "output_type": "stream",
     "text": [
      "C:\\Users\\Ayush\\Anaconda3\\lib\\site-packages\\xgboost\\sklearn.py:1224: UserWarning: The use of label encoder in XGBClassifier is deprecated and will be removed in a future release. To remove this warning, do the following: 1) Pass option use_label_encoder=False when constructing XGBClassifier object; and 2) Encode your labels (y) as integers starting with 0, i.e. 0, 1, 2, ..., [num_class - 1].\n",
      "  warnings.warn(label_encoder_deprecation_msg, UserWarning)\n",
      "\n",
      "2023/05/06 18:39:42 WARNING mlflow.utils.autologging_utils: Encountered unexpected error during xgboost autologging: The following failures occurred while performing one or more logging operations: [MlflowException('Failed to perform one or more operations on the run with ID 402f6f27e0a742b6ad5e739614697db9. Failed operations: [MlflowException(\"API request to http://localhost:5000/api/2.0/mlflow/runs/log-batch failed with exception HTTPConnectionPool(host=\\'localhost\\', port=5000): Max retries exceeded with url: /api/2.0/mlflow/runs/log-batch (Caused by ResponseError(\\'too many 500 error responses\\'))\")]')]\n"
     ]
    },
    {
     "name": "stdout",
     "output_type": "stream",
     "text": [
      "Training AUC is: 1.000000                                                                                              \n",
      "Test AUC is: 0.499881                                                                                                  \n",
      "Training accuracy is: 1.000000                                                                                         \n",
      "Test accuracy is: 0.500000                                                                                             \n",
      "[18:39:47] WARNING: D:\\bld\\xgboost-split_1637426510059\\work\\src\\learner.cc:1115: Starting in XGBoost 1.3.0, the default evaluation metric used with the objective 'binary:logistic' was changed from 'error' to 'logloss'. Explicitly set eval_metric if you'd like to restore the old behavior.\n",
      " 86%|████████████████████████████████████▉      | 103/120 [1:51:51<18:40, 65.89s/trial, best loss: -0.5333333333333333]"
     ]
    },
    {
     "name": "stderr",
     "output_type": "stream",
     "text": [
      "C:\\Users\\Ayush\\Anaconda3\\lib\\site-packages\\xgboost\\sklearn.py:1224: UserWarning: The use of label encoder in XGBClassifier is deprecated and will be removed in a future release. To remove this warning, do the following: 1) Pass option use_label_encoder=False when constructing XGBClassifier object; and 2) Encode your labels (y) as integers starting with 0, i.e. 0, 1, 2, ..., [num_class - 1].\n",
      "  warnings.warn(label_encoder_deprecation_msg, UserWarning)\n",
      "\n",
      "2023/05/06 18:40:47 WARNING mlflow.utils.autologging_utils: Encountered unexpected error during xgboost autologging: The following failures occurred while performing one or more logging operations: [MlflowException('Failed to perform one or more operations on the run with ID 402f6f27e0a742b6ad5e739614697db9. Failed operations: [MlflowException(\"API request to http://localhost:5000/api/2.0/mlflow/runs/log-batch failed with exception HTTPConnectionPool(host=\\'localhost\\', port=5000): Max retries exceeded with url: /api/2.0/mlflow/runs/log-batch (Caused by ResponseError(\\'too many 500 error responses\\'))\")]')]\n"
     ]
    },
    {
     "name": "stdout",
     "output_type": "stream",
     "text": [
      "Training AUC is: 1.000000                                                                                              \n",
      "Test AUC is: 0.502252                                                                                                  \n",
      "Training accuracy is: 1.000000                                                                                         \n",
      "Test accuracy is: 0.502222                                                                                             \n",
      "[18:40:53] WARNING: D:\\bld\\xgboost-split_1637426510059\\work\\src\\learner.cc:1115: Starting in XGBoost 1.3.0, the default evaluation metric used with the objective 'binary:logistic' was changed from 'error' to 'logloss'. Explicitly set eval_metric if you'd like to restore the old behavior.\n",
      " 87%|█████████████████████████████████████▎     | 104/120 [1:52:57<17:33, 65.87s/trial, best loss: -0.5333333333333333]"
     ]
    },
    {
     "name": "stderr",
     "output_type": "stream",
     "text": [
      "C:\\Users\\Ayush\\Anaconda3\\lib\\site-packages\\xgboost\\sklearn.py:1224: UserWarning: The use of label encoder in XGBClassifier is deprecated and will be removed in a future release. To remove this warning, do the following: 1) Pass option use_label_encoder=False when constructing XGBClassifier object; and 2) Encode your labels (y) as integers starting with 0, i.e. 0, 1, 2, ..., [num_class - 1].\n",
      "  warnings.warn(label_encoder_deprecation_msg, UserWarning)\n",
      "\n",
      "2023/05/06 18:41:53 WARNING mlflow.utils.autologging_utils: Encountered unexpected error during xgboost autologging: The following failures occurred while performing one or more logging operations: [MlflowException('Failed to perform one or more operations on the run with ID 402f6f27e0a742b6ad5e739614697db9. Failed operations: [MlflowException(\"API request to http://localhost:5000/api/2.0/mlflow/runs/log-batch failed with exception HTTPConnectionPool(host=\\'localhost\\', port=5000): Max retries exceeded with url: /api/2.0/mlflow/runs/log-batch (Caused by ResponseError(\\'too many 500 error responses\\'))\")]')]\n"
     ]
    },
    {
     "name": "stdout",
     "output_type": "stream",
     "text": [
      "Training AUC is: 1.000000                                                                                              \n",
      "Test AUC is: 0.494103                                                                                                  \n",
      "Training accuracy is: 1.000000                                                                                         \n",
      "Test accuracy is: 0.494444                                                                                             \n",
      "[18:41:59] WARNING: D:\\bld\\xgboost-split_1637426510059\\work\\src\\learner.cc:1115: Starting in XGBoost 1.3.0, the default evaluation metric used with the objective 'binary:logistic' was changed from 'error' to 'logloss'. Explicitly set eval_metric if you'd like to restore the old behavior.\n",
      " 88%|█████████████████████████████████████▋     | 105/120 [1:54:03<16:27, 65.82s/trial, best loss: -0.5333333333333333]"
     ]
    },
    {
     "name": "stderr",
     "output_type": "stream",
     "text": [
      "C:\\Users\\Ayush\\Anaconda3\\lib\\site-packages\\xgboost\\sklearn.py:1224: UserWarning: The use of label encoder in XGBClassifier is deprecated and will be removed in a future release. To remove this warning, do the following: 1) Pass option use_label_encoder=False when constructing XGBClassifier object; and 2) Encode your labels (y) as integers starting with 0, i.e. 0, 1, 2, ..., [num_class - 1].\n",
      "  warnings.warn(label_encoder_deprecation_msg, UserWarning)\n",
      "\n",
      "2023/05/06 18:42:59 WARNING mlflow.utils.autologging_utils: Encountered unexpected error during xgboost autologging: The following failures occurred while performing one or more logging operations: [MlflowException('Failed to perform one or more operations on the run with ID 402f6f27e0a742b6ad5e739614697db9. Failed operations: [MlflowException(\"API request to http://localhost:5000/api/2.0/mlflow/runs/log-batch failed with exception HTTPConnectionPool(host=\\'localhost\\', port=5000): Max retries exceeded with url: /api/2.0/mlflow/runs/log-batch (Caused by ResponseError(\\'too many 500 error responses\\'))\")]')]\n"
     ]
    },
    {
     "name": "stdout",
     "output_type": "stream",
     "text": [
      "Training AUC is: 1.000000                                                                                              \n",
      "Test AUC is: 0.507290                                                                                                  \n",
      "Training accuracy is: 1.000000                                                                                         \n",
      "Test accuracy is: 0.507778                                                                                             \n",
      "[18:43:04] WARNING: D:\\bld\\xgboost-split_1637426510059\\work\\src\\learner.cc:1115: Starting in XGBoost 1.3.0, the default evaluation metric used with the objective 'binary:logistic' was changed from 'error' to 'logloss'. Explicitly set eval_metric if you'd like to restore the old behavior.\n",
      " 88%|█████████████████████████████████████▉     | 106/120 [1:55:08<15:21, 65.81s/trial, best loss: -0.5333333333333333]"
     ]
    },
    {
     "name": "stderr",
     "output_type": "stream",
     "text": [
      "C:\\Users\\Ayush\\Anaconda3\\lib\\site-packages\\xgboost\\sklearn.py:1224: UserWarning: The use of label encoder in XGBClassifier is deprecated and will be removed in a future release. To remove this warning, do the following: 1) Pass option use_label_encoder=False when constructing XGBClassifier object; and 2) Encode your labels (y) as integers starting with 0, i.e. 0, 1, 2, ..., [num_class - 1].\n",
      "  warnings.warn(label_encoder_deprecation_msg, UserWarning)\n",
      "\n",
      "2023/05/06 18:44:05 WARNING mlflow.utils.autologging_utils: Encountered unexpected error during xgboost autologging: The following failures occurred while performing one or more logging operations: [MlflowException('Failed to perform one or more operations on the run with ID 402f6f27e0a742b6ad5e739614697db9. Failed operations: [MlflowException(\"API request to http://localhost:5000/api/2.0/mlflow/runs/log-batch failed with exception HTTPConnectionPool(host=\\'localhost\\', port=5000): Max retries exceeded with url: /api/2.0/mlflow/runs/log-batch (Caused by ResponseError(\\'too many 500 error responses\\'))\")]')]\n"
     ]
    },
    {
     "name": "stdout",
     "output_type": "stream",
     "text": [
      "Training AUC is: 0.999053                                                                                              \n",
      "Test AUC is: 0.485449                                                                                                  \n",
      "Training accuracy is: 0.999048                                                                                         \n",
      "Test accuracy is: 0.485556                                                                                             \n",
      "[18:44:10] WARNING: D:\\bld\\xgboost-split_1637426510059\\work\\src\\learner.cc:1115: Starting in XGBoost 1.3.0, the default evaluation metric used with the objective 'binary:logistic' was changed from 'error' to 'logloss'. Explicitly set eval_metric if you'd like to restore the old behavior.\n",
      " 89%|██████████████████████████████████████▎    | 107/120 [1:56:14<14:14, 65.77s/trial, best loss: -0.5333333333333333]"
     ]
    },
    {
     "name": "stderr",
     "output_type": "stream",
     "text": [
      "C:\\Users\\Ayush\\Anaconda3\\lib\\site-packages\\xgboost\\sklearn.py:1224: UserWarning: The use of label encoder in XGBClassifier is deprecated and will be removed in a future release. To remove this warning, do the following: 1) Pass option use_label_encoder=False when constructing XGBClassifier object; and 2) Encode your labels (y) as integers starting with 0, i.e. 0, 1, 2, ..., [num_class - 1].\n",
      "  warnings.warn(label_encoder_deprecation_msg, UserWarning)\n",
      "\n",
      "2023/05/06 18:45:10 WARNING mlflow.utils.autologging_utils: Encountered unexpected error during xgboost autologging: The following failures occurred while performing one or more logging operations: [MlflowException('Failed to perform one or more operations on the run with ID 402f6f27e0a742b6ad5e739614697db9. Failed operations: [MlflowException(\"API request to http://localhost:5000/api/2.0/mlflow/runs/log-batch failed with exception HTTPConnectionPool(host=\\'localhost\\', port=5000): Max retries exceeded with url: /api/2.0/mlflow/runs/log-batch (Caused by ResponseError(\\'too many 500 error responses\\'))\")]')]\n"
     ]
    },
    {
     "name": "stdout",
     "output_type": "stream",
     "text": [
      "Training AUC is: 1.000000                                                                                              \n",
      "Test AUC is: 0.497540                                                                                                  \n",
      "Training accuracy is: 1.000000                                                                                         \n",
      "Test accuracy is: 0.497778                                                                                             \n",
      "[18:45:16] WARNING: D:\\bld\\xgboost-split_1637426510059\\work\\src\\learner.cc:1115: Starting in XGBoost 1.3.0, the default evaluation metric used with the objective 'binary:logistic' was changed from 'error' to 'logloss'. Explicitly set eval_metric if you'd like to restore the old behavior.\n",
      " 90%|██████████████████████████████████████▋    | 108/120 [1:57:20<13:09, 65.77s/trial, best loss: -0.5333333333333333]"
     ]
    },
    {
     "name": "stderr",
     "output_type": "stream",
     "text": [
      "C:\\Users\\Ayush\\Anaconda3\\lib\\site-packages\\xgboost\\sklearn.py:1224: UserWarning: The use of label encoder in XGBClassifier is deprecated and will be removed in a future release. To remove this warning, do the following: 1) Pass option use_label_encoder=False when constructing XGBClassifier object; and 2) Encode your labels (y) as integers starting with 0, i.e. 0, 1, 2, ..., [num_class - 1].\n",
      "  warnings.warn(label_encoder_deprecation_msg, UserWarning)\n",
      "\n",
      "2023/05/06 18:46:16 WARNING mlflow.utils.autologging_utils: Encountered unexpected error during xgboost autologging: The following failures occurred while performing one or more logging operations: [MlflowException('Failed to perform one or more operations on the run with ID 402f6f27e0a742b6ad5e739614697db9. Failed operations: [MlflowException(\"API request to http://localhost:5000/api/2.0/mlflow/runs/log-batch failed with exception HTTPConnectionPool(host=\\'localhost\\', port=5000): Max retries exceeded with url: /api/2.0/mlflow/runs/log-batch (Caused by ResponseError(\\'too many 500 error responses\\'))\")]')]\n"
     ]
    },
    {
     "name": "stdout",
     "output_type": "stream",
     "text": [
      "Training AUC is: 1.000000                                                                                              \n",
      "Test AUC is: 0.490309                                                                                                  \n",
      "Training accuracy is: 1.000000                                                                                         \n",
      "Test accuracy is: 0.490000                                                                                             \n",
      "[18:46:21] WARNING: D:\\bld\\xgboost-split_1637426510059\\work\\src\\learner.cc:1115: Starting in XGBoost 1.3.0, the default evaluation metric used with the objective 'binary:logistic' was changed from 'error' to 'logloss'. Explicitly set eval_metric if you'd like to restore the old behavior.\n",
      " 91%|███████████████████████████████████████    | 109/120 [1:58:26<12:03, 65.77s/trial, best loss: -0.5333333333333333]"
     ]
    },
    {
     "name": "stderr",
     "output_type": "stream",
     "text": [
      "C:\\Users\\Ayush\\Anaconda3\\lib\\site-packages\\xgboost\\sklearn.py:1224: UserWarning: The use of label encoder in XGBClassifier is deprecated and will be removed in a future release. To remove this warning, do the following: 1) Pass option use_label_encoder=False when constructing XGBClassifier object; and 2) Encode your labels (y) as integers starting with 0, i.e. 0, 1, 2, ..., [num_class - 1].\n",
      "  warnings.warn(label_encoder_deprecation_msg, UserWarning)\n",
      "\n",
      "2023/05/06 18:47:22 WARNING mlflow.utils.autologging_utils: Encountered unexpected error during xgboost autologging: The following failures occurred while performing one or more logging operations: [MlflowException('Failed to perform one or more operations on the run with ID 402f6f27e0a742b6ad5e739614697db9. Failed operations: [MlflowException(\"API request to http://localhost:5000/api/2.0/mlflow/runs/log-batch failed with exception HTTPConnectionPool(host=\\'localhost\\', port=5000): Max retries exceeded with url: /api/2.0/mlflow/runs/log-batch (Caused by ResponseError(\\'too many 500 error responses\\'))\")]')]\n"
     ]
    },
    {
     "name": "stdout",
     "output_type": "stream",
     "text": [
      "Training AUC is: 1.000000                                                                                              \n",
      "Test AUC is: 0.517722                                                                                                  \n",
      "Training accuracy is: 1.000000                                                                                         \n",
      "Test accuracy is: 0.517778                                                                                             \n",
      "[18:47:27] WARNING: D:\\bld\\xgboost-split_1637426510059\\work\\src\\learner.cc:1115: Starting in XGBoost 1.3.0, the default evaluation metric used with the objective 'binary:logistic' was changed from 'error' to 'logloss'. Explicitly set eval_metric if you'd like to restore the old behavior.\n",
      " 92%|███████████████████████████████████████▍   | 110/120 [1:59:31<10:57, 65.77s/trial, best loss: -0.5333333333333333]"
     ]
    },
    {
     "name": "stderr",
     "output_type": "stream",
     "text": [
      "C:\\Users\\Ayush\\Anaconda3\\lib\\site-packages\\xgboost\\sklearn.py:1224: UserWarning: The use of label encoder in XGBClassifier is deprecated and will be removed in a future release. To remove this warning, do the following: 1) Pass option use_label_encoder=False when constructing XGBClassifier object; and 2) Encode your labels (y) as integers starting with 0, i.e. 0, 1, 2, ..., [num_class - 1].\n",
      "  warnings.warn(label_encoder_deprecation_msg, UserWarning)\n",
      "\n",
      "2023/05/06 18:48:28 WARNING mlflow.utils.autologging_utils: Encountered unexpected error during xgboost autologging: The following failures occurred while performing one or more logging operations: [MlflowException('Failed to perform one or more operations on the run with ID 402f6f27e0a742b6ad5e739614697db9. Failed operations: [MlflowException(\"API request to http://localhost:5000/api/2.0/mlflow/runs/log-batch failed with exception HTTPConnectionPool(host=\\'localhost\\', port=5000): Max retries exceeded with url: /api/2.0/mlflow/runs/log-batch (Caused by ResponseError(\\'too many 500 error responses\\'))\")]')]\n"
     ]
    },
    {
     "name": "stdout",
     "output_type": "stream",
     "text": [
      "Training AUC is: 1.000000                                                                                              \n",
      "Test AUC is: 0.497007                                                                                                  \n",
      "Training accuracy is: 1.000000                                                                                         \n",
      "Test accuracy is: 0.496667                                                                                             \n",
      "[18:48:33] WARNING: D:\\bld\\xgboost-split_1637426510059\\work\\src\\learner.cc:1115: Starting in XGBoost 1.3.0, the default evaluation metric used with the objective 'binary:logistic' was changed from 'error' to 'logloss'. Explicitly set eval_metric if you'd like to restore the old behavior.\n",
      " 92%|███████████████████████████████████████▊   | 111/120 [2:00:37<09:51, 65.76s/trial, best loss: -0.5333333333333333]"
     ]
    },
    {
     "name": "stderr",
     "output_type": "stream",
     "text": [
      "C:\\Users\\Ayush\\Anaconda3\\lib\\site-packages\\xgboost\\sklearn.py:1224: UserWarning: The use of label encoder in XGBClassifier is deprecated and will be removed in a future release. To remove this warning, do the following: 1) Pass option use_label_encoder=False when constructing XGBClassifier object; and 2) Encode your labels (y) as integers starting with 0, i.e. 0, 1, 2, ..., [num_class - 1].\n",
      "  warnings.warn(label_encoder_deprecation_msg, UserWarning)\n",
      "\n",
      "2023/05/06 18:49:33 WARNING mlflow.utils.autologging_utils: Encountered unexpected error during xgboost autologging: The following failures occurred while performing one or more logging operations: [MlflowException('Failed to perform one or more operations on the run with ID 402f6f27e0a742b6ad5e739614697db9. Failed operations: [MlflowException(\"API request to http://localhost:5000/api/2.0/mlflow/runs/log-batch failed with exception HTTPConnectionPool(host=\\'localhost\\', port=5000): Max retries exceeded with url: /api/2.0/mlflow/runs/log-batch (Caused by ResponseError(\\'too many 500 error responses\\'))\")]')]\n"
     ]
    },
    {
     "name": "stdout",
     "output_type": "stream",
     "text": [
      "Training AUC is: 1.000000                                                                                              \n",
      "Test AUC is: 0.520804                                                                                                  \n",
      "Training accuracy is: 1.000000                                                                                         \n",
      "Test accuracy is: 0.521111                                                                                             \n",
      "[18:49:39] WARNING: D:\\bld\\xgboost-split_1637426510059\\work\\src\\learner.cc:1115: Starting in XGBoost 1.3.0, the default evaluation metric used with the objective 'binary:logistic' was changed from 'error' to 'logloss'. Explicitly set eval_metric if you'd like to restore the old behavior.\n",
      " 93%|████████████████████████████████████████▏  | 112/120 [2:01:43<08:46, 65.77s/trial, best loss: -0.5333333333333333]"
     ]
    },
    {
     "name": "stderr",
     "output_type": "stream",
     "text": [
      "C:\\Users\\Ayush\\Anaconda3\\lib\\site-packages\\xgboost\\sklearn.py:1224: UserWarning: The use of label encoder in XGBClassifier is deprecated and will be removed in a future release. To remove this warning, do the following: 1) Pass option use_label_encoder=False when constructing XGBClassifier object; and 2) Encode your labels (y) as integers starting with 0, i.e. 0, 1, 2, ..., [num_class - 1].\n",
      "  warnings.warn(label_encoder_deprecation_msg, UserWarning)\n",
      "\n",
      "2023/05/06 18:50:39 WARNING mlflow.utils.autologging_utils: Encountered unexpected error during xgboost autologging: The following failures occurred while performing one or more logging operations: [MlflowException('Failed to perform one or more operations on the run with ID 402f6f27e0a742b6ad5e739614697db9. Failed operations: [MlflowException(\"API request to http://localhost:5000/api/2.0/mlflow/runs/log-batch failed with exception HTTPConnectionPool(host=\\'localhost\\', port=5000): Max retries exceeded with url: /api/2.0/mlflow/runs/log-batch (Caused by ResponseError(\\'too many 500 error responses\\'))\")]')]\n"
     ]
    },
    {
     "name": "stdout",
     "output_type": "stream",
     "text": [
      "Training AUC is: 1.000000                                                                                              \n",
      "Test AUC is: 0.484264                                                                                                  \n",
      "Training accuracy is: 1.000000                                                                                         \n",
      "Test accuracy is: 0.484444                                                                                             \n",
      "[18:50:45] WARNING: D:\\bld\\xgboost-split_1637426510059\\work\\src\\learner.cc:1115: Starting in XGBoost 1.3.0, the default evaluation metric used with the objective 'binary:logistic' was changed from 'error' to 'logloss'. Explicitly set eval_metric if you'd like to restore the old behavior.\n",
      " 94%|████████████████████████████████████████▍  | 113/120 [2:02:49<07:40, 65.78s/trial, best loss: -0.5333333333333333]"
     ]
    },
    {
     "name": "stderr",
     "output_type": "stream",
     "text": [
      "C:\\Users\\Ayush\\Anaconda3\\lib\\site-packages\\xgboost\\sklearn.py:1224: UserWarning: The use of label encoder in XGBClassifier is deprecated and will be removed in a future release. To remove this warning, do the following: 1) Pass option use_label_encoder=False when constructing XGBClassifier object; and 2) Encode your labels (y) as integers starting with 0, i.e. 0, 1, 2, ..., [num_class - 1].\n",
      "  warnings.warn(label_encoder_deprecation_msg, UserWarning)\n",
      "\n",
      "2023/05/06 18:51:45 WARNING mlflow.utils.autologging_utils: Encountered unexpected error during xgboost autologging: The following failures occurred while performing one or more logging operations: [MlflowException('Failed to perform one or more operations on the run with ID 402f6f27e0a742b6ad5e739614697db9. Failed operations: [MlflowException(\"API request to http://localhost:5000/api/2.0/mlflow/runs/log-batch failed with exception HTTPConnectionPool(host=\\'localhost\\', port=5000): Max retries exceeded with url: /api/2.0/mlflow/runs/log-batch (Caused by ResponseError(\\'too many 500 error responses\\'))\")]')]\n"
     ]
    },
    {
     "name": "stdout",
     "output_type": "stream",
     "text": [
      "Training AUC is: 1.000000                                                                                              \n",
      "Test AUC is: 0.482101                                                                                                  \n",
      "Training accuracy is: 1.000000                                                                                         \n",
      "Test accuracy is: 0.482222                                                                                             \n",
      "[18:51:50] WARNING: D:\\bld\\xgboost-split_1637426510059\\work\\src\\learner.cc:1115: Starting in XGBoost 1.3.0, the default evaluation metric used with the objective 'binary:logistic' was changed from 'error' to 'logloss'. Explicitly set eval_metric if you'd like to restore the old behavior.\n",
      " 95%|████████████████████████████████████████▊  | 114/120 [2:03:55<06:34, 65.78s/trial, best loss: -0.5333333333333333]"
     ]
    },
    {
     "name": "stderr",
     "output_type": "stream",
     "text": [
      "C:\\Users\\Ayush\\Anaconda3\\lib\\site-packages\\xgboost\\sklearn.py:1224: UserWarning: The use of label encoder in XGBClassifier is deprecated and will be removed in a future release. To remove this warning, do the following: 1) Pass option use_label_encoder=False when constructing XGBClassifier object; and 2) Encode your labels (y) as integers starting with 0, i.e. 0, 1, 2, ..., [num_class - 1].\n",
      "  warnings.warn(label_encoder_deprecation_msg, UserWarning)\n",
      "\n",
      "2023/05/06 18:52:51 WARNING mlflow.utils.autologging_utils: Encountered unexpected error during xgboost autologging: The following failures occurred while performing one or more logging operations: [MlflowException('Failed to perform one or more operations on the run with ID 402f6f27e0a742b6ad5e739614697db9. Failed operations: [MlflowException(\"API request to http://localhost:5000/api/2.0/mlflow/runs/log-batch failed with exception HTTPConnectionPool(host=\\'localhost\\', port=5000): Max retries exceeded with url: /api/2.0/mlflow/runs/log-batch (Caused by ResponseError(\\'too many 500 error responses\\'))\")]')]\n"
     ]
    },
    {
     "name": "stdout",
     "output_type": "stream",
     "text": [
      "Training AUC is: 0.996664                                                                                              \n",
      "Test AUC is: 0.508802                                                                                                  \n",
      "Training accuracy is: 0.996667                                                                                         \n",
      "Test accuracy is: 0.508889                                                                                             \n",
      "[18:52:56] WARNING: D:\\bld\\xgboost-split_1637426510059\\work\\src\\learner.cc:1115: Starting in XGBoost 1.3.0, the default evaluation metric used with the objective 'binary:logistic' was changed from 'error' to 'logloss'. Explicitly set eval_metric if you'd like to restore the old behavior.\n",
      " 96%|█████████████████████████████████████████▏ | 115/120 [2:05:00<05:28, 65.76s/trial, best loss: -0.5333333333333333]"
     ]
    },
    {
     "name": "stderr",
     "output_type": "stream",
     "text": [
      "C:\\Users\\Ayush\\Anaconda3\\lib\\site-packages\\xgboost\\sklearn.py:1224: UserWarning: The use of label encoder in XGBClassifier is deprecated and will be removed in a future release. To remove this warning, do the following: 1) Pass option use_label_encoder=False when constructing XGBClassifier object; and 2) Encode your labels (y) as integers starting with 0, i.e. 0, 1, 2, ..., [num_class - 1].\n",
      "  warnings.warn(label_encoder_deprecation_msg, UserWarning)\n",
      "\n",
      "2023/05/06 18:53:56 WARNING mlflow.utils.autologging_utils: Encountered unexpected error during xgboost autologging: The following failures occurred while performing one or more logging operations: [MlflowException('Failed to perform one or more operations on the run with ID 402f6f27e0a742b6ad5e739614697db9. Failed operations: [MlflowException(\"API request to http://localhost:5000/api/2.0/mlflow/runs/log-batch failed with exception HTTPConnectionPool(host=\\'localhost\\', port=5000): Max retries exceeded with url: /api/2.0/mlflow/runs/log-batch (Caused by ResponseError(\\'too many 500 error responses\\'))\")]')]\n"
     ]
    },
    {
     "name": "stdout",
     "output_type": "stream",
     "text": [
      "Training AUC is: 1.000000                                                                                              \n",
      "Test AUC is: 0.529902                                                                                                  \n",
      "Training accuracy is: 1.000000                                                                                         \n",
      "Test accuracy is: 0.530000                                                                                             \n",
      "[18:54:02] WARNING: D:\\bld\\xgboost-split_1637426510059\\work\\src\\learner.cc:1115: Starting in XGBoost 1.3.0, the default evaluation metric used with the objective 'binary:logistic' was changed from 'error' to 'logloss'. Explicitly set eval_metric if you'd like to restore the old behavior.\n",
      " 97%|█████████████████████████████████████████▌ | 116/120 [2:06:06<04:23, 65.76s/trial, best loss: -0.5333333333333333]"
     ]
    },
    {
     "name": "stderr",
     "output_type": "stream",
     "text": [
      "C:\\Users\\Ayush\\Anaconda3\\lib\\site-packages\\xgboost\\sklearn.py:1224: UserWarning: The use of label encoder in XGBClassifier is deprecated and will be removed in a future release. To remove this warning, do the following: 1) Pass option use_label_encoder=False when constructing XGBClassifier object; and 2) Encode your labels (y) as integers starting with 0, i.e. 0, 1, 2, ..., [num_class - 1].\n",
      "  warnings.warn(label_encoder_deprecation_msg, UserWarning)\n",
      "\n",
      "2023/05/06 18:55:02 WARNING mlflow.utils.autologging_utils: Encountered unexpected error during xgboost autologging: The following failures occurred while performing one or more logging operations: [MlflowException('Failed to perform one or more operations on the run with ID 402f6f27e0a742b6ad5e739614697db9. Failed operations: [MlflowException(\"API request to http://localhost:5000/api/2.0/mlflow/runs/log-batch failed with exception HTTPConnectionPool(host=\\'localhost\\', port=5000): Max retries exceeded with url: /api/2.0/mlflow/runs/log-batch (Caused by ResponseError(\\'too many 500 error responses\\'))\")]')]\n"
     ]
    },
    {
     "name": "stdout",
     "output_type": "stream",
     "text": [
      "Training AUC is: 1.000000                                                                                              \n",
      "Test AUC is: 0.520122                                                                                                  \n",
      "Training accuracy is: 1.000000                                                                                         \n",
      "Test accuracy is: 0.520000                                                                                             \n",
      "[18:55:08] WARNING: D:\\bld\\xgboost-split_1637426510059\\work\\src\\learner.cc:1115: Starting in XGBoost 1.3.0, the default evaluation metric used with the objective 'binary:logistic' was changed from 'error' to 'logloss'. Explicitly set eval_metric if you'd like to restore the old behavior.\n",
      " 98%|█████████████████████████████████████████▉ | 117/120 [2:07:12<03:17, 65.80s/trial, best loss: -0.5333333333333333]"
     ]
    },
    {
     "name": "stderr",
     "output_type": "stream",
     "text": [
      "C:\\Users\\Ayush\\Anaconda3\\lib\\site-packages\\xgboost\\sklearn.py:1224: UserWarning: The use of label encoder in XGBClassifier is deprecated and will be removed in a future release. To remove this warning, do the following: 1) Pass option use_label_encoder=False when constructing XGBClassifier object; and 2) Encode your labels (y) as integers starting with 0, i.e. 0, 1, 2, ..., [num_class - 1].\n",
      "  warnings.warn(label_encoder_deprecation_msg, UserWarning)\n",
      "\n",
      "2023/05/06 18:56:08 WARNING mlflow.utils.autologging_utils: Encountered unexpected error during xgboost autologging: The following failures occurred while performing one or more logging operations: [MlflowException('Failed to perform one or more operations on the run with ID 402f6f27e0a742b6ad5e739614697db9. Failed operations: [MlflowException(\"API request to http://localhost:5000/api/2.0/mlflow/runs/log-batch failed with exception HTTPConnectionPool(host=\\'localhost\\', port=5000): Max retries exceeded with url: /api/2.0/mlflow/runs/log-batch (Caused by ResponseError(\\'too many 500 error responses\\'))\")]')]\n"
     ]
    },
    {
     "name": "stdout",
     "output_type": "stream",
     "text": [
      "Training AUC is: 1.000000                                                                                              \n",
      "Test AUC is: 0.504564                                                                                                  \n",
      "Training accuracy is: 1.000000                                                                                         \n",
      "Test accuracy is: 0.504444                                                                                             \n",
      "[18:56:14] WARNING: D:\\bld\\xgboost-split_1637426510059\\work\\src\\learner.cc:1115: Starting in XGBoost 1.3.0, the default evaluation metric used with the objective 'binary:logistic' was changed from 'error' to 'logloss'. Explicitly set eval_metric if you'd like to restore the old behavior.\n",
      " 98%|██████████████████████████████████████████▎| 118/120 [2:08:18<02:11, 65.82s/trial, best loss: -0.5333333333333333]"
     ]
    },
    {
     "name": "stderr",
     "output_type": "stream",
     "text": [
      "C:\\Users\\Ayush\\Anaconda3\\lib\\site-packages\\xgboost\\sklearn.py:1224: UserWarning: The use of label encoder in XGBClassifier is deprecated and will be removed in a future release. To remove this warning, do the following: 1) Pass option use_label_encoder=False when constructing XGBClassifier object; and 2) Encode your labels (y) as integers starting with 0, i.e. 0, 1, 2, ..., [num_class - 1].\n",
      "  warnings.warn(label_encoder_deprecation_msg, UserWarning)\n",
      "\n",
      "2023/05/06 18:57:14 WARNING mlflow.utils.autologging_utils: Encountered unexpected error during xgboost autologging: The following failures occurred while performing one or more logging operations: [MlflowException('Failed to perform one or more operations on the run with ID 402f6f27e0a742b6ad5e739614697db9. Failed operations: [MlflowException(\"API request to http://localhost:5000/api/2.0/mlflow/runs/log-batch failed with exception HTTPConnectionPool(host=\\'localhost\\', port=5000): Max retries exceeded with url: /api/2.0/mlflow/runs/log-batch (Caused by ResponseError(\\'too many 500 error responses\\'))\")]')]\n"
     ]
    },
    {
     "name": "stdout",
     "output_type": "stream",
     "text": [
      "Training AUC is: 1.000000                                                                                              \n",
      "Test AUC is: 0.504534                                                                                                  \n",
      "Training accuracy is: 1.000000                                                                                         \n",
      "Test accuracy is: 0.504444                                                                                             \n",
      "[18:57:19] WARNING: D:\\bld\\xgboost-split_1637426510059\\work\\src\\learner.cc:1115: Starting in XGBoost 1.3.0, the default evaluation metric used with the objective 'binary:logistic' was changed from 'error' to 'logloss'. Explicitly set eval_metric if you'd like to restore the old behavior.\n",
      " 99%|██████████████████████████████████████████▋| 119/120 [2:09:24<01:05, 65.80s/trial, best loss: -0.5333333333333333]"
     ]
    },
    {
     "name": "stderr",
     "output_type": "stream",
     "text": [
      "C:\\Users\\Ayush\\Anaconda3\\lib\\site-packages\\xgboost\\sklearn.py:1224: UserWarning: The use of label encoder in XGBClassifier is deprecated and will be removed in a future release. To remove this warning, do the following: 1) Pass option use_label_encoder=False when constructing XGBClassifier object; and 2) Encode your labels (y) as integers starting with 0, i.e. 0, 1, 2, ..., [num_class - 1].\n",
      "  warnings.warn(label_encoder_deprecation_msg, UserWarning)\n",
      "\n",
      "2023/05/06 18:58:20 WARNING mlflow.utils.autologging_utils: Encountered unexpected error during xgboost autologging: The following failures occurred while performing one or more logging operations: [MlflowException('Failed to perform one or more operations on the run with ID 402f6f27e0a742b6ad5e739614697db9. Failed operations: [MlflowException(\"API request to http://localhost:5000/api/2.0/mlflow/runs/log-batch failed with exception HTTPConnectionPool(host=\\'localhost\\', port=5000): Max retries exceeded with url: /api/2.0/mlflow/runs/log-batch (Caused by ResponseError(\\'too many 500 error responses\\'))\")]')]\n"
     ]
    },
    {
     "name": "stdout",
     "output_type": "stream",
     "text": [
      "Training AUC is: 1.000000                                                                                              \n",
      "Test AUC is: 0.517544                                                                                                  \n",
      "Training accuracy is: 1.000000                                                                                         \n",
      "Test accuracy is: 0.517778                                                                                             \n",
      "100%|███████████████████████████████████████████| 120/120 [2:10:29<00:00, 65.25s/trial, best loss: -0.5333333333333333]\n",
      "Best Run: {'classifier_type': 0, 'learning_rate': 0.11, 'max_depth': 17.0, 'n_estimators': 70.0, 'subsample': 0.66}\n"
     ]
    }
   ],
   "source": [
    "trials = Trials()\n",
    "mlflow.end_run()\n",
    "best=None\n",
    "\n",
    "mlflow.end_run()\n",
    "\n",
    "# Launch the search\n",
    "with mlflow.start_run(experiment_id=experiment_id):\n",
    "    with mlflow.start_run(nested=True):\n",
    "        #log run tags \n",
    "        mlflow.set_tag('some_tag', 'Parallelized HyperOpt')\n",
    "    best = fmin(\n",
    "            fn=minmization_fn_xgb,\n",
    "            space=feature_space_xgb,\n",
    "            algo=tpe.suggest,\n",
    "            trials=trials,\n",
    "            max_evals=120\n",
    "    )\n",
    "        \n",
    "print(\"Best Run: {}\".format(best))"
   ]
  },
  {
   "cell_type": "code",
   "execution_count": 28,
   "id": "2db1decf",
   "metadata": {},
   "outputs": [
    {
     "name": "stdout",
     "output_type": "stream",
     "text": [
      "XGBClassifier(base_score=0.5, booster='gbtree', colsample_bylevel=1,\n",
      "              colsample_bynode=1, colsample_bytree=1, enable_categorical=False,\n",
      "              gamma=0, gpu_id=-1, importance_type=None,\n",
      "              interaction_constraints='', learning_rate=0.11, max_delta_step=0,\n",
      "              max_depth=17, min_child_weight=1, missing=nan,\n",
      "              monotone_constraints='()', n_estimators=70, n_jobs=4,\n",
      "              num_parallel_tree=1, predictor='auto', random_state=0,\n",
      "              reg_alpha=0, reg_lambda=1, scale_pos_weight=1, subsample=0.66,\n",
      "              tree_method='exact', validate_parameters=1, verbosity=None)\n",
      "Best Model Metrics and Parameters are: {'classifier_type': 0, 'learning_rate': 0.11, 'max_depth': 17.0, 'n_estimators': 70.0, 'subsample': 0.66}\n",
      "\t ============ Training Set============\n",
      "              precision    recall  f1-score   support\n",
      "\n",
      "           0       1.00      1.00      1.00      1044\n",
      "           1       1.00      1.00      1.00      1056\n",
      "\n",
      "    accuracy                           1.00      2100\n",
      "   macro avg       1.00      1.00      1.00      2100\n",
      "weighted avg       1.00      1.00      1.00      2100\n",
      "\n",
      "AUC score is 1.0\n",
      "\t ============ Test Set============\n",
      "              precision    recall  f1-score   support\n",
      "\n",
      "           0       0.54      0.53      0.53       456\n",
      "           1       0.53      0.54      0.53       444\n",
      "\n",
      "    accuracy                           0.53       900\n",
      "   macro avg       0.53      0.53      0.53       900\n",
      "weighted avg       0.53      0.53      0.53       900\n",
      "\n",
      "AUC score is 0.5333985301090565\n"
     ]
    }
   ],
   "source": [
    "best_model_xgb = trials.best_trial['result']['model']\n",
    "print(best_model_xgb)\n",
    "print(\"Best Model Metrics and Parameters are: {}\".format(best))\n",
    "\n",
    "# Save xgb model\n",
    "with open(\"xgbModel.pkl\", \"wb\") as f:\n",
    "    pickle.dump(best_model_xgb, f)\n",
    "\n",
    "# Save feature list for xgb\n",
    "with open(\"xgb_feature_list\", \"wb\") as f:\n",
    "    pickle.dump(new_features_list, f)\n",
    "    \n",
    "# Save scaler object for the above list\n",
    "with open(\"scalerModelObj.pkl\", \"wb\") as f:\n",
    "    pickle.dump(scaler, f)\n",
    "\n",
    "# Evaluation metrics\n",
    "print(\"\\t\",\"=\"*12+\" Training Set\"+\"=\"*12)\n",
    "clf_evaluation(best_model_xgb, scaled_train, y_train)\n",
    "print(\"\\t\",\"=\"*12+\" Test Set\"+\"=\"*12)\n",
    "clf_evaluation(best_model_xgb, scaled_test, y_test)"
   ]
  },
  {
   "cell_type": "code",
   "execution_count": 29,
   "id": "1f9d1890",
   "metadata": {},
   "outputs": [
    {
     "name": "stdout",
     "output_type": "stream",
     "text": [
      "30\n"
     ]
    }
   ],
   "source": [
    "#get features\n",
    "imp_features = best_model_xgb.feature_importances_\n",
    "xgb_feature_imp = pd.DataFrame(imp_features)\n",
    "\n",
    "xgb_feature_imp=xgb_feature_imp.rename(columns={0:'Feature Importance'})\n",
    "xgb_feature_names=pd.DataFrame(new_features_list)\n",
    "xgb_feature_names=xgb_feature_names.rename(columns={0:'Feature Name'})\n",
    "xgb_feature_importance=pd.concat([xgb_feature_names, xgb_feature_imp], axis=1)\n",
    "xgb_feature_importance=xgb_feature_importance.sort_values(by='Feature Importance', ascending=False)\n",
    "print(len(new_features_list))"
   ]
  },
  {
   "cell_type": "code",
   "execution_count": 30,
   "id": "0ecd1f56",
   "metadata": {},
   "outputs": [
    {
     "data": {
      "text/plain": [
       "<matplotlib.axes._subplots.AxesSubplot at 0x2c497335470>"
      ]
     },
     "execution_count": 30,
     "metadata": {},
     "output_type": "execute_result"
    },
    {
     "data": {
      "image/png": "[encoded data removed]",
      "text/plain": [
       "<Figure size 600x1000 with 1 Axes>"
      ]
     },
     "metadata": {},
     "output_type": "display_data"
    }
   ],
   "source": [
    "f,ax = plt.subplots(figsize=(6,10))\n",
    "\n",
    "sns.set_color_codes(\"pastel\")\n",
    "sns.barplot(x=\"Feature Importance\", y=\"Feature Name\", data=xgb_feature_importance, orient=\"h\", color=\"b\")"
   ]
  },
  {
   "cell_type": "code",
   "execution_count": 31,
   "id": "812c4566",
   "metadata": {},
   "outputs": [
    {
     "data": {
      "text/html": [
       "<div>\n",
       "<style scoped>\n",
       "    .dataframe tbody tr th:only-of-type {\n",
       "        vertical-align: middle;\n",
       "    }\n",
       "\n",
       "    .dataframe tbody tr th {\n",
       "        vertical-align: top;\n",
       "    }\n",
       "\n",
       "    .dataframe thead th {\n",
       "        text-align: right;\n",
       "    }\n",
       "</style>\n",
       "<table border=\"1\" class=\"dataframe\">\n",
       "  <thead>\n",
       "    <tr style=\"text-align: right;\">\n",
       "      <th></th>\n",
       "      <th>Feature Name</th>\n",
       "      <th>Feature Importance</th>\n",
       "    </tr>\n",
       "  </thead>\n",
       "  <tbody>\n",
       "    <tr>\n",
       "      <th>11</th>\n",
       "      <td>Feature_062</td>\n",
       "      <td>0.039232</td>\n",
       "    </tr>\n",
       "    <tr>\n",
       "      <th>21</th>\n",
       "      <td>Feature_098</td>\n",
       "      <td>0.038017</td>\n",
       "    </tr>\n",
       "    <tr>\n",
       "      <th>4</th>\n",
       "      <td>Feature_033</td>\n",
       "      <td>0.036118</td>\n",
       "    </tr>\n",
       "    <tr>\n",
       "      <th>29</th>\n",
       "      <td>Feature_148</td>\n",
       "      <td>0.035646</td>\n",
       "    </tr>\n",
       "    <tr>\n",
       "      <th>13</th>\n",
       "      <td>Feature_065</td>\n",
       "      <td>0.035558</td>\n",
       "    </tr>\n",
       "  </tbody>\n",
       "</table>\n",
       "</div>"
      ],
      "text/plain": [
       "   Feature Name  Feature Importance\n",
       "11  Feature_062            0.039232\n",
       "21  Feature_098            0.038017\n",
       "4   Feature_033            0.036118\n",
       "29  Feature_148            0.035646\n",
       "13  Feature_065            0.035558"
      ]
     },
     "execution_count": 31,
     "metadata": {},
     "output_type": "execute_result"
    }
   ],
   "source": [
    "pd.set_option(\"display.max_rows\", None)\n",
    "xgb_feature_importance.head()"
   ]
  },
  {
   "cell_type": "code",
   "execution_count": 32,
   "id": "33aa6c9d",
   "metadata": {},
   "outputs": [],
   "source": [
    "xgb_feature_importance.to_excel('feature_importance.xlsx')\n",
    "#END"
   ]
  },
  {
   "cell_type": "code",
   "execution_count": null,
   "id": "f9fd658a",
   "metadata": {},
   "outputs": [],
   "source": []
  }
 ],
 "metadata": {
  "kernelspec": {
   "display_name": "Python 3 (ipykernel)",
   "language": "python",
   "name": "python3"
  },
  "language_info": {
   "codemirror_mode": {
    "name": "ipython",
    "version": 3
   },
   "file_extension": ".py",
   "mimetype": "text/x-python",
   "name": "python",
   "nbconvert_exporter": "python",
   "pygments_lexer": "ipython3",
   "version": "3.7.1"
  }
 },
 "nbformat": 4,
 "nbformat_minor": 5
}
